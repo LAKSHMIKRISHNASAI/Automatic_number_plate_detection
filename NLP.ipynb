{
  "cells": [
    {
      "cell_type": "code",
      "source": [
        "import re\n",
        "\n",
        "text1='your mail is abcA@gmail.com'\n",
        "text2='another mail is aaccALS82@gmail.com'\n",
        "text3='mobile number is:(949)-270-2871, mail is abun@gmail.com'\n",
        "pattern='[a-zA-Z0-9]*@[a-z]*\\.com'\n",
        "pattern2='\\(\\d{3}\\)-\\d{3}-\\d{4}|[a-zA-Z0-9]*@[a-z]*\\.[a-z]*'\n",
        "#date=re.findall(pattern,text2)\n",
        "num=re.findall(pattern2,text3)\n",
        "#date[0]\n",
        "num"
      ],
      "metadata": {
        "colab": {
          "base_uri": "https://localhost:8080/"
        },
        "id": "HqYguBtd7FFF",
        "outputId": "e3e094fa-0880-469a-d95d-020a111b3592"
      },
      "execution_count": null,
      "outputs": [
        {
          "output_type": "execute_result",
          "data": {
            "text/plain": [
              "['(949)-270-2871', 'abun@gmail.com']"
            ]
          },
          "metadata": {},
          "execution_count": 30
        }
      ]
    },
    {
      "cell_type": "code",
      "source": [
        "text='june 28 1971 (age 50)'\n",
        "pattern1='age (\\d+)'\n",
        "age=re.findall(pattern1,text)\n",
        "age"
      ],
      "metadata": {
        "colab": {
          "base_uri": "https://localhost:8080/"
        },
        "id": "iNnS1vv37-9p",
        "outputId": "c625f774-ae76-4a81-873f-a9bbfcf4018c"
      },
      "execution_count": null,
      "outputs": [
        {
          "output_type": "execute_result",
          "data": {
            "text/plain": [
              "['50']"
            ]
          },
          "metadata": {},
          "execution_count": 41
        }
      ]
    },
    {
      "cell_type": "markdown",
      "source": [
        "SPACY"
      ],
      "metadata": {
        "id": "X5k43mprgHXc"
      }
    },
    {
      "cell_type": "code",
      "source": [
        "!pip install spacy"
      ],
      "metadata": {
        "colab": {
          "base_uri": "https://localhost:8080/"
        },
        "id": "tlQjnal4WNBN",
        "outputId": "52a9a6ad-d91e-4cf4-d12c-4729eeb7582b"
      },
      "execution_count": null,
      "outputs": [
        {
          "output_type": "stream",
          "name": "stdout",
          "text": [
            "Requirement already satisfied: spacy in /usr/local/lib/python3.10/dist-packages (3.6.1)\n",
            "Requirement already satisfied: spacy-legacy<3.1.0,>=3.0.11 in /usr/local/lib/python3.10/dist-packages (from spacy) (3.0.12)\n",
            "Requirement already satisfied: spacy-loggers<2.0.0,>=1.0.0 in /usr/local/lib/python3.10/dist-packages (from spacy) (1.0.4)\n",
            "Requirement already satisfied: murmurhash<1.1.0,>=0.28.0 in /usr/local/lib/python3.10/dist-packages (from spacy) (1.0.9)\n",
            "Requirement already satisfied: cymem<2.1.0,>=2.0.2 in /usr/local/lib/python3.10/dist-packages (from spacy) (2.0.7)\n",
            "Requirement already satisfied: preshed<3.1.0,>=3.0.2 in /usr/local/lib/python3.10/dist-packages (from spacy) (3.0.8)\n",
            "Requirement already satisfied: thinc<8.2.0,>=8.1.8 in /usr/local/lib/python3.10/dist-packages (from spacy) (8.1.11)\n",
            "Requirement already satisfied: wasabi<1.2.0,>=0.9.1 in /usr/local/lib/python3.10/dist-packages (from spacy) (1.1.2)\n",
            "Requirement already satisfied: srsly<3.0.0,>=2.4.3 in /usr/local/lib/python3.10/dist-packages (from spacy) (2.4.7)\n",
            "Requirement already satisfied: catalogue<2.1.0,>=2.0.6 in /usr/local/lib/python3.10/dist-packages (from spacy) (2.0.9)\n",
            "Requirement already satisfied: typer<0.10.0,>=0.3.0 in /usr/local/lib/python3.10/dist-packages (from spacy) (0.9.0)\n",
            "Requirement already satisfied: pathy>=0.10.0 in /usr/local/lib/python3.10/dist-packages (from spacy) (0.10.2)\n",
            "Requirement already satisfied: smart-open<7.0.0,>=5.2.1 in /usr/local/lib/python3.10/dist-packages (from spacy) (6.3.0)\n",
            "Requirement already satisfied: tqdm<5.0.0,>=4.38.0 in /usr/local/lib/python3.10/dist-packages (from spacy) (4.66.0)\n",
            "Requirement already satisfied: numpy>=1.15.0 in /usr/local/lib/python3.10/dist-packages (from spacy) (1.23.5)\n",
            "Requirement already satisfied: requests<3.0.0,>=2.13.0 in /usr/local/lib/python3.10/dist-packages (from spacy) (2.31.0)\n",
            "Requirement already satisfied: pydantic!=1.8,!=1.8.1,<3.0.0,>=1.7.4 in /usr/local/lib/python3.10/dist-packages (from spacy) (2.1.1)\n",
            "Requirement already satisfied: jinja2 in /usr/local/lib/python3.10/dist-packages (from spacy) (3.1.2)\n",
            "Requirement already satisfied: setuptools in /usr/local/lib/python3.10/dist-packages (from spacy) (67.7.2)\n",
            "Requirement already satisfied: packaging>=20.0 in /usr/local/lib/python3.10/dist-packages (from spacy) (23.1)\n",
            "Requirement already satisfied: langcodes<4.0.0,>=3.2.0 in /usr/local/lib/python3.10/dist-packages (from spacy) (3.3.0)\n",
            "Requirement already satisfied: annotated-types>=0.4.0 in /usr/local/lib/python3.10/dist-packages (from pydantic!=1.8,!=1.8.1,<3.0.0,>=1.7.4->spacy) (0.5.0)\n",
            "Requirement already satisfied: pydantic-core==2.4.0 in /usr/local/lib/python3.10/dist-packages (from pydantic!=1.8,!=1.8.1,<3.0.0,>=1.7.4->spacy) (2.4.0)\n",
            "Requirement already satisfied: typing-extensions>=4.6.1 in /usr/local/lib/python3.10/dist-packages (from pydantic!=1.8,!=1.8.1,<3.0.0,>=1.7.4->spacy) (4.7.1)\n",
            "Requirement already satisfied: charset-normalizer<4,>=2 in /usr/local/lib/python3.10/dist-packages (from requests<3.0.0,>=2.13.0->spacy) (3.2.0)\n",
            "Requirement already satisfied: idna<4,>=2.5 in /usr/local/lib/python3.10/dist-packages (from requests<3.0.0,>=2.13.0->spacy) (3.4)\n",
            "Requirement already satisfied: urllib3<3,>=1.21.1 in /usr/local/lib/python3.10/dist-packages (from requests<3.0.0,>=2.13.0->spacy) (2.0.4)\n",
            "Requirement already satisfied: certifi>=2017.4.17 in /usr/local/lib/python3.10/dist-packages (from requests<3.0.0,>=2.13.0->spacy) (2023.7.22)\n",
            "Requirement already satisfied: blis<0.8.0,>=0.7.8 in /usr/local/lib/python3.10/dist-packages (from thinc<8.2.0,>=8.1.8->spacy) (0.7.10)\n",
            "Requirement already satisfied: confection<1.0.0,>=0.0.1 in /usr/local/lib/python3.10/dist-packages (from thinc<8.2.0,>=8.1.8->spacy) (0.1.1)\n",
            "Requirement already satisfied: click<9.0.0,>=7.1.1 in /usr/local/lib/python3.10/dist-packages (from typer<0.10.0,>=0.3.0->spacy) (8.1.6)\n",
            "Requirement already satisfied: MarkupSafe>=2.0 in /usr/local/lib/python3.10/dist-packages (from jinja2->spacy) (2.1.3)\n"
          ]
        }
      ]
    },
    {
      "cell_type": "code",
      "source": [
        "import spacy\n",
        "nlp=spacy.blank('en')\n",
        "txt=nlp('Everyone has to learn NLP properly with detailed text encoding concepts')\n",
        "for i in txt:\n",
        "  print(i)\n"
      ],
      "metadata": {
        "id": "7CV6S4KKMRLW",
        "colab": {
          "base_uri": "https://localhost:8080/"
        },
        "outputId": "aebf63b1-dfcb-4f0b-ee15-e30b067ae751"
      },
      "execution_count": null,
      "outputs": [
        {
          "output_type": "stream",
          "name": "stdout",
          "text": [
            "Everyone\n",
            "has\n",
            "to\n",
            "learn\n",
            "NLP\n",
            "properly\n",
            "with\n",
            "detailed\n",
            "text\n",
            "encoding\n",
            "concepts\n"
          ]
        }
      ]
    },
    {
      "cell_type": "code",
      "source": [
        "nlp=spacy.blank('de')\n",
        "text=nlp('Everyone has to learn NLP properly with detailed text encoding concepts')\n",
        "for i in text:\n",
        "  print(i,'-->','is_alpha:', i.is_alpha,\n",
        "        'like_num:',i.like_num,\n",
        "        'is_currency:',i.is_currency,\n",
        "        'like_email:',i.like_email)\n",
        "text[0]"
      ],
      "metadata": {
        "colab": {
          "base_uri": "https://localhost:8080/"
        },
        "id": "O0mD-q9Xsq1U",
        "outputId": "38c68e9c-4097-4578-c162-7f3cca7c97c0"
      },
      "execution_count": null,
      "outputs": [
        {
          "output_type": "stream",
          "name": "stdout",
          "text": [
            "Everyone --> is_alpha: True like_num: False is_currency: False like_email: False\n",
            "has --> is_alpha: True like_num: False is_currency: False like_email: False\n",
            "to --> is_alpha: True like_num: False is_currency: False like_email: False\n",
            "learn --> is_alpha: True like_num: False is_currency: False like_email: False\n",
            "NLP --> is_alpha: True like_num: False is_currency: False like_email: False\n",
            "properly --> is_alpha: True like_num: False is_currency: False like_email: False\n",
            "with --> is_alpha: True like_num: False is_currency: False like_email: False\n",
            "detailed --> is_alpha: True like_num: False is_currency: False like_email: False\n",
            "text --> is_alpha: True like_num: False is_currency: False like_email: False\n",
            "encoding --> is_alpha: True like_num: False is_currency: False like_email: False\n",
            "concepts --> is_alpha: True like_num: False is_currency: False like_email: False\n"
          ]
        },
        {
          "output_type": "execute_result",
          "data": {
            "text/plain": [
              "Everyone"
            ]
          },
          "metadata": {},
          "execution_count": 41
        }
      ]
    },
    {
      "cell_type": "code",
      "source": [
        "doc=nlp('tony gave two dollar to peter')\n",
        "doc"
      ],
      "metadata": {
        "colab": {
          "base_uri": "https://localhost:8080/"
        },
        "id": "KwBuAzE_V-sw",
        "outputId": "5652e142-4965-49a6-8fbb-9a1f895dd174"
      },
      "execution_count": null,
      "outputs": [
        {
          "output_type": "execute_result",
          "data": {
            "text/plain": [
              "tony gave two dollar to peter"
            ]
          },
          "metadata": {},
          "execution_count": 6
        }
      ]
    },
    {
      "cell_type": "code",
      "source": [
        "token=doc[0]\n",
        "token"
      ],
      "metadata": {
        "colab": {
          "base_uri": "https://localhost:8080/"
        },
        "id": "u9w5BoPcXpmj",
        "outputId": "2ec9dc34-484f-4921-8733-01980e1d64c0"
      },
      "execution_count": null,
      "outputs": [
        {
          "output_type": "execute_result",
          "data": {
            "text/plain": [
              "tony"
            ]
          },
          "metadata": {},
          "execution_count": 7
        }
      ]
    },
    {
      "cell_type": "code",
      "source": [
        "type(token)"
      ],
      "metadata": {
        "colab": {
          "base_uri": "https://localhost:8080/"
        },
        "id": "8_cMUA7BYpcI",
        "outputId": "b85c7e2f-3a92-4f8b-8ab0-b60541a58662"
      },
      "execution_count": null,
      "outputs": [
        {
          "output_type": "execute_result",
          "data": {
            "text/plain": [
              "spacy.tokens.token.Token"
            ]
          },
          "metadata": {},
          "execution_count": 8
        }
      ]
    },
    {
      "cell_type": "code",
      "source": [
        "dir(token)"
      ],
      "metadata": {
        "colab": {
          "base_uri": "https://localhost:8080/"
        },
        "id": "u9ih5_P3Yr9k",
        "outputId": "c3da5319-5541-4954-e5e5-1ffe10b98611"
      },
      "execution_count": null,
      "outputs": [
        {
          "output_type": "execute_result",
          "data": {
            "text/plain": [
              "['_',\n",
              " '__bytes__',\n",
              " '__class__',\n",
              " '__delattr__',\n",
              " '__dir__',\n",
              " '__doc__',\n",
              " '__eq__',\n",
              " '__format__',\n",
              " '__ge__',\n",
              " '__getattribute__',\n",
              " '__gt__',\n",
              " '__hash__',\n",
              " '__init__',\n",
              " '__init_subclass__',\n",
              " '__le__',\n",
              " '__len__',\n",
              " '__lt__',\n",
              " '__ne__',\n",
              " '__new__',\n",
              " '__pyx_vtable__',\n",
              " '__reduce__',\n",
              " '__reduce_ex__',\n",
              " '__repr__',\n",
              " '__setattr__',\n",
              " '__sizeof__',\n",
              " '__str__',\n",
              " '__subclasshook__',\n",
              " '__unicode__',\n",
              " 'ancestors',\n",
              " 'check_flag',\n",
              " 'children',\n",
              " 'cluster',\n",
              " 'conjuncts',\n",
              " 'dep',\n",
              " 'dep_',\n",
              " 'doc',\n",
              " 'ent_id',\n",
              " 'ent_id_',\n",
              " 'ent_iob',\n",
              " 'ent_iob_',\n",
              " 'ent_kb_id',\n",
              " 'ent_kb_id_',\n",
              " 'ent_type',\n",
              " 'ent_type_',\n",
              " 'get_extension',\n",
              " 'has_dep',\n",
              " 'has_extension',\n",
              " 'has_head',\n",
              " 'has_morph',\n",
              " 'has_vector',\n",
              " 'head',\n",
              " 'i',\n",
              " 'idx',\n",
              " 'iob_strings',\n",
              " 'is_alpha',\n",
              " 'is_ancestor',\n",
              " 'is_ascii',\n",
              " 'is_bracket',\n",
              " 'is_currency',\n",
              " 'is_digit',\n",
              " 'is_left_punct',\n",
              " 'is_lower',\n",
              " 'is_oov',\n",
              " 'is_punct',\n",
              " 'is_quote',\n",
              " 'is_right_punct',\n",
              " 'is_sent_end',\n",
              " 'is_sent_start',\n",
              " 'is_space',\n",
              " 'is_stop',\n",
              " 'is_title',\n",
              " 'is_upper',\n",
              " 'lang',\n",
              " 'lang_',\n",
              " 'left_edge',\n",
              " 'lefts',\n",
              " 'lemma',\n",
              " 'lemma_',\n",
              " 'lex',\n",
              " 'lex_id',\n",
              " 'like_email',\n",
              " 'like_num',\n",
              " 'like_url',\n",
              " 'lower',\n",
              " 'lower_',\n",
              " 'morph',\n",
              " 'n_lefts',\n",
              " 'n_rights',\n",
              " 'nbor',\n",
              " 'norm',\n",
              " 'norm_',\n",
              " 'orth',\n",
              " 'orth_',\n",
              " 'pos',\n",
              " 'pos_',\n",
              " 'prefix',\n",
              " 'prefix_',\n",
              " 'prob',\n",
              " 'rank',\n",
              " 'remove_extension',\n",
              " 'right_edge',\n",
              " 'rights',\n",
              " 'sent',\n",
              " 'sent_start',\n",
              " 'sentiment',\n",
              " 'set_extension',\n",
              " 'set_morph',\n",
              " 'shape',\n",
              " 'shape_',\n",
              " 'similarity',\n",
              " 'subtree',\n",
              " 'suffix',\n",
              " 'suffix_',\n",
              " 'tag',\n",
              " 'tag_',\n",
              " 'tensor',\n",
              " 'text',\n",
              " 'text_with_ws',\n",
              " 'vector',\n",
              " 'vector_norm',\n",
              " 'vocab',\n",
              " 'whitespace_']"
            ]
          },
          "metadata": {},
          "execution_count": 9
        }
      ]
    },
    {
      "cell_type": "code",
      "source": [
        "token2=doc[2]\n",
        "token2"
      ],
      "metadata": {
        "colab": {
          "base_uri": "https://localhost:8080/"
        },
        "id": "PTXEwK98Yuam",
        "outputId": "8e425855-d795-48d5-cdbd-2f970e46d5ba"
      },
      "execution_count": null,
      "outputs": [
        {
          "output_type": "execute_result",
          "data": {
            "text/plain": [
              "two"
            ]
          },
          "metadata": {},
          "execution_count": 10
        }
      ]
    },
    {
      "cell_type": "code",
      "source": [
        "token2.like_num"
      ],
      "metadata": {
        "colab": {
          "base_uri": "https://localhost:8080/"
        },
        "id": "AYuoCWIMZP0a",
        "outputId": "8761b322-3620-492c-dc70-de0bcdb6d20d"
      },
      "execution_count": null,
      "outputs": [
        {
          "output_type": "execute_result",
          "data": {
            "text/plain": [
              "True"
            ]
          },
          "metadata": {},
          "execution_count": 12
        }
      ]
    },
    {
      "cell_type": "code",
      "source": [
        "doc1=nlp('$')\n",
        "token3=doc1[0]\n",
        "token3.is_currency\n"
      ],
      "metadata": {
        "colab": {
          "base_uri": "https://localhost:8080/"
        },
        "id": "MpMGcDgiZTcz",
        "outputId": "d2e20b24-8bb2-4356-8b5b-e47b5606ccf8"
      },
      "execution_count": null,
      "outputs": [
        {
          "output_type": "execute_result",
          "data": {
            "text/plain": [
              "True"
            ]
          },
          "metadata": {},
          "execution_count": 20
        }
      ]
    },
    {
      "cell_type": "code",
      "source": [
        "for token in doc:\n",
        "  print(token,'==>','index:', token.i,\n",
        "        'is_alpha:',token.is_alpha,\n",
        "        'is_punct:', token.is_punct,\n",
        "        'like_num:',token.like_num,\n",
        "        'is_currency',token.is_currency)"
      ],
      "metadata": {
        "colab": {
          "base_uri": "https://localhost:8080/"
        },
        "id": "ea7BtHkoZhNu",
        "outputId": "636892db-c84c-401d-f82b-00843d380336"
      },
      "execution_count": null,
      "outputs": [
        {
          "output_type": "stream",
          "name": "stdout",
          "text": [
            "tony ==> index: 0 is_alpha: True is_punct: False like_num: False is_currency False\n",
            "gave ==> index: 1 is_alpha: True is_punct: False like_num: False is_currency False\n",
            "two ==> index: 2 is_alpha: True is_punct: False like_num: True is_currency False\n",
            "dollar ==> index: 3 is_alpha: True is_punct: False like_num: False is_currency False\n",
            "to ==> index: 4 is_alpha: True is_punct: False like_num: False is_currency False\n",
            "peter ==> index: 5 is_alpha: True is_punct: False like_num: False is_currency False\n"
          ]
        }
      ]
    },
    {
      "cell_type": "code",
      "source": [],
      "metadata": {
        "id": "VQzLLwTzrEn7"
      },
      "execution_count": null,
      "outputs": []
    },
    {
      "cell_type": "markdown",
      "source": [
        "EXTRACTING FROM TEXT FILE\n"
      ],
      "metadata": {
        "id": "4MQ_moL6f01E"
      }
    },
    {
      "cell_type": "code",
      "source": [
        "with open('details.txt','r') as f:\n",
        "  text=f.readlines()"
      ],
      "metadata": {
        "id": "VeQ1bmbJbkM_"
      },
      "execution_count": null,
      "outputs": []
    },
    {
      "cell_type": "code",
      "source": [
        "text"
      ],
      "metadata": {
        "colab": {
          "base_uri": "https://localhost:8080/"
        },
        "id": "xiqitP91rGzS",
        "outputId": "8874c6f9-3461-4b4b-ab4f-ecfbe564daec"
      },
      "execution_count": null,
      "outputs": [
        {
          "output_type": "execute_result",
          "data": {
            "text/plain": [
              "['details:\\n',\n",
              " 'mail of student: abc@gmail.com\\n',\n",
              " 'num: 7237472474\\n',\n",
              " '\\n',\n",
              " 'mail of student2: priya@gmail.com\\n',\n",
              " 'num: 57487555465\\n',\n",
              " '\\n',\n",
              " 'mail of student3: revi@gmail.com\\n',\n",
              " 'num: 45145487416']"
            ]
          },
          "metadata": {},
          "execution_count": 25
        }
      ]
    },
    {
      "cell_type": "code",
      "source": [],
      "metadata": {
        "id": "OERU6qJyvmNZ"
      },
      "execution_count": null,
      "outputs": []
    },
    {
      "cell_type": "code",
      "source": [
        "text=' '.join(text)\n",
        "text"
      ],
      "metadata": {
        "colab": {
          "base_uri": "https://localhost:8080/",
          "height": 70
        },
        "id": "6YlJ2qUtrw-G",
        "outputId": "5696dc64-79c4-4ade-aa2f-6f2dee9b224e"
      },
      "execution_count": null,
      "outputs": [
        {
          "output_type": "execute_result",
          "data": {
            "text/plain": [
              "'details:\\n mail of student: abc@gmail.com\\n num: 7237472474\\n \\n mail of student2: priya@gmail.com\\n num: 57487555465\\n \\n mail of student3: revi@gmail.com\\n num: 45145487416'"
            ],
            "application/vnd.google.colaboratory.intrinsic+json": {
              "type": "string"
            }
          },
          "metadata": {},
          "execution_count": 29
        }
      ]
    },
    {
      "cell_type": "code",
      "source": [
        "emails=[]\n",
        "doc=nlp(text)\n",
        "for i in doc:\n",
        "  if i.like_email:\n",
        "    emails.append(i)\n",
        "emails"
      ],
      "metadata": {
        "colab": {
          "base_uri": "https://localhost:8080/"
        },
        "id": "INSLZAtLrQ5w",
        "outputId": "f5624c7e-1eab-4731-fcdf-a8722ad44f51"
      },
      "execution_count": null,
      "outputs": [
        {
          "output_type": "execute_result",
          "data": {
            "text/plain": [
              "[abc@gmail.com, priya@gmail.com, revi@gmail.com]"
            ]
          },
          "metadata": {},
          "execution_count": 32
        }
      ]
    },
    {
      "cell_type": "code",
      "source": [
        "num=[]\n",
        "for i in doc:\n",
        "  if i.like_num:\n",
        "    num.append(i)\n",
        "num"
      ],
      "metadata": {
        "colab": {
          "base_uri": "https://localhost:8080/"
        },
        "id": "FRS14LGgr5WJ",
        "outputId": "49b946f6-9081-435f-8103-45d643dfcc1b"
      },
      "execution_count": null,
      "outputs": [
        {
          "output_type": "execute_result",
          "data": {
            "text/plain": [
              "[7237472474, 57487555465, 45145487416]"
            ]
          },
          "metadata": {},
          "execution_count": 34
        }
      ]
    },
    {
      "cell_type": "code",
      "source": [
        "doc1=nlp('gimme double cheese extra large bruger and perfectly roasted sandwich')\n",
        "text1=[i.text for i in doc1]\n",
        "text1"
      ],
      "metadata": {
        "colab": {
          "base_uri": "https://localhost:8080/"
        },
        "id": "POoNohRUshmI",
        "outputId": "992f6860-de85-4bc5-cabb-9af5101532d1"
      },
      "execution_count": null,
      "outputs": [
        {
          "output_type": "execute_result",
          "data": {
            "text/plain": [
              "['gimme',\n",
              " 'double',\n",
              " 'cheese',\n",
              " 'extra',\n",
              " 'large',\n",
              " 'bruger',\n",
              " 'and',\n",
              " 'perfectly',\n",
              " 'roasted',\n",
              " 'sandwich']"
            ]
          },
          "metadata": {},
          "execution_count": 42
        }
      ]
    },
    {
      "cell_type": "code",
      "source": [
        "#now let's apply tokenizer. The tokenizet used to modify the word wither by splitting or converting text into another form.\n",
        "from spacy.symbols import ORTH\n",
        "nlp.tokenizer.add_special_case('gimme',[\n",
        "                               {ORTH:'gim'},\n",
        "                               {ORTH:'me'}])\n",
        "doc1=nlp('gimme double cheese extra large bruger and perfectly roasted sandwich')\n",
        "token1=[i.text for i in doc1]\n",
        "token1"
      ],
      "metadata": {
        "colab": {
          "base_uri": "https://localhost:8080/"
        },
        "id": "Gg5VMyKSvpQ8",
        "outputId": "3283491d-9938-4024-c775-7b7f6155c7dc"
      },
      "execution_count": null,
      "outputs": [
        {
          "output_type": "execute_result",
          "data": {
            "text/plain": [
              "['gim',\n",
              " 'me',\n",
              " 'double',\n",
              " 'cheese',\n",
              " 'extra',\n",
              " 'large',\n",
              " 'bruger',\n",
              " 'and',\n",
              " 'perfectly',\n",
              " 'roasted',\n",
              " 'sandwich']"
            ]
          },
          "metadata": {},
          "execution_count": 45
        }
      ]
    },
    {
      "cell_type": "code",
      "source": [
        "nlp.pipe_names"
      ],
      "metadata": {
        "colab": {
          "base_uri": "https://localhost:8080/"
        },
        "id": "ZHfDWttp0v7l",
        "outputId": "303b041c-0e32-41f4-9157-07bf27ec55b6"
      },
      "execution_count": null,
      "outputs": [
        {
          "output_type": "execute_result",
          "data": {
            "text/plain": [
              "['tok2vec', 'tagger', 'parser', 'attribute_ruler', 'lemmatizer', 'ner']"
            ]
          },
          "metadata": {},
          "execution_count": 48
        }
      ]
    },
    {
      "cell_type": "code",
      "source": [
        "\n",
        "nlp=spacy.load('en_core_web_sm')"
      ],
      "metadata": {
        "id": "tpmAIUgawUdg"
      },
      "execution_count": null,
      "outputs": []
    },
    {
      "cell_type": "code",
      "source": [
        "nlp.pipeline"
      ],
      "metadata": {
        "colab": {
          "base_uri": "https://localhost:8080/"
        },
        "id": "zzYIwB_P0f-7",
        "outputId": "59be3479-ee92-42a4-c88e-6c1e6c8706c0"
      },
      "execution_count": null,
      "outputs": [
        {
          "output_type": "execute_result",
          "data": {
            "text/plain": [
              "[('tok2vec', <spacy.pipeline.tok2vec.Tok2Vec at 0x7aebf7e6e200>),\n",
              " ('tagger', <spacy.pipeline.tagger.Tagger at 0x7aebf7e6cbe0>),\n",
              " ('parser', <spacy.pipeline.dep_parser.DependencyParser at 0x7aebf7a75850>),\n",
              " ('attribute_ruler',\n",
              "  <spacy.pipeline.attributeruler.AttributeRuler at 0x7aebf6ed7e80>),\n",
              " ('lemmatizer',\n",
              "  <spacy.lang.en.lemmatizer.EnglishLemmatizer at 0x7aebf7030ec0>),\n",
              " ('ner', <spacy.pipeline.ner.EntityRecognizer at 0x7aebf7a757e0>)]"
            ]
          },
          "metadata": {},
          "execution_count": 50
        }
      ]
    },
    {
      "cell_type": "code",
      "source": [
        "#spacy.blank('en)\n",
        "#spacy.blank('de')\n",
        "#spacy.load('en_core_web_sm)\n",
        "#spacy.load(en_core_web_sm)"
      ],
      "metadata": {
        "id": "SHOWKmYM026k"
      },
      "execution_count": null,
      "outputs": []
    },
    {
      "cell_type": "markdown",
      "source": [
        "POS-parts of speech"
      ],
      "metadata": {
        "id": "dquNy_YAgPga"
      }
    },
    {
      "cell_type": "code",
      "source": [
        "nlp1=spacy.load('en_core_web_sm')"
      ],
      "metadata": {
        "id": "AD2jRfw-1Mar"
      },
      "execution_count": null,
      "outputs": []
    },
    {
      "cell_type": "code",
      "source": [
        "nlp1.pipe_names"
      ],
      "metadata": {
        "colab": {
          "base_uri": "https://localhost:8080/"
        },
        "id": "QhOAhjRi1Shj",
        "outputId": "90b66f2f-8166-4a2a-e703-89e2ad4565b4"
      },
      "execution_count": null,
      "outputs": [
        {
          "output_type": "execute_result",
          "data": {
            "text/plain": [
              "['tok2vec', 'tagger', 'parser', 'attribute_ruler', 'lemmatizer', 'ner']"
            ]
          },
          "metadata": {},
          "execution_count": 55
        }
      ]
    },
    {
      "cell_type": "code",
      "source": [
        "nlp1.pipeline"
      ],
      "metadata": {
        "colab": {
          "base_uri": "https://localhost:8080/"
        },
        "id": "Wqdn77KU1fJj",
        "outputId": "50d08774-be59-445e-b8a8-11e20523b84a"
      },
      "execution_count": null,
      "outputs": [
        {
          "output_type": "execute_result",
          "data": {
            "text/plain": [
              "[('tok2vec', <spacy.pipeline.tok2vec.Tok2Vec at 0x7aebf92eb820>),\n",
              " ('tagger', <spacy.pipeline.tagger.Tagger at 0x7aebf92eb040>),\n",
              " ('parser', <spacy.pipeline.dep_parser.DependencyParser at 0x7aebf8e25a10>),\n",
              " ('attribute_ruler',\n",
              "  <spacy.pipeline.attributeruler.AttributeRuler at 0x7aebf8f8c140>),\n",
              " ('lemmatizer',\n",
              "  <spacy.lang.en.lemmatizer.EnglishLemmatizer at 0x7aebf7e33380>),\n",
              " ('ner', <spacy.pipeline.ner.EntityRecognizer at 0x7aebf8e255b0>)]"
            ]
          },
          "metadata": {},
          "execution_count": 56
        }
      ]
    },
    {
      "cell_type": "code",
      "source": [
        "doc=nlp('captian america ate 10$ samosa, he said i can do that whole day!')\n",
        "for i in doc:\n",
        "  print(i, '|', i.pos_,'|',i.lemma_)\n",
        "\n"
      ],
      "metadata": {
        "colab": {
          "base_uri": "https://localhost:8080/"
        },
        "id": "_-cRksac1lcs",
        "outputId": "b357c74b-a0e1-4ebe-8c5b-a01170d68fd6"
      },
      "execution_count": null,
      "outputs": [
        {
          "output_type": "stream",
          "name": "stdout",
          "text": [
            "captian | PROPN | captian\n",
            "america | PROPN | america\n",
            "ate | VERB | eat\n",
            "10 | NUM | 10\n",
            "$ | SYM | $\n",
            "samosa | NOUN | samosa\n",
            ", | PUNCT | ,\n",
            "he | PRON | he\n",
            "said | VERB | say\n",
            "i | PRON | I\n",
            "can | AUX | can\n",
            "do | VERB | do\n",
            "that | DET | that\n",
            "whole | ADJ | whole\n",
            "day | NOUN | day\n",
            "! | PUNCT | !\n"
          ]
        }
      ]
    },
    {
      "cell_type": "code",
      "source": [
        "nlp2=spacy.load('en_core_web_sm')\n",
        "doc1=nlp2('Today atmosphere is not good, actually i planned to go dellas for an important business meeting.')\n",
        "for token in doc1:\n",
        "  print(token, '|', token.pos_,'|', token.lemma_)\n"
      ],
      "metadata": {
        "colab": {
          "base_uri": "https://localhost:8080/"
        },
        "id": "wq-HW6aQ2A8D",
        "outputId": "2dd7fff5-f1bf-45a5-99a8-75db3c384123"
      },
      "execution_count": null,
      "outputs": [
        {
          "output_type": "stream",
          "name": "stdout",
          "text": [
            "Today | NOUN | today\n",
            "atmosphere | NOUN | atmosphere\n",
            "is | AUX | be\n",
            "not | PART | not\n",
            "good | ADJ | good\n",
            ", | PUNCT | ,\n",
            "actually | ADV | actually\n",
            "i | PRON | I\n",
            "planned | VERB | plan\n",
            "to | PART | to\n",
            "go | VERB | go\n",
            "dellas | NOUN | della\n",
            "for | ADP | for\n",
            "an | DET | an\n",
            "important | ADJ | important\n",
            "business | NOUN | business\n",
            "meeting | NOUN | meeting\n",
            ". | PUNCT | .\n"
          ]
        }
      ]
    },
    {
      "cell_type": "code",
      "source": [
        "for i in doc1.ents:\n",
        "  print(i.text, '|', i.label_,'|',spacy.explain(i.label_))"
      ],
      "metadata": {
        "colab": {
          "base_uri": "https://localhost:8080/"
        },
        "id": "W1GgNdZ_92OW",
        "outputId": "b08be696-3394-4f68-e0b0-2c738f162f9b"
      },
      "execution_count": null,
      "outputs": [
        {
          "output_type": "stream",
          "name": "stdout",
          "text": [
            "Today | DATE | Absolute or relative dates or periods\n"
          ]
        }
      ]
    },
    {
      "cell_type": "code",
      "source": [
        "doc3=nlp('Tesla Inc is going to acquire twitter for $45 billion')\n",
        "for ent in doc3.ents:\n",
        "  print(ent.text,'|',ent.label_,'|',spacy.explain(ent.label_))"
      ],
      "metadata": {
        "colab": {
          "base_uri": "https://localhost:8080/"
        },
        "id": "uQSZepmO-fmJ",
        "outputId": "ecad9bdb-fb51-4023-8470-be82c78b24c9"
      },
      "execution_count": null,
      "outputs": [
        {
          "output_type": "stream",
          "name": "stdout",
          "text": [
            "Tesla Inc | ORG | Companies, agencies, institutions, etc.\n",
            "$45 billion | MONEY | Monetary values, including unit\n"
          ]
        }
      ]
    },
    {
      "cell_type": "code",
      "source": [
        "from spacy import displacy\n",
        "displacy.render(doc3,style='ent')"
      ],
      "metadata": {
        "colab": {
          "base_uri": "https://localhost:8080/",
          "height": 174
        },
        "id": "E8V2zGOw-0M_",
        "outputId": "10c449d4-5cdf-43eb-dcab-560f6bae2b51"
      },
      "execution_count": null,
      "outputs": [
        {
          "output_type": "execute_result",
          "data": {
            "text/plain": [
              "'<div class=\"entities\" style=\"line-height: 2.5; direction: ltr\">\\n<mark class=\"entity\" style=\"background: #7aecec; padding: 0.45em 0.6em; margin: 0 0.25em; line-height: 1; border-radius: 0.35em;\">\\n    Tesla Inc\\n    <span style=\"font-size: 0.8em; font-weight: bold; line-height: 1; border-radius: 0.35em; vertical-align: middle; margin-left: 0.5rem\">ORG</span>\\n</mark>\\n is gpoing to acquire twitter for \\n<mark class=\"entity\" style=\"background: #e4e7d2; padding: 0.45em 0.6em; margin: 0 0.25em; line-height: 1; border-radius: 0.35em;\">\\n    $45 billion\\n    <span style=\"font-size: 0.8em; font-weight: bold; line-height: 1; border-radius: 0.35em; vertical-align: middle; margin-left: 0.5rem\">MONEY</span>\\n</mark>\\n</div>'"
            ],
            "application/vnd.google.colaboratory.intrinsic+json": {
              "type": "string"
            }
          },
          "metadata": {},
          "execution_count": 72
        }
      ]
    },
    {
      "cell_type": "code",
      "source": [
        "with open('details.txt','r') as f:\n",
        "  text=f.readlines()\n",
        "text"
      ],
      "metadata": {
        "colab": {
          "base_uri": "https://localhost:8080/"
        },
        "id": "4EUX1RpfClc2",
        "outputId": "04656568-cf75-49c9-f399-3f57c7e5acec"
      },
      "execution_count": null,
      "outputs": [
        {
          "output_type": "execute_result",
          "data": {
            "text/plain": [
              "['details:\\n',\n",
              " 'mail of student: abc@gmail.com\\n',\n",
              " 'num: 7237472474\\n',\n",
              " '\\n',\n",
              " 'mail of student2: priya@gmail.com\\n',\n",
              " 'num: 57487555465\\n',\n",
              " '\\n',\n",
              " 'mail of student3: revi@gmail.com\\n',\n",
              " 'num: 45145487416']"
            ]
          },
          "metadata": {},
          "execution_count": 74
        }
      ]
    },
    {
      "cell_type": "code",
      "source": [
        "text=' '.join(text)\n",
        "text"
      ],
      "metadata": {
        "colab": {
          "base_uri": "https://localhost:8080/",
          "height": 70
        },
        "id": "FHAxaozzDIme",
        "outputId": "e2a50e3c-6b65-4392-a6d1-70e1d320b93b"
      },
      "execution_count": null,
      "outputs": [
        {
          "output_type": "execute_result",
          "data": {
            "text/plain": [
              "'details:\\n mail of student: abc@gmail.com\\n num: 7237472474\\n \\n mail of student2: priya@gmail.com\\n num: 57487555465\\n \\n mail of student3: revi@gmail.com\\n num: 45145487416'"
            ],
            "application/vnd.google.colaboratory.intrinsic+json": {
              "type": "string"
            }
          },
          "metadata": {},
          "execution_count": 75
        }
      ]
    },
    {
      "cell_type": "code",
      "source": [
        "doc=nlp(text)\n",
        "for ent in doc.ents:\n",
        "  print(ent.text,'|',ent.label_,'|',spacy.explain(ent.label_))\n"
      ],
      "metadata": {
        "colab": {
          "base_uri": "https://localhost:8080/"
        },
        "id": "LL99Ryy9BWH_",
        "outputId": "259f2a27-8d0b-41d1-ce9e-abf7a95865b1"
      },
      "execution_count": null,
      "outputs": [
        {
          "output_type": "stream",
          "name": "stdout",
          "text": [
            "7237472474 | CARDINAL | Numerals that do not fall under another type\n",
            "57487555465 | CARDINAL | Numerals that do not fall under another type\n",
            "45145487416 | CARDINAL | Numerals that do not fall under another type\n"
          ]
        }
      ]
    },
    {
      "cell_type": "code",
      "source": [
        "from spacy import displacy\n",
        "displacy.render(doc,style='ent')"
      ],
      "metadata": {
        "colab": {
          "base_uri": "https://localhost:8080/",
          "height": 244
        },
        "id": "TCjfYgRzCcK9",
        "outputId": "918ae3b3-5a8a-4d00-fcae-03a20b13cdbc"
      },
      "execution_count": null,
      "outputs": [
        {
          "output_type": "execute_result",
          "data": {
            "text/plain": [
              "'<div class=\"entities\" style=\"line-height: 2.5; direction: ltr\">details:<br> mail of student: abc@gmail.com<br> num: \\n<mark class=\"entity\" style=\"background: #e4e7d2; padding: 0.45em 0.6em; margin: 0 0.25em; line-height: 1; border-radius: 0.35em;\">\\n    7237472474\\n    <span style=\"font-size: 0.8em; font-weight: bold; line-height: 1; border-radius: 0.35em; vertical-align: middle; margin-left: 0.5rem\">CARDINAL</span>\\n</mark>\\n<br> <br> mail of student2: priya@gmail.com<br> num: \\n<mark class=\"entity\" style=\"background: #e4e7d2; padding: 0.45em 0.6em; margin: 0 0.25em; line-height: 1; border-radius: 0.35em;\">\\n    57487555465\\n    <span style=\"font-size: 0.8em; font-weight: bold; line-height: 1; border-radius: 0.35em; vertical-align: middle; margin-left: 0.5rem\">CARDINAL</span>\\n</mark>\\n<br> <br> mail of student3: revi@gmail.com<br> num: \\n<mark class=\"entity\" style=\"background: #e4e7d2; padding: 0.45em 0.6em; margin: 0 0.25em; line-height: 1; border-radius: 0.35em;\">\\n    45145487416\\n    <span style=\"font-size: 0.8em; font-weight: bold; line-height: 1; border-radius: 0.35em; vertical-align: middle; margin-left: 0.5rem\">CARDINAL</span>\\n</mark>\\n</div>'"
            ],
            "application/vnd.google.colaboratory.intrinsic+json": {
              "type": "string"
            }
          },
          "metadata": {},
          "execution_count": 87
        }
      ]
    },
    {
      "cell_type": "code",
      "source": [
        "nlp=spacy.load('en_core_web_sm')\n",
        "doc2=nlp('eating eats eat ate adjustable rafting ability meeting')\n",
        "for i in doc2:\n",
        "  print(i,'|',i.pos_,'|',i.lemma_)\n",
        "\n"
      ],
      "metadata": {
        "colab": {
          "base_uri": "https://localhost:8080/"
        },
        "id": "3rqwZdfJE7be",
        "outputId": "559b668c-3f01-4e45-bc5b-c80edd659813"
      },
      "execution_count": null,
      "outputs": [
        {
          "output_type": "stream",
          "name": "stdout",
          "text": [
            "eating | VERB | eat\n",
            "eats | NOUN | eat\n",
            "eat | VERB | eat\n",
            "ate | VERB | eat\n",
            "adjustable | ADJ | adjustable\n",
            "rafting | VERB | raft\n",
            "ability | NOUN | ability\n",
            "meeting | NOUN | meeting\n"
          ]
        }
      ]
    },
    {
      "cell_type": "code",
      "source": [
        "doc4=nlp('mando talked for 3 hours although rafting is not his thing he became talkative')\n",
        "for ent in doc4.ents:\n",
        "  print(ent,'|',ent.label_,'|',spacy.explain(ent.label_))"
      ],
      "metadata": {
        "colab": {
          "base_uri": "https://localhost:8080/"
        },
        "id": "5HYDzaL6Nsar",
        "outputId": "1b2f635c-3494-496a-9398-038fa1ed7b40"
      },
      "execution_count": null,
      "outputs": [
        {
          "output_type": "stream",
          "name": "stdout",
          "text": [
            "3 hours | TIME | Times smaller than a day\n"
          ]
        }
      ]
    },
    {
      "cell_type": "code",
      "source": [
        "from spacy import displacy\n",
        "displacy.render(doc4,style='ent')"
      ],
      "metadata": {
        "colab": {
          "base_uri": "https://localhost:8080/",
          "height": 122
        },
        "id": "juI5aCycP6UH",
        "outputId": "41b24747-24cd-4835-e525-6deac3cbd03f"
      },
      "execution_count": null,
      "outputs": [
        {
          "output_type": "execute_result",
          "data": {
            "text/plain": [
              "'<div class=\"entities\" style=\"line-height: 2.5; direction: ltr\">mando talked for \\n<mark class=\"entity\" style=\"background: #bfe1d9; padding: 0.45em 0.6em; margin: 0 0.25em; line-height: 1; border-radius: 0.35em;\">\\n    3 hours\\n    <span style=\"font-size: 0.8em; font-weight: bold; line-height: 1; border-radius: 0.35em; vertical-align: middle; margin-left: 0.5rem\">TIME</span>\\n</mark>\\n although rafting is not his thing he became talkative</div>'"
            ],
            "application/vnd.google.colaboratory.intrinsic+json": {
              "type": "string"
            }
          },
          "metadata": {},
          "execution_count": 90
        }
      ]
    },
    {
      "cell_type": "code",
      "source": [
        "for token in doc4:\n",
        "  print(doc4.text,'|',token.lemma_,'|',token.lemma)"
      ],
      "metadata": {
        "colab": {
          "base_uri": "https://localhost:8080/"
        },
        "id": "qvnnq9W_QdDv",
        "outputId": "6853a7f4-1b4c-41ba-9151-fb6b3c5bfd65"
      },
      "execution_count": null,
      "outputs": [
        {
          "output_type": "stream",
          "name": "stdout",
          "text": [
            "mando talked for 3 hours although rafting is not his thing he became talkative | mando | 10991835832878170099\n",
            "mando talked for 3 hours although rafting is not his thing he became talkative | talk | 13939146775466599234\n",
            "mando talked for 3 hours although rafting is not his thing he became talkative | for | 16037325823156266367\n",
            "mando talked for 3 hours although rafting is not his thing he became talkative | 3 | 602994839685422785\n",
            "mando talked for 3 hours although rafting is not his thing he became talkative | hour | 9748623380567160636\n",
            "mando talked for 3 hours although rafting is not his thing he became talkative | although | 343236316598008647\n",
            "mando talked for 3 hours although rafting is not his thing he became talkative | raft | 7154368781129989833\n",
            "mando talked for 3 hours although rafting is not his thing he became talkative | be | 10382539506755952630\n",
            "mando talked for 3 hours although rafting is not his thing he became talkative | not | 447765159362469301\n",
            "mando talked for 3 hours although rafting is not his thing he became talkative | his | 2661093235354845946\n",
            "mando talked for 3 hours although rafting is not his thing he became talkative | thing | 2473243759842082748\n",
            "mando talked for 3 hours although rafting is not his thing he became talkative | he | 1655312771067108281\n",
            "mando talked for 3 hours although rafting is not his thing he became talkative | become | 12558846041070486771\n",
            "mando talked for 3 hours although rafting is not his thing he became talkative | talkative | 13364764166055324990\n"
          ]
        }
      ]
    },
    {
      "cell_type": "code",
      "source": [
        "nlp.pipe_names\n"
      ],
      "metadata": {
        "colab": {
          "base_uri": "https://localhost:8080/"
        },
        "id": "kK7hiJqJQ8qo",
        "outputId": "6d009698-d660-4996-d333-12c456d0f75f"
      },
      "execution_count": null,
      "outputs": [
        {
          "output_type": "execute_result",
          "data": {
            "text/plain": [
              "['tok2vec', 'tagger', 'parser', 'attribute_ruler', 'lemmatizer', 'ner']"
            ]
          },
          "metadata": {},
          "execution_count": 94
        }
      ]
    },
    {
      "cell_type": "code",
      "source": [
        "nlp.pipeline"
      ],
      "metadata": {
        "colab": {
          "base_uri": "https://localhost:8080/"
        },
        "id": "3jSN91kXRHER",
        "outputId": "8d9cda90-4774-4ae9-9800-6c7a6076e956"
      },
      "execution_count": null,
      "outputs": [
        {
          "output_type": "execute_result",
          "data": {
            "text/plain": [
              "[('tok2vec', <spacy.pipeline.tok2vec.Tok2Vec at 0x7aebf73711e0>),\n",
              " ('tagger', <spacy.pipeline.tagger.Tagger at 0x7aebf73715a0>),\n",
              " ('parser', <spacy.pipeline.dep_parser.DependencyParser at 0x7aebf3de1770>),\n",
              " ('attribute_ruler',\n",
              "  <spacy.pipeline.attributeruler.AttributeRuler at 0x7aebf71dbec0>),\n",
              " ('lemmatizer',\n",
              "  <spacy.lang.en.lemmatizer.EnglishLemmatizer at 0x7aebf7a4ee80>),\n",
              " ('ner', <spacy.pipeline.ner.EntityRecognizer at 0x7aebf3de2030>)]"
            ]
          },
          "metadata": {},
          "execution_count": 95
        }
      ]
    },
    {
      "cell_type": "code",
      "source": [
        "#pos-part of speech\n",
        "nlp=spacy.load('en_core_web_sm')\n",
        "for i in doc:\n",
        "  print(i,'|',i.pos_,'|',spacy.explain(i.pos_),\n",
        "        '|',i.tag_,'|',spacy.explain(i.tag_))\n"
      ],
      "metadata": {
        "colab": {
          "base_uri": "https://localhost:8080/"
        },
        "id": "Zh3499eHRMK8",
        "outputId": "6fc88a7a-a6e7-4842-b83a-e438154b1666"
      },
      "execution_count": null,
      "outputs": [
        {
          "output_type": "stream",
          "name": "stdout",
          "text": [
            "details | NOUN | noun | NNS | noun, plural\n",
            ": | PUNCT | punctuation | : | punctuation mark, colon or ellipsis\n",
            "\n",
            "  | SPACE | space | _SP | whitespace\n",
            "mail | NOUN | noun | NN | noun, singular or mass\n",
            "of | ADP | adposition | IN | conjunction, subordinating or preposition\n",
            "student | NOUN | noun | NN | noun, singular or mass\n",
            ": | PUNCT | punctuation | : | punctuation mark, colon or ellipsis\n",
            "abc@gmail.com | X | other | ADD | email\n",
            "\n",
            "  | SPACE | space | _SP | whitespace\n",
            "num | PROPN | proper noun | NNP | noun, proper singular\n",
            ": | PUNCT | punctuation | : | punctuation mark, colon or ellipsis\n",
            "7237472474 | NUM | numeral | CD | cardinal number\n",
            "\n",
            " \n",
            "  | SPACE | space | _SP | whitespace\n",
            "mail | NOUN | noun | NN | noun, singular or mass\n",
            "of | ADP | adposition | IN | conjunction, subordinating or preposition\n",
            "student2 | PROPN | proper noun | NNP | noun, proper singular\n",
            ": | PUNCT | punctuation | : | punctuation mark, colon or ellipsis\n",
            "priya@gmail.com | X | other | ADD | email\n",
            "\n",
            "  | SPACE | space | _SP | whitespace\n",
            "num | PROPN | proper noun | NNP | noun, proper singular\n",
            ": | PUNCT | punctuation | : | punctuation mark, colon or ellipsis\n",
            "57487555465 | NUM | numeral | CD | cardinal number\n",
            "\n",
            " \n",
            "  | SPACE | space | _SP | whitespace\n",
            "mail | NOUN | noun | NN | noun, singular or mass\n",
            "of | ADP | adposition | IN | conjunction, subordinating or preposition\n",
            "student3 | PROPN | proper noun | NNP | noun, proper singular\n",
            ": | PUNCT | punctuation | : | punctuation mark, colon or ellipsis\n",
            "revi@gmail.com | X | other | ADD | email\n",
            "\n",
            "  | SPACE | space | _SP | whitespace\n",
            "num | PROPN | proper noun | NNP | noun, proper singular\n",
            ": | PUNCT | punctuation | : | punctuation mark, colon or ellipsis\n",
            "45145487416 | NUM | numeral | CD | cardinal number\n"
          ]
        }
      ]
    },
    {
      "cell_type": "code",
      "source": [
        "nlp.pipe_names"
      ],
      "metadata": {
        "colab": {
          "base_uri": "https://localhost:8080/"
        },
        "id": "wl_9Vk3yWkmS",
        "outputId": "f4830025-0f00-45d1-bb88-66e17a768942"
      },
      "execution_count": null,
      "outputs": [
        {
          "output_type": "execute_result",
          "data": {
            "text/plain": [
              "['tok2vec', 'tagger', 'parser', 'attribute_ruler', 'lemmatizer', 'ner']"
            ]
          },
          "metadata": {},
          "execution_count": 99
        }
      ]
    },
    {
      "cell_type": "code",
      "source": [
        "nlp.pipeline"
      ],
      "metadata": {
        "colab": {
          "base_uri": "https://localhost:8080/"
        },
        "id": "l39BTUZIWt3q",
        "outputId": "33223011-2f8c-4b57-d508-acdca37ecc16"
      },
      "execution_count": null,
      "outputs": [
        {
          "output_type": "execute_result",
          "data": {
            "text/plain": [
              "[('tok2vec', <spacy.pipeline.tok2vec.Tok2Vec at 0x7aebf91a3fa0>),\n",
              " ('tagger', <spacy.pipeline.tagger.Tagger at 0x7aebf91a2740>),\n",
              " ('parser', <spacy.pipeline.dep_parser.DependencyParser at 0x7aebf4dd0200>),\n",
              " ('attribute_ruler',\n",
              "  <spacy.pipeline.attributeruler.AttributeRuler at 0x7aebf8049f80>),\n",
              " ('lemmatizer',\n",
              "  <spacy.lang.en.lemmatizer.EnglishLemmatizer at 0x7aebf4e1f400>),\n",
              " ('ner', <spacy.pipeline.ner.EntityRecognizer at 0x7aebf4dd00b0>)]"
            ]
          },
          "metadata": {},
          "execution_count": 100
        }
      ]
    },
    {
      "cell_type": "code",
      "source": [
        "filtered_tokens=[]\n",
        "for i in doc:\n",
        "  if i.pos_ not in ['SPACE','X','PUNCT']:\n",
        "    filtered_tokens.append(i)\n",
        "filtered_tokens"
      ],
      "metadata": {
        "colab": {
          "base_uri": "https://localhost:8080/"
        },
        "id": "tdpGyK5DWyET",
        "outputId": "5b8651e7-cf87-4e37-c818-339fc7beb051"
      },
      "execution_count": null,
      "outputs": [
        {
          "output_type": "execute_result",
          "data": {
            "text/plain": [
              "[details,\n",
              " mail,\n",
              " of,\n",
              " student,\n",
              " num,\n",
              " 7237472474,\n",
              " mail,\n",
              " of,\n",
              " student2,\n",
              " num,\n",
              " 57487555465,\n",
              " mail,\n",
              " of,\n",
              " student3,\n",
              " num,\n",
              " 45145487416]"
            ]
          },
          "metadata": {},
          "execution_count": 104
        }
      ]
    },
    {
      "cell_type": "code",
      "source": [
        "doc5=nlp('he will quit his job')\n",
        "doc5[2]\n",
        "print(doc5[2].text,'|',doc5[2].tag_,'|',spacy.explain(doc5[2].tag_))"
      ],
      "metadata": {
        "colab": {
          "base_uri": "https://localhost:8080/"
        },
        "id": "dyLCsgJRYMsB",
        "outputId": "6e11bce2-6d30-45b4-8eb7-cb17bfc4b64d"
      },
      "execution_count": null,
      "outputs": [
        {
          "output_type": "stream",
          "name": "stdout",
          "text": [
            "quit | VB | verb, base form\n"
          ]
        }
      ]
    },
    {
      "cell_type": "markdown",
      "source": [
        "SPAM MAIL CLASSIFICATION USING COUNT VECTORIZER"
      ],
      "metadata": {
        "id": "Gap1EPFsgpn8"
      }
    },
    {
      "cell_type": "code",
      "source": [
        "import pandas as pd\n",
        "d=pd.read_csv('/content/spam.csv', encoding_errors= 'replace')\n",
        "df=pd.DataFrame(d)\n",
        "df"
      ],
      "metadata": {
        "id": "BW_w02XWY9Hv",
        "colab": {
          "base_uri": "https://localhost:8080/",
          "height": 580
        },
        "outputId": "2a475ffe-84b5-40db-d1ae-c556f5b80359"
      },
      "execution_count": null,
      "outputs": [
        {
          "output_type": "execute_result",
          "data": {
            "text/plain": [
              "        v1                                                 v2 Unnamed: 2  \\\n",
              "0      ham  Go until jurong point, crazy.. Available only ...        NaN   \n",
              "1      ham                      Ok lar... Joking wif u oni...        NaN   \n",
              "2     spam  Free entry in 2 a wkly comp to win FA Cup fina...        NaN   \n",
              "3      ham  U dun say so early hor... U c already then say...        NaN   \n",
              "4      ham  Nah I don't think he goes to usf, he lives aro...        NaN   \n",
              "...    ...                                                ...        ...   \n",
              "5567  spam  This is the 2nd time we have tried 2 contact u...        NaN   \n",
              "5568   ham              Will �_ b going to esplanade fr home?        NaN   \n",
              "5569   ham  Pity, * was in mood for that. So...any other s...        NaN   \n",
              "5570   ham  The guy did some bitching but I acted like i'd...        NaN   \n",
              "5571   ham                         Rofl. Its true to its name        NaN   \n",
              "\n",
              "     Unnamed: 3 Unnamed: 4  \n",
              "0           NaN        NaN  \n",
              "1           NaN        NaN  \n",
              "2           NaN        NaN  \n",
              "3           NaN        NaN  \n",
              "4           NaN        NaN  \n",
              "...         ...        ...  \n",
              "5567        NaN        NaN  \n",
              "5568        NaN        NaN  \n",
              "5569        NaN        NaN  \n",
              "5570        NaN        NaN  \n",
              "5571        NaN        NaN  \n",
              "\n",
              "[5572 rows x 5 columns]"
            ],
            "text/html": [
              "\n",
              "  <div id=\"df-4fa2a254-0e51-4d3b-bce0-87d2d0bc62ea\" class=\"colab-df-container\">\n",
              "    <div>\n",
              "<style scoped>\n",
              "    .dataframe tbody tr th:only-of-type {\n",
              "        vertical-align: middle;\n",
              "    }\n",
              "\n",
              "    .dataframe tbody tr th {\n",
              "        vertical-align: top;\n",
              "    }\n",
              "\n",
              "    .dataframe thead th {\n",
              "        text-align: right;\n",
              "    }\n",
              "</style>\n",
              "<table border=\"1\" class=\"dataframe\">\n",
              "  <thead>\n",
              "    <tr style=\"text-align: right;\">\n",
              "      <th></th>\n",
              "      <th>v1</th>\n",
              "      <th>v2</th>\n",
              "      <th>Unnamed: 2</th>\n",
              "      <th>Unnamed: 3</th>\n",
              "      <th>Unnamed: 4</th>\n",
              "    </tr>\n",
              "  </thead>\n",
              "  <tbody>\n",
              "    <tr>\n",
              "      <th>0</th>\n",
              "      <td>ham</td>\n",
              "      <td>Go until jurong point, crazy.. Available only ...</td>\n",
              "      <td>NaN</td>\n",
              "      <td>NaN</td>\n",
              "      <td>NaN</td>\n",
              "    </tr>\n",
              "    <tr>\n",
              "      <th>1</th>\n",
              "      <td>ham</td>\n",
              "      <td>Ok lar... Joking wif u oni...</td>\n",
              "      <td>NaN</td>\n",
              "      <td>NaN</td>\n",
              "      <td>NaN</td>\n",
              "    </tr>\n",
              "    <tr>\n",
              "      <th>2</th>\n",
              "      <td>spam</td>\n",
              "      <td>Free entry in 2 a wkly comp to win FA Cup fina...</td>\n",
              "      <td>NaN</td>\n",
              "      <td>NaN</td>\n",
              "      <td>NaN</td>\n",
              "    </tr>\n",
              "    <tr>\n",
              "      <th>3</th>\n",
              "      <td>ham</td>\n",
              "      <td>U dun say so early hor... U c already then say...</td>\n",
              "      <td>NaN</td>\n",
              "      <td>NaN</td>\n",
              "      <td>NaN</td>\n",
              "    </tr>\n",
              "    <tr>\n",
              "      <th>4</th>\n",
              "      <td>ham</td>\n",
              "      <td>Nah I don't think he goes to usf, he lives aro...</td>\n",
              "      <td>NaN</td>\n",
              "      <td>NaN</td>\n",
              "      <td>NaN</td>\n",
              "    </tr>\n",
              "    <tr>\n",
              "      <th>...</th>\n",
              "      <td>...</td>\n",
              "      <td>...</td>\n",
              "      <td>...</td>\n",
              "      <td>...</td>\n",
              "      <td>...</td>\n",
              "    </tr>\n",
              "    <tr>\n",
              "      <th>5567</th>\n",
              "      <td>spam</td>\n",
              "      <td>This is the 2nd time we have tried 2 contact u...</td>\n",
              "      <td>NaN</td>\n",
              "      <td>NaN</td>\n",
              "      <td>NaN</td>\n",
              "    </tr>\n",
              "    <tr>\n",
              "      <th>5568</th>\n",
              "      <td>ham</td>\n",
              "      <td>Will �_ b going to esplanade fr home?</td>\n",
              "      <td>NaN</td>\n",
              "      <td>NaN</td>\n",
              "      <td>NaN</td>\n",
              "    </tr>\n",
              "    <tr>\n",
              "      <th>5569</th>\n",
              "      <td>ham</td>\n",
              "      <td>Pity, * was in mood for that. So...any other s...</td>\n",
              "      <td>NaN</td>\n",
              "      <td>NaN</td>\n",
              "      <td>NaN</td>\n",
              "    </tr>\n",
              "    <tr>\n",
              "      <th>5570</th>\n",
              "      <td>ham</td>\n",
              "      <td>The guy did some bitching but I acted like i'd...</td>\n",
              "      <td>NaN</td>\n",
              "      <td>NaN</td>\n",
              "      <td>NaN</td>\n",
              "    </tr>\n",
              "    <tr>\n",
              "      <th>5571</th>\n",
              "      <td>ham</td>\n",
              "      <td>Rofl. Its true to its name</td>\n",
              "      <td>NaN</td>\n",
              "      <td>NaN</td>\n",
              "      <td>NaN</td>\n",
              "    </tr>\n",
              "  </tbody>\n",
              "</table>\n",
              "<p>5572 rows × 5 columns</p>\n",
              "</div>\n",
              "    <div class=\"colab-df-buttons\">\n",
              "\n",
              "  <div class=\"colab-df-container\">\n",
              "    <button class=\"colab-df-convert\" onclick=\"convertToInteractive('df-4fa2a254-0e51-4d3b-bce0-87d2d0bc62ea')\"\n",
              "            title=\"Convert this dataframe to an interactive table.\"\n",
              "            style=\"display:none;\">\n",
              "\n",
              "  <svg xmlns=\"http://www.w3.org/2000/svg\" height=\"24px\" viewBox=\"0 -960 960 960\">\n",
              "    <path d=\"M120-120v-720h720v720H120Zm60-500h600v-160H180v160Zm220 220h160v-160H400v160Zm0 220h160v-160H400v160ZM180-400h160v-160H180v160Zm440 0h160v-160H620v160ZM180-180h160v-160H180v160Zm440 0h160v-160H620v160Z\"/>\n",
              "  </svg>\n",
              "    </button>\n",
              "\n",
              "  <style>\n",
              "    .colab-df-container {\n",
              "      display:flex;\n",
              "      gap: 12px;\n",
              "    }\n",
              "\n",
              "    .colab-df-convert {\n",
              "      background-color: #E8F0FE;\n",
              "      border: none;\n",
              "      border-radius: 50%;\n",
              "      cursor: pointer;\n",
              "      display: none;\n",
              "      fill: #1967D2;\n",
              "      height: 32px;\n",
              "      padding: 0 0 0 0;\n",
              "      width: 32px;\n",
              "    }\n",
              "\n",
              "    .colab-df-convert:hover {\n",
              "      background-color: #E2EBFA;\n",
              "      box-shadow: 0px 1px 2px rgba(60, 64, 67, 0.3), 0px 1px 3px 1px rgba(60, 64, 67, 0.15);\n",
              "      fill: #174EA6;\n",
              "    }\n",
              "\n",
              "    .colab-df-buttons div {\n",
              "      margin-bottom: 4px;\n",
              "    }\n",
              "\n",
              "    [theme=dark] .colab-df-convert {\n",
              "      background-color: #3B4455;\n",
              "      fill: #D2E3FC;\n",
              "    }\n",
              "\n",
              "    [theme=dark] .colab-df-convert:hover {\n",
              "      background-color: #434B5C;\n",
              "      box-shadow: 0px 1px 3px 1px rgba(0, 0, 0, 0.15);\n",
              "      filter: drop-shadow(0px 1px 2px rgba(0, 0, 0, 0.3));\n",
              "      fill: #FFFFFF;\n",
              "    }\n",
              "  </style>\n",
              "\n",
              "    <script>\n",
              "      const buttonEl =\n",
              "        document.querySelector('#df-4fa2a254-0e51-4d3b-bce0-87d2d0bc62ea button.colab-df-convert');\n",
              "      buttonEl.style.display =\n",
              "        google.colab.kernel.accessAllowed ? 'block' : 'none';\n",
              "\n",
              "      async function convertToInteractive(key) {\n",
              "        const element = document.querySelector('#df-4fa2a254-0e51-4d3b-bce0-87d2d0bc62ea');\n",
              "        const dataTable =\n",
              "          await google.colab.kernel.invokeFunction('convertToInteractive',\n",
              "                                                    [key], {});\n",
              "        if (!dataTable) return;\n",
              "\n",
              "        const docLinkHtml = 'Like what you see? Visit the ' +\n",
              "          '<a target=\"_blank\" href=https://colab.research.google.com/notebooks/data_table.ipynb>data table notebook</a>'\n",
              "          + ' to learn more about interactive tables.';\n",
              "        element.innerHTML = '';\n",
              "        dataTable['output_type'] = 'display_data';\n",
              "        await google.colab.output.renderOutput(dataTable, element);\n",
              "        const docLink = document.createElement('div');\n",
              "        docLink.innerHTML = docLinkHtml;\n",
              "        element.appendChild(docLink);\n",
              "      }\n",
              "    </script>\n",
              "  </div>\n",
              "\n",
              "\n",
              "<div id=\"df-6d4fda99-f582-40a6-ac78-abcc30234bca\">\n",
              "  <button class=\"colab-df-quickchart\" onclick=\"quickchart('df-6d4fda99-f582-40a6-ac78-abcc30234bca')\"\n",
              "            title=\"Suggest charts.\"\n",
              "            style=\"display:none;\">\n",
              "\n",
              "<svg xmlns=\"http://www.w3.org/2000/svg\" height=\"24px\"viewBox=\"0 0 24 24\"\n",
              "     width=\"24px\">\n",
              "    <g>\n",
              "        <path d=\"M19 3H5c-1.1 0-2 .9-2 2v14c0 1.1.9 2 2 2h14c1.1 0 2-.9 2-2V5c0-1.1-.9-2-2-2zM9 17H7v-7h2v7zm4 0h-2V7h2v10zm4 0h-2v-4h2v4z\"/>\n",
              "    </g>\n",
              "</svg>\n",
              "  </button>\n",
              "\n",
              "<style>\n",
              "  .colab-df-quickchart {\n",
              "    background-color: #E8F0FE;\n",
              "    border: none;\n",
              "    border-radius: 50%;\n",
              "    cursor: pointer;\n",
              "    display: none;\n",
              "    fill: #1967D2;\n",
              "    height: 32px;\n",
              "    padding: 0 0 0 0;\n",
              "    width: 32px;\n",
              "  }\n",
              "\n",
              "  .colab-df-quickchart:hover {\n",
              "    background-color: #E2EBFA;\n",
              "    box-shadow: 0px 1px 2px rgba(60, 64, 67, 0.3), 0px 1px 3px 1px rgba(60, 64, 67, 0.15);\n",
              "    fill: #174EA6;\n",
              "  }\n",
              "\n",
              "  [theme=dark] .colab-df-quickchart {\n",
              "    background-color: #3B4455;\n",
              "    fill: #D2E3FC;\n",
              "  }\n",
              "\n",
              "  [theme=dark] .colab-df-quickchart:hover {\n",
              "    background-color: #434B5C;\n",
              "    box-shadow: 0px 1px 3px 1px rgba(0, 0, 0, 0.15);\n",
              "    filter: drop-shadow(0px 1px 2px rgba(0, 0, 0, 0.3));\n",
              "    fill: #FFFFFF;\n",
              "  }\n",
              "</style>\n",
              "\n",
              "  <script>\n",
              "    async function quickchart(key) {\n",
              "      const charts = await google.colab.kernel.invokeFunction(\n",
              "          'suggestCharts', [key], {});\n",
              "    }\n",
              "    (() => {\n",
              "      let quickchartButtonEl =\n",
              "        document.querySelector('#df-6d4fda99-f582-40a6-ac78-abcc30234bca button');\n",
              "      quickchartButtonEl.style.display =\n",
              "        google.colab.kernel.accessAllowed ? 'block' : 'none';\n",
              "    })();\n",
              "  </script>\n",
              "</div>\n",
              "    </div>\n",
              "  </div>\n"
            ]
          },
          "metadata": {},
          "execution_count": 15
        }
      ]
    },
    {
      "cell_type": "code",
      "source": [
        "df.shape"
      ],
      "metadata": {
        "colab": {
          "base_uri": "https://localhost:8080/"
        },
        "id": "6csEHu1Porxs",
        "outputId": "7780d1fc-b1a4-41d3-f5b7-949aa9a70b6b"
      },
      "execution_count": null,
      "outputs": [
        {
          "output_type": "execute_result",
          "data": {
            "text/plain": [
              "(5572, 5)"
            ]
          },
          "metadata": {},
          "execution_count": 16
        }
      ]
    },
    {
      "cell_type": "code",
      "source": [
        "df['spam']=df['v1'].apply(lambda x:1 if x== 'spam' else 0)\n"
      ],
      "metadata": {
        "id": "uNjIg9wIo-8G"
      },
      "execution_count": null,
      "outputs": []
    },
    {
      "cell_type": "code",
      "source": [
        "df"
      ],
      "metadata": {
        "colab": {
          "base_uri": "https://localhost:8080/",
          "height": 580
        },
        "id": "PQBkHsJ-pz7C",
        "outputId": "fed4426a-bbf6-4e3a-8028-62f735cba05c"
      },
      "execution_count": null,
      "outputs": [
        {
          "output_type": "execute_result",
          "data": {
            "text/plain": [
              "        v1                                                 v2 Unnamed: 2  \\\n",
              "0      ham  Go until jurong point, crazy.. Available only ...        NaN   \n",
              "1      ham                      Ok lar... Joking wif u oni...        NaN   \n",
              "2     spam  Free entry in 2 a wkly comp to win FA Cup fina...        NaN   \n",
              "3      ham  U dun say so early hor... U c already then say...        NaN   \n",
              "4      ham  Nah I don't think he goes to usf, he lives aro...        NaN   \n",
              "...    ...                                                ...        ...   \n",
              "5567  spam  This is the 2nd time we have tried 2 contact u...        NaN   \n",
              "5568   ham              Will �_ b going to esplanade fr home?        NaN   \n",
              "5569   ham  Pity, * was in mood for that. So...any other s...        NaN   \n",
              "5570   ham  The guy did some bitching but I acted like i'd...        NaN   \n",
              "5571   ham                         Rofl. Its true to its name        NaN   \n",
              "\n",
              "     Unnamed: 3 Unnamed: 4  spam  \n",
              "0           NaN        NaN     0  \n",
              "1           NaN        NaN     0  \n",
              "2           NaN        NaN     1  \n",
              "3           NaN        NaN     0  \n",
              "4           NaN        NaN     0  \n",
              "...         ...        ...   ...  \n",
              "5567        NaN        NaN     1  \n",
              "5568        NaN        NaN     0  \n",
              "5569        NaN        NaN     0  \n",
              "5570        NaN        NaN     0  \n",
              "5571        NaN        NaN     0  \n",
              "\n",
              "[5572 rows x 6 columns]"
            ],
            "text/html": [
              "\n",
              "  <div id=\"df-745adced-a207-4906-9e33-ca7eaf363834\" class=\"colab-df-container\">\n",
              "    <div>\n",
              "<style scoped>\n",
              "    .dataframe tbody tr th:only-of-type {\n",
              "        vertical-align: middle;\n",
              "    }\n",
              "\n",
              "    .dataframe tbody tr th {\n",
              "        vertical-align: top;\n",
              "    }\n",
              "\n",
              "    .dataframe thead th {\n",
              "        text-align: right;\n",
              "    }\n",
              "</style>\n",
              "<table border=\"1\" class=\"dataframe\">\n",
              "  <thead>\n",
              "    <tr style=\"text-align: right;\">\n",
              "      <th></th>\n",
              "      <th>v1</th>\n",
              "      <th>v2</th>\n",
              "      <th>Unnamed: 2</th>\n",
              "      <th>Unnamed: 3</th>\n",
              "      <th>Unnamed: 4</th>\n",
              "      <th>spam</th>\n",
              "    </tr>\n",
              "  </thead>\n",
              "  <tbody>\n",
              "    <tr>\n",
              "      <th>0</th>\n",
              "      <td>ham</td>\n",
              "      <td>Go until jurong point, crazy.. Available only ...</td>\n",
              "      <td>NaN</td>\n",
              "      <td>NaN</td>\n",
              "      <td>NaN</td>\n",
              "      <td>0</td>\n",
              "    </tr>\n",
              "    <tr>\n",
              "      <th>1</th>\n",
              "      <td>ham</td>\n",
              "      <td>Ok lar... Joking wif u oni...</td>\n",
              "      <td>NaN</td>\n",
              "      <td>NaN</td>\n",
              "      <td>NaN</td>\n",
              "      <td>0</td>\n",
              "    </tr>\n",
              "    <tr>\n",
              "      <th>2</th>\n",
              "      <td>spam</td>\n",
              "      <td>Free entry in 2 a wkly comp to win FA Cup fina...</td>\n",
              "      <td>NaN</td>\n",
              "      <td>NaN</td>\n",
              "      <td>NaN</td>\n",
              "      <td>1</td>\n",
              "    </tr>\n",
              "    <tr>\n",
              "      <th>3</th>\n",
              "      <td>ham</td>\n",
              "      <td>U dun say so early hor... U c already then say...</td>\n",
              "      <td>NaN</td>\n",
              "      <td>NaN</td>\n",
              "      <td>NaN</td>\n",
              "      <td>0</td>\n",
              "    </tr>\n",
              "    <tr>\n",
              "      <th>4</th>\n",
              "      <td>ham</td>\n",
              "      <td>Nah I don't think he goes to usf, he lives aro...</td>\n",
              "      <td>NaN</td>\n",
              "      <td>NaN</td>\n",
              "      <td>NaN</td>\n",
              "      <td>0</td>\n",
              "    </tr>\n",
              "    <tr>\n",
              "      <th>...</th>\n",
              "      <td>...</td>\n",
              "      <td>...</td>\n",
              "      <td>...</td>\n",
              "      <td>...</td>\n",
              "      <td>...</td>\n",
              "      <td>...</td>\n",
              "    </tr>\n",
              "    <tr>\n",
              "      <th>5567</th>\n",
              "      <td>spam</td>\n",
              "      <td>This is the 2nd time we have tried 2 contact u...</td>\n",
              "      <td>NaN</td>\n",
              "      <td>NaN</td>\n",
              "      <td>NaN</td>\n",
              "      <td>1</td>\n",
              "    </tr>\n",
              "    <tr>\n",
              "      <th>5568</th>\n",
              "      <td>ham</td>\n",
              "      <td>Will �_ b going to esplanade fr home?</td>\n",
              "      <td>NaN</td>\n",
              "      <td>NaN</td>\n",
              "      <td>NaN</td>\n",
              "      <td>0</td>\n",
              "    </tr>\n",
              "    <tr>\n",
              "      <th>5569</th>\n",
              "      <td>ham</td>\n",
              "      <td>Pity, * was in mood for that. So...any other s...</td>\n",
              "      <td>NaN</td>\n",
              "      <td>NaN</td>\n",
              "      <td>NaN</td>\n",
              "      <td>0</td>\n",
              "    </tr>\n",
              "    <tr>\n",
              "      <th>5570</th>\n",
              "      <td>ham</td>\n",
              "      <td>The guy did some bitching but I acted like i'd...</td>\n",
              "      <td>NaN</td>\n",
              "      <td>NaN</td>\n",
              "      <td>NaN</td>\n",
              "      <td>0</td>\n",
              "    </tr>\n",
              "    <tr>\n",
              "      <th>5571</th>\n",
              "      <td>ham</td>\n",
              "      <td>Rofl. Its true to its name</td>\n",
              "      <td>NaN</td>\n",
              "      <td>NaN</td>\n",
              "      <td>NaN</td>\n",
              "      <td>0</td>\n",
              "    </tr>\n",
              "  </tbody>\n",
              "</table>\n",
              "<p>5572 rows × 6 columns</p>\n",
              "</div>\n",
              "    <div class=\"colab-df-buttons\">\n",
              "\n",
              "  <div class=\"colab-df-container\">\n",
              "    <button class=\"colab-df-convert\" onclick=\"convertToInteractive('df-745adced-a207-4906-9e33-ca7eaf363834')\"\n",
              "            title=\"Convert this dataframe to an interactive table.\"\n",
              "            style=\"display:none;\">\n",
              "\n",
              "  <svg xmlns=\"http://www.w3.org/2000/svg\" height=\"24px\" viewBox=\"0 -960 960 960\">\n",
              "    <path d=\"M120-120v-720h720v720H120Zm60-500h600v-160H180v160Zm220 220h160v-160H400v160Zm0 220h160v-160H400v160ZM180-400h160v-160H180v160Zm440 0h160v-160H620v160ZM180-180h160v-160H180v160Zm440 0h160v-160H620v160Z\"/>\n",
              "  </svg>\n",
              "    </button>\n",
              "\n",
              "  <style>\n",
              "    .colab-df-container {\n",
              "      display:flex;\n",
              "      gap: 12px;\n",
              "    }\n",
              "\n",
              "    .colab-df-convert {\n",
              "      background-color: #E8F0FE;\n",
              "      border: none;\n",
              "      border-radius: 50%;\n",
              "      cursor: pointer;\n",
              "      display: none;\n",
              "      fill: #1967D2;\n",
              "      height: 32px;\n",
              "      padding: 0 0 0 0;\n",
              "      width: 32px;\n",
              "    }\n",
              "\n",
              "    .colab-df-convert:hover {\n",
              "      background-color: #E2EBFA;\n",
              "      box-shadow: 0px 1px 2px rgba(60, 64, 67, 0.3), 0px 1px 3px 1px rgba(60, 64, 67, 0.15);\n",
              "      fill: #174EA6;\n",
              "    }\n",
              "\n",
              "    .colab-df-buttons div {\n",
              "      margin-bottom: 4px;\n",
              "    }\n",
              "\n",
              "    [theme=dark] .colab-df-convert {\n",
              "      background-color: #3B4455;\n",
              "      fill: #D2E3FC;\n",
              "    }\n",
              "\n",
              "    [theme=dark] .colab-df-convert:hover {\n",
              "      background-color: #434B5C;\n",
              "      box-shadow: 0px 1px 3px 1px rgba(0, 0, 0, 0.15);\n",
              "      filter: drop-shadow(0px 1px 2px rgba(0, 0, 0, 0.3));\n",
              "      fill: #FFFFFF;\n",
              "    }\n",
              "  </style>\n",
              "\n",
              "    <script>\n",
              "      const buttonEl =\n",
              "        document.querySelector('#df-745adced-a207-4906-9e33-ca7eaf363834 button.colab-df-convert');\n",
              "      buttonEl.style.display =\n",
              "        google.colab.kernel.accessAllowed ? 'block' : 'none';\n",
              "\n",
              "      async function convertToInteractive(key) {\n",
              "        const element = document.querySelector('#df-745adced-a207-4906-9e33-ca7eaf363834');\n",
              "        const dataTable =\n",
              "          await google.colab.kernel.invokeFunction('convertToInteractive',\n",
              "                                                    [key], {});\n",
              "        if (!dataTable) return;\n",
              "\n",
              "        const docLinkHtml = 'Like what you see? Visit the ' +\n",
              "          '<a target=\"_blank\" href=https://colab.research.google.com/notebooks/data_table.ipynb>data table notebook</a>'\n",
              "          + ' to learn more about interactive tables.';\n",
              "        element.innerHTML = '';\n",
              "        dataTable['output_type'] = 'display_data';\n",
              "        await google.colab.output.renderOutput(dataTable, element);\n",
              "        const docLink = document.createElement('div');\n",
              "        docLink.innerHTML = docLinkHtml;\n",
              "        element.appendChild(docLink);\n",
              "      }\n",
              "    </script>\n",
              "  </div>\n",
              "\n",
              "\n",
              "<div id=\"df-a4c97f09-b246-4dd1-8aa0-89795ab4f905\">\n",
              "  <button class=\"colab-df-quickchart\" onclick=\"quickchart('df-a4c97f09-b246-4dd1-8aa0-89795ab4f905')\"\n",
              "            title=\"Suggest charts.\"\n",
              "            style=\"display:none;\">\n",
              "\n",
              "<svg xmlns=\"http://www.w3.org/2000/svg\" height=\"24px\"viewBox=\"0 0 24 24\"\n",
              "     width=\"24px\">\n",
              "    <g>\n",
              "        <path d=\"M19 3H5c-1.1 0-2 .9-2 2v14c0 1.1.9 2 2 2h14c1.1 0 2-.9 2-2V5c0-1.1-.9-2-2-2zM9 17H7v-7h2v7zm4 0h-2V7h2v10zm4 0h-2v-4h2v4z\"/>\n",
              "    </g>\n",
              "</svg>\n",
              "  </button>\n",
              "\n",
              "<style>\n",
              "  .colab-df-quickchart {\n",
              "    background-color: #E8F0FE;\n",
              "    border: none;\n",
              "    border-radius: 50%;\n",
              "    cursor: pointer;\n",
              "    display: none;\n",
              "    fill: #1967D2;\n",
              "    height: 32px;\n",
              "    padding: 0 0 0 0;\n",
              "    width: 32px;\n",
              "  }\n",
              "\n",
              "  .colab-df-quickchart:hover {\n",
              "    background-color: #E2EBFA;\n",
              "    box-shadow: 0px 1px 2px rgba(60, 64, 67, 0.3), 0px 1px 3px 1px rgba(60, 64, 67, 0.15);\n",
              "    fill: #174EA6;\n",
              "  }\n",
              "\n",
              "  [theme=dark] .colab-df-quickchart {\n",
              "    background-color: #3B4455;\n",
              "    fill: #D2E3FC;\n",
              "  }\n",
              "\n",
              "  [theme=dark] .colab-df-quickchart:hover {\n",
              "    background-color: #434B5C;\n",
              "    box-shadow: 0px 1px 3px 1px rgba(0, 0, 0, 0.15);\n",
              "    filter: drop-shadow(0px 1px 2px rgba(0, 0, 0, 0.3));\n",
              "    fill: #FFFFFF;\n",
              "  }\n",
              "</style>\n",
              "\n",
              "  <script>\n",
              "    async function quickchart(key) {\n",
              "      const charts = await google.colab.kernel.invokeFunction(\n",
              "          'suggestCharts', [key], {});\n",
              "    }\n",
              "    (() => {\n",
              "      let quickchartButtonEl =\n",
              "        document.querySelector('#df-a4c97f09-b246-4dd1-8aa0-89795ab4f905 button');\n",
              "      quickchartButtonEl.style.display =\n",
              "        google.colab.kernel.accessAllowed ? 'block' : 'none';\n",
              "    })();\n",
              "  </script>\n",
              "</div>\n",
              "    </div>\n",
              "  </div>\n"
            ]
          },
          "metadata": {},
          "execution_count": 18
        }
      ]
    },
    {
      "cell_type": "code",
      "source": [
        "df.shape"
      ],
      "metadata": {
        "colab": {
          "base_uri": "https://localhost:8080/"
        },
        "id": "UchilwIRsQEx",
        "outputId": "c7f00005-d4d3-4de5-cc46-d336377425ca"
      },
      "execution_count": null,
      "outputs": [
        {
          "output_type": "execute_result",
          "data": {
            "text/plain": [
              "(5572, 6)"
            ]
          },
          "metadata": {},
          "execution_count": 24
        }
      ]
    },
    {
      "cell_type": "code",
      "source": [
        "x=df.iloc[:,2:3]"
      ],
      "metadata": {
        "id": "5unLPefksLvV"
      },
      "execution_count": null,
      "outputs": []
    },
    {
      "cell_type": "code",
      "source": [
        "x.shape"
      ],
      "metadata": {
        "colab": {
          "base_uri": "https://localhost:8080/"
        },
        "id": "7jjpQ6MGsXSx",
        "outputId": "b9a21a80-72b2-4b6b-ab4d-3708ebbcf63c"
      },
      "execution_count": null,
      "outputs": [
        {
          "output_type": "execute_result",
          "data": {
            "text/plain": [
              "(5572, 1)"
            ]
          },
          "metadata": {},
          "execution_count": 38
        }
      ]
    },
    {
      "cell_type": "code",
      "source": [
        "y=df.iloc[:,5:]"
      ],
      "metadata": {
        "id": "k48nx2Y8sh48"
      },
      "execution_count": null,
      "outputs": []
    },
    {
      "cell_type": "code",
      "source": [
        "y.shape"
      ],
      "metadata": {
        "colab": {
          "base_uri": "https://localhost:8080/"
        },
        "id": "yXylAyxtslk1",
        "outputId": "7bc0286a-1287-44f8-a532-afc728fdc91e"
      },
      "execution_count": null,
      "outputs": [
        {
          "output_type": "execute_result",
          "data": {
            "text/plain": [
              "(5572, 1)"
            ]
          },
          "metadata": {},
          "execution_count": 32
        }
      ]
    },
    {
      "cell_type": "code",
      "source": [
        "from sklearn.model_selection import train_test_split\n",
        "x_train,x_test,y_train,y_test=train_test_split(df.v2,df.spam,test_size=0.2)"
      ],
      "metadata": {
        "id": "mENH7CIRp1xD"
      },
      "execution_count": null,
      "outputs": []
    },
    {
      "cell_type": "code",
      "source": [
        "x_train.shape"
      ],
      "metadata": {
        "colab": {
          "base_uri": "https://localhost:8080/"
        },
        "id": "O5EtfuGgrfSZ",
        "outputId": "3d84b8bd-222a-4f0d-9199-ec6136d0763d"
      },
      "execution_count": null,
      "outputs": [
        {
          "output_type": "execute_result",
          "data": {
            "text/plain": [
              "(4457,)"
            ]
          },
          "metadata": {},
          "execution_count": 45
        }
      ]
    },
    {
      "cell_type": "code",
      "source": [
        "x_test.shape"
      ],
      "metadata": {
        "colab": {
          "base_uri": "https://localhost:8080/"
        },
        "id": "--s_BQsXr9Wg",
        "outputId": "edf23dae-be54-4c4d-ebc5-c2c36aaa6ad9"
      },
      "execution_count": null,
      "outputs": [
        {
          "output_type": "execute_result",
          "data": {
            "text/plain": [
              "(1115,)"
            ]
          },
          "metadata": {},
          "execution_count": 46
        }
      ]
    },
    {
      "cell_type": "code",
      "source": [
        "y_train.shape"
      ],
      "metadata": {
        "colab": {
          "base_uri": "https://localhost:8080/"
        },
        "id": "jloElcESr_3q",
        "outputId": "9e88f9c4-76fd-42c8-d1d9-77d407ab8aa0"
      },
      "execution_count": null,
      "outputs": [
        {
          "output_type": "execute_result",
          "data": {
            "text/plain": [
              "(4457,)"
            ]
          },
          "metadata": {},
          "execution_count": 47
        }
      ]
    },
    {
      "cell_type": "code",
      "source": [
        "y_test.shape"
      ],
      "metadata": {
        "colab": {
          "base_uri": "https://localhost:8080/"
        },
        "id": "zwvt2ac2sB0H",
        "outputId": "b3c1971e-b38c-4bac-f496-b4e856cdc7e8"
      },
      "execution_count": null,
      "outputs": [
        {
          "output_type": "execute_result",
          "data": {
            "text/plain": [
              "(1115,)"
            ]
          },
          "metadata": {},
          "execution_count": 48
        }
      ]
    },
    {
      "cell_type": "code",
      "source": [
        "x_train[:4]"
      ],
      "metadata": {
        "colab": {
          "base_uri": "https://localhost:8080/"
        },
        "id": "uX49dZMNsFiD",
        "outputId": "e4d2555d-601f-493b-d996-ca4055e273f5"
      },
      "execution_count": null,
      "outputs": [
        {
          "output_type": "execute_result",
          "data": {
            "text/plain": [
              "4526    Understand. his loss is my gain :) so do you w...\n",
              "2252                 Den wat will e schedule b lk on sun?\n",
              "665     En chikku nange bakra msg kalstiya..then had t...\n",
              "1657    S:-)if we have one good partnership going we w...\n",
              "Name: v2, dtype: object"
            ]
          },
          "metadata": {},
          "execution_count": 51
        }
      ]
    },
    {
      "cell_type": "code",
      "source": [
        "x_train.head()"
      ],
      "metadata": {
        "colab": {
          "base_uri": "https://localhost:8080/"
        },
        "id": "XWMT4qbJtPlX",
        "outputId": "4722948a-9bf6-4ccc-e6c8-5d3391995781"
      },
      "execution_count": null,
      "outputs": [
        {
          "output_type": "execute_result",
          "data": {
            "text/plain": [
              "4526    Understand. his loss is my gain :) so do you w...\n",
              "2252                 Den wat will e schedule b lk on sun?\n",
              "665     En chikku nange bakra msg kalstiya..then had t...\n",
              "1657    S:-)if we have one good partnership going we w...\n",
              "514     You are guaranteed the latest Nokia Phone, a 4...\n",
              "Name: v2, dtype: object"
            ]
          },
          "metadata": {},
          "execution_count": 52
        }
      ]
    },
    {
      "cell_type": "code",
      "source": [
        "from sklearn.feature_extraction.text import CountVectorizer"
      ],
      "metadata": {
        "id": "zunesEcmtpLs"
      },
      "execution_count": null,
      "outputs": []
    },
    {
      "cell_type": "code",
      "source": [
        "cv=CountVectorizer()"
      ],
      "metadata": {
        "id": "XPFeMb8-1DzQ"
      },
      "execution_count": null,
      "outputs": []
    },
    {
      "cell_type": "code",
      "source": [
        "x_train_cv=cv.fit_transform(x_train)"
      ],
      "metadata": {
        "id": "3B0wMVcR1RrQ"
      },
      "execution_count": null,
      "outputs": []
    },
    {
      "cell_type": "code",
      "source": [
        "x_train_cv"
      ],
      "metadata": {
        "colab": {
          "base_uri": "https://localhost:8080/"
        },
        "id": "o60i4nqQ1Wlk",
        "outputId": "862583ab-307c-4229-a36d-d072aa14d3c2"
      },
      "execution_count": null,
      "outputs": [
        {
          "output_type": "execute_result",
          "data": {
            "text/plain": [
              "<4457x7675 sparse matrix of type '<class 'numpy.int64'>'\n",
              "\twith 59033 stored elements in Compressed Sparse Row format>"
            ]
          },
          "metadata": {},
          "execution_count": 91
        }
      ]
    },
    {
      "cell_type": "code",
      "source": [
        "x_train_cv.toarray()"
      ],
      "metadata": {
        "colab": {
          "base_uri": "https://localhost:8080/"
        },
        "id": "0vRMP87e1X7r",
        "outputId": "d9297826-64f0-4ba2-d3e1-fecd993862ee"
      },
      "execution_count": null,
      "outputs": [
        {
          "output_type": "execute_result",
          "data": {
            "text/plain": [
              "array([[0, 0, 0, ..., 0, 0, 0],\n",
              "       [0, 0, 0, ..., 0, 0, 0],\n",
              "       [0, 0, 0, ..., 0, 0, 0],\n",
              "       ...,\n",
              "       [0, 0, 0, ..., 0, 0, 0],\n",
              "       [0, 0, 0, ..., 0, 0, 0],\n",
              "       [0, 0, 0, ..., 0, 0, 0]])"
            ]
          },
          "metadata": {},
          "execution_count": 92
        }
      ]
    },
    {
      "cell_type": "code",
      "source": [
        "x_train_cv.shape"
      ],
      "metadata": {
        "colab": {
          "base_uri": "https://localhost:8080/"
        },
        "id": "g_vK0DJt1asK",
        "outputId": "1907ed72-2f45-45e1-b60c-2c5c17246eaf"
      },
      "execution_count": null,
      "outputs": [
        {
          "output_type": "execute_result",
          "data": {
            "text/plain": [
              "(4457, 7675)"
            ]
          },
          "metadata": {},
          "execution_count": 93
        }
      ]
    },
    {
      "cell_type": "code",
      "source": [
        "x_train.head()"
      ],
      "metadata": {
        "colab": {
          "base_uri": "https://localhost:8080/"
        },
        "id": "TAGhSQkJ3nE_",
        "outputId": "ee8aff55-16c2-4515-8fbf-e71802345218"
      },
      "execution_count": null,
      "outputs": [
        {
          "output_type": "execute_result",
          "data": {
            "text/plain": [
              "4979                               So what u doing today?\n",
              "296     Unless it's a situation where YOU GO GURL woul...\n",
              "3051    Please leave this topic..sorry for telling that..\n",
              "3206            This phone has the weirdest auto correct.\n",
              "2579       I dunno until when... Lets go learn pilates...\n",
              "Name: v2, dtype: object"
            ]
          },
          "metadata": {},
          "execution_count": 100
        }
      ]
    },
    {
      "cell_type": "code",
      "source": [
        "x_train_np=x_train_cv.toarray()\n",
        "x_train_np[0]"
      ],
      "metadata": {
        "colab": {
          "base_uri": "https://localhost:8080/"
        },
        "id": "E_fMQKhi3nOL",
        "outputId": "696c3644-1672-4a56-acb0-b69c5ab8de30"
      },
      "execution_count": null,
      "outputs": [
        {
          "output_type": "execute_result",
          "data": {
            "text/plain": [
              "array([0, 0, 0, ..., 0, 0, 0])"
            ]
          },
          "metadata": {},
          "execution_count": 98
        }
      ]
    },
    {
      "cell_type": "code",
      "source": [
        "import numpy as np\n",
        "np.where(x_train_np[0]!=0)"
      ],
      "metadata": {
        "colab": {
          "base_uri": "https://localhost:8080/"
        },
        "id": "r9Nlo9ZQ38eJ",
        "outputId": "7c95048d-8f69-4316-bebd-ac1019a1c5c9"
      },
      "execution_count": null,
      "outputs": [
        {
          "output_type": "execute_result",
          "data": {
            "text/plain": [
              "(array([2390, 6222, 6888, 7403]),)"
            ]
          },
          "metadata": {},
          "execution_count": 99
        }
      ]
    },
    {
      "cell_type": "code",
      "source": [
        "cv.get_feature_names_out()[6600]"
      ],
      "metadata": {
        "colab": {
          "base_uri": "https://localhost:8080/",
          "height": 36
        },
        "id": "MNkJlhFR1maW",
        "outputId": "e3316852-45b7-4eac-efa9-653e01511000"
      },
      "execution_count": null,
      "outputs": [
        {
          "output_type": "execute_result",
          "data": {
            "text/plain": [
              "'sunscreen'"
            ],
            "application/vnd.google.colaboratory.intrinsic+json": {
              "type": "string"
            }
          },
          "metadata": {},
          "execution_count": 84
        }
      ]
    },
    {
      "cell_type": "code",
      "source": [
        "x_train[:4][3206]"
      ],
      "metadata": {
        "colab": {
          "base_uri": "https://localhost:8080/",
          "height": 36
        },
        "id": "jBt0VZW81v2u",
        "outputId": "32c98a63-9e9f-41b0-aa63-317399c27787"
      },
      "execution_count": null,
      "outputs": [
        {
          "output_type": "execute_result",
          "data": {
            "text/plain": [
              "'This phone has the weirdest auto correct.'"
            ],
            "application/vnd.google.colaboratory.intrinsic+json": {
              "type": "string"
            }
          },
          "metadata": {},
          "execution_count": 103
        }
      ]
    },
    {
      "cell_type": "code",
      "source": [
        "from sklearn.naive_bayes import MultinomialNB\n",
        "model=MultinomialNB()"
      ],
      "metadata": {
        "id": "bYx4NE0m3Lnt"
      },
      "execution_count": null,
      "outputs": []
    },
    {
      "cell_type": "code",
      "source": [
        "x_test_cv=cv.transform(x_test)"
      ],
      "metadata": {
        "id": "4B7-F4b841dJ"
      },
      "execution_count": null,
      "outputs": []
    },
    {
      "cell_type": "code",
      "source": [
        "x_test_cv.toarray()[0]"
      ],
      "metadata": {
        "colab": {
          "base_uri": "https://localhost:8080/"
        },
        "id": "H26aQ3Qk5FGs",
        "outputId": "662c26d4-1817-4fa7-d750-707e47a1ee74"
      },
      "execution_count": null,
      "outputs": [
        {
          "output_type": "execute_result",
          "data": {
            "text/plain": [
              "array([0, 0, 0, ..., 0, 0, 0])"
            ]
          },
          "metadata": {},
          "execution_count": 108
        }
      ]
    },
    {
      "cell_type": "code",
      "source": [
        "x_test_cv.shape"
      ],
      "metadata": {
        "colab": {
          "base_uri": "https://localhost:8080/"
        },
        "id": "aTqSgsQi5ZH3",
        "outputId": "920c13b1-e0ec-481c-97c8-3941de416430"
      },
      "execution_count": null,
      "outputs": [
        {
          "output_type": "execute_result",
          "data": {
            "text/plain": [
              "(1115, 7675)"
            ]
          },
          "metadata": {},
          "execution_count": 109
        }
      ]
    },
    {
      "cell_type": "code",
      "source": [
        "cv.get_feature_names_out()[6800]"
      ],
      "metadata": {
        "colab": {
          "base_uri": "https://localhost:8080/",
          "height": 36
        },
        "id": "tc6oB5lE5PPM",
        "outputId": "4af20484-3af5-47c0-9256-e808f22414ad"
      },
      "execution_count": null,
      "outputs": [
        {
          "output_type": "execute_result",
          "data": {
            "text/plain": [
              "'thirunelvali'"
            ],
            "application/vnd.google.colaboratory.intrinsic+json": {
              "type": "string"
            }
          },
          "metadata": {},
          "execution_count": 111
        }
      ]
    },
    {
      "cell_type": "code",
      "source": [
        "print(x_train_cv.shape)\n",
        "x_test_cv.shape"
      ],
      "metadata": {
        "colab": {
          "base_uri": "https://localhost:8080/"
        },
        "id": "EiBA5mrr5ekW",
        "outputId": "1e0293a8-0e36-4a0a-c59d-7a347deead07"
      },
      "execution_count": null,
      "outputs": [
        {
          "output_type": "stream",
          "name": "stdout",
          "text": [
            "(4457, 7675)\n"
          ]
        },
        {
          "output_type": "execute_result",
          "data": {
            "text/plain": [
              "(1115, 7675)"
            ]
          },
          "metadata": {},
          "execution_count": 113
        }
      ]
    },
    {
      "cell_type": "code",
      "source": [
        "model.fit(x_train_cv,y_train)"
      ],
      "metadata": {
        "colab": {
          "base_uri": "https://localhost:8080/",
          "height": 74
        },
        "id": "hHEPL2mG5pRW",
        "outputId": "ad5389f7-bcb1-443c-a67f-39247242c285"
      },
      "execution_count": null,
      "outputs": [
        {
          "output_type": "execute_result",
          "data": {
            "text/plain": [
              "MultinomialNB()"
            ],
            "text/html": [
              "<style>#sk-container-id-1 {color: black;background-color: white;}#sk-container-id-1 pre{padding: 0;}#sk-container-id-1 div.sk-toggleable {background-color: white;}#sk-container-id-1 label.sk-toggleable__label {cursor: pointer;display: block;width: 100%;margin-bottom: 0;padding: 0.3em;box-sizing: border-box;text-align: center;}#sk-container-id-1 label.sk-toggleable__label-arrow:before {content: \"▸\";float: left;margin-right: 0.25em;color: #696969;}#sk-container-id-1 label.sk-toggleable__label-arrow:hover:before {color: black;}#sk-container-id-1 div.sk-estimator:hover label.sk-toggleable__label-arrow:before {color: black;}#sk-container-id-1 div.sk-toggleable__content {max-height: 0;max-width: 0;overflow: hidden;text-align: left;background-color: #f0f8ff;}#sk-container-id-1 div.sk-toggleable__content pre {margin: 0.2em;color: black;border-radius: 0.25em;background-color: #f0f8ff;}#sk-container-id-1 input.sk-toggleable__control:checked~div.sk-toggleable__content {max-height: 200px;max-width: 100%;overflow: auto;}#sk-container-id-1 input.sk-toggleable__control:checked~label.sk-toggleable__label-arrow:before {content: \"▾\";}#sk-container-id-1 div.sk-estimator input.sk-toggleable__control:checked~label.sk-toggleable__label {background-color: #d4ebff;}#sk-container-id-1 div.sk-label input.sk-toggleable__control:checked~label.sk-toggleable__label {background-color: #d4ebff;}#sk-container-id-1 input.sk-hidden--visually {border: 0;clip: rect(1px 1px 1px 1px);clip: rect(1px, 1px, 1px, 1px);height: 1px;margin: -1px;overflow: hidden;padding: 0;position: absolute;width: 1px;}#sk-container-id-1 div.sk-estimator {font-family: monospace;background-color: #f0f8ff;border: 1px dotted black;border-radius: 0.25em;box-sizing: border-box;margin-bottom: 0.5em;}#sk-container-id-1 div.sk-estimator:hover {background-color: #d4ebff;}#sk-container-id-1 div.sk-parallel-item::after {content: \"\";width: 100%;border-bottom: 1px solid gray;flex-grow: 1;}#sk-container-id-1 div.sk-label:hover label.sk-toggleable__label {background-color: #d4ebff;}#sk-container-id-1 div.sk-serial::before {content: \"\";position: absolute;border-left: 1px solid gray;box-sizing: border-box;top: 0;bottom: 0;left: 50%;z-index: 0;}#sk-container-id-1 div.sk-serial {display: flex;flex-direction: column;align-items: center;background-color: white;padding-right: 0.2em;padding-left: 0.2em;position: relative;}#sk-container-id-1 div.sk-item {position: relative;z-index: 1;}#sk-container-id-1 div.sk-parallel {display: flex;align-items: stretch;justify-content: center;background-color: white;position: relative;}#sk-container-id-1 div.sk-item::before, #sk-container-id-1 div.sk-parallel-item::before {content: \"\";position: absolute;border-left: 1px solid gray;box-sizing: border-box;top: 0;bottom: 0;left: 50%;z-index: -1;}#sk-container-id-1 div.sk-parallel-item {display: flex;flex-direction: column;z-index: 1;position: relative;background-color: white;}#sk-container-id-1 div.sk-parallel-item:first-child::after {align-self: flex-end;width: 50%;}#sk-container-id-1 div.sk-parallel-item:last-child::after {align-self: flex-start;width: 50%;}#sk-container-id-1 div.sk-parallel-item:only-child::after {width: 0;}#sk-container-id-1 div.sk-dashed-wrapped {border: 1px dashed gray;margin: 0 0.4em 0.5em 0.4em;box-sizing: border-box;padding-bottom: 0.4em;background-color: white;}#sk-container-id-1 div.sk-label label {font-family: monospace;font-weight: bold;display: inline-block;line-height: 1.2em;}#sk-container-id-1 div.sk-label-container {text-align: center;}#sk-container-id-1 div.sk-container {/* jupyter's `normalize.less` sets `[hidden] { display: none; }` but bootstrap.min.css set `[hidden] { display: none !important; }` so we also need the `!important` here to be able to override the default hidden behavior on the sphinx rendered scikit-learn.org. See: https://github.com/scikit-learn/scikit-learn/issues/21755 */display: inline-block !important;position: relative;}#sk-container-id-1 div.sk-text-repr-fallback {display: none;}</style><div id=\"sk-container-id-1\" class=\"sk-top-container\"><div class=\"sk-text-repr-fallback\"><pre>MultinomialNB()</pre><b>In a Jupyter environment, please rerun this cell to show the HTML representation or trust the notebook. <br />On GitHub, the HTML representation is unable to render, please try loading this page with nbviewer.org.</b></div><div class=\"sk-container\" hidden><div class=\"sk-item\"><div class=\"sk-estimator sk-toggleable\"><input class=\"sk-toggleable__control sk-hidden--visually\" id=\"sk-estimator-id-1\" type=\"checkbox\" checked><label for=\"sk-estimator-id-1\" class=\"sk-toggleable__label sk-toggleable__label-arrow\">MultinomialNB</label><div class=\"sk-toggleable__content\"><pre>MultinomialNB()</pre></div></div></div></div></div>"
            ]
          },
          "metadata": {},
          "execution_count": 114
        }
      ]
    },
    {
      "cell_type": "code",
      "source": [
        "y_pred=model.predict(x_test_cv)"
      ],
      "metadata": {
        "id": "Dm9kTM7957si"
      },
      "execution_count": null,
      "outputs": []
    },
    {
      "cell_type": "code",
      "source": [
        "y_pred"
      ],
      "metadata": {
        "colab": {
          "base_uri": "https://localhost:8080/"
        },
        "id": "2HSkSHNX6Ge1",
        "outputId": "9f99a82b-08b8-47f5-aeb1-abb52c94427c"
      },
      "execution_count": null,
      "outputs": [
        {
          "output_type": "execute_result",
          "data": {
            "text/plain": [
              "array([0, 0, 0, ..., 0, 0, 1])"
            ]
          },
          "metadata": {},
          "execution_count": 116
        }
      ]
    },
    {
      "cell_type": "code",
      "source": [
        "from sklearn.metrics import classification_report\n",
        "print(classification_report(y_pred,y_test))"
      ],
      "metadata": {
        "colab": {
          "base_uri": "https://localhost:8080/"
        },
        "id": "cvjt1YA86IMv",
        "outputId": "53ec3960-a036-4dbb-8702-0aaedb2a4528"
      },
      "execution_count": null,
      "outputs": [
        {
          "output_type": "stream",
          "name": "stdout",
          "text": [
            "              precision    recall  f1-score   support\n",
            "\n",
            "           0       0.99      0.99      0.99       976\n",
            "           1       0.92      0.95      0.93       139\n",
            "\n",
            "    accuracy                           0.98      1115\n",
            "   macro avg       0.95      0.97      0.96      1115\n",
            "weighted avg       0.98      0.98      0.98      1115\n",
            "\n"
          ]
        }
      ]
    },
    {
      "cell_type": "code",
      "source": [
        "x_train[:][1400]"
      ],
      "metadata": {
        "colab": {
          "base_uri": "https://localhost:8080/",
          "height": 53
        },
        "id": "APD09qgs6W52",
        "outputId": "e4518830-0014-4b08-ff96-d77d4fb62431"
      },
      "execution_count": null,
      "outputs": [
        {
          "output_type": "execute_result",
          "data": {
            "text/plain": [
              "'No, I decided that only people who care about stuff vote and caring about stuff is for losers'"
            ],
            "application/vnd.google.colaboratory.intrinsic+json": {
              "type": "string"
            }
          },
          "metadata": {},
          "execution_count": 120
        }
      ]
    },
    {
      "cell_type": "code",
      "source": [
        "x_train[2252]"
      ],
      "metadata": {
        "colab": {
          "base_uri": "https://localhost:8080/",
          "height": 36
        },
        "id": "eNJGfz-x7Msx",
        "outputId": "d8e964a6-eba5-4a07-9ba4-c6314407c5f2"
      },
      "execution_count": null,
      "outputs": [
        {
          "output_type": "execute_result",
          "data": {
            "text/plain": [
              "'Den wat will e schedule b lk on sun?'"
            ],
            "application/vnd.google.colaboratory.intrinsic+json": {
              "type": "string"
            }
          },
          "metadata": {},
          "execution_count": 122
        }
      ]
    },
    {
      "cell_type": "code",
      "source": [
        "email=[\"Free entry in 2 a wkly comp to win FA Cup final tkts 21st May 2005. Text FA to 87121 to receive entry question(std txt rate)T&C's apply 08452810075over18's\",'Den wat will e schedule b lk on sun?']\n",
        "email_count=cv.transform(email)\n",
        "model.predict(email_count)"
      ],
      "metadata": {
        "colab": {
          "base_uri": "https://localhost:8080/"
        },
        "id": "rbsO99oH7kAj",
        "outputId": "51f07cc2-9001-49d3-ea5b-69be4f60519a"
      },
      "execution_count": null,
      "outputs": [
        {
          "output_type": "execute_result",
          "data": {
            "text/plain": [
              "array([1, 0])"
            ]
          },
          "metadata": {},
          "execution_count": 127
        }
      ]
    },
    {
      "cell_type": "code",
      "source": [
        "emails=['SIX chances to win CASH! From 100 to 20,000 pounds txt> CSH11 and send to 87575. Cost 150p/day, 6days, 16+ TsandCs apply Reply HL 4 info','XXXMobileMovieClub: To use your credit, click the WAP link in the next txt message or click here>> http://wap. xxxmobilemovieclub.com?n=QJKGIGHJJGCBL','K tell me anything about you.']\n",
        "email_counts=cv.transform(emails)\n",
        "model.predict(email_counts)"
      ],
      "metadata": {
        "colab": {
          "base_uri": "https://localhost:8080/"
        },
        "id": "Ale_IbtW8xwx",
        "outputId": "97a03a8c-a939-4ac9-9aa9-898c6986b11e"
      },
      "execution_count": null,
      "outputs": [
        {
          "output_type": "execute_result",
          "data": {
            "text/plain": [
              "array([1, 1, 0])"
            ]
          },
          "metadata": {},
          "execution_count": 128
        }
      ]
    },
    {
      "cell_type": "code",
      "source": [
        "emails=[\"Did you hear about the new \\Divorce Barbie\\\"? It comes with all of Ken's stuff!\",'Please call our customer service representative on 0800 169 6031 between 10am-9pm as you have WON a guaranteed �1000 cash or �5000 prize!','HI BABE IM AT HOME NOW WANNA DO SOMETHING? XX','Please call our customer service representative on 0800 169 6031 between 10am-9pm as you have WON a guaranteed �1000 cash or �5000 prize!']\n",
        "email_counts=cv.transform(emails)\n",
        "model.predict(email_counts)"
      ],
      "metadata": {
        "colab": {
          "base_uri": "https://localhost:8080/"
        },
        "id": "7ne7ohng-ael",
        "outputId": "b2c0908a-be6b-4e7b-d78e-fe74e837fbd2"
      },
      "execution_count": null,
      "outputs": [
        {
          "output_type": "execute_result",
          "data": {
            "text/plain": [
              "array([0, 1, 0, 1])"
            ]
          },
          "metadata": {},
          "execution_count": 132
        }
      ]
    },
    {
      "cell_type": "markdown",
      "source": [
        "**STOP WORDS**"
      ],
      "metadata": {
        "id": "e6lJId_rUqgV"
      }
    },
    {
      "cell_type": "code",
      "source": [
        "import spacy\n",
        "from spacy.lang.en.stop_words import STOP_WORDS"
      ],
      "metadata": {
        "id": "5f05XlQdUrly"
      },
      "execution_count": null,
      "outputs": []
    },
    {
      "cell_type": "code",
      "source": [
        "#from spacy.lang.en.stop_words import STOP_WORDS\n",
        "len(STOP_WORDS)"
      ],
      "metadata": {
        "colab": {
          "base_uri": "https://localhost:8080/"
        },
        "id": "yszU3-7Xctkn",
        "outputId": "5ca61b90-7e28-4204-d764-3978a7920703"
      },
      "execution_count": null,
      "outputs": [
        {
          "output_type": "execute_result",
          "data": {
            "text/plain": [
              "326"
            ]
          },
          "metadata": {},
          "execution_count": 134
        }
      ]
    },
    {
      "cell_type": "code",
      "source": [
        "nlp=spacy.load('en_core_web_sm')\n",
        "doc=nlp('I just want to select a good movie, iam searching from 2 hours but still iam losing my interest to find good movie of recently released')\n",
        "for i in doc:\n",
        "  if i.is_stop:\n",
        "    print(i)"
      ],
      "metadata": {
        "colab": {
          "base_uri": "https://localhost:8080/"
        },
        "id": "FfuhLvnuc4yU",
        "outputId": "55d77f9b-db86-4fe5-9c3e-72571a5d1856"
      },
      "execution_count": null,
      "outputs": [
        {
          "output_type": "stream",
          "name": "stdout",
          "text": [
            "I\n",
            "just\n",
            "to\n",
            "a\n",
            "from\n",
            "but\n",
            "still\n",
            "my\n",
            "to\n",
            "of\n"
          ]
        }
      ]
    },
    {
      "cell_type": "code",
      "source": [
        "def preprocess(text):\n",
        "  doc=nlp(text)\n",
        "  no_stop_word=[]\n",
        "  for token in doc:\n",
        "    if not token.is_stop:\n",
        "      no_stop_word.append(token.text)\n",
        "  return \" \".join(no_stop_word)\n",
        "preprocess('No, I decided that only people who care about stuff vote and caring about stuff is for losers')\n",
        "\n"
      ],
      "metadata": {
        "colab": {
          "base_uri": "https://localhost:8080/",
          "height": 36
        },
        "id": "1Zbuo3ufdZAy",
        "outputId": "99f3019d-22f1-40db-9178-32c18713696d"
      },
      "execution_count": null,
      "outputs": [
        {
          "output_type": "execute_result",
          "data": {
            "text/plain": [
              "', decided people care stuff vote caring stuff losers'"
            ],
            "application/vnd.google.colaboratory.intrinsic+json": {
              "type": "string"
            }
          },
          "metadata": {},
          "execution_count": 139
        }
      ]
    },
    {
      "cell_type": "code",
      "source": [
        "def preprocess(text):\n",
        "  doc=nlp(text)\n",
        "  no_stop_words=[i.text for i in doc if not i.is_stop]\n",
        "  return \" \".join(no_stop_words)\n",
        "preprocess('Havent planning to buy later. I check already lido only got 530 show in e afternoon. U finish work already?')"
      ],
      "metadata": {
        "colab": {
          "base_uri": "https://localhost:8080/",
          "height": 36
        },
        "id": "RO83dnL7edvs",
        "outputId": "beed3d82-5821-49e7-fa01-ae26ef7e6c69"
      },
      "execution_count": null,
      "outputs": [
        {
          "output_type": "execute_result",
          "data": {
            "text/plain": [
              "'nt planning buy later . check lido got 530 e afternoon . U finish work ?'"
            ],
            "application/vnd.google.colaboratory.intrinsic+json": {
              "type": "string"
            }
          },
          "metadata": {},
          "execution_count": 140
        }
      ]
    },
    {
      "cell_type": "code",
      "source": [
        "df=pd.read_json('/content/combined.json',lines=True)"
      ],
      "metadata": {
        "id": "abfGP21YepDj"
      },
      "execution_count": null,
      "outputs": []
    },
    {
      "cell_type": "code",
      "source": [
        "df.head(5)"
      ],
      "metadata": {
        "colab": {
          "base_uri": "https://localhost:8080/",
          "height": 570
        },
        "id": "0pXNBWX9f2dn",
        "outputId": "337d217f-536a-471f-c958-950014ea6d3b"
      },
      "execution_count": null,
      "outputs": [
        {
          "output_type": "execute_result",
          "data": {
            "text/plain": [
              "        id                                              title  \\\n",
              "0     None       Convicted Bomb Plotter Sentenced to 30 Years   \n",
              "1  12-919   $1 Million in Restitution Payments Announced t...   \n",
              "2  11-1002  $1 Million Settlement Reached for Natural Reso...   \n",
              "3   10-015  10 Las Vegas Men Indicted \\r\\nfor Falsifying V...   \n",
              "4   18-898  $100 Million Settlement Will Speed Cleanup Wor...   \n",
              "\n",
              "                                            contents  \\\n",
              "0  PORTLAND, Oregon. – Mohamed Osman Mohamud, 23,...   \n",
              "1    WASHINGTON – North Carolina’s Waccamaw River...   \n",
              "2        BOSTON– A $1-million settlement has been...   \n",
              "3    WASHINGTON—A federal grand jury in Las Vegas...   \n",
              "4  The U.S. Department of Justice, the U.S. Envir...   \n",
              "\n",
              "                        date         topics  \\\n",
              "0  2014-10-01T00:00:00-04:00             []   \n",
              "1  2012-07-25T00:00:00-04:00             []   \n",
              "2  2011-08-03T00:00:00-04:00             []   \n",
              "3  2010-01-08T00:00:00-05:00             []   \n",
              "4  2018-07-09T00:00:00-04:00  [Environment]   \n",
              "\n",
              "                                     components  \n",
              "0            [National Security Division (NSD)]  \n",
              "1  [Environment and Natural Resources Division]  \n",
              "2  [Environment and Natural Resources Division]  \n",
              "3  [Environment and Natural Resources Division]  \n",
              "4  [Environment and Natural Resources Division]  "
            ],
            "text/html": [
              "\n",
              "  <div id=\"df-9dcdfa39-5774-4c4f-9c15-2d7510c2a4ad\" class=\"colab-df-container\">\n",
              "    <div>\n",
              "<style scoped>\n",
              "    .dataframe tbody tr th:only-of-type {\n",
              "        vertical-align: middle;\n",
              "    }\n",
              "\n",
              "    .dataframe tbody tr th {\n",
              "        vertical-align: top;\n",
              "    }\n",
              "\n",
              "    .dataframe thead th {\n",
              "        text-align: right;\n",
              "    }\n",
              "</style>\n",
              "<table border=\"1\" class=\"dataframe\">\n",
              "  <thead>\n",
              "    <tr style=\"text-align: right;\">\n",
              "      <th></th>\n",
              "      <th>id</th>\n",
              "      <th>title</th>\n",
              "      <th>contents</th>\n",
              "      <th>date</th>\n",
              "      <th>topics</th>\n",
              "      <th>components</th>\n",
              "    </tr>\n",
              "  </thead>\n",
              "  <tbody>\n",
              "    <tr>\n",
              "      <th>0</th>\n",
              "      <td>None</td>\n",
              "      <td>Convicted Bomb Plotter Sentenced to 30 Years</td>\n",
              "      <td>PORTLAND, Oregon. – Mohamed Osman Mohamud, 23,...</td>\n",
              "      <td>2014-10-01T00:00:00-04:00</td>\n",
              "      <td>[]</td>\n",
              "      <td>[National Security Division (NSD)]</td>\n",
              "    </tr>\n",
              "    <tr>\n",
              "      <th>1</th>\n",
              "      <td>12-919</td>\n",
              "      <td>$1 Million in Restitution Payments Announced t...</td>\n",
              "      <td>WASHINGTON – North Carolina’s Waccamaw River...</td>\n",
              "      <td>2012-07-25T00:00:00-04:00</td>\n",
              "      <td>[]</td>\n",
              "      <td>[Environment and Natural Resources Division]</td>\n",
              "    </tr>\n",
              "    <tr>\n",
              "      <th>2</th>\n",
              "      <td>11-1002</td>\n",
              "      <td>$1 Million Settlement Reached for Natural Reso...</td>\n",
              "      <td>BOSTON– A $1-million settlement has been...</td>\n",
              "      <td>2011-08-03T00:00:00-04:00</td>\n",
              "      <td>[]</td>\n",
              "      <td>[Environment and Natural Resources Division]</td>\n",
              "    </tr>\n",
              "    <tr>\n",
              "      <th>3</th>\n",
              "      <td>10-015</td>\n",
              "      <td>10 Las Vegas Men Indicted \\r\\nfor Falsifying V...</td>\n",
              "      <td>WASHINGTON—A federal grand jury in Las Vegas...</td>\n",
              "      <td>2010-01-08T00:00:00-05:00</td>\n",
              "      <td>[]</td>\n",
              "      <td>[Environment and Natural Resources Division]</td>\n",
              "    </tr>\n",
              "    <tr>\n",
              "      <th>4</th>\n",
              "      <td>18-898</td>\n",
              "      <td>$100 Million Settlement Will Speed Cleanup Wor...</td>\n",
              "      <td>The U.S. Department of Justice, the U.S. Envir...</td>\n",
              "      <td>2018-07-09T00:00:00-04:00</td>\n",
              "      <td>[Environment]</td>\n",
              "      <td>[Environment and Natural Resources Division]</td>\n",
              "    </tr>\n",
              "  </tbody>\n",
              "</table>\n",
              "</div>\n",
              "    <div class=\"colab-df-buttons\">\n",
              "\n",
              "  <div class=\"colab-df-container\">\n",
              "    <button class=\"colab-df-convert\" onclick=\"convertToInteractive('df-9dcdfa39-5774-4c4f-9c15-2d7510c2a4ad')\"\n",
              "            title=\"Convert this dataframe to an interactive table.\"\n",
              "            style=\"display:none;\">\n",
              "\n",
              "  <svg xmlns=\"http://www.w3.org/2000/svg\" height=\"24px\" viewBox=\"0 -960 960 960\">\n",
              "    <path d=\"M120-120v-720h720v720H120Zm60-500h600v-160H180v160Zm220 220h160v-160H400v160Zm0 220h160v-160H400v160ZM180-400h160v-160H180v160Zm440 0h160v-160H620v160ZM180-180h160v-160H180v160Zm440 0h160v-160H620v160Z\"/>\n",
              "  </svg>\n",
              "    </button>\n",
              "\n",
              "  <style>\n",
              "    .colab-df-container {\n",
              "      display:flex;\n",
              "      gap: 12px;\n",
              "    }\n",
              "\n",
              "    .colab-df-convert {\n",
              "      background-color: #E8F0FE;\n",
              "      border: none;\n",
              "      border-radius: 50%;\n",
              "      cursor: pointer;\n",
              "      display: none;\n",
              "      fill: #1967D2;\n",
              "      height: 32px;\n",
              "      padding: 0 0 0 0;\n",
              "      width: 32px;\n",
              "    }\n",
              "\n",
              "    .colab-df-convert:hover {\n",
              "      background-color: #E2EBFA;\n",
              "      box-shadow: 0px 1px 2px rgba(60, 64, 67, 0.3), 0px 1px 3px 1px rgba(60, 64, 67, 0.15);\n",
              "      fill: #174EA6;\n",
              "    }\n",
              "\n",
              "    .colab-df-buttons div {\n",
              "      margin-bottom: 4px;\n",
              "    }\n",
              "\n",
              "    [theme=dark] .colab-df-convert {\n",
              "      background-color: #3B4455;\n",
              "      fill: #D2E3FC;\n",
              "    }\n",
              "\n",
              "    [theme=dark] .colab-df-convert:hover {\n",
              "      background-color: #434B5C;\n",
              "      box-shadow: 0px 1px 3px 1px rgba(0, 0, 0, 0.15);\n",
              "      filter: drop-shadow(0px 1px 2px rgba(0, 0, 0, 0.3));\n",
              "      fill: #FFFFFF;\n",
              "    }\n",
              "  </style>\n",
              "\n",
              "    <script>\n",
              "      const buttonEl =\n",
              "        document.querySelector('#df-9dcdfa39-5774-4c4f-9c15-2d7510c2a4ad button.colab-df-convert');\n",
              "      buttonEl.style.display =\n",
              "        google.colab.kernel.accessAllowed ? 'block' : 'none';\n",
              "\n",
              "      async function convertToInteractive(key) {\n",
              "        const element = document.querySelector('#df-9dcdfa39-5774-4c4f-9c15-2d7510c2a4ad');\n",
              "        const dataTable =\n",
              "          await google.colab.kernel.invokeFunction('convertToInteractive',\n",
              "                                                    [key], {});\n",
              "        if (!dataTable) return;\n",
              "\n",
              "        const docLinkHtml = 'Like what you see? Visit the ' +\n",
              "          '<a target=\"_blank\" href=https://colab.research.google.com/notebooks/data_table.ipynb>data table notebook</a>'\n",
              "          + ' to learn more about interactive tables.';\n",
              "        element.innerHTML = '';\n",
              "        dataTable['output_type'] = 'display_data';\n",
              "        await google.colab.output.renderOutput(dataTable, element);\n",
              "        const docLink = document.createElement('div');\n",
              "        docLink.innerHTML = docLinkHtml;\n",
              "        element.appendChild(docLink);\n",
              "      }\n",
              "    </script>\n",
              "  </div>\n",
              "\n",
              "\n",
              "<div id=\"df-a4173e46-b1a7-494c-8542-17665527d7be\">\n",
              "  <button class=\"colab-df-quickchart\" onclick=\"quickchart('df-a4173e46-b1a7-494c-8542-17665527d7be')\"\n",
              "            title=\"Suggest charts.\"\n",
              "            style=\"display:none;\">\n",
              "\n",
              "<svg xmlns=\"http://www.w3.org/2000/svg\" height=\"24px\"viewBox=\"0 0 24 24\"\n",
              "     width=\"24px\">\n",
              "    <g>\n",
              "        <path d=\"M19 3H5c-1.1 0-2 .9-2 2v14c0 1.1.9 2 2 2h14c1.1 0 2-.9 2-2V5c0-1.1-.9-2-2-2zM9 17H7v-7h2v7zm4 0h-2V7h2v10zm4 0h-2v-4h2v4z\"/>\n",
              "    </g>\n",
              "</svg>\n",
              "  </button>\n",
              "\n",
              "<style>\n",
              "  .colab-df-quickchart {\n",
              "    background-color: #E8F0FE;\n",
              "    border: none;\n",
              "    border-radius: 50%;\n",
              "    cursor: pointer;\n",
              "    display: none;\n",
              "    fill: #1967D2;\n",
              "    height: 32px;\n",
              "    padding: 0 0 0 0;\n",
              "    width: 32px;\n",
              "  }\n",
              "\n",
              "  .colab-df-quickchart:hover {\n",
              "    background-color: #E2EBFA;\n",
              "    box-shadow: 0px 1px 2px rgba(60, 64, 67, 0.3), 0px 1px 3px 1px rgba(60, 64, 67, 0.15);\n",
              "    fill: #174EA6;\n",
              "  }\n",
              "\n",
              "  [theme=dark] .colab-df-quickchart {\n",
              "    background-color: #3B4455;\n",
              "    fill: #D2E3FC;\n",
              "  }\n",
              "\n",
              "  [theme=dark] .colab-df-quickchart:hover {\n",
              "    background-color: #434B5C;\n",
              "    box-shadow: 0px 1px 3px 1px rgba(0, 0, 0, 0.15);\n",
              "    filter: drop-shadow(0px 1px 2px rgba(0, 0, 0, 0.3));\n",
              "    fill: #FFFFFF;\n",
              "  }\n",
              "</style>\n",
              "\n",
              "  <script>\n",
              "    async function quickchart(key) {\n",
              "      const charts = await google.colab.kernel.invokeFunction(\n",
              "          'suggestCharts', [key], {});\n",
              "    }\n",
              "    (() => {\n",
              "      let quickchartButtonEl =\n",
              "        document.querySelector('#df-a4173e46-b1a7-494c-8542-17665527d7be button');\n",
              "      quickchartButtonEl.style.display =\n",
              "        google.colab.kernel.accessAllowed ? 'block' : 'none';\n",
              "    })();\n",
              "  </script>\n",
              "</div>\n",
              "    </div>\n",
              "  </div>\n"
            ]
          },
          "metadata": {},
          "execution_count": 144
        }
      ]
    },
    {
      "cell_type": "code",
      "source": [
        "df=df[df['topics'].str.len()!=0]\n",
        "df\n"
      ],
      "metadata": {
        "colab": {
          "base_uri": "https://localhost:8080/",
          "height": 1000
        },
        "id": "qoXiYX5Yf4-f",
        "outputId": "6f0d6cf1-fe4b-4ead-c743-5ff15036b598"
      },
      "execution_count": null,
      "outputs": [
        {
          "output_type": "execute_result",
          "data": {
            "text/plain": [
              "            id                                              title  \\\n",
              "4       18-898  $100 Million Settlement Will Speed Cleanup Wor...   \n",
              "7      14-1412  14 Indicted in Connection with New England Com...   \n",
              "19     17-1419  2017 Southeast Regional Animal Cruelty Prosecu...   \n",
              "22     15-1562  21st Century Oncology to Pay $19.75 Million to...   \n",
              "23     17-1404  21st Century Oncology to Pay $26 Million to Se...   \n",
              "...        ...                                                ...   \n",
              "13081  14-1377  Yuba City, California, Man Sentenced to 46 Mon...   \n",
              "13082   16-735  Yuengling to Upgrade Environmental Measures to...   \n",
              "13084   17-045  Zimmer Biomet Holdings Inc. Agrees to Pay $17....   \n",
              "13085   17-252  ZTE Corporation Agrees to Plead Guilty and Pay...   \n",
              "13086   17-304  ZTE Corporation Pleads Guilty for  Violating U...   \n",
              "\n",
              "                                                contents  \\\n",
              "4      The U.S. Department of Justice, the U.S. Envir...   \n",
              "7      A 131-count criminal indictment was unsealed t...   \n",
              "19     The United States Attorney’s Office for the Mi...   \n",
              "22     21st Century Oncology LLC, has agreed to pay $...   \n",
              "23     21st Century Oncology Inc. and certain of its ...   \n",
              "...                                                  ...   \n",
              "13081  Anthony Merrell Tyler, 34, of Yuba City, Calif...   \n",
              "13082  The Department of Justice and the U.S. Environ...   \n",
              "13084  Subsidiary Agrees to Plead Guilty to Violating...   \n",
              "13085  ZTE Corporation has agreed to enter a guilty p...   \n",
              "13086  ZTE Corporation pleaded guilty today to conspi...   \n",
              "\n",
              "                            date  \\\n",
              "4      2018-07-09T00:00:00-04:00   \n",
              "7      2014-12-17T00:00:00-05:00   \n",
              "19     2017-12-14T00:00:00-05:00   \n",
              "22     2015-12-18T00:00:00-05:00   \n",
              "23     2017-12-12T00:00:00-05:00   \n",
              "...                          ...   \n",
              "13081  2014-12-09T00:00:00-05:00   \n",
              "13082  2016-06-23T00:00:00-04:00   \n",
              "13084  2017-01-12T00:00:00-05:00   \n",
              "13085  2017-03-07T00:00:00-05:00   \n",
              "13086  2017-03-22T00:00:00-04:00   \n",
              "\n",
              "                                                  topics  \\\n",
              "4                                          [Environment]   \n",
              "7                                  [Consumer Protection]   \n",
              "19                                         [Environment]   \n",
              "22                 [False Claims Act, Health Care Fraud]   \n",
              "23                 [Health Care Fraud, False Claims Act]   \n",
              "...                                                  ...   \n",
              "13081                                      [Hate Crimes]   \n",
              "13082                                      [Environment]   \n",
              "13084                               [Foreign Corruption]   \n",
              "13085  [Asset Forfeiture, Counterintelligence and Exp...   \n",
              "13086           [Counterintelligence and Export Control]   \n",
              "\n",
              "                                              components  \n",
              "4           [Environment and Natural Resources Division]  \n",
              "7                                       [Civil Division]  \n",
              "19     [Environment and Natural Resources Division, U...  \n",
              "22                                      [Civil Division]  \n",
              "23              [Civil Division, USAO - Florida, Middle]  \n",
              "...                                                  ...  \n",
              "13081  [Civil Rights Division, Civil Rights - Crimina...  \n",
              "13082       [Environment and Natural Resources Division]  \n",
              "13084  [Criminal Division, Criminal - Criminal Fraud ...  \n",
              "13085  [National Security Division (NSD), USAO - Texa...  \n",
              "13086  [National Security Division (NSD), USAO - Texa...  \n",
              "\n",
              "[4688 rows x 6 columns]"
            ],
            "text/html": [
              "\n",
              "  <div id=\"df-896970fe-3f6f-4a4a-bab3-90689fe9c7f4\" class=\"colab-df-container\">\n",
              "    <div>\n",
              "<style scoped>\n",
              "    .dataframe tbody tr th:only-of-type {\n",
              "        vertical-align: middle;\n",
              "    }\n",
              "\n",
              "    .dataframe tbody tr th {\n",
              "        vertical-align: top;\n",
              "    }\n",
              "\n",
              "    .dataframe thead th {\n",
              "        text-align: right;\n",
              "    }\n",
              "</style>\n",
              "<table border=\"1\" class=\"dataframe\">\n",
              "  <thead>\n",
              "    <tr style=\"text-align: right;\">\n",
              "      <th></th>\n",
              "      <th>id</th>\n",
              "      <th>title</th>\n",
              "      <th>contents</th>\n",
              "      <th>date</th>\n",
              "      <th>topics</th>\n",
              "      <th>components</th>\n",
              "    </tr>\n",
              "  </thead>\n",
              "  <tbody>\n",
              "    <tr>\n",
              "      <th>4</th>\n",
              "      <td>18-898</td>\n",
              "      <td>$100 Million Settlement Will Speed Cleanup Wor...</td>\n",
              "      <td>The U.S. Department of Justice, the U.S. Envir...</td>\n",
              "      <td>2018-07-09T00:00:00-04:00</td>\n",
              "      <td>[Environment]</td>\n",
              "      <td>[Environment and Natural Resources Division]</td>\n",
              "    </tr>\n",
              "    <tr>\n",
              "      <th>7</th>\n",
              "      <td>14-1412</td>\n",
              "      <td>14 Indicted in Connection with New England Com...</td>\n",
              "      <td>A 131-count criminal indictment was unsealed t...</td>\n",
              "      <td>2014-12-17T00:00:00-05:00</td>\n",
              "      <td>[Consumer Protection]</td>\n",
              "      <td>[Civil Division]</td>\n",
              "    </tr>\n",
              "    <tr>\n",
              "      <th>19</th>\n",
              "      <td>17-1419</td>\n",
              "      <td>2017 Southeast Regional Animal Cruelty Prosecu...</td>\n",
              "      <td>The United States Attorney’s Office for the Mi...</td>\n",
              "      <td>2017-12-14T00:00:00-05:00</td>\n",
              "      <td>[Environment]</td>\n",
              "      <td>[Environment and Natural Resources Division, U...</td>\n",
              "    </tr>\n",
              "    <tr>\n",
              "      <th>22</th>\n",
              "      <td>15-1562</td>\n",
              "      <td>21st Century Oncology to Pay $19.75 Million to...</td>\n",
              "      <td>21st Century Oncology LLC, has agreed to pay $...</td>\n",
              "      <td>2015-12-18T00:00:00-05:00</td>\n",
              "      <td>[False Claims Act, Health Care Fraud]</td>\n",
              "      <td>[Civil Division]</td>\n",
              "    </tr>\n",
              "    <tr>\n",
              "      <th>23</th>\n",
              "      <td>17-1404</td>\n",
              "      <td>21st Century Oncology to Pay $26 Million to Se...</td>\n",
              "      <td>21st Century Oncology Inc. and certain of its ...</td>\n",
              "      <td>2017-12-12T00:00:00-05:00</td>\n",
              "      <td>[Health Care Fraud, False Claims Act]</td>\n",
              "      <td>[Civil Division, USAO - Florida, Middle]</td>\n",
              "    </tr>\n",
              "    <tr>\n",
              "      <th>...</th>\n",
              "      <td>...</td>\n",
              "      <td>...</td>\n",
              "      <td>...</td>\n",
              "      <td>...</td>\n",
              "      <td>...</td>\n",
              "      <td>...</td>\n",
              "    </tr>\n",
              "    <tr>\n",
              "      <th>13081</th>\n",
              "      <td>14-1377</td>\n",
              "      <td>Yuba City, California, Man Sentenced to 46 Mon...</td>\n",
              "      <td>Anthony Merrell Tyler, 34, of Yuba City, Calif...</td>\n",
              "      <td>2014-12-09T00:00:00-05:00</td>\n",
              "      <td>[Hate Crimes]</td>\n",
              "      <td>[Civil Rights Division, Civil Rights - Crimina...</td>\n",
              "    </tr>\n",
              "    <tr>\n",
              "      <th>13082</th>\n",
              "      <td>16-735</td>\n",
              "      <td>Yuengling to Upgrade Environmental Measures to...</td>\n",
              "      <td>The Department of Justice and the U.S. Environ...</td>\n",
              "      <td>2016-06-23T00:00:00-04:00</td>\n",
              "      <td>[Environment]</td>\n",
              "      <td>[Environment and Natural Resources Division]</td>\n",
              "    </tr>\n",
              "    <tr>\n",
              "      <th>13084</th>\n",
              "      <td>17-045</td>\n",
              "      <td>Zimmer Biomet Holdings Inc. Agrees to Pay $17....</td>\n",
              "      <td>Subsidiary Agrees to Plead Guilty to Violating...</td>\n",
              "      <td>2017-01-12T00:00:00-05:00</td>\n",
              "      <td>[Foreign Corruption]</td>\n",
              "      <td>[Criminal Division, Criminal - Criminal Fraud ...</td>\n",
              "    </tr>\n",
              "    <tr>\n",
              "      <th>13085</th>\n",
              "      <td>17-252</td>\n",
              "      <td>ZTE Corporation Agrees to Plead Guilty and Pay...</td>\n",
              "      <td>ZTE Corporation has agreed to enter a guilty p...</td>\n",
              "      <td>2017-03-07T00:00:00-05:00</td>\n",
              "      <td>[Asset Forfeiture, Counterintelligence and Exp...</td>\n",
              "      <td>[National Security Division (NSD), USAO - Texa...</td>\n",
              "    </tr>\n",
              "    <tr>\n",
              "      <th>13086</th>\n",
              "      <td>17-304</td>\n",
              "      <td>ZTE Corporation Pleads Guilty for  Violating U...</td>\n",
              "      <td>ZTE Corporation pleaded guilty today to conspi...</td>\n",
              "      <td>2017-03-22T00:00:00-04:00</td>\n",
              "      <td>[Counterintelligence and Export Control]</td>\n",
              "      <td>[National Security Division (NSD), USAO - Texa...</td>\n",
              "    </tr>\n",
              "  </tbody>\n",
              "</table>\n",
              "<p>4688 rows × 6 columns</p>\n",
              "</div>\n",
              "    <div class=\"colab-df-buttons\">\n",
              "\n",
              "  <div class=\"colab-df-container\">\n",
              "    <button class=\"colab-df-convert\" onclick=\"convertToInteractive('df-896970fe-3f6f-4a4a-bab3-90689fe9c7f4')\"\n",
              "            title=\"Convert this dataframe to an interactive table.\"\n",
              "            style=\"display:none;\">\n",
              "\n",
              "  <svg xmlns=\"http://www.w3.org/2000/svg\" height=\"24px\" viewBox=\"0 -960 960 960\">\n",
              "    <path d=\"M120-120v-720h720v720H120Zm60-500h600v-160H180v160Zm220 220h160v-160H400v160Zm0 220h160v-160H400v160ZM180-400h160v-160H180v160Zm440 0h160v-160H620v160ZM180-180h160v-160H180v160Zm440 0h160v-160H620v160Z\"/>\n",
              "  </svg>\n",
              "    </button>\n",
              "\n",
              "  <style>\n",
              "    .colab-df-container {\n",
              "      display:flex;\n",
              "      gap: 12px;\n",
              "    }\n",
              "\n",
              "    .colab-df-convert {\n",
              "      background-color: #E8F0FE;\n",
              "      border: none;\n",
              "      border-radius: 50%;\n",
              "      cursor: pointer;\n",
              "      display: none;\n",
              "      fill: #1967D2;\n",
              "      height: 32px;\n",
              "      padding: 0 0 0 0;\n",
              "      width: 32px;\n",
              "    }\n",
              "\n",
              "    .colab-df-convert:hover {\n",
              "      background-color: #E2EBFA;\n",
              "      box-shadow: 0px 1px 2px rgba(60, 64, 67, 0.3), 0px 1px 3px 1px rgba(60, 64, 67, 0.15);\n",
              "      fill: #174EA6;\n",
              "    }\n",
              "\n",
              "    .colab-df-buttons div {\n",
              "      margin-bottom: 4px;\n",
              "    }\n",
              "\n",
              "    [theme=dark] .colab-df-convert {\n",
              "      background-color: #3B4455;\n",
              "      fill: #D2E3FC;\n",
              "    }\n",
              "\n",
              "    [theme=dark] .colab-df-convert:hover {\n",
              "      background-color: #434B5C;\n",
              "      box-shadow: 0px 1px 3px 1px rgba(0, 0, 0, 0.15);\n",
              "      filter: drop-shadow(0px 1px 2px rgba(0, 0, 0, 0.3));\n",
              "      fill: #FFFFFF;\n",
              "    }\n",
              "  </style>\n",
              "\n",
              "    <script>\n",
              "      const buttonEl =\n",
              "        document.querySelector('#df-896970fe-3f6f-4a4a-bab3-90689fe9c7f4 button.colab-df-convert');\n",
              "      buttonEl.style.display =\n",
              "        google.colab.kernel.accessAllowed ? 'block' : 'none';\n",
              "\n",
              "      async function convertToInteractive(key) {\n",
              "        const element = document.querySelector('#df-896970fe-3f6f-4a4a-bab3-90689fe9c7f4');\n",
              "        const dataTable =\n",
              "          await google.colab.kernel.invokeFunction('convertToInteractive',\n",
              "                                                    [key], {});\n",
              "        if (!dataTable) return;\n",
              "\n",
              "        const docLinkHtml = 'Like what you see? Visit the ' +\n",
              "          '<a target=\"_blank\" href=https://colab.research.google.com/notebooks/data_table.ipynb>data table notebook</a>'\n",
              "          + ' to learn more about interactive tables.';\n",
              "        element.innerHTML = '';\n",
              "        dataTable['output_type'] = 'display_data';\n",
              "        await google.colab.output.renderOutput(dataTable, element);\n",
              "        const docLink = document.createElement('div');\n",
              "        docLink.innerHTML = docLinkHtml;\n",
              "        element.appendChild(docLink);\n",
              "      }\n",
              "    </script>\n",
              "  </div>\n",
              "\n",
              "\n",
              "<div id=\"df-e425c00e-3dd1-480a-b688-ada0dd2f1249\">\n",
              "  <button class=\"colab-df-quickchart\" onclick=\"quickchart('df-e425c00e-3dd1-480a-b688-ada0dd2f1249')\"\n",
              "            title=\"Suggest charts.\"\n",
              "            style=\"display:none;\">\n",
              "\n",
              "<svg xmlns=\"http://www.w3.org/2000/svg\" height=\"24px\"viewBox=\"0 0 24 24\"\n",
              "     width=\"24px\">\n",
              "    <g>\n",
              "        <path d=\"M19 3H5c-1.1 0-2 .9-2 2v14c0 1.1.9 2 2 2h14c1.1 0 2-.9 2-2V5c0-1.1-.9-2-2-2zM9 17H7v-7h2v7zm4 0h-2V7h2v10zm4 0h-2v-4h2v4z\"/>\n",
              "    </g>\n",
              "</svg>\n",
              "  </button>\n",
              "\n",
              "<style>\n",
              "  .colab-df-quickchart {\n",
              "    background-color: #E8F0FE;\n",
              "    border: none;\n",
              "    border-radius: 50%;\n",
              "    cursor: pointer;\n",
              "    display: none;\n",
              "    fill: #1967D2;\n",
              "    height: 32px;\n",
              "    padding: 0 0 0 0;\n",
              "    width: 32px;\n",
              "  }\n",
              "\n",
              "  .colab-df-quickchart:hover {\n",
              "    background-color: #E2EBFA;\n",
              "    box-shadow: 0px 1px 2px rgba(60, 64, 67, 0.3), 0px 1px 3px 1px rgba(60, 64, 67, 0.15);\n",
              "    fill: #174EA6;\n",
              "  }\n",
              "\n",
              "  [theme=dark] .colab-df-quickchart {\n",
              "    background-color: #3B4455;\n",
              "    fill: #D2E3FC;\n",
              "  }\n",
              "\n",
              "  [theme=dark] .colab-df-quickchart:hover {\n",
              "    background-color: #434B5C;\n",
              "    box-shadow: 0px 1px 3px 1px rgba(0, 0, 0, 0.15);\n",
              "    filter: drop-shadow(0px 1px 2px rgba(0, 0, 0, 0.3));\n",
              "    fill: #FFFFFF;\n",
              "  }\n",
              "</style>\n",
              "\n",
              "  <script>\n",
              "    async function quickchart(key) {\n",
              "      const charts = await google.colab.kernel.invokeFunction(\n",
              "          'suggestCharts', [key], {});\n",
              "    }\n",
              "    (() => {\n",
              "      let quickchartButtonEl =\n",
              "        document.querySelector('#df-e425c00e-3dd1-480a-b688-ada0dd2f1249 button');\n",
              "      quickchartButtonEl.style.display =\n",
              "        google.colab.kernel.accessAllowed ? 'block' : 'none';\n",
              "    })();\n",
              "  </script>\n",
              "</div>\n",
              "    </div>\n",
              "  </div>\n"
            ]
          },
          "metadata": {},
          "execution_count": 146
        }
      ]
    },
    {
      "cell_type": "code",
      "source": [
        "df['new_content']=df.contents.apply(preprocess)"
      ],
      "metadata": {
        "id": "PUzsF_CTgjzL"
      },
      "execution_count": null,
      "outputs": []
    },
    {
      "cell_type": "code",
      "source": [
        "df['new_content']"
      ],
      "metadata": {
        "colab": {
          "base_uri": "https://localhost:8080/"
        },
        "id": "Bj8T6ik3hmx3",
        "outputId": "c05d2215-f3b3-4123-acd0-b4a5069ee228"
      },
      "execution_count": null,
      "outputs": [
        {
          "output_type": "execute_result",
          "data": {
            "text/plain": [
              "4        U.S. Department Justice , U.S. Environmental P...\n",
              "7        131 - count criminal indictment unsealed today...\n",
              "19       United States Attorney Office Middle District ...\n",
              "22       21st Century Oncology LLC , agreed pay $ 19.75...\n",
              "23       21st Century Oncology Inc. certain subsidiarie...\n",
              "                               ...                        \n",
              "13081    Anthony Merrell Tyler , 34 , Yuba City , Calif...\n",
              "13082    Department Justice U.S. Environmental Protecti...\n",
              "13084    Subsidiary Agrees Plead Guilty Violating Forei...\n",
              "13085    ZTE Corporation agreed enter guilty plea pay $...\n",
              "13086    ZTE Corporation pleaded guilty today conspirin...\n",
              "Name: new_content, Length: 4688, dtype: object"
            ]
          },
          "metadata": {},
          "execution_count": 149
        }
      ]
    },
    {
      "cell_type": "code",
      "source": [
        "df.head()"
      ],
      "metadata": {
        "colab": {
          "base_uri": "https://localhost:8080/",
          "height": 677
        },
        "id": "Xo0BqkMxj-YH",
        "outputId": "ac52d6c9-9637-4ae1-f504-cb409e237aeb"
      },
      "execution_count": null,
      "outputs": [
        {
          "output_type": "execute_result",
          "data": {
            "text/plain": [
              "         id                                              title  \\\n",
              "4    18-898  $100 Million Settlement Will Speed Cleanup Wor...   \n",
              "7   14-1412  14 Indicted in Connection with New England Com...   \n",
              "19  17-1419  2017 Southeast Regional Animal Cruelty Prosecu...   \n",
              "22  15-1562  21st Century Oncology to Pay $19.75 Million to...   \n",
              "23  17-1404  21st Century Oncology to Pay $26 Million to Se...   \n",
              "\n",
              "                                             contents  \\\n",
              "4   The U.S. Department of Justice, the U.S. Envir...   \n",
              "7   A 131-count criminal indictment was unsealed t...   \n",
              "19  The United States Attorney’s Office for the Mi...   \n",
              "22  21st Century Oncology LLC, has agreed to pay $...   \n",
              "23  21st Century Oncology Inc. and certain of its ...   \n",
              "\n",
              "                         date                                 topics  \\\n",
              "4   2018-07-09T00:00:00-04:00                          [Environment]   \n",
              "7   2014-12-17T00:00:00-05:00                  [Consumer Protection]   \n",
              "19  2017-12-14T00:00:00-05:00                          [Environment]   \n",
              "22  2015-12-18T00:00:00-05:00  [False Claims Act, Health Care Fraud]   \n",
              "23  2017-12-12T00:00:00-05:00  [Health Care Fraud, False Claims Act]   \n",
              "\n",
              "                                           components  \\\n",
              "4        [Environment and Natural Resources Division]   \n",
              "7                                    [Civil Division]   \n",
              "19  [Environment and Natural Resources Division, U...   \n",
              "22                                   [Civil Division]   \n",
              "23           [Civil Division, USAO - Florida, Middle]   \n",
              "\n",
              "                                          new_content  \n",
              "4   U.S. Department Justice , U.S. Environmental P...  \n",
              "7   131 - count criminal indictment unsealed today...  \n",
              "19  United States Attorney Office Middle District ...  \n",
              "22  21st Century Oncology LLC , agreed pay $ 19.75...  \n",
              "23  21st Century Oncology Inc. certain subsidiarie...  "
            ],
            "text/html": [
              "\n",
              "  <div id=\"df-8257699b-697e-4813-8459-bf35b71b7d7a\" class=\"colab-df-container\">\n",
              "    <div>\n",
              "<style scoped>\n",
              "    .dataframe tbody tr th:only-of-type {\n",
              "        vertical-align: middle;\n",
              "    }\n",
              "\n",
              "    .dataframe tbody tr th {\n",
              "        vertical-align: top;\n",
              "    }\n",
              "\n",
              "    .dataframe thead th {\n",
              "        text-align: right;\n",
              "    }\n",
              "</style>\n",
              "<table border=\"1\" class=\"dataframe\">\n",
              "  <thead>\n",
              "    <tr style=\"text-align: right;\">\n",
              "      <th></th>\n",
              "      <th>id</th>\n",
              "      <th>title</th>\n",
              "      <th>contents</th>\n",
              "      <th>date</th>\n",
              "      <th>topics</th>\n",
              "      <th>components</th>\n",
              "      <th>new_content</th>\n",
              "    </tr>\n",
              "  </thead>\n",
              "  <tbody>\n",
              "    <tr>\n",
              "      <th>4</th>\n",
              "      <td>18-898</td>\n",
              "      <td>$100 Million Settlement Will Speed Cleanup Wor...</td>\n",
              "      <td>The U.S. Department of Justice, the U.S. Envir...</td>\n",
              "      <td>2018-07-09T00:00:00-04:00</td>\n",
              "      <td>[Environment]</td>\n",
              "      <td>[Environment and Natural Resources Division]</td>\n",
              "      <td>U.S. Department Justice , U.S. Environmental P...</td>\n",
              "    </tr>\n",
              "    <tr>\n",
              "      <th>7</th>\n",
              "      <td>14-1412</td>\n",
              "      <td>14 Indicted in Connection with New England Com...</td>\n",
              "      <td>A 131-count criminal indictment was unsealed t...</td>\n",
              "      <td>2014-12-17T00:00:00-05:00</td>\n",
              "      <td>[Consumer Protection]</td>\n",
              "      <td>[Civil Division]</td>\n",
              "      <td>131 - count criminal indictment unsealed today...</td>\n",
              "    </tr>\n",
              "    <tr>\n",
              "      <th>19</th>\n",
              "      <td>17-1419</td>\n",
              "      <td>2017 Southeast Regional Animal Cruelty Prosecu...</td>\n",
              "      <td>The United States Attorney’s Office for the Mi...</td>\n",
              "      <td>2017-12-14T00:00:00-05:00</td>\n",
              "      <td>[Environment]</td>\n",
              "      <td>[Environment and Natural Resources Division, U...</td>\n",
              "      <td>United States Attorney Office Middle District ...</td>\n",
              "    </tr>\n",
              "    <tr>\n",
              "      <th>22</th>\n",
              "      <td>15-1562</td>\n",
              "      <td>21st Century Oncology to Pay $19.75 Million to...</td>\n",
              "      <td>21st Century Oncology LLC, has agreed to pay $...</td>\n",
              "      <td>2015-12-18T00:00:00-05:00</td>\n",
              "      <td>[False Claims Act, Health Care Fraud]</td>\n",
              "      <td>[Civil Division]</td>\n",
              "      <td>21st Century Oncology LLC , agreed pay $ 19.75...</td>\n",
              "    </tr>\n",
              "    <tr>\n",
              "      <th>23</th>\n",
              "      <td>17-1404</td>\n",
              "      <td>21st Century Oncology to Pay $26 Million to Se...</td>\n",
              "      <td>21st Century Oncology Inc. and certain of its ...</td>\n",
              "      <td>2017-12-12T00:00:00-05:00</td>\n",
              "      <td>[Health Care Fraud, False Claims Act]</td>\n",
              "      <td>[Civil Division, USAO - Florida, Middle]</td>\n",
              "      <td>21st Century Oncology Inc. certain subsidiarie...</td>\n",
              "    </tr>\n",
              "  </tbody>\n",
              "</table>\n",
              "</div>\n",
              "    <div class=\"colab-df-buttons\">\n",
              "\n",
              "  <div class=\"colab-df-container\">\n",
              "    <button class=\"colab-df-convert\" onclick=\"convertToInteractive('df-8257699b-697e-4813-8459-bf35b71b7d7a')\"\n",
              "            title=\"Convert this dataframe to an interactive table.\"\n",
              "            style=\"display:none;\">\n",
              "\n",
              "  <svg xmlns=\"http://www.w3.org/2000/svg\" height=\"24px\" viewBox=\"0 -960 960 960\">\n",
              "    <path d=\"M120-120v-720h720v720H120Zm60-500h600v-160H180v160Zm220 220h160v-160H400v160Zm0 220h160v-160H400v160ZM180-400h160v-160H180v160Zm440 0h160v-160H620v160ZM180-180h160v-160H180v160Zm440 0h160v-160H620v160Z\"/>\n",
              "  </svg>\n",
              "    </button>\n",
              "\n",
              "  <style>\n",
              "    .colab-df-container {\n",
              "      display:flex;\n",
              "      gap: 12px;\n",
              "    }\n",
              "\n",
              "    .colab-df-convert {\n",
              "      background-color: #E8F0FE;\n",
              "      border: none;\n",
              "      border-radius: 50%;\n",
              "      cursor: pointer;\n",
              "      display: none;\n",
              "      fill: #1967D2;\n",
              "      height: 32px;\n",
              "      padding: 0 0 0 0;\n",
              "      width: 32px;\n",
              "    }\n",
              "\n",
              "    .colab-df-convert:hover {\n",
              "      background-color: #E2EBFA;\n",
              "      box-shadow: 0px 1px 2px rgba(60, 64, 67, 0.3), 0px 1px 3px 1px rgba(60, 64, 67, 0.15);\n",
              "      fill: #174EA6;\n",
              "    }\n",
              "\n",
              "    .colab-df-buttons div {\n",
              "      margin-bottom: 4px;\n",
              "    }\n",
              "\n",
              "    [theme=dark] .colab-df-convert {\n",
              "      background-color: #3B4455;\n",
              "      fill: #D2E3FC;\n",
              "    }\n",
              "\n",
              "    [theme=dark] .colab-df-convert:hover {\n",
              "      background-color: #434B5C;\n",
              "      box-shadow: 0px 1px 3px 1px rgba(0, 0, 0, 0.15);\n",
              "      filter: drop-shadow(0px 1px 2px rgba(0, 0, 0, 0.3));\n",
              "      fill: #FFFFFF;\n",
              "    }\n",
              "  </style>\n",
              "\n",
              "    <script>\n",
              "      const buttonEl =\n",
              "        document.querySelector('#df-8257699b-697e-4813-8459-bf35b71b7d7a button.colab-df-convert');\n",
              "      buttonEl.style.display =\n",
              "        google.colab.kernel.accessAllowed ? 'block' : 'none';\n",
              "\n",
              "      async function convertToInteractive(key) {\n",
              "        const element = document.querySelector('#df-8257699b-697e-4813-8459-bf35b71b7d7a');\n",
              "        const dataTable =\n",
              "          await google.colab.kernel.invokeFunction('convertToInteractive',\n",
              "                                                    [key], {});\n",
              "        if (!dataTable) return;\n",
              "\n",
              "        const docLinkHtml = 'Like what you see? Visit the ' +\n",
              "          '<a target=\"_blank\" href=https://colab.research.google.com/notebooks/data_table.ipynb>data table notebook</a>'\n",
              "          + ' to learn more about interactive tables.';\n",
              "        element.innerHTML = '';\n",
              "        dataTable['output_type'] = 'display_data';\n",
              "        await google.colab.output.renderOutput(dataTable, element);\n",
              "        const docLink = document.createElement('div');\n",
              "        docLink.innerHTML = docLinkHtml;\n",
              "        element.appendChild(docLink);\n",
              "      }\n",
              "    </script>\n",
              "  </div>\n",
              "\n",
              "\n",
              "<div id=\"df-7a373198-f15c-4b10-b7fc-48966602f230\">\n",
              "  <button class=\"colab-df-quickchart\" onclick=\"quickchart('df-7a373198-f15c-4b10-b7fc-48966602f230')\"\n",
              "            title=\"Suggest charts.\"\n",
              "            style=\"display:none;\">\n",
              "\n",
              "<svg xmlns=\"http://www.w3.org/2000/svg\" height=\"24px\"viewBox=\"0 0 24 24\"\n",
              "     width=\"24px\">\n",
              "    <g>\n",
              "        <path d=\"M19 3H5c-1.1 0-2 .9-2 2v14c0 1.1.9 2 2 2h14c1.1 0 2-.9 2-2V5c0-1.1-.9-2-2-2zM9 17H7v-7h2v7zm4 0h-2V7h2v10zm4 0h-2v-4h2v4z\"/>\n",
              "    </g>\n",
              "</svg>\n",
              "  </button>\n",
              "\n",
              "<style>\n",
              "  .colab-df-quickchart {\n",
              "    background-color: #E8F0FE;\n",
              "    border: none;\n",
              "    border-radius: 50%;\n",
              "    cursor: pointer;\n",
              "    display: none;\n",
              "    fill: #1967D2;\n",
              "    height: 32px;\n",
              "    padding: 0 0 0 0;\n",
              "    width: 32px;\n",
              "  }\n",
              "\n",
              "  .colab-df-quickchart:hover {\n",
              "    background-color: #E2EBFA;\n",
              "    box-shadow: 0px 1px 2px rgba(60, 64, 67, 0.3), 0px 1px 3px 1px rgba(60, 64, 67, 0.15);\n",
              "    fill: #174EA6;\n",
              "  }\n",
              "\n",
              "  [theme=dark] .colab-df-quickchart {\n",
              "    background-color: #3B4455;\n",
              "    fill: #D2E3FC;\n",
              "  }\n",
              "\n",
              "  [theme=dark] .colab-df-quickchart:hover {\n",
              "    background-color: #434B5C;\n",
              "    box-shadow: 0px 1px 3px 1px rgba(0, 0, 0, 0.15);\n",
              "    filter: drop-shadow(0px 1px 2px rgba(0, 0, 0, 0.3));\n",
              "    fill: #FFFFFF;\n",
              "  }\n",
              "</style>\n",
              "\n",
              "  <script>\n",
              "    async function quickchart(key) {\n",
              "      const charts = await google.colab.kernel.invokeFunction(\n",
              "          'suggestCharts', [key], {});\n",
              "    }\n",
              "    (() => {\n",
              "      let quickchartButtonEl =\n",
              "        document.querySelector('#df-7a373198-f15c-4b10-b7fc-48966602f230 button');\n",
              "      quickchartButtonEl.style.display =\n",
              "        google.colab.kernel.accessAllowed ? 'block' : 'none';\n",
              "    })();\n",
              "  </script>\n",
              "</div>\n",
              "    </div>\n",
              "  </div>\n"
            ]
          },
          "metadata": {},
          "execution_count": 150
        }
      ]
    },
    {
      "cell_type": "code",
      "source": [
        "preprocess('this is not a good movie')"
      ],
      "metadata": {
        "colab": {
          "base_uri": "https://localhost:8080/",
          "height": 36
        },
        "id": "oAiTKb78kCOm",
        "outputId": "1a4e8105-4c15-497a-f4b7-e3517512e28f"
      },
      "execution_count": null,
      "outputs": [
        {
          "output_type": "execute_result",
          "data": {
            "text/plain": [
              "'good movie'"
            ],
            "application/vnd.google.colaboratory.intrinsic+json": {
              "type": "string"
            }
          },
          "metadata": {},
          "execution_count": 151
        }
      ]
    },
    {
      "cell_type": "code",
      "source": [
        "preprocess('this is a good movie')"
      ],
      "metadata": {
        "colab": {
          "base_uri": "https://localhost:8080/",
          "height": 36
        },
        "id": "1BAfe7x5kPpX",
        "outputId": "69efa083-05cb-4543-d135-599e1795754b"
      },
      "execution_count": null,
      "outputs": [
        {
          "output_type": "execute_result",
          "data": {
            "text/plain": [
              "'good movie'"
            ],
            "application/vnd.google.colaboratory.intrinsic+json": {
              "type": "string"
            }
          },
          "metadata": {},
          "execution_count": 152
        }
      ]
    },
    {
      "cell_type": "code",
      "source": [
        "preprocess('how are you mr.krishna hope your doing well, actually ia, writing this note to address about your curriculum about studies and academic activites as well! do participate on everything you like')"
      ],
      "metadata": {
        "colab": {
          "base_uri": "https://localhost:8080/",
          "height": 53
        },
        "id": "hRHdHCKJkTpS",
        "outputId": "70549030-c910-4fcd-bcd7-2ed60e67c396"
      },
      "execution_count": null,
      "outputs": [
        {
          "output_type": "execute_result",
          "data": {
            "text/plain": [
              "'mr.krishna hope , actually ia , writing note address curriculum studies academic activites ! participate like'"
            ],
            "application/vnd.google.colaboratory.intrinsic+json": {
              "type": "string"
            }
          },
          "metadata": {},
          "execution_count": 153
        }
      ]
    },
    {
      "cell_type": "code",
      "source": [],
      "metadata": {
        "id": "myVV3y6Ukq3L"
      },
      "execution_count": null,
      "outputs": []
    },
    {
      "cell_type": "code",
      "source": [],
      "metadata": {
        "id": "b105yJBNjLZF"
      },
      "execution_count": null,
      "outputs": []
    },
    {
      "cell_type": "markdown",
      "source": [
        "TF-IDF vectorisation"
      ],
      "metadata": {
        "id": "rPfKZ9nRjL1D"
      }
    },
    {
      "cell_type": "code",
      "source": [
        "from sklearn.feature_extraction.text import TfidfVectorizer\n",
        "corpus = [\n",
        "    \"Thor eating pizza, Loki is eating pizza, Ironman ate pizza already\",\n",
        "    \"Apple is announcing new iphone tomorrow\",\n",
        "    \"Tesla is announcing new model-3 tomorrow\",\n",
        "    \"Google is announcing new pixel-6 tomorrow\",\n",
        "    \"Microsoft is announcing new surface tomorrow\",\n",
        "    \"Amazon is announcing new eco-dot tomorrow\",\n",
        "    \"I am eating biryani and you are eating grapes\"\n",
        "]\n",
        "\n",
        "#TF-term frequency defines number of times the word appears in the document and it ranges between 0 and 1\n",
        "#TF= number of times word appeard /total number of words in the document\n",
        "#IDF-represents Inverse document frequency and denotes the log of ratio of total number of documents.\n",
        "#log(total number of documents/number of documents that contains the word)\n"
      ],
      "metadata": {
        "id": "T91sAycvjPrK"
      },
      "execution_count": null,
      "outputs": []
    },
    {
      "cell_type": "code",
      "source": [
        "v=TfidfVectorizer()"
      ],
      "metadata": {
        "id": "-hDz1sD4kDPh"
      },
      "execution_count": null,
      "outputs": []
    },
    {
      "cell_type": "code",
      "source": [
        "transform_ouput=v.fit_transform(corpus)"
      ],
      "metadata": {
        "id": "ipCkypTKl6kE"
      },
      "execution_count": null,
      "outputs": []
    },
    {
      "cell_type": "code",
      "source": [
        "print(v.vocabulary_)"
      ],
      "metadata": {
        "colab": {
          "base_uri": "https://localhost:8080/"
        },
        "id": "n1C7Kb8ul_eh",
        "outputId": "45517378-3b71-49dc-c12c-cba5f0a42b88"
      },
      "execution_count": null,
      "outputs": [
        {
          "output_type": "stream",
          "name": "stdout",
          "text": [
            "{'thor': 25, 'eating': 10, 'pizza': 22, 'loki': 17, 'is': 16, 'ironman': 15, 'ate': 7, 'already': 0, 'apple': 5, 'announcing': 4, 'new': 20, 'iphone': 14, 'tomorrow': 26, 'tesla': 24, 'model': 19, 'google': 12, 'pixel': 21, 'microsoft': 18, 'surface': 23, 'amazon': 2, 'eco': 11, 'dot': 9, 'am': 1, 'biryani': 8, 'and': 3, 'you': 27, 'are': 6, 'grapes': 13}\n"
          ]
        }
      ]
    },
    {
      "cell_type": "code",
      "source": [
        "feature_names_all=v.get_feature_names_out()"
      ],
      "metadata": {
        "colab": {
          "base_uri": "https://localhost:8080/"
        },
        "id": "j7BU_KRxmHNT",
        "outputId": "9b3580d6-192e-44d8-8d61-9e77f76301dc"
      },
      "execution_count": null,
      "outputs": [
        {
          "output_type": "execute_result",
          "data": {
            "text/plain": [
              "array(['already', 'am', 'amazon', 'and', 'announcing', 'apple', 'are',\n",
              "       'ate', 'biryani', 'dot', 'eating', 'eco', 'google', 'grapes',\n",
              "       'iphone', 'ironman', 'is', 'loki', 'microsoft', 'model', 'new',\n",
              "       'pixel', 'pizza', 'surface', 'tesla', 'thor', 'tomorrow', 'you'],\n",
              "      dtype=object)"
            ]
          },
          "metadata": {},
          "execution_count": 5
        }
      ]
    },
    {
      "cell_type": "code",
      "source": [
        "feature_names_all=v.get_feature_names_out()\n",
        "for i in feature_names_all:\n",
        "  index=v.vocabulary_.get(i)\n",
        "  idf_score =v.idf_[index]\n",
        "  print(f'{i}:{idf_score}')\n"
      ],
      "metadata": {
        "colab": {
          "base_uri": "https://localhost:8080/"
        },
        "id": "bMbBABrTmNwf",
        "outputId": "1e34cdc4-ed1e-459b-dd36-ff7840a20161"
      },
      "execution_count": null,
      "outputs": [
        {
          "output_type": "stream",
          "name": "stdout",
          "text": [
            "already:2.386294361119891\n",
            "am:2.386294361119891\n",
            "amazon:2.386294361119891\n",
            "and:2.386294361119891\n",
            "announcing:1.2876820724517808\n",
            "apple:2.386294361119891\n",
            "are:2.386294361119891\n",
            "ate:2.386294361119891\n",
            "biryani:2.386294361119891\n",
            "dot:2.386294361119891\n",
            "eating:1.9808292530117262\n",
            "eco:2.386294361119891\n",
            "google:2.386294361119891\n",
            "grapes:2.386294361119891\n",
            "iphone:2.386294361119891\n",
            "ironman:2.386294361119891\n",
            "is:1.1335313926245225\n",
            "loki:2.386294361119891\n",
            "microsoft:2.386294361119891\n",
            "model:2.386294361119891\n",
            "new:1.2876820724517808\n",
            "pixel:2.386294361119891\n",
            "pizza:2.386294361119891\n",
            "surface:2.386294361119891\n",
            "tesla:2.386294361119891\n",
            "thor:2.386294361119891\n",
            "tomorrow:1.2876820724517808\n",
            "you:2.386294361119891\n"
          ]
        }
      ]
    },
    {
      "cell_type": "code",
      "source": [
        "print(v.vocabulary_)"
      ],
      "metadata": {
        "colab": {
          "base_uri": "https://localhost:8080/"
        },
        "id": "vc3WfRkgnpTz",
        "outputId": "d25803af-de88-49e0-f476-e828d0b25d5f"
      },
      "execution_count": null,
      "outputs": [
        {
          "output_type": "stream",
          "name": "stdout",
          "text": [
            "{'thor': 25, 'eating': 10, 'pizza': 22, 'loki': 17, 'is': 16, 'ironman': 15, 'ate': 7, 'already': 0, 'apple': 5, 'announcing': 4, 'new': 20, 'iphone': 14, 'tomorrow': 26, 'tesla': 24, 'model': 19, 'google': 12, 'pixel': 21, 'microsoft': 18, 'surface': 23, 'amazon': 2, 'eco': 11, 'dot': 9, 'am': 1, 'biryani': 8, 'and': 3, 'you': 27, 'are': 6, 'grapes': 13}\n"
          ]
        }
      ]
    },
    {
      "cell_type": "code",
      "source": [
        "#here we used to find idf-score\n",
        "all_feature_names=v.get_feature_names_out()\n",
        "for word in all_feature_names:\n",
        "  index=v.vocabulary_.get(word)\n",
        "  idf_score=v.idf_[index]\n",
        "  print(f'{word} : {idf_score}')"
      ],
      "metadata": {
        "colab": {
          "base_uri": "https://localhost:8080/"
        },
        "id": "QZByVpsdnDrG",
        "outputId": "731f768d-e457-4dde-b97b-8d0b862cbe06"
      },
      "execution_count": null,
      "outputs": [
        {
          "output_type": "stream",
          "name": "stdout",
          "text": [
            "already : 2.386294361119891\n",
            "am : 2.386294361119891\n",
            "amazon : 2.386294361119891\n",
            "and : 2.386294361119891\n",
            "announcing : 1.2876820724517808\n",
            "apple : 2.386294361119891\n",
            "are : 2.386294361119891\n",
            "ate : 2.386294361119891\n",
            "biryani : 2.386294361119891\n",
            "dot : 2.386294361119891\n",
            "eating : 1.9808292530117262\n",
            "eco : 2.386294361119891\n",
            "google : 2.386294361119891\n",
            "grapes : 2.386294361119891\n",
            "iphone : 2.386294361119891\n",
            "ironman : 2.386294361119891\n",
            "is : 1.1335313926245225\n",
            "loki : 2.386294361119891\n",
            "microsoft : 2.386294361119891\n",
            "model : 2.386294361119891\n",
            "new : 1.2876820724517808\n",
            "pixel : 2.386294361119891\n",
            "pizza : 2.386294361119891\n",
            "surface : 2.386294361119891\n",
            "tesla : 2.386294361119891\n",
            "thor : 2.386294361119891\n",
            "tomorrow : 1.2876820724517808\n",
            "you : 2.386294361119891\n"
          ]
        }
      ]
    },
    {
      "cell_type": "code",
      "source": [
        "corpus[:2]"
      ],
      "metadata": {
        "colab": {
          "base_uri": "https://localhost:8080/"
        },
        "id": "NdCXjmCgnV8L",
        "outputId": "8f34dafe-219d-4e5f-895a-8bd368ad72fb"
      },
      "execution_count": null,
      "outputs": [
        {
          "output_type": "execute_result",
          "data": {
            "text/plain": [
              "['Thor eating pizza, Loki is eating pizza, Ironman ate pizza already',\n",
              " 'Apple is announcing new iphone tomorrow']"
            ]
          },
          "metadata": {},
          "execution_count": 15
        }
      ]
    },
    {
      "cell_type": "code",
      "source": [
        "transform_output.toarray()[:2]"
      ],
      "metadata": {
        "colab": {
          "base_uri": "https://localhost:8080/"
        },
        "id": "eaj3t26Hq67D",
        "outputId": "5fbede61-3466-4fb4-c95a-21a28d9aebf5"
      },
      "execution_count": null,
      "outputs": [
        {
          "output_type": "execute_result",
          "data": {
            "text/plain": [
              "array([[0.24266547, 0.        , 0.        , 0.        , 0.        ,\n",
              "        0.        , 0.        , 0.24266547, 0.        , 0.        ,\n",
              "        0.40286636, 0.        , 0.        , 0.        , 0.        ,\n",
              "        0.24266547, 0.11527033, 0.24266547, 0.        , 0.        ,\n",
              "        0.        , 0.        , 0.72799642, 0.        , 0.        ,\n",
              "        0.24266547, 0.        , 0.        ],\n",
              "       [0.        , 0.        , 0.        , 0.        , 0.30652086,\n",
              "        0.5680354 , 0.        , 0.        , 0.        , 0.        ,\n",
              "        0.        , 0.        , 0.        , 0.        , 0.5680354 ,\n",
              "        0.        , 0.26982671, 0.        , 0.        , 0.        ,\n",
              "        0.30652086, 0.        , 0.        , 0.        , 0.        ,\n",
              "        0.        , 0.30652086, 0.        ]])"
            ]
          },
          "metadata": {},
          "execution_count": 19
        }
      ]
    },
    {
      "cell_type": "code",
      "source": [],
      "metadata": {
        "id": "zBnoDn2wsyYk"
      },
      "execution_count": null,
      "outputs": []
    },
    {
      "cell_type": "code",
      "source": [],
      "metadata": {
        "id": "TeCQ-Pwmkhbo"
      },
      "execution_count": null,
      "outputs": []
    },
    {
      "cell_type": "markdown",
      "source": [
        "fake news classification using word vector"
      ],
      "metadata": {
        "id": "6NlRyRXPkoMr"
      }
    },
    {
      "cell_type": "code",
      "source": [
        "import pandas as pd\n",
        "d=pd.read_csv('/content/Fake_Real_Data.csv',error_bad_lines=False,engine='python')\n",
        "df=pd.DataFrame(d)\n",
        "df"
      ],
      "metadata": {
        "colab": {
          "base_uri": "https://localhost:8080/",
          "height": 510
        },
        "id": "XElwfe85khf_",
        "outputId": "d08bd829-6f02-4602-e184-01ce61cb9b8e"
      },
      "execution_count": null,
      "outputs": [
        {
          "output_type": "stream",
          "name": "stderr",
          "text": [
            "<ipython-input-9-629949838685>:2: FutureWarning: The error_bad_lines argument has been deprecated and will be removed in a future version. Use on_bad_lines in the future.\n",
            "\n",
            "\n",
            "  d=pd.read_csv('/content/Fake_Real_Data.csv',error_bad_lines=False,engine='python')\n",
            "Skipping line 1604: unexpected end of data\n"
          ]
        },
        {
          "output_type": "execute_result",
          "data": {
            "text/plain": [
              "                                                   Text label\n",
              "0      Top Trump Surrogate BRUTALLY Stabs Him In The...  Fake\n",
              "1     U.S. conservative leader optimistic of common ...  Real\n",
              "2     Trump proposes U.S. tax overhaul, stirs concer...  Real\n",
              "3      Court Forces Ohio To Allow Millions Of Illega...  Fake\n",
              "4     Democrats say Trump agrees to work on immigrat...  Real\n",
              "...                                                 ...   ...\n",
              "1597  Exclusive: Contenders emerge for No.2 Fed job,...  Real\n",
              "1598  Senate repeals Labor Dept. municipal retiremen...  Real\n",
              "1599   The Polls From Trump’s Horrific Week Have Bee...  Fake\n",
              "1600  Embattled Alabama Republican Senate candidate ...  Real\n",
              "1601  Sessions refuses to discuss conversations with...  Real\n",
              "\n",
              "[1602 rows x 2 columns]"
            ],
            "text/html": [
              "\n",
              "  <div id=\"df-da7a5661-5b57-4050-889e-9ae6ce094cb2\" class=\"colab-df-container\">\n",
              "    <div>\n",
              "<style scoped>\n",
              "    .dataframe tbody tr th:only-of-type {\n",
              "        vertical-align: middle;\n",
              "    }\n",
              "\n",
              "    .dataframe tbody tr th {\n",
              "        vertical-align: top;\n",
              "    }\n",
              "\n",
              "    .dataframe thead th {\n",
              "        text-align: right;\n",
              "    }\n",
              "</style>\n",
              "<table border=\"1\" class=\"dataframe\">\n",
              "  <thead>\n",
              "    <tr style=\"text-align: right;\">\n",
              "      <th></th>\n",
              "      <th>Text</th>\n",
              "      <th>label</th>\n",
              "    </tr>\n",
              "  </thead>\n",
              "  <tbody>\n",
              "    <tr>\n",
              "      <th>0</th>\n",
              "      <td>Top Trump Surrogate BRUTALLY Stabs Him In The...</td>\n",
              "      <td>Fake</td>\n",
              "    </tr>\n",
              "    <tr>\n",
              "      <th>1</th>\n",
              "      <td>U.S. conservative leader optimistic of common ...</td>\n",
              "      <td>Real</td>\n",
              "    </tr>\n",
              "    <tr>\n",
              "      <th>2</th>\n",
              "      <td>Trump proposes U.S. tax overhaul, stirs concer...</td>\n",
              "      <td>Real</td>\n",
              "    </tr>\n",
              "    <tr>\n",
              "      <th>3</th>\n",
              "      <td>Court Forces Ohio To Allow Millions Of Illega...</td>\n",
              "      <td>Fake</td>\n",
              "    </tr>\n",
              "    <tr>\n",
              "      <th>4</th>\n",
              "      <td>Democrats say Trump agrees to work on immigrat...</td>\n",
              "      <td>Real</td>\n",
              "    </tr>\n",
              "    <tr>\n",
              "      <th>...</th>\n",
              "      <td>...</td>\n",
              "      <td>...</td>\n",
              "    </tr>\n",
              "    <tr>\n",
              "      <th>1597</th>\n",
              "      <td>Exclusive: Contenders emerge for No.2 Fed job,...</td>\n",
              "      <td>Real</td>\n",
              "    </tr>\n",
              "    <tr>\n",
              "      <th>1598</th>\n",
              "      <td>Senate repeals Labor Dept. municipal retiremen...</td>\n",
              "      <td>Real</td>\n",
              "    </tr>\n",
              "    <tr>\n",
              "      <th>1599</th>\n",
              "      <td>The Polls From Trump’s Horrific Week Have Bee...</td>\n",
              "      <td>Fake</td>\n",
              "    </tr>\n",
              "    <tr>\n",
              "      <th>1600</th>\n",
              "      <td>Embattled Alabama Republican Senate candidate ...</td>\n",
              "      <td>Real</td>\n",
              "    </tr>\n",
              "    <tr>\n",
              "      <th>1601</th>\n",
              "      <td>Sessions refuses to discuss conversations with...</td>\n",
              "      <td>Real</td>\n",
              "    </tr>\n",
              "  </tbody>\n",
              "</table>\n",
              "<p>1602 rows × 2 columns</p>\n",
              "</div>\n",
              "    <div class=\"colab-df-buttons\">\n",
              "\n",
              "  <div class=\"colab-df-container\">\n",
              "    <button class=\"colab-df-convert\" onclick=\"convertToInteractive('df-da7a5661-5b57-4050-889e-9ae6ce094cb2')\"\n",
              "            title=\"Convert this dataframe to an interactive table.\"\n",
              "            style=\"display:none;\">\n",
              "\n",
              "  <svg xmlns=\"http://www.w3.org/2000/svg\" height=\"24px\" viewBox=\"0 -960 960 960\">\n",
              "    <path d=\"M120-120v-720h720v720H120Zm60-500h600v-160H180v160Zm220 220h160v-160H400v160Zm0 220h160v-160H400v160ZM180-400h160v-160H180v160Zm440 0h160v-160H620v160ZM180-180h160v-160H180v160Zm440 0h160v-160H620v160Z\"/>\n",
              "  </svg>\n",
              "    </button>\n",
              "\n",
              "  <style>\n",
              "    .colab-df-container {\n",
              "      display:flex;\n",
              "      gap: 12px;\n",
              "    }\n",
              "\n",
              "    .colab-df-convert {\n",
              "      background-color: #E8F0FE;\n",
              "      border: none;\n",
              "      border-radius: 50%;\n",
              "      cursor: pointer;\n",
              "      display: none;\n",
              "      fill: #1967D2;\n",
              "      height: 32px;\n",
              "      padding: 0 0 0 0;\n",
              "      width: 32px;\n",
              "    }\n",
              "\n",
              "    .colab-df-convert:hover {\n",
              "      background-color: #E2EBFA;\n",
              "      box-shadow: 0px 1px 2px rgba(60, 64, 67, 0.3), 0px 1px 3px 1px rgba(60, 64, 67, 0.15);\n",
              "      fill: #174EA6;\n",
              "    }\n",
              "\n",
              "    .colab-df-buttons div {\n",
              "      margin-bottom: 4px;\n",
              "    }\n",
              "\n",
              "    [theme=dark] .colab-df-convert {\n",
              "      background-color: #3B4455;\n",
              "      fill: #D2E3FC;\n",
              "    }\n",
              "\n",
              "    [theme=dark] .colab-df-convert:hover {\n",
              "      background-color: #434B5C;\n",
              "      box-shadow: 0px 1px 3px 1px rgba(0, 0, 0, 0.15);\n",
              "      filter: drop-shadow(0px 1px 2px rgba(0, 0, 0, 0.3));\n",
              "      fill: #FFFFFF;\n",
              "    }\n",
              "  </style>\n",
              "\n",
              "    <script>\n",
              "      const buttonEl =\n",
              "        document.querySelector('#df-da7a5661-5b57-4050-889e-9ae6ce094cb2 button.colab-df-convert');\n",
              "      buttonEl.style.display =\n",
              "        google.colab.kernel.accessAllowed ? 'block' : 'none';\n",
              "\n",
              "      async function convertToInteractive(key) {\n",
              "        const element = document.querySelector('#df-da7a5661-5b57-4050-889e-9ae6ce094cb2');\n",
              "        const dataTable =\n",
              "          await google.colab.kernel.invokeFunction('convertToInteractive',\n",
              "                                                    [key], {});\n",
              "        if (!dataTable) return;\n",
              "\n",
              "        const docLinkHtml = 'Like what you see? Visit the ' +\n",
              "          '<a target=\"_blank\" href=https://colab.research.google.com/notebooks/data_table.ipynb>data table notebook</a>'\n",
              "          + ' to learn more about interactive tables.';\n",
              "        element.innerHTML = '';\n",
              "        dataTable['output_type'] = 'display_data';\n",
              "        await google.colab.output.renderOutput(dataTable, element);\n",
              "        const docLink = document.createElement('div');\n",
              "        docLink.innerHTML = docLinkHtml;\n",
              "        element.appendChild(docLink);\n",
              "      }\n",
              "    </script>\n",
              "  </div>\n",
              "\n",
              "\n",
              "<div id=\"df-c73d2307-a333-4740-873e-6334fe7aa144\">\n",
              "  <button class=\"colab-df-quickchart\" onclick=\"quickchart('df-c73d2307-a333-4740-873e-6334fe7aa144')\"\n",
              "            title=\"Suggest charts.\"\n",
              "            style=\"display:none;\">\n",
              "\n",
              "<svg xmlns=\"http://www.w3.org/2000/svg\" height=\"24px\"viewBox=\"0 0 24 24\"\n",
              "     width=\"24px\">\n",
              "    <g>\n",
              "        <path d=\"M19 3H5c-1.1 0-2 .9-2 2v14c0 1.1.9 2 2 2h14c1.1 0 2-.9 2-2V5c0-1.1-.9-2-2-2zM9 17H7v-7h2v7zm4 0h-2V7h2v10zm4 0h-2v-4h2v4z\"/>\n",
              "    </g>\n",
              "</svg>\n",
              "  </button>\n",
              "\n",
              "<style>\n",
              "  .colab-df-quickchart {\n",
              "    background-color: #E8F0FE;\n",
              "    border: none;\n",
              "    border-radius: 50%;\n",
              "    cursor: pointer;\n",
              "    display: none;\n",
              "    fill: #1967D2;\n",
              "    height: 32px;\n",
              "    padding: 0 0 0 0;\n",
              "    width: 32px;\n",
              "  }\n",
              "\n",
              "  .colab-df-quickchart:hover {\n",
              "    background-color: #E2EBFA;\n",
              "    box-shadow: 0px 1px 2px rgba(60, 64, 67, 0.3), 0px 1px 3px 1px rgba(60, 64, 67, 0.15);\n",
              "    fill: #174EA6;\n",
              "  }\n",
              "\n",
              "  [theme=dark] .colab-df-quickchart {\n",
              "    background-color: #3B4455;\n",
              "    fill: #D2E3FC;\n",
              "  }\n",
              "\n",
              "  [theme=dark] .colab-df-quickchart:hover {\n",
              "    background-color: #434B5C;\n",
              "    box-shadow: 0px 1px 3px 1px rgba(0, 0, 0, 0.15);\n",
              "    filter: drop-shadow(0px 1px 2px rgba(0, 0, 0, 0.3));\n",
              "    fill: #FFFFFF;\n",
              "  }\n",
              "</style>\n",
              "\n",
              "  <script>\n",
              "    async function quickchart(key) {\n",
              "      const charts = await google.colab.kernel.invokeFunction(\n",
              "          'suggestCharts', [key], {});\n",
              "    }\n",
              "    (() => {\n",
              "      let quickchartButtonEl =\n",
              "        document.querySelector('#df-c73d2307-a333-4740-873e-6334fe7aa144 button');\n",
              "      quickchartButtonEl.style.display =\n",
              "        google.colab.kernel.accessAllowed ? 'block' : 'none';\n",
              "    })();\n",
              "  </script>\n",
              "</div>\n",
              "    </div>\n",
              "  </div>\n"
            ]
          },
          "metadata": {},
          "execution_count": 9
        }
      ]
    },
    {
      "cell_type": "code",
      "source": [
        "!python -m spacy download en_core_web_lg"
      ],
      "metadata": {
        "colab": {
          "base_uri": "https://localhost:8080/"
        },
        "id": "HUHEQ95Bmq6u",
        "outputId": "d2d07f92-a850-42f3-d633-d7aea2d74804"
      },
      "execution_count": null,
      "outputs": [
        {
          "output_type": "stream",
          "name": "stdout",
          "text": [
            "2023-08-20 11:02:34.806844: W tensorflow/compiler/tf2tensorrt/utils/py_utils.cc:38] TF-TRT Warning: Could not find TensorRT\n",
            "Collecting en-core-web-lg==3.6.0\n",
            "  Downloading https://github.com/explosion/spacy-models/releases/download/en_core_web_lg-3.6.0/en_core_web_lg-3.6.0-py3-none-any.whl (587.7 MB)\n",
            "\u001b[2K     \u001b[90m━━━━━━━━━━━━━━━━━━━━━━━━━━━━━━━━━━━━━━━\u001b[0m \u001b[32m587.7/587.7 MB\u001b[0m \u001b[31m2.6 MB/s\u001b[0m eta \u001b[36m0:00:00\u001b[0m\n",
            "\u001b[?25hRequirement already satisfied: spacy<3.7.0,>=3.6.0 in /usr/local/lib/python3.10/dist-packages (from en-core-web-lg==3.6.0) (3.6.1)\n",
            "Requirement already satisfied: spacy-legacy<3.1.0,>=3.0.11 in /usr/local/lib/python3.10/dist-packages (from spacy<3.7.0,>=3.6.0->en-core-web-lg==3.6.0) (3.0.12)\n",
            "Requirement already satisfied: spacy-loggers<2.0.0,>=1.0.0 in /usr/local/lib/python3.10/dist-packages (from spacy<3.7.0,>=3.6.0->en-core-web-lg==3.6.0) (1.0.4)\n",
            "Requirement already satisfied: murmurhash<1.1.0,>=0.28.0 in /usr/local/lib/python3.10/dist-packages (from spacy<3.7.0,>=3.6.0->en-core-web-lg==3.6.0) (1.0.9)\n",
            "Requirement already satisfied: cymem<2.1.0,>=2.0.2 in /usr/local/lib/python3.10/dist-packages (from spacy<3.7.0,>=3.6.0->en-core-web-lg==3.6.0) (2.0.7)\n",
            "Requirement already satisfied: preshed<3.1.0,>=3.0.2 in /usr/local/lib/python3.10/dist-packages (from spacy<3.7.0,>=3.6.0->en-core-web-lg==3.6.0) (3.0.8)\n",
            "Requirement already satisfied: thinc<8.2.0,>=8.1.8 in /usr/local/lib/python3.10/dist-packages (from spacy<3.7.0,>=3.6.0->en-core-web-lg==3.6.0) (8.1.12)\n",
            "Requirement already satisfied: wasabi<1.2.0,>=0.9.1 in /usr/local/lib/python3.10/dist-packages (from spacy<3.7.0,>=3.6.0->en-core-web-lg==3.6.0) (1.1.2)\n",
            "Requirement already satisfied: srsly<3.0.0,>=2.4.3 in /usr/local/lib/python3.10/dist-packages (from spacy<3.7.0,>=3.6.0->en-core-web-lg==3.6.0) (2.4.7)\n",
            "Requirement already satisfied: catalogue<2.1.0,>=2.0.6 in /usr/local/lib/python3.10/dist-packages (from spacy<3.7.0,>=3.6.0->en-core-web-lg==3.6.0) (2.0.9)\n",
            "Requirement already satisfied: typer<0.10.0,>=0.3.0 in /usr/local/lib/python3.10/dist-packages (from spacy<3.7.0,>=3.6.0->en-core-web-lg==3.6.0) (0.9.0)\n",
            "Requirement already satisfied: pathy>=0.10.0 in /usr/local/lib/python3.10/dist-packages (from spacy<3.7.0,>=3.6.0->en-core-web-lg==3.6.0) (0.10.2)\n",
            "Requirement already satisfied: smart-open<7.0.0,>=5.2.1 in /usr/local/lib/python3.10/dist-packages (from spacy<3.7.0,>=3.6.0->en-core-web-lg==3.6.0) (6.3.0)\n",
            "Requirement already satisfied: tqdm<5.0.0,>=4.38.0 in /usr/local/lib/python3.10/dist-packages (from spacy<3.7.0,>=3.6.0->en-core-web-lg==3.6.0) (4.66.1)\n",
            "Requirement already satisfied: numpy>=1.15.0 in /usr/local/lib/python3.10/dist-packages (from spacy<3.7.0,>=3.6.0->en-core-web-lg==3.6.0) (1.23.5)\n",
            "Requirement already satisfied: requests<3.0.0,>=2.13.0 in /usr/local/lib/python3.10/dist-packages (from spacy<3.7.0,>=3.6.0->en-core-web-lg==3.6.0) (2.31.0)\n",
            "Requirement already satisfied: pydantic!=1.8,!=1.8.1,<3.0.0,>=1.7.4 in /usr/local/lib/python3.10/dist-packages (from spacy<3.7.0,>=3.6.0->en-core-web-lg==3.6.0) (2.1.1)\n",
            "Requirement already satisfied: jinja2 in /usr/local/lib/python3.10/dist-packages (from spacy<3.7.0,>=3.6.0->en-core-web-lg==3.6.0) (3.1.2)\n",
            "Requirement already satisfied: setuptools in /usr/local/lib/python3.10/dist-packages (from spacy<3.7.0,>=3.6.0->en-core-web-lg==3.6.0) (67.7.2)\n",
            "Requirement already satisfied: packaging>=20.0 in /usr/local/lib/python3.10/dist-packages (from spacy<3.7.0,>=3.6.0->en-core-web-lg==3.6.0) (23.1)\n",
            "Requirement already satisfied: langcodes<4.0.0,>=3.2.0 in /usr/local/lib/python3.10/dist-packages (from spacy<3.7.0,>=3.6.0->en-core-web-lg==3.6.0) (3.3.0)\n",
            "Requirement already satisfied: annotated-types>=0.4.0 in /usr/local/lib/python3.10/dist-packages (from pydantic!=1.8,!=1.8.1,<3.0.0,>=1.7.4->spacy<3.7.0,>=3.6.0->en-core-web-lg==3.6.0) (0.5.0)\n",
            "Requirement already satisfied: pydantic-core==2.4.0 in /usr/local/lib/python3.10/dist-packages (from pydantic!=1.8,!=1.8.1,<3.0.0,>=1.7.4->spacy<3.7.0,>=3.6.0->en-core-web-lg==3.6.0) (2.4.0)\n",
            "Requirement already satisfied: typing-extensions>=4.6.1 in /usr/local/lib/python3.10/dist-packages (from pydantic!=1.8,!=1.8.1,<3.0.0,>=1.7.4->spacy<3.7.0,>=3.6.0->en-core-web-lg==3.6.0) (4.7.1)\n",
            "Requirement already satisfied: charset-normalizer<4,>=2 in /usr/local/lib/python3.10/dist-packages (from requests<3.0.0,>=2.13.0->spacy<3.7.0,>=3.6.0->en-core-web-lg==3.6.0) (3.2.0)\n",
            "Requirement already satisfied: idna<4,>=2.5 in /usr/local/lib/python3.10/dist-packages (from requests<3.0.0,>=2.13.0->spacy<3.7.0,>=3.6.0->en-core-web-lg==3.6.0) (3.4)\n",
            "Requirement already satisfied: urllib3<3,>=1.21.1 in /usr/local/lib/python3.10/dist-packages (from requests<3.0.0,>=2.13.0->spacy<3.7.0,>=3.6.0->en-core-web-lg==3.6.0) (2.0.4)\n",
            "Requirement already satisfied: certifi>=2017.4.17 in /usr/local/lib/python3.10/dist-packages (from requests<3.0.0,>=2.13.0->spacy<3.7.0,>=3.6.0->en-core-web-lg==3.6.0) (2023.7.22)\n",
            "Requirement already satisfied: blis<0.8.0,>=0.7.8 in /usr/local/lib/python3.10/dist-packages (from thinc<8.2.0,>=8.1.8->spacy<3.7.0,>=3.6.0->en-core-web-lg==3.6.0) (0.7.10)\n",
            "Requirement already satisfied: confection<1.0.0,>=0.0.1 in /usr/local/lib/python3.10/dist-packages (from thinc<8.2.0,>=8.1.8->spacy<3.7.0,>=3.6.0->en-core-web-lg==3.6.0) (0.1.1)\n",
            "Requirement already satisfied: click<9.0.0,>=7.1.1 in /usr/local/lib/python3.10/dist-packages (from typer<0.10.0,>=0.3.0->spacy<3.7.0,>=3.6.0->en-core-web-lg==3.6.0) (8.1.6)\n",
            "Requirement already satisfied: MarkupSafe>=2.0 in /usr/local/lib/python3.10/dist-packages (from jinja2->spacy<3.7.0,>=3.6.0->en-core-web-lg==3.6.0) (2.1.3)\n",
            "Installing collected packages: en-core-web-lg\n",
            "Successfully installed en-core-web-lg-3.6.0\n",
            "\u001b[38;5;2m✔ Download and installation successful\u001b[0m\n",
            "You can now load the package via spacy.load('en_core_web_lg')\n"
          ]
        }
      ]
    },
    {
      "cell_type": "code",
      "source": [
        "import spacy\n",
        "nlp= spacy.load('en_core_web_lg')"
      ],
      "metadata": {
        "id": "9nMrYfRfk8FL"
      },
      "execution_count": null,
      "outputs": []
    },
    {
      "cell_type": "code",
      "source": [
        "\n",
        "df['vector']=df['Text'].apply(lambda x: nlp(x).vector)"
      ],
      "metadata": {
        "id": "TTY9kLEMmkmE"
      },
      "execution_count": null,
      "outputs": []
    },
    {
      "cell_type": "code",
      "source": [
        "df['new_label']=df['label'].apply(lambda x:1 if x=='Real' else 0 )\n"
      ],
      "metadata": {
        "id": "cq-tVXBan9pq"
      },
      "execution_count": null,
      "outputs": []
    },
    {
      "cell_type": "code",
      "source": [
        "from sklearn.model_selection import train_test_split\n",
        "x_train,x_test,y_train,y_test=train_test_split(df.vector.values,df.new_label,test_size=0.2,random_state=85)\n"
      ],
      "metadata": {
        "id": "DKyXaCe2ok5O"
      },
      "execution_count": null,
      "outputs": []
    },
    {
      "cell_type": "code",
      "source": [
        "df"
      ],
      "metadata": {
        "id": "YtBJHGB_o7C8"
      },
      "execution_count": null,
      "outputs": []
    },
    {
      "cell_type": "code",
      "source": [
        "x_train.shape"
      ],
      "metadata": {
        "colab": {
          "base_uri": "https://localhost:8080/"
        },
        "id": "2WEXvNT8o9aP",
        "outputId": "0d3b7b35-1d5c-4bcf-f9b6-2d4b92fc18fd"
      },
      "execution_count": null,
      "outputs": [
        {
          "output_type": "execute_result",
          "data": {
            "text/plain": [
              "(1281,)"
            ]
          },
          "metadata": {},
          "execution_count": 26
        }
      ]
    },
    {
      "cell_type": "code",
      "source": [
        "x_test.shape"
      ],
      "metadata": {
        "colab": {
          "base_uri": "https://localhost:8080/"
        },
        "id": "I3NNMZqypBqx",
        "outputId": "016dac86-4207-46e1-8445-94d250ab3a42"
      },
      "execution_count": null,
      "outputs": [
        {
          "output_type": "execute_result",
          "data": {
            "text/plain": [
              "(321,)"
            ]
          },
          "metadata": {},
          "execution_count": 19
        }
      ]
    },
    {
      "cell_type": "code",
      "source": [
        "x_train"
      ],
      "metadata": {
        "colab": {
          "base_uri": "https://localhost:8080/"
        },
        "id": "OjoP8lZ2pDV-",
        "outputId": "297ab807-3825-4ea4-d982-3f388e8cf7f8"
      },
      "execution_count": null,
      "outputs": [
        {
          "output_type": "execute_result",
          "data": {
            "text/plain": [
              "array([array([-1.5900251e+00,  7.0264083e-01, -1.6299601e+00,  9.4579285e-01,\n",
              "               4.9461398e+00,  7.6340747e-01,  2.6494285e-01,  3.3257935e+00,\n",
              "               3.5600248e-01, -1.6383759e+00,  4.8104830e+00,  1.4573253e+00,\n",
              "              -3.7115545e+00,  4.9384525e-01, -2.6647180e-01,  3.0966327e+00,\n",
              "               9.1145945e-01,  6.8541884e-01, -9.9697107e-01, -1.1602373e+00,\n",
              "               1.4182152e+00, -1.2472373e+00, -6.9461262e-01,  8.1216162e-01,\n",
              "              -1.8843701e-01, -1.4637522e+00, -2.2042208e+00, -1.4873774e-01,\n",
              "              -4.8295197e-01,  6.4816010e-01,  8.1285536e-01,  3.4107229e-01,\n",
              "              -8.0344099e-01, -1.8326967e+00, -2.4339366e+00, -1.2250046e+00,\n",
              "              -7.6542598e-01,  5.6864828e-01,  1.3697401e-01, -8.7994027e-01,\n",
              "               3.2495447e-02, -1.7902823e-01, -6.0174093e-02,  4.2448658e-01,\n",
              "              -1.6786947e+00,  7.4382937e-01,  9.9770486e-01, -1.8989561e+00,\n",
              "              -8.7691927e-01,  2.4352586e+00, -1.7060386e+00,  1.9660536e+00,\n",
              "              -3.5138965e-01, -4.9345102e+00, -2.6354003e-01,  7.6015568e-01,\n",
              "               5.0624147e-02,  1.1072886e+00,  5.8256239e-01,  5.3466183e-01,\n",
              "              -4.1130718e-02, -9.6052104e-01,  5.1016891e-01, -8.4180725e-01,\n",
              "               3.0700016e+00,  1.7349640e+00, -2.3988578e+00, -2.3486056e+00,\n",
              "               7.9767489e-01,  1.6936986e+00, -1.5268870e-01, -7.1713150e-01,\n",
              "              -2.0842991e+00,  2.6508260e-01, -3.9838776e-01,  1.1616222e+00,\n",
              "              -1.7311456e+00,  2.5148532e+00, -3.6554503e+00,  2.6280154e-02,\n",
              "              -3.8628345e+00, -4.8078129e-01,  7.8575176e-01,  1.1836137e+00,\n",
              "               1.6843350e+00,  2.5140184e-01, -2.3595216e+00, -3.6412537e+00,\n",
              "               1.0832725e+00, -1.1864728e+00, -1.0167108e+00, -5.6902647e-01,\n",
              "               1.5972840e+00, -3.0193453e+00,  9.8721099e-01, -4.4343200e-01,\n",
              "               9.4873059e-01, -1.2347269e+00,  7.4814308e-01,  2.0658276e+00,\n",
              "               2.1705496e+00,  1.2455459e+00,  2.1456709e+00,  3.9834042e+00,\n",
              "               1.0164261e-02,  3.3559875e+00,  1.3026520e+00, -2.4513879e+00,\n",
              "              -1.2866287e-01, -4.3629403e+00,  1.1035244e+00,  1.2264204e+00,\n",
              "              -1.5281587e+00,  7.4829197e-01,  1.3324782e+00,  2.2964221e-01,\n",
              "              -9.4500273e-01, -7.6106429e-01, -8.1622720e-01, -1.0205532e+00,\n",
              "              -3.4051105e-02, -3.4733305e+00,  1.4347292e+00,  3.5370180e-01,\n",
              "              -5.5478346e-01, -2.5270319e+00,  1.6032995e+00, -1.5844239e+00,\n",
              "               2.6562986e+00, -2.0645928e+00, -3.3070757e+00, -4.1207382e-01,\n",
              "               3.3932340e+00, -5.8934283e-01, -1.2564805e-01,  5.0498855e-01,\n",
              "              -1.4326906e+00,  1.5128440e-01,  2.4023578e+00, -2.0615835e+00,\n",
              "              -2.3238499e+00, -1.6902165e+00,  2.2174762e-01,  8.9601946e-01,\n",
              "               4.9153382e-01,  1.5006626e+00, -4.1863713e+00, -2.1121915e-01,\n",
              "               1.2703542e+00,  9.3847960e-01, -1.7083657e-01,  2.9383757e+00,\n",
              "              -1.2717257e-01,  1.6605767e+00, -1.0676951e+00,  6.5787095e-01,\n",
              "               1.8764867e+00, -1.0723865e+00, -2.5418878e+00, -1.1431893e+00,\n",
              "              -1.8980551e-01, -2.9568026e+00, -1.5533854e-01,  2.1228230e+00,\n",
              "              -2.2096243e+00, -1.7631544e+00, -3.8273122e+00,  1.5870440e+00,\n",
              "               6.3886094e-01,  3.7875155e-01,  1.0183918e+00, -1.9077201e-01,\n",
              "               1.6300496e+00, -2.0391756e-01,  1.1739540e+00,  5.3121102e-01,\n",
              "               5.1435584e-01, -3.0812687e-01, -2.5033932e+00, -1.4420602e+00,\n",
              "              -1.0418687e+00,  1.1391691e-01,  7.0242155e-01,  1.0589733e+00,\n",
              "              -6.1294395e-01,  1.0160270e+00, -7.9302198e-01,  1.0429522e+00,\n",
              "               1.4985014e+00,  1.5771743e+00, -8.7507889e-02, -1.9269731e+00,\n",
              "               2.0864160e-01, -1.4116882e+00, -2.3903336e-02,  1.0623692e+00,\n",
              "              -3.0690606e+00, -3.7820581e-01, -7.5504087e-02,  1.1748326e+00,\n",
              "              -1.7110978e+00, -1.5305083e+00,  9.2268008e-01, -2.6664610e+00,\n",
              "               3.5892158e+00,  6.9177932e-01, -3.5723097e+00,  2.1825843e+00,\n",
              "              -4.8321486e-01, -4.3325704e-03,  1.6375439e+00,  5.6162739e-01,\n",
              "              -2.1511023e+00,  1.3714554e+00,  1.2018607e+00,  1.9578614e+00,\n",
              "               8.4899992e-01, -1.8860394e+00,  4.0847579e-01, -4.1384429e-01,\n",
              "              -2.3950303e+00,  6.6500610e-01, -5.5429780e-01,  3.1703636e-02,\n",
              "              -2.5100546e+00, -6.2227947e-01,  4.1390646e-02,  3.0132627e+00,\n",
              "              -1.1650099e-01, -4.7528437e-01,  3.5586684e+00, -2.1880670e+00,\n",
              "              -9.5878571e-01,  1.2852067e+00,  2.4798563e+00,  1.2418247e+00,\n",
              "              -1.3903993e+00,  4.5132473e-01, -5.1766688e-01, -4.6101108e-01,\n",
              "              -3.5715526e-01,  6.5024912e-01,  1.8688725e+00, -4.6922663e-01,\n",
              "              -1.7625066e+00,  2.1676342e+00, -2.2943823e+00,  7.2117329e-02,\n",
              "              -5.7505585e-02,  2.8221905e+00,  1.1121953e+00, -3.5039666e+00,\n",
              "              -4.2759485e+00, -5.4355007e-01,  8.2038569e-01, -2.0474565e+00,\n",
              "               1.8051398e+00, -1.0967277e+00,  7.4274588e-01,  1.1313332e+00,\n",
              "              -7.9665601e-01,  3.8238106e+00,  2.3406067e+00,  1.7149428e+00,\n",
              "               2.0986812e+00, -3.5864300e-01,  2.2764312e-02,  2.6319923e+00,\n",
              "              -3.1263425e+00, -2.1352728e-01, -3.2179472e-01, -8.9695521e-02,\n",
              "               1.1362011e+00, -2.4360614e+00,  1.6924732e+00, -7.3657137e-01,\n",
              "               1.0119774e+00, -1.6459558e+00, -6.7867303e-01,  1.8307545e+00,\n",
              "               1.9325475e+00,  4.5699361e-01, -1.0698192e-01,  7.7155942e-01,\n",
              "               2.2947090e+00, -1.6486779e-01,  8.6913496e-01,  1.3548017e+00,\n",
              "              -4.9504617e-01,  4.4140762e-01,  9.2050940e-01, -5.9519666e-01,\n",
              "              -1.0697128e+00,  4.1274986e-01, -1.2093163e+00,  1.7561536e+00,\n",
              "               9.5687926e-01, -1.4493555e+00, -1.2438276e+00,  7.0433134e-01],\n",
              "             dtype=float32)                                                   ,\n",
              "       array([-1.0108567e+00,  1.4115386e+00, -3.1020939e+00, -4.8000649e-01,\n",
              "               2.3257439e+00,  1.0784434e+00,  3.4610501e-01,  3.6892223e+00,\n",
              "              -1.4001452e+00, -5.6464070e-01,  4.9285150e+00,  1.1353066e+00,\n",
              "              -3.4804950e+00,  1.2576702e+00,  1.4316832e+00,  6.4266962e-01,\n",
              "               1.2688106e+00, -1.7412469e+00, -1.3993169e+00, -1.7194273e+00,\n",
              "               1.0302018e+00,  2.8740354e-02, -9.7541708e-01, -1.8277924e+00,\n",
              "              -5.1462895e-01, -1.5449018e+00, -1.8476542e+00, -8.1670439e-01,\n",
              "              -8.5459644e-01,  1.3890735e+00,  1.3528192e+00, -1.0387925e+00,\n",
              "              -8.4433991e-01, -1.5053625e+00, -1.0718112e+00, -9.2607367e-01,\n",
              "              -2.9549658e-01,  4.0982047e-01,  2.0677898e+00,  1.1027691e+00,\n",
              "               3.6154106e-02,  6.2033266e-02,  1.3247438e-01, -1.1768087e-02,\n",
              "              -1.7909559e+00,  1.8784679e+00,  2.4492608e-01, -3.5146799e+00,\n",
              "              -1.0672624e+00,  2.2028191e+00, -7.8271484e-01,  6.7845547e-01,\n",
              "               9.0720022e-01, -4.5280471e+00, -1.4101554e+00,  6.9813538e-01,\n",
              "               1.6173574e-01,  1.7567614e+00,  9.5372027e-01,  5.1409352e-01,\n",
              "               1.7052019e+00, -5.7521623e-01, -5.4741037e-01, -1.9614677e+00,\n",
              "               1.4993188e+00,  1.2820216e+00, -2.8552847e+00, -3.2101030e+00,\n",
              "               5.4739219e-01,  2.2467859e+00, -5.9410739e-01, -3.2279724e-01,\n",
              "              -1.7160468e+00, -2.4194002e-01,  8.5899822e-02,  9.7708589e-01,\n",
              "              -3.2477648e+00,  1.3179549e+00, -2.0047660e+00, -5.3140950e-01,\n",
              "              -3.3379276e+00, -9.3639292e-02,  1.8821253e+00,  4.9910963e-01,\n",
              "               2.5087814e+00, -2.3512430e-02, -1.3127251e+00, -2.2361746e+00,\n",
              "               1.4263374e+00, -2.3187912e-01, -6.9054854e-01, -1.8335706e-01,\n",
              "               2.1543870e+00, -4.0919962e+00,  4.3348140e-01, -1.4989309e+00,\n",
              "               6.5075016e-01, -1.3861085e+00,  1.2472302e+00,  7.8306925e-01,\n",
              "               2.2175703e+00,  1.5140320e+00,  1.8781124e+00,  1.7627480e+00,\n",
              "              -1.1696992e+00,  2.9809356e+00, -1.1322378e+00, -1.0712575e+00,\n",
              "              -1.2869492e+00, -2.1973944e+00,  4.2323068e-01, -3.5722259e-01,\n",
              "              -6.7135036e-01,  6.3997686e-01,  1.6829199e-01,  1.5263546e+00,\n",
              "              -1.0003104e+00, -6.7121011e-01,  4.8765197e-01, -1.3225329e+00,\n",
              "              -1.8842310e+00, -1.9113731e+00, -1.1564960e+00,  7.0741802e-01,\n",
              "              -6.1840785e-01, -2.3433757e+00,  1.7308167e+00, -1.7993872e+00,\n",
              "               2.0580251e+00, -4.2234933e-01, -2.1095252e+00, -6.7078447e-01,\n",
              "               2.6134098e+00, -7.8177017e-01, -7.5239670e-03,  5.6122410e-01,\n",
              "              -2.1750677e+00, -8.8343275e-01,  3.4163051e+00, -1.8218727e+00,\n",
              "              -1.8864689e+00, -7.7531540e-01,  9.6990907e-01,  1.4446138e+00,\n",
              "              -6.7603654e-01, -2.0556505e-01, -2.5435145e+00,  2.1630323e-01,\n",
              "               7.6242030e-01,  1.8517993e-01, -7.7212179e-01,  2.5060515e+00,\n",
              "              -1.7587201e-03,  1.3159975e+00, -1.7759601e+00,  1.1451895e+00,\n",
              "               3.2400756e+00, -5.0638115e-01, -2.0215540e+00, -1.8114434e+00,\n",
              "              -1.3260801e+00, -2.6604805e+00, -1.0574304e+00,  1.6281446e+00,\n",
              "              -2.2774947e+00, -1.0486897e+00, -3.3527746e+00,  8.5523522e-01,\n",
              "              -1.1162939e+00,  3.7863150e-01,  9.7831643e-01, -3.7518118e-02,\n",
              "               1.6622130e+00,  1.3923477e+00,  2.0681829e+00, -5.8464229e-01,\n",
              "              -2.2740957e-01,  5.9007299e-01, -1.4562868e+00, -1.8700899e+00,\n",
              "              -4.2915326e-01,  2.6440826e-01,  2.4392188e+00, -1.4740300e+00,\n",
              "              -1.4114552e+00,  7.9459465e-01, -1.0943021e+00, -1.8492246e+00,\n",
              "               1.4931084e+00,  2.1573637e+00, -9.2627573e-01, -4.0508248e-02,\n",
              "              -1.1657624e+00, -4.9806711e-01, -4.5037109e-01, -4.7864965e-01,\n",
              "              -2.5767245e+00,  2.6918918e-01, -3.9632612e-01,  1.4456173e+00,\n",
              "              -1.8085786e+00, -3.5053906e-01, -1.2382016e+00, -1.4884632e+00,\n",
              "               6.3260615e-01,  7.8304327e-01, -2.4797277e+00,  3.9402932e-01,\n",
              "               3.8310438e-02, -8.6121994e-01,  2.1622443e+00, -2.0688526e-01,\n",
              "              -7.0454979e-01,  1.2861999e+00, -2.8384009e-01,  2.7190778e+00,\n",
              "               2.7166367e-02, -2.0280421e+00, -4.0978593e-01,  4.9857765e-01,\n",
              "              -2.0316510e+00,  3.7490252e-01,  1.3291374e-01,  1.1414318e+00,\n",
              "              -5.4082096e-01, -1.4515299e+00,  1.4708546e-01,  1.9598360e+00,\n",
              "               2.5285759e+00,  1.2400322e+00, -5.9595168e-02, -2.1995497e+00,\n",
              "              -4.9309057e-01,  6.0160017e-01,  1.3538138e+00,  1.5534931e+00,\n",
              "              -1.2416884e+00,  1.1812893e+00, -8.1701331e-02,  1.3708048e-01,\n",
              "              -1.3297122e+00,  2.8515127e-01,  1.8132274e+00, -2.1177822e-01,\n",
              "              -6.0901469e-01,  5.1053292e-01, -2.2601526e+00,  3.2319716e-01,\n",
              "               1.4970789e+00,  2.0589526e+00, -6.1065501e-01, -1.0359802e+00,\n",
              "              -4.6109300e+00, -1.6324821e-01,  4.5905963e-01, -2.7325535e+00,\n",
              "               1.8838685e+00,  5.3422265e-03, -7.2134554e-01,  9.9514139e-01,\n",
              "               6.5587908e-01,  3.8501830e+00,  2.4012258e+00,  2.1519895e+00,\n",
              "               1.6605479e+00,  1.8094851e-01,  7.9602110e-01,  1.8964986e+00,\n",
              "              -3.8719201e+00, -2.0465454e-01,  1.1061770e+00, -1.1637870e+00,\n",
              "              -4.0437508e-01, -1.3288760e+00, -1.4599110e-01, -2.2561672e+00,\n",
              "               1.6236821e+00, -1.5731331e+00, -1.3190327e+00,  2.1944215e+00,\n",
              "              -1.6151370e-01, -7.7477232e-02,  6.2009406e-01,  1.0348864e+00,\n",
              "               3.1584709e+00, -3.4809589e-01,  4.1237009e-01,  1.8496529e+00,\n",
              "              -2.2959936e+00, -1.1035093e-01,  1.2427915e+00, -8.2506371e-01,\n",
              "               9.7163910e-01, -1.3836734e+00, -1.4437308e+00,  4.4760576e-01,\n",
              "               9.2284781e-01,  1.4964852e-01, -3.3547516e+00,  1.2625562e+00],\n",
              "             dtype=float32)                                                   ,\n",
              "       array([-1.4168184e+00,  5.7172906e-01, -1.4777199e+00, -1.9557503e-01,\n",
              "               2.3316002e+00,  3.6678135e-01,  2.4535649e-01,  2.0647709e+00,\n",
              "              -5.1576751e-01, -7.2647589e-01,  3.8267939e+00,  5.6750989e-01,\n",
              "              -1.7370664e+00,  9.6031129e-01,  4.1202870e-01,  8.5485232e-01,\n",
              "               3.8504204e-01, -2.8551292e-01, -1.4013902e+00, -2.0522380e+00,\n",
              "               7.0656860e-01, -6.6554129e-01, -8.3779663e-01,  8.9113377e-02,\n",
              "              -7.5859737e-01, -9.5796329e-01, -2.0825183e+00, -1.4673485e-01,\n",
              "              -6.0850316e-01,  1.5917864e-01,  6.4854181e-01, -2.8107008e-01,\n",
              "              -8.7318134e-01, -5.2955550e-01, -1.9264749e+00, -1.0593013e+00,\n",
              "              -3.5879618e-01,  1.4004084e-01,  4.5414236e-01,  6.0087997e-01,\n",
              "               5.6426406e-01,  1.9146615e-01, -1.6014606e-01,  3.9796838e-01,\n",
              "              -1.5443107e+00,  9.1641396e-01,  8.3454466e-01, -1.6127796e+00,\n",
              "              -9.3533814e-01,  1.1872575e+00, -6.4407313e-01,  2.9449752e-01,\n",
              "               1.0944140e-01, -3.1222527e+00, -4.7789043e-01,  2.8610334e-01,\n",
              "              -7.9314077e-01,  1.9722201e-01,  2.6775947e-01,  2.4916349e-01,\n",
              "               1.6267508e-02, -1.1071001e+00, -2.7174067e-01, -6.7607814e-01,\n",
              "               2.3973062e+00,  9.7065085e-01, -1.8100178e+00, -2.2268417e+00,\n",
              "               3.3687863e-01,  1.6453201e+00,  4.9278606e-02, -1.3140522e+00,\n",
              "              -1.0717838e+00,  4.7689583e-02, -3.0403337e-01,  1.1814919e+00,\n",
              "              -2.5921867e+00,  1.0432959e+00, -1.7661873e+00,  5.2970052e-01,\n",
              "              -1.9146696e+00, -1.1055187e+00,  2.9836676e-01,  4.9895433e-01,\n",
              "               1.3362577e+00, -9.1943574e-01, -1.0332098e+00, -2.1032703e+00,\n",
              "               8.4155083e-01, -7.6937521e-01, -3.6792549e-01,  2.7226147e-01,\n",
              "               1.4753770e+00, -2.3368518e+00,  4.7125751e-01, -2.5402296e-01,\n",
              "               2.7723217e-01, -9.0612465e-01,  9.1729718e-01,  9.1548234e-01,\n",
              "               2.2108095e+00,  9.9658805e-01,  1.3316520e+00,  1.6229215e+00,\n",
              "              -3.3944607e-01,  2.6052876e+00, -2.8466826e-02, -1.7917875e+00,\n",
              "              -1.6097735e-01, -2.7943306e+00,  1.1244125e+00, -1.1072130e-01,\n",
              "              -8.9055918e-02,  2.6078659e-01, -2.0506410e-01, -1.7558474e-02,\n",
              "              -2.1694733e-01, -7.7724606e-02,  2.2783321e-01, -1.6497872e+00,\n",
              "              -4.1526833e-01, -2.1058710e+00,  5.5017966e-01,  5.9219497e-01,\n",
              "              -3.4800449e-01, -1.9909586e+00,  7.7003288e-01, -1.5929201e+00,\n",
              "               1.8608617e+00, -5.0486141e-01, -1.5078149e+00, -5.2797788e-01,\n",
              "               2.2626376e+00, -3.2288778e-01,  4.7135288e-01,  2.0181033e-01,\n",
              "              -1.5850655e+00,  1.0116185e-01,  1.9796929e+00, -1.6157547e+00,\n",
              "              -1.3841739e+00, -4.6762732e-01,  3.2385260e-01,  1.1858854e+00,\n",
              "               6.6887684e-02,  4.8543677e-01, -2.0557230e+00,  1.5464967e-02,\n",
              "               8.0651075e-01,  2.2015500e-01, -1.0289382e+00,  1.4417378e+00,\n",
              "               3.1992954e-01,  1.0233752e+00, -8.6096388e-01,  5.3522426e-01,\n",
              "               2.1981380e+00,  1.0296590e-01, -1.0470426e+00, -1.0411271e+00,\n",
              "              -2.0950259e-01, -2.0083003e+00, -5.5213892e-01,  1.6154778e+00,\n",
              "              -2.2379150e+00, -1.4752033e+00, -3.2187009e+00,  1.0402845e+00,\n",
              "              -5.4535079e-01,  2.2585496e-01,  6.7875850e-01,  6.5661985e-01,\n",
              "               1.1395741e+00,  3.0156407e-01,  1.5143766e+00,  5.7691818e-01,\n",
              "              -5.7788473e-01, -4.4982910e-01, -1.8247074e+00, -9.0030497e-01,\n",
              "              -3.5075030e-01,  4.3123260e-02,  4.1611242e-01, -4.6396363e-01,\n",
              "              -1.0798635e+00,  1.5891217e+00, -8.1594360e-01, -4.0573674e-01,\n",
              "               8.7510914e-01,  1.6822317e+00,  1.6942374e-02, -1.2475142e+00,\n",
              "              -7.1732426e-01, -3.9744037e-01, -1.4004262e-01,  6.3327384e-01,\n",
              "              -1.8994607e+00, -4.7106585e-01,  1.7896831e-01,  6.8072718e-01,\n",
              "              -1.2166578e+00, -6.9558787e-01, -1.4470968e-01, -1.3390443e+00,\n",
              "               1.0352312e+00,  3.5589293e-01, -1.4776918e+00,  4.6915573e-01,\n",
              "              -3.8697484e-01, -4.7426650e-01,  6.0879129e-01, -7.3706433e-02,\n",
              "              -4.2326847e-01,  1.3629954e+00,  2.4022703e-01,  1.2833396e+00,\n",
              "               2.0807755e-01, -1.7664053e+00,  1.3635701e-01,  1.0646567e-01,\n",
              "              -1.6988215e+00,  4.7563785e-01,  2.3515156e-02,  2.9829556e-01,\n",
              "              -1.1422803e+00, -1.0253899e+00,  3.4659210e-01,  1.6601592e+00,\n",
              "               3.6752543e-01,  7.3981231e-01,  7.3039657e-01, -1.8292629e+00,\n",
              "              -7.4057996e-01,  4.4138405e-01,  1.2562661e+00,  6.0997760e-01,\n",
              "              -5.8775151e-01,  4.9687889e-01, -4.8388591e-01, -2.1465339e-01,\n",
              "              -3.9510381e-01,  3.1219122e-01,  1.2640560e+00, -4.2386523e-01,\n",
              "              -1.6637450e-01,  2.0333683e-01, -1.1326017e+00,  2.5249577e-01,\n",
              "               2.8431702e-01,  1.9100150e+00,  5.0074035e-01, -1.3049128e+00,\n",
              "              -2.8172266e+00, -6.1844879e-01,  4.5562482e-01, -1.2931019e+00,\n",
              "               9.9538273e-01, -8.4168220e-01,  3.8151452e-01,  5.8437389e-01,\n",
              "              -8.4676027e-01,  2.7847309e+00,  2.0003729e+00,  1.6266874e+00,\n",
              "               5.6126976e-01, -1.2027161e-01,  7.9150063e-01,  1.5291630e+00,\n",
              "              -2.6045485e+00, -7.4728876e-02,  2.4804707e-01, -1.6364314e-03,\n",
              "              -5.7815563e-02, -9.3825221e-01,  3.8600779e-01, -4.8587281e-01,\n",
              "               4.4651988e-01, -1.5543728e+00, -6.7279744e-01,  1.3701714e+00,\n",
              "               1.0617619e+00, -2.5754741e-01,  5.4759967e-01,  8.3503860e-01,\n",
              "               1.9418492e+00, -6.6079022e-03,  6.4403731e-01,  1.6469295e+00,\n",
              "              -1.5632067e+00,  8.3217144e-02,  7.4406892e-01, -6.9820684e-01,\n",
              "               7.5756542e-02, -3.7003621e-01, -5.1574463e-01,  6.5329540e-01,\n",
              "               1.4755368e+00, -3.0491012e-01, -1.9501319e+00,  1.5461208e+00],\n",
              "             dtype=float32)                                                   ,\n",
              "       ...,\n",
              "       array([-1.57244611e+00, -1.06229298e-01, -3.86335880e-01,  1.39998126e+00,\n",
              "               5.32055426e+00,  3.62917960e-01,  5.29697299e-01,  2.37903237e+00,\n",
              "               7.10975707e-01, -1.96517777e+00,  5.16730547e+00,  1.09926665e+00,\n",
              "              -3.51028919e+00,  4.21569109e-01, -9.12751555e-02,  3.23201728e+00,\n",
              "               1.52569675e+00,  1.07195222e+00, -1.29535270e+00, -6.11531496e-01,\n",
              "               1.30338180e+00, -6.97302938e-01, -1.22229183e+00,  7.72601664e-01,\n",
              "               4.79458541e-01, -1.22795224e+00, -1.36563385e+00, -1.32881260e+00,\n",
              "              -1.04394808e-01,  4.78520960e-01,  6.87413335e-01, -1.65927798e-01,\n",
              "               5.45544066e-02, -9.31423426e-01, -3.38779235e+00, -1.99578416e+00,\n",
              "              -1.46238282e-01,  1.11667562e+00, -2.54824728e-01,  6.07631030e-03,\n",
              "               6.00779295e-01, -7.12204874e-01, -6.42185211e-02,  6.76747799e-01,\n",
              "              -1.40476966e+00,  3.42476189e-01,  3.82535011e-02, -1.01211202e+00,\n",
              "              -9.43726778e-01,  8.60875189e-01, -2.08858871e+00,  2.05705047e+00,\n",
              "               3.09827477e-01, -4.35124111e+00,  1.79411948e-01,  1.36791968e+00,\n",
              "              -2.91199356e-01,  3.29846323e-01,  1.59172431e-01, -1.46512330e-01,\n",
              "               1.17638063e+00, -1.36611462e+00, -1.68549672e-01, -1.62081867e-01,\n",
              "               2.83966470e+00,  1.16897166e+00, -1.73107183e+00, -3.45057368e+00,\n",
              "               1.28419316e+00,  1.85547340e+00, -4.14369889e-02,  3.85197043e-01,\n",
              "              -1.89858115e+00,  2.16222852e-01, -7.95575798e-01,  9.15516734e-01,\n",
              "              -1.64524221e+00,  2.98862076e+00, -3.05207562e+00,  5.15662134e-01,\n",
              "              -3.43715000e+00, -4.31871533e-01, -3.46257836e-01,  2.00795293e+00,\n",
              "               1.77822661e+00,  1.89378411e-01, -2.35888553e+00, -3.98554063e+00,\n",
              "               1.07919455e+00, -1.38308370e+00, -9.05054271e-01, -7.25993276e-01,\n",
              "               2.02198315e+00, -2.22399974e+00,  7.29828596e-01,  3.59270692e-01,\n",
              "               6.26794100e-01,  1.42233774e-01,  1.13981264e-03,  2.11434603e+00,\n",
              "               1.89631498e+00,  6.22775912e-01,  2.51124978e+00,  3.94774604e+00,\n",
              "              -3.56904827e-02,  2.99674344e+00,  2.10703015e+00, -2.36544418e+00,\n",
              "               5.32652259e-01, -2.79771256e+00,  1.52311778e+00,  1.75636673e+00,\n",
              "              -2.84734368e+00,  9.32878196e-01,  1.00366735e+00,  5.23231268e-01,\n",
              "              -1.28452480e-01, -7.05137730e-01, -1.77622628e+00, -4.78266269e-01,\n",
              "               1.59700140e-01, -3.68203926e+00,  2.89313293e+00,  8.93535495e-01,\n",
              "              -9.97677684e-01, -2.91228318e+00,  1.39036953e+00, -2.39949536e+00,\n",
              "               2.83083630e+00, -1.76958585e+00, -3.06730008e+00,  9.11843553e-02,\n",
              "               3.72900987e+00, -4.37240779e-01, -5.31611778e-02,  9.70828891e-01,\n",
              "              -1.42933762e+00, -1.66830555e-01,  9.24351990e-01, -1.66817689e+00,\n",
              "              -1.75764537e+00, -1.36939263e+00, -1.56045899e-01,  1.36283875e+00,\n",
              "               1.75713646e+00,  1.74663711e+00, -3.76885629e+00,  5.49856842e-01,\n",
              "               1.02734995e+00,  8.61044586e-01,  1.73861593e-01,  2.79767942e+00,\n",
              "              -7.22106397e-01,  1.27858007e+00, -1.46071851e+00,  1.19954836e+00,\n",
              "               1.72234535e+00, -1.71951532e+00, -1.93373358e+00, -5.73076963e-01,\n",
              "               5.46489716e-01, -1.38362122e+00,  4.52070534e-01,  2.36803722e+00,\n",
              "              -2.17263913e+00, -2.40707374e+00, -2.96056652e+00,  1.27543175e+00,\n",
              "               9.36243355e-01, -3.79096456e-02,  8.52280498e-01, -6.59987092e-01,\n",
              "               1.59465802e+00, -6.74049497e-01,  3.90943617e-01,  4.55157518e-01,\n",
              "               9.48950350e-01, -1.62050679e-01, -2.88928652e+00, -6.69532359e-01,\n",
              "              -1.29295790e+00,  3.41703206e-01,  6.30967140e-01, -6.86578974e-02,\n",
              "               2.85075456e-01,  7.59740233e-01, -1.16312015e+00,  1.25237751e+00,\n",
              "               1.43750000e+00,  4.39665258e-01,  9.50513661e-01, -1.76479077e+00,\n",
              "               4.43186820e-01, -1.27228761e+00,  8.61391366e-01,  1.67988825e+00,\n",
              "              -3.06137776e+00, -3.48827779e-01, -2.25756407e-01, -2.96362191e-01,\n",
              "              -6.01689935e-01, -6.71959281e-01,  2.99303681e-01, -2.32217193e+00,\n",
              "               3.37749767e+00,  1.00843680e+00, -3.69611740e+00,  2.19320607e+00,\n",
              "              -6.96244717e-01, -2.06604332e-01,  9.13710058e-01,  1.40597451e+00,\n",
              "              -2.05734658e+00,  7.26075113e-01,  1.58205986e+00,  1.28672063e+00,\n",
              "               9.69024241e-01, -2.74945283e+00,  2.37348005e-01, -2.14380011e-01,\n",
              "              -1.73851156e+00,  2.10226989e+00, -6.43879354e-01, -6.03999905e-02,\n",
              "              -2.69240665e+00, -4.77346331e-02,  3.66902739e-01,  2.75471282e+00,\n",
              "               1.36432275e-01, -1.29357648e+00,  2.99249911e+00, -2.34068608e+00,\n",
              "              -1.09947395e+00,  2.77652836e+00,  1.65748119e+00,  3.99266213e-01,\n",
              "              -1.22433770e+00,  6.32187009e-01,  6.88735768e-02, -1.55638069e-01,\n",
              "               6.74886525e-01,  3.24993312e-01,  2.32019424e+00, -1.02815948e-01,\n",
              "              -2.06577063e+00,  2.33986402e+00, -2.17084694e+00, -6.93772972e-01,\n",
              "              -5.39546251e-01,  2.79178286e+00,  2.14207673e+00, -4.28734875e+00,\n",
              "              -4.26758003e+00, -8.61005366e-01,  1.01812410e+00, -2.08480096e+00,\n",
              "               1.79883683e+00, -1.02166784e+00,  2.42254123e-01,  8.78307760e-01,\n",
              "              -1.05941665e+00,  3.43897319e+00,  3.66029286e+00,  1.98894703e+00,\n",
              "               1.41787970e+00, -5.05903721e-01, -6.75625145e-01,  2.66747379e+00,\n",
              "              -1.69045734e+00, -5.04228771e-01, -7.50398517e-01,  1.24001348e+00,\n",
              "               1.27239490e+00, -1.65504897e+00,  1.84462094e+00,  3.34041595e-01,\n",
              "               3.76465350e-01, -2.45946836e+00, -5.64461112e-01,  1.08139968e+00,\n",
              "               1.76864827e+00,  1.00831315e-01,  1.08995116e+00,  1.21624374e+00,\n",
              "               1.78094363e+00, -9.05634761e-01,  8.26999426e-01,  1.08093762e+00,\n",
              "               1.54189125e-01,  7.89448917e-01,  4.50083047e-01, -4.19845730e-01,\n",
              "              -9.44012046e-01, -1.51086614e-01, -1.38395929e+00,  1.35468519e+00,\n",
              "               1.06460905e+00, -1.32888579e+00, -5.99838436e-01,  8.87045920e-01],\n",
              "             dtype=float32)                                                       ,\n",
              "       array([-1.37244570e+00,  1.20739293e+00, -2.33812571e+00, -2.00908095e-01,\n",
              "               3.35923648e+00,  6.59897387e-01,  2.77834445e-01,  4.51478529e+00,\n",
              "              -3.86776984e-01, -6.16811514e-01,  5.01865673e+00,  1.13459241e+00,\n",
              "              -2.36184502e+00,  4.87551689e-01,  1.02170384e+00,  2.16442680e+00,\n",
              "               8.54004204e-01, -1.14522541e+00, -1.13888144e+00, -6.32044077e-01,\n",
              "               6.41739368e-01, -8.26063752e-01, -4.78965074e-01, -1.04617703e+00,\n",
              "              -2.51382589e-01, -1.73425019e+00, -2.24853015e+00, -4.05788243e-01,\n",
              "              -3.99448663e-01,  7.30093122e-01,  8.84063661e-01, -1.71344876e-01,\n",
              "              -5.51323533e-01, -1.06153810e+00, -2.44527388e+00, -8.86878014e-01,\n",
              "              -8.12073290e-01,  8.15918922e-01,  8.20346177e-01,  4.19604838e-01,\n",
              "              -2.46783197e-01,  4.11159024e-02,  4.36795682e-01, -3.39677811e-01,\n",
              "              -1.06401372e+00,  8.82708669e-01, -7.16564506e-02, -3.23098993e+00,\n",
              "              -9.36331987e-01,  3.09263992e+00, -9.55934167e-01,  7.28716254e-01,\n",
              "               7.90861011e-01, -3.92750812e+00, -3.14619362e-01,  2.27071434e-01,\n",
              "               3.45895320e-01,  7.51337051e-01,  1.02752674e+00,  3.48398626e-01,\n",
              "               9.43413615e-01, -8.11872125e-01, -1.84248835e-01, -1.57368696e+00,\n",
              "               1.64166331e+00,  9.33771193e-01, -2.37974811e+00, -2.92423916e+00,\n",
              "               6.52134180e-01,  2.07571149e+00, -2.19334245e-01, -5.51548541e-01,\n",
              "              -1.71643233e+00,  3.64581019e-01,  2.89370716e-01,  9.24747527e-01,\n",
              "              -2.94808602e+00,  2.48404002e+00, -2.95915723e+00, -5.05235016e-01,\n",
              "              -3.26536942e+00, -6.01305902e-01,  1.35801780e+00,  8.85352194e-01,\n",
              "               2.10549474e+00,  3.08644235e-01, -1.70983589e+00, -2.42722392e+00,\n",
              "               8.68455112e-01, -1.06000233e+00, -8.77593219e-01, -5.13600349e-01,\n",
              "               2.05142570e+00, -3.64171481e+00,  9.90771294e-01, -1.07926178e+00,\n",
              "               6.64814711e-01, -7.54667163e-01,  1.93776810e+00,  8.60467792e-01,\n",
              "               1.60523796e+00,  1.38536906e+00,  2.28521562e+00,  2.94192100e+00,\n",
              "              -5.81847668e-01,  2.75607753e+00, -3.77092302e-01, -1.66735125e+00,\n",
              "              -5.36339581e-01, -3.02103710e+00,  3.24884579e-02,  6.06383562e-01,\n",
              "              -6.55470312e-01,  1.18751967e+00,  1.03434169e+00,  4.16048735e-01,\n",
              "              -7.60619581e-01, -9.40279588e-02, -6.25573993e-01, -5.12744069e-01,\n",
              "              -9.19512510e-01, -3.25556564e+00,  3.54867250e-01,  1.04994559e+00,\n",
              "              -2.23960832e-01, -2.15617990e+00,  1.49550271e+00, -1.03289855e+00,\n",
              "               2.19069004e+00, -1.26226532e+00, -1.71600068e+00, -5.00696301e-01,\n",
              "               3.51955032e+00, -9.63593543e-01,  1.89568251e-01,  7.93827891e-01,\n",
              "              -1.35783684e+00, -1.77218333e-01,  3.13455367e+00, -1.81153250e+00,\n",
              "              -2.31532431e+00, -8.79051566e-01,  7.47689307e-01,  1.85119617e+00,\n",
              "               7.04120323e-02,  5.37084699e-01, -3.79865050e+00,  5.14230311e-01,\n",
              "               1.47902191e+00,  5.33630967e-01, -1.58907577e-01,  2.03355002e+00,\n",
              "               4.16795164e-02,  1.66668749e+00, -1.78181159e+00,  1.17394495e+00,\n",
              "               2.17225909e+00, -6.54277742e-01, -2.42861032e+00, -9.10578907e-01,\n",
              "              -1.62581980e-01, -3.47240877e+00, -3.91328841e-01,  1.68252754e+00,\n",
              "              -2.62436604e+00, -1.31720603e+00, -3.31444764e+00,  1.35770392e+00,\n",
              "              -1.00976086e+00,  5.25106549e-01,  1.31603491e+00,  5.75396717e-02,\n",
              "               1.93748283e+00,  8.85569334e-01,  2.24539590e+00, -1.09163575e-01,\n",
              "              -8.96873534e-01, -1.76438555e-01, -1.56963027e+00, -1.33511150e+00,\n",
              "              -9.50147808e-01,  6.75826252e-01,  1.93105268e+00, -6.21082587e-03,\n",
              "              -1.24473214e+00,  9.04850841e-01, -1.28612745e+00, -5.85764766e-01,\n",
              "               1.25005889e+00,  2.03672504e+00,  2.23092586e-01, -7.05124319e-01,\n",
              "              -4.59980637e-01, -5.48532784e-01, -2.67610580e-01, -7.11076438e-01,\n",
              "              -2.14022517e+00, -2.11454153e-01, -6.20041303e-02,  1.72300363e+00,\n",
              "              -1.49206781e+00, -1.34619248e+00, -6.90043926e-01, -2.20723581e+00,\n",
              "               1.57917833e+00,  9.85740602e-01, -2.18613863e+00,  4.70653892e-01,\n",
              "              -5.11879027e-01, -6.35940969e-01,  7.26023912e-01,  9.16857362e-01,\n",
              "              -1.02213228e+00,  2.00567818e+00,  4.79697943e-01,  2.10550475e+00,\n",
              "               3.57581109e-01, -1.00349319e+00, -3.15225534e-02, -8.27118009e-02,\n",
              "              -2.34356666e+00,  1.76166743e-03,  3.49817216e-01,  1.17222869e+00,\n",
              "              -1.73844659e+00, -5.36753118e-01,  4.74330008e-01,  2.06100845e+00,\n",
              "               1.36830366e+00,  5.67424893e-01,  1.44288349e+00, -1.93384552e+00,\n",
              "              -1.05376041e+00,  1.61217046e+00,  1.35673881e+00,  1.15053415e+00,\n",
              "              -1.77333784e+00,  3.80761415e-01, -9.67116475e-01, -2.53620654e-01,\n",
              "              -1.09746583e-01,  1.55572903e+00,  2.19057465e+00, -9.97941047e-02,\n",
              "              -5.20645559e-01,  1.03876984e+00, -1.39192867e+00, -2.95802861e-01,\n",
              "               2.93251872e-01,  1.96886492e+00,  2.21901417e-01, -1.84658301e+00,\n",
              "              -4.36328793e+00, -6.06758714e-01,  3.26012492e-01, -1.71689224e+00,\n",
              "               1.56183732e+00,  3.51712465e-01,  1.33223496e-02,  1.30402005e+00,\n",
              "               2.72360921e-01,  3.67855859e+00,  2.63120079e+00,  2.08558321e+00,\n",
              "               1.44834507e+00, -1.55448020e-01,  6.55710995e-01,  2.15522289e+00,\n",
              "              -3.57815886e+00,  4.03636396e-02,  3.88064355e-01, -5.17677844e-01,\n",
              "              -2.00675741e-01, -1.81560254e+00,  4.55755889e-01, -1.00050366e+00,\n",
              "               1.31423819e+00, -9.02399063e-01, -1.25000215e+00,  1.95555365e+00,\n",
              "               4.23930198e-01, -2.12750316e-01,  5.40175438e-01,  1.34531987e+00,\n",
              "               3.54600930e+00, -2.56046891e-01, -3.70987654e-01,  1.68800879e+00,\n",
              "              -1.98524427e+00, -3.49911183e-01,  9.73424911e-01, -1.25607431e+00,\n",
              "               1.13970198e-01, -6.23365223e-01, -1.55857837e+00,  1.18107462e+00,\n",
              "               1.38323426e+00, -7.28597641e-02, -3.03526020e+00,  8.48380148e-01],\n",
              "             dtype=float32)                                                       ,\n",
              "       array([-2.343127  ,  0.43488717, -2.1020808 ,  1.2923086 ,  5.0159135 ,\n",
              "               0.74160856,  0.56007034,  4.424478  ,  0.1597512 , -1.4152114 ,\n",
              "               5.2964597 ,  1.8040792 , -3.956769  ,  0.72416115, -0.13458285,\n",
              "               2.319756  ,  1.0496042 , -0.22151068, -1.9698604 , -2.0341074 ,\n",
              "               1.0560911 , -0.999325  , -1.074374  ,  0.75823325,  0.40735707,\n",
              "              -1.5080286 , -2.1194193 , -0.05513408, -0.6682184 ,  0.75717044,\n",
              "               1.664159  ,  0.23853056, -0.8375072 , -1.940545  , -2.0523753 ,\n",
              "              -1.420422  , -1.0138683 ,  1.1186796 ,  0.9679596 ,  0.3112571 ,\n",
              "               0.26013583,  0.21532345,  0.02413763,  0.44048342, -1.9381535 ,\n",
              "               0.88247156,  1.196838  , -1.8107907 , -0.75485086,  2.2438445 ,\n",
              "              -1.6019182 ,  2.2595906 , -0.20060872, -5.527428  , -0.8280028 ,\n",
              "               1.1312398 , -0.01920125,  0.9695604 ,  1.2504884 , -0.22339842,\n",
              "              -0.5980371 , -0.4410507 ,  0.12097634, -1.1345962 ,  3.5567315 ,\n",
              "               1.607507  , -2.3236358 , -2.1999094 ,  0.40485394,  1.9997069 ,\n",
              "               0.03966988, -1.2654448 , -1.8493226 ,  0.31835455, -0.70558435,\n",
              "               1.341752  , -2.6669025 ,  2.795416  , -3.7381444 ,  0.07305431,\n",
              "              -4.2358236 ,  0.25093687,  0.505111  ,  1.4574821 ,  2.541094  ,\n",
              "               0.28378636, -3.3848941 , -3.1527238 ,  1.2508004 , -0.6859046 ,\n",
              "              -1.1845737 ,  0.0255539 ,  1.4500929 , -2.9596546 ,  0.9320941 ,\n",
              "              -0.26790947,  1.0472369 , -0.9169109 ,  1.010638  ,  2.530818  ,\n",
              "               3.0092027 ,  1.313874  ,  2.6943047 ,  3.014609  , -0.47934416,\n",
              "               3.986072  ,  0.7289502 , -2.6902122 , -0.01126982, -4.177481  ,\n",
              "               1.4900995 ,  0.92523754, -1.4075439 ,  0.6107121 ,  1.3398787 ,\n",
              "               0.84154415, -1.2153156 , -0.5218586 , -0.18432368, -0.5776263 ,\n",
              "              -0.6009221 , -2.9209523 ,  1.1437619 ,  0.4200978 , -0.8251361 ,\n",
              "              -3.390996  ,  1.1124173 , -1.9006478 ,  2.5708995 , -1.1127344 ,\n",
              "              -3.282471  , -0.8302019 ,  3.9603162 , -0.14186844, -0.06267789,\n",
              "               0.928801  , -2.0949357 , -0.22782123,  2.4281156 , -1.8190765 ,\n",
              "              -2.3632839 , -1.7485278 ,  0.06640539,  1.0522538 ,  1.0143919 ,\n",
              "               1.467252  , -3.8753786 , -0.71200913,  1.4209836 ,  1.035293  ,\n",
              "              -0.50050914,  2.4210756 ,  0.2410971 ,  1.4578917 , -1.2872877 ,\n",
              "               0.28088382,  2.479733  , -1.2988101 , -2.6873372 , -1.8142183 ,\n",
              "              -1.0790416 , -2.5322125 ,  0.16519898,  2.4307208 , -2.104195  ,\n",
              "              -1.4091777 , -3.9681458 ,  1.0131196 ,  0.63033426,  0.5063555 ,\n",
              "               0.55881786, -0.08028188,  1.6371342 ,  0.0234493 ,  1.3216437 ,\n",
              "               0.9959531 ,  0.05340259, -0.47447345, -2.6539009 , -1.8423085 ,\n",
              "              -1.1300156 ,  0.1927897 ,  0.825746  ,  0.9949738 , -1.038719  ,\n",
              "               0.9462819 , -1.3067111 ,  0.7736658 ,  1.52477   ,  1.5650154 ,\n",
              "               0.06698047, -1.6725587 , -0.17794228, -1.9710643 , -0.40947482,\n",
              "               1.3044941 , -2.9486842 , -0.82302433, -0.41436836,  1.3766938 ,\n",
              "              -1.3201259 , -1.8513579 ,  0.55740964, -2.666839  ,  4.3652515 ,\n",
              "               1.0193738 , -3.540591  ,  1.8318641 , -0.03743218,  0.21121176,\n",
              "               1.6069496 ,  0.6336622 , -1.5601234 ,  1.2472669 ,  1.3204514 ,\n",
              "               2.4274936 ,  1.4114105 , -2.4979262 , -0.10706577,  0.06447328,\n",
              "              -2.5242147 ,  1.3941587 , -0.57632273, -0.06525795, -2.1933236 ,\n",
              "              -1.4609413 , -0.10611403,  2.9933732 ,  0.6648853 ,  0.37956944,\n",
              "               3.4745176 , -2.3934033 , -0.7781913 ,  1.6091641 ,  2.4352655 ,\n",
              "               1.9854072 , -1.4666606 ,  1.0370446 , -0.34603155, -0.4367773 ,\n",
              "              -1.165313  ,  0.3321864 ,  1.4496706 ,  0.2808898 , -1.3406001 ,\n",
              "               2.6288385 , -2.5543582 ,  0.7610743 ,  0.3263236 ,  2.7846804 ,\n",
              "               1.3960723 , -3.13091   , -4.8208904 , -0.68363935,  1.0183436 ,\n",
              "              -2.5837154 ,  1.9546443 , -0.92106414,  0.6184359 ,  1.3033638 ,\n",
              "              -0.15411136,  5.476997  ,  2.7134557 ,  2.2504046 ,  2.209763  ,\n",
              "              -1.1365371 ,  0.39756078,  2.6019144 , -2.7268546 ,  0.37022573,\n",
              "              -0.15373696,  0.12594825,  1.0021296 , -2.1053197 ,  0.6783449 ,\n",
              "              -0.42358497,  0.9525857 , -2.3935356 , -1.1086733 ,  1.6405712 ,\n",
              "               2.1530476 ,  0.7896837 ,  0.8500243 ,  0.98025787,  2.4781983 ,\n",
              "              -1.0838884 ,  0.42344183,  1.7825378 , -0.8783496 ,  0.05731457,\n",
              "               1.0106004 , -0.2941614 , -1.2028298 ,  0.16669865, -1.2225513 ,\n",
              "               1.8073753 ,  0.97465664, -1.9608403 , -2.0759552 ,  1.0923419 ],\n",
              "             dtype=float32)                                                    ],\n",
              "      dtype=object)"
            ]
          },
          "metadata": {},
          "execution_count": 48
        }
      ]
    },
    {
      "cell_type": "code",
      "source": [
        "import numpy as np\n",
        "x_train_2d=np.stack(x_train)\n",
        "x_test_2d=np.stack(x_test)"
      ],
      "metadata": {
        "id": "R2mv-IZapIVZ"
      },
      "execution_count": null,
      "outputs": []
    },
    {
      "cell_type": "code",
      "source": [
        "type(x_train)"
      ],
      "metadata": {
        "colab": {
          "base_uri": "https://localhost:8080/"
        },
        "id": "sIUKHxReq1XC",
        "outputId": "f30872dc-4e2f-40b1-efa4-e22ecf684cc8"
      },
      "execution_count": null,
      "outputs": [
        {
          "output_type": "execute_result",
          "data": {
            "text/plain": [
              "numpy.ndarray"
            ]
          },
          "metadata": {},
          "execution_count": 50
        }
      ]
    },
    {
      "cell_type": "code",
      "source": [
        "x_train_2d"
      ],
      "metadata": {
        "colab": {
          "base_uri": "https://localhost:8080/"
        },
        "id": "-0ftYrZXpbBA",
        "outputId": "c0cf4ec8-3f4c-45eb-d63c-4cab351b604f"
      },
      "execution_count": null,
      "outputs": [
        {
          "output_type": "execute_result",
          "data": {
            "text/plain": [
              "array([[-1.5900251 ,  0.70264083, -1.6299601 , ..., -1.4493555 ,\n",
              "        -1.2438276 ,  0.70433134],\n",
              "       [-1.0108567 ,  1.4115386 , -3.102094  , ...,  0.14964852,\n",
              "        -3.3547516 ,  1.2625562 ],\n",
              "       [-1.4168184 ,  0.57172906, -1.4777199 , ..., -0.30491012,\n",
              "        -1.9501319 ,  1.5461208 ],\n",
              "       ...,\n",
              "       [-1.5724461 , -0.1062293 , -0.38633588, ..., -1.3288858 ,\n",
              "        -0.59983844,  0.8870459 ],\n",
              "       [-1.3724457 ,  1.2073929 , -2.3381257 , ..., -0.07285976,\n",
              "        -3.0352602 ,  0.84838015],\n",
              "       [-2.343127  ,  0.43488717, -2.1020808 , ..., -1.9608403 ,\n",
              "        -2.0759552 ,  1.0923419 ]], dtype=float32)"
            ]
          },
          "metadata": {},
          "execution_count": 51
        }
      ]
    },
    {
      "cell_type": "code",
      "source": [
        "from sklearn.naive_bayes import MultinomialNB\n",
        "from sklearn.preprocessing import MinMaxScaler\n",
        "from sklearn.neighbors import KNeighborsClassifier\n",
        "mx=MinMaxScaler()\n",
        "#minmaxscaler is used because our data has both positive and negative vector values, to sclae those values we used MinMaxScaler.\n",
        "scaled_train_embed=mx.fit(x_train_2d)\n",
        "scaled_test_embed=mx.fit(x_test_2d)"
      ],
      "metadata": {
        "id": "SI0QBTRrpdwb"
      },
      "execution_count": null,
      "outputs": []
    },
    {
      "cell_type": "code",
      "source": [
        "train_embed=np.array(scaled_train_embed).reshape(-1,1)"
      ],
      "metadata": {
        "id": "xMh_pMC_rNqS"
      },
      "execution_count": null,
      "outputs": []
    },
    {
      "cell_type": "code",
      "source": [
        "model=KNeighborsClassifier()\n",
        "model.fit(x_train_2d,y_train)\n"
      ],
      "metadata": {
        "colab": {
          "base_uri": "https://localhost:8080/",
          "height": 74
        },
        "id": "LL73IlrCqG40",
        "outputId": "bceabb08-4a6e-4d6f-be87-683f198f6246"
      },
      "execution_count": null,
      "outputs": [
        {
          "output_type": "execute_result",
          "data": {
            "text/plain": [
              "KNeighborsClassifier()"
            ],
            "text/html": [
              "<style>#sk-container-id-1 {color: black;background-color: white;}#sk-container-id-1 pre{padding: 0;}#sk-container-id-1 div.sk-toggleable {background-color: white;}#sk-container-id-1 label.sk-toggleable__label {cursor: pointer;display: block;width: 100%;margin-bottom: 0;padding: 0.3em;box-sizing: border-box;text-align: center;}#sk-container-id-1 label.sk-toggleable__label-arrow:before {content: \"▸\";float: left;margin-right: 0.25em;color: #696969;}#sk-container-id-1 label.sk-toggleable__label-arrow:hover:before {color: black;}#sk-container-id-1 div.sk-estimator:hover label.sk-toggleable__label-arrow:before {color: black;}#sk-container-id-1 div.sk-toggleable__content {max-height: 0;max-width: 0;overflow: hidden;text-align: left;background-color: #f0f8ff;}#sk-container-id-1 div.sk-toggleable__content pre {margin: 0.2em;color: black;border-radius: 0.25em;background-color: #f0f8ff;}#sk-container-id-1 input.sk-toggleable__control:checked~div.sk-toggleable__content {max-height: 200px;max-width: 100%;overflow: auto;}#sk-container-id-1 input.sk-toggleable__control:checked~label.sk-toggleable__label-arrow:before {content: \"▾\";}#sk-container-id-1 div.sk-estimator input.sk-toggleable__control:checked~label.sk-toggleable__label {background-color: #d4ebff;}#sk-container-id-1 div.sk-label input.sk-toggleable__control:checked~label.sk-toggleable__label {background-color: #d4ebff;}#sk-container-id-1 input.sk-hidden--visually {border: 0;clip: rect(1px 1px 1px 1px);clip: rect(1px, 1px, 1px, 1px);height: 1px;margin: -1px;overflow: hidden;padding: 0;position: absolute;width: 1px;}#sk-container-id-1 div.sk-estimator {font-family: monospace;background-color: #f0f8ff;border: 1px dotted black;border-radius: 0.25em;box-sizing: border-box;margin-bottom: 0.5em;}#sk-container-id-1 div.sk-estimator:hover {background-color: #d4ebff;}#sk-container-id-1 div.sk-parallel-item::after {content: \"\";width: 100%;border-bottom: 1px solid gray;flex-grow: 1;}#sk-container-id-1 div.sk-label:hover label.sk-toggleable__label {background-color: #d4ebff;}#sk-container-id-1 div.sk-serial::before {content: \"\";position: absolute;border-left: 1px solid gray;box-sizing: border-box;top: 0;bottom: 0;left: 50%;z-index: 0;}#sk-container-id-1 div.sk-serial {display: flex;flex-direction: column;align-items: center;background-color: white;padding-right: 0.2em;padding-left: 0.2em;position: relative;}#sk-container-id-1 div.sk-item {position: relative;z-index: 1;}#sk-container-id-1 div.sk-parallel {display: flex;align-items: stretch;justify-content: center;background-color: white;position: relative;}#sk-container-id-1 div.sk-item::before, #sk-container-id-1 div.sk-parallel-item::before {content: \"\";position: absolute;border-left: 1px solid gray;box-sizing: border-box;top: 0;bottom: 0;left: 50%;z-index: -1;}#sk-container-id-1 div.sk-parallel-item {display: flex;flex-direction: column;z-index: 1;position: relative;background-color: white;}#sk-container-id-1 div.sk-parallel-item:first-child::after {align-self: flex-end;width: 50%;}#sk-container-id-1 div.sk-parallel-item:last-child::after {align-self: flex-start;width: 50%;}#sk-container-id-1 div.sk-parallel-item:only-child::after {width: 0;}#sk-container-id-1 div.sk-dashed-wrapped {border: 1px dashed gray;margin: 0 0.4em 0.5em 0.4em;box-sizing: border-box;padding-bottom: 0.4em;background-color: white;}#sk-container-id-1 div.sk-label label {font-family: monospace;font-weight: bold;display: inline-block;line-height: 1.2em;}#sk-container-id-1 div.sk-label-container {text-align: center;}#sk-container-id-1 div.sk-container {/* jupyter's `normalize.less` sets `[hidden] { display: none; }` but bootstrap.min.css set `[hidden] { display: none !important; }` so we also need the `!important` here to be able to override the default hidden behavior on the sphinx rendered scikit-learn.org. See: https://github.com/scikit-learn/scikit-learn/issues/21755 */display: inline-block !important;position: relative;}#sk-container-id-1 div.sk-text-repr-fallback {display: none;}</style><div id=\"sk-container-id-1\" class=\"sk-top-container\"><div class=\"sk-text-repr-fallback\"><pre>KNeighborsClassifier()</pre><b>In a Jupyter environment, please rerun this cell to show the HTML representation or trust the notebook. <br />On GitHub, the HTML representation is unable to render, please try loading this page with nbviewer.org.</b></div><div class=\"sk-container\" hidden><div class=\"sk-item\"><div class=\"sk-estimator sk-toggleable\"><input class=\"sk-toggleable__control sk-hidden--visually\" id=\"sk-estimator-id-1\" type=\"checkbox\" checked><label for=\"sk-estimator-id-1\" class=\"sk-toggleable__label sk-toggleable__label-arrow\">KNeighborsClassifier</label><div class=\"sk-toggleable__content\"><pre>KNeighborsClassifier()</pre></div></div></div></div></div>"
            ]
          },
          "metadata": {},
          "execution_count": 68
        }
      ]
    },
    {
      "cell_type": "code",
      "source": [
        "y_pred=model.predict(x_test_2d)"
      ],
      "metadata": {
        "id": "OJWQV6fNrGjd"
      },
      "execution_count": null,
      "outputs": []
    },
    {
      "cell_type": "code",
      "source": [
        "from sklearn.metrics import classification_report\n",
        "print(classification_report(y_pred,y_test))"
      ],
      "metadata": {
        "colab": {
          "base_uri": "https://localhost:8080/"
        },
        "id": "vo4MfJ5EzkO4",
        "outputId": "1db07173-08a9-4628-8f85-7682ada3559a"
      },
      "execution_count": null,
      "outputs": [
        {
          "output_type": "stream",
          "name": "stdout",
          "text": [
            "              precision    recall  f1-score   support\n",
            "\n",
            "           0       0.98      0.98      0.98       149\n",
            "           1       0.98      0.98      0.98       172\n",
            "\n",
            "    accuracy                           0.98       321\n",
            "   macro avg       0.98      0.98      0.98       321\n",
            "weighted avg       0.98      0.98      0.98       321\n",
            "\n"
          ]
        }
      ]
    },
    {
      "cell_type": "code",
      "source": [
        "import spacy\n",
        "nlp=spacy.load('en_core_web_sm')"
      ],
      "metadata": {
        "id": "ZeUuRU5dzoje"
      },
      "execution_count": null,
      "outputs": []
    },
    {
      "cell_type": "code",
      "source": [
        "doc=nlp('Dr. strange loves pav bhaji of mumbai. Hulk loves chaat of delhi ')\n",
        "for sentences in doc.sents:\n",
        "  print(sentences)"
      ],
      "metadata": {
        "colab": {
          "base_uri": "https://localhost:8080/"
        },
        "id": "2A3ZXiGVMXn-",
        "outputId": "b089420b-d89d-4669-827d-d5be11b0f2f8"
      },
      "execution_count": null,
      "outputs": [
        {
          "output_type": "stream",
          "name": "stdout",
          "text": [
            "Dr. strange loves pav bhaji of mumbai.\n",
            "Hulk loves chaat of delhi\n"
          ]
        }
      ]
    },
    {
      "cell_type": "code",
      "source": [
        "nltk.download('punkt')"
      ],
      "metadata": {
        "colab": {
          "base_uri": "https://localhost:8080/"
        },
        "id": "Z_qPHVY6NzHX",
        "outputId": "4a57573a-d7bf-4bf7-f0be-dd580f5507d1"
      },
      "execution_count": null,
      "outputs": [
        {
          "output_type": "stream",
          "name": "stderr",
          "text": [
            "[nltk_data] Downloading package punkt to /root/nltk_data...\n",
            "[nltk_data]   Unzipping tokenizers/punkt.zip.\n"
          ]
        },
        {
          "output_type": "execute_result",
          "data": {
            "text/plain": [
              "True"
            ]
          },
          "metadata": {},
          "execution_count": 4
        }
      ]
    },
    {
      "cell_type": "code",
      "source": [
        "import nltk\n",
        "from nltk.tokenize import sent_tokenize\n",
        "sent_tokenize('Dr. strange loves pav bhaji of mumbai. Hulk loves chaat of delhi ')"
      ],
      "metadata": {
        "colab": {
          "base_uri": "https://localhost:8080/"
        },
        "id": "SLErdU9ONagH",
        "outputId": "c3fdc208-be9c-425d-dc24-fe625ac2705a"
      },
      "execution_count": null,
      "outputs": [
        {
          "output_type": "execute_result",
          "data": {
            "text/plain": [
              "['Dr. strange loves pav bhaji of mumbai.', 'Hulk loves chaat of delhi']"
            ]
          },
          "metadata": {},
          "execution_count": 5
        }
      ]
    },
    {
      "cell_type": "code",
      "source": [
        "from nltk.tokenize import word_tokenize"
      ],
      "metadata": {
        "id": "icMDef7ONw3S"
      },
      "execution_count": null,
      "outputs": []
    },
    {
      "cell_type": "code",
      "source": [
        "from spacy.lang.en.stop_words import STOP_WORDS"
      ],
      "metadata": {
        "id": "ptwgHICKN719"
      },
      "execution_count": null,
      "outputs": []
    },
    {
      "cell_type": "code",
      "source": [
        "from spacy.lang.en.stop_words import STOP_WORDS\n",
        "from nltk.corpus import stopwords"
      ],
      "metadata": {
        "id": "tT2r2CpoOA6R"
      },
      "execution_count": null,
      "outputs": []
    },
    {
      "cell_type": "code",
      "source": [
        "word_tokenize('Dr. strange loves pav bhaji of mumbai. Hulk loves chaat of delhi ')"
      ],
      "metadata": {
        "colab": {
          "base_uri": "https://localhost:8080/"
        },
        "id": "1seVDa7uONLN",
        "outputId": "574409ef-dd4f-4ecb-8581-5bfd21fd13ad"
      },
      "execution_count": null,
      "outputs": [
        {
          "output_type": "execute_result",
          "data": {
            "text/plain": [
              "['Dr.',\n",
              " 'strange',\n",
              " 'loves',\n",
              " 'pav',\n",
              " 'bhaji',\n",
              " 'of',\n",
              " 'mumbai',\n",
              " '.',\n",
              " 'Hulk',\n",
              " 'loves',\n",
              " 'chaat',\n",
              " 'of',\n",
              " 'delhi']"
            ]
          },
          "metadata": {},
          "execution_count": 11
        }
      ]
    },
    {
      "cell_type": "code",
      "source": [],
      "metadata": {
        "id": "kmnNcU7-OSCT"
      },
      "execution_count": null,
      "outputs": []
    }
  ],
  "metadata": {
    "colab": {
      "provenance": []
    },
    "kernelspec": {
      "display_name": "Python 3",
      "name": "python3"
    },
    "language_info": {
      "name": "python"
    }
  },
  "nbformat": 4,
  "nbformat_minor": 0
}