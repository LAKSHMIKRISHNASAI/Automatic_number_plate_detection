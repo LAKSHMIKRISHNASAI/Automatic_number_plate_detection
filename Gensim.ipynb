{
  "nbformat": 4,
  "nbformat_minor": 0,
  "metadata": {
    "colab": {
      "provenance": []
    },
    "kernelspec": {
      "name": "python3",
      "display_name": "Python 3"
    },
    "language_info": {
      "name": "python"
    }
  },
  "cells": [
    {
      "cell_type": "code",
      "execution_count": null,
      "metadata": {
        "colab": {
          "base_uri": "https://localhost:8080/"
        },
        "id": "bND2_qUYii16",
        "outputId": "6a7e4d42-5401-4489-a426-13e49afe2d19"
      },
      "outputs": [
        {
          "output_type": "stream",
          "name": "stdout",
          "text": [
            "[==================================================] 100.0% 1662.8/1662.8MB downloaded\n"
          ]
        }
      ],
      "source": [
        "import gensim.downloader as api\n",
        "wv=api.load('word2vec-google-news-300')"
      ]
    },
    {
      "cell_type": "code",
      "source": [
        "wv.similarity(w1='fruit',w2='mango')\n"
      ],
      "metadata": {
        "colab": {
          "base_uri": "https://localhost:8080/"
        },
        "id": "Yi0E8VeVjgvV",
        "outputId": "7eaa3c39-5f75-4185-d856-130c19721d63"
      },
      "execution_count": null,
      "outputs": [
        {
          "output_type": "execute_result",
          "data": {
            "text/plain": [
              "0.6631807"
            ]
          },
          "metadata": {},
          "execution_count": 6
        }
      ]
    },
    {
      "cell_type": "code",
      "source": [
        "wv.similarity(w1='page',w2='pages')"
      ],
      "metadata": {
        "colab": {
          "base_uri": "https://localhost:8080/"
        },
        "id": "0fnY156Ylros",
        "outputId": "73452d3e-3dd0-43ef-d96b-c3e4ae215dc6"
      },
      "execution_count": null,
      "outputs": [
        {
          "output_type": "execute_result",
          "data": {
            "text/plain": [
              "0.754366"
            ]
          },
          "metadata": {},
          "execution_count": 26
        }
      ]
    },
    {
      "cell_type": "code",
      "source": [
        "wv.most_similar('cat')"
      ],
      "metadata": {
        "colab": {
          "base_uri": "https://localhost:8080/"
        },
        "id": "YlxiwfM3l9Xm",
        "outputId": "44243d5b-1f82-4b11-b00b-b81604950cf0"
      },
      "execution_count": null,
      "outputs": [
        {
          "output_type": "execute_result",
          "data": {
            "text/plain": [
              "[('cats', 0.8099379539489746),\n",
              " ('dog', 0.760945737361908),\n",
              " ('kitten', 0.7464985251426697),\n",
              " ('feline', 0.7326234579086304),\n",
              " ('beagle', 0.7150582671165466),\n",
              " ('puppy', 0.7075453400611877),\n",
              " ('pup', 0.6934291124343872),\n",
              " ('pet', 0.6891531348228455),\n",
              " ('felines', 0.6755931973457336),\n",
              " ('chihuahua', 0.6709762215614319)]"
            ]
          },
          "metadata": {},
          "execution_count": 12
        }
      ]
    },
    {
      "cell_type": "code",
      "source": [
        "#king - man + woman= queen\n",
        "#france - paris +berlin =germany\n",
        "#India - Delhi + Washington= US\n",
        "wv.most_similar(positive=['king','woman'], negative=['man'])"
      ],
      "metadata": {
        "colab": {
          "base_uri": "https://localhost:8080/"
        },
        "id": "WQSASdq5mGO7",
        "outputId": "2d41254a-8cde-4097-c715-50eb4281d80d"
      },
      "execution_count": null,
      "outputs": [
        {
          "output_type": "execute_result",
          "data": {
            "text/plain": [
              "[('queen', 0.7118193507194519),\n",
              " ('monarch', 0.6189674139022827),\n",
              " ('princess', 0.5902431011199951),\n",
              " ('crown_prince', 0.5499460697174072),\n",
              " ('prince', 0.5377321839332581),\n",
              " ('kings', 0.5236844420433044),\n",
              " ('Queen_Consort', 0.5235945582389832),\n",
              " ('queens', 0.5181134343147278),\n",
              " ('sultan', 0.5098593831062317),\n",
              " ('monarchy', 0.5087411999702454)]"
            ]
          },
          "metadata": {},
          "execution_count": 13
        }
      ]
    },
    {
      "cell_type": "code",
      "source": [
        "wv.most_similar(positive=['France','berlin'], negative=['paris'])"
      ],
      "metadata": {
        "colab": {
          "base_uri": "https://localhost:8080/"
        },
        "id": "mC7oMpB7nBDW",
        "outputId": "6689214f-42e6-4327-8024-6452705c00c1"
      },
      "execution_count": null,
      "outputs": [
        {
          "output_type": "execute_result",
          "data": {
            "text/plain": [
              "[('Germany', 0.608829915523529),\n",
              " ('Nazi_Occupied', 0.5052816271781921),\n",
              " ('Italy', 0.5008437037467957),\n",
              " ('Germnay', 0.49422886967658997),\n",
              " ('Belgium', 0.4884241223335266),\n",
              " ('extradites_Noriega', 0.48255041241645813),\n",
              " ('Switzerland', 0.48231467604637146),\n",
              " ('PARIS_AFX_Gaz_de', 0.4783669412136078),\n",
              " ('Austria', 0.47794008255004883),\n",
              " ('COLVILLE_SUR_MER', 0.46661776304244995)]"
            ]
          },
          "metadata": {},
          "execution_count": 16
        }
      ]
    },
    {
      "cell_type": "code",
      "source": [
        "wv.most_similar(positive=['tiger','cat'],negative=['cheetah'])"
      ],
      "metadata": {
        "colab": {
          "base_uri": "https://localhost:8080/"
        },
        "id": "fTZD4E5unOjN",
        "outputId": "98f9b5b5-a577-420e-8595-6479f7696f89"
      },
      "execution_count": null,
      "outputs": [
        {
          "output_type": "execute_result",
          "data": {
            "text/plain": [
              "[('cats', 0.5911551713943481),\n",
              " ('dog', 0.5518790483474731),\n",
              " ('beagle', 0.5319520235061646),\n",
              " ('pet', 0.5163514614105225),\n",
              " ('kitten', 0.5161302089691162),\n",
              " ('feline', 0.5152533650398254),\n",
              " ('raccoon', 0.5038168430328369),\n",
              " ('rabbit', 0.4999296963214874),\n",
              " ('stray_cat', 0.4963075816631317),\n",
              " ('poodle', 0.48134708404541016)]"
            ]
          },
          "metadata": {},
          "execution_count": 17
        }
      ]
    },
    {
      "cell_type": "code",
      "source": [
        "#man -boy + woman =\n",
        "wv.most_similar(positive=['man','woman'],negative=['boy'])"
      ],
      "metadata": {
        "colab": {
          "base_uri": "https://localhost:8080/"
        },
        "id": "RuruLz7-ntqJ",
        "outputId": "2ef7a12a-f360-4d1f-e436-d91f7e5f9d5a"
      },
      "execution_count": null,
      "outputs": [
        {
          "output_type": "execute_result",
          "data": {
            "text/plain": [
              "[('lady', 0.5354641675949097),\n",
              " ('person', 0.5296355485916138),\n",
              " ('Woman', 0.513024628162384),\n",
              " ('men', 0.4956326186656952),\n",
              " ('policewoman', 0.4909152090549469),\n",
              " ('WOMAN', 0.4802447557449341),\n",
              " ('motorist', 0.4788091480731964),\n",
              " ('women', 0.47408223152160645),\n",
              " ('teenage_girl', 0.47228237986564636),\n",
              " ('businesswoman', 0.4698699414730072)]"
            ]
          },
          "metadata": {},
          "execution_count": 18
        }
      ]
    },
    {
      "cell_type": "code",
      "source": [
        "wv.doesnt_match(['cat','dog','eagle','apple'])"
      ],
      "metadata": {
        "colab": {
          "base_uri": "https://localhost:8080/",
          "height": 36
        },
        "id": "b9V8NNNroGfe",
        "outputId": "c38da601-09d3-4869-e1f3-816b9d70a31b"
      },
      "execution_count": null,
      "outputs": [
        {
          "output_type": "execute_result",
          "data": {
            "text/plain": [
              "'apple'"
            ],
            "application/vnd.google.colaboratory.intrinsic+json": {
              "type": "string"
            }
          },
          "metadata": {},
          "execution_count": 19
        }
      ]
    },
    {
      "cell_type": "code",
      "source": [
        "wv.doesnt_match(['google','microsoft','amazon','umbrella'])"
      ],
      "metadata": {
        "colab": {
          "base_uri": "https://localhost:8080/",
          "height": 36
        },
        "id": "ESb3bq2dqle7",
        "outputId": "b1f8741b-720f-4cfb-a257-0454f7c17bb4"
      },
      "execution_count": null,
      "outputs": [
        {
          "output_type": "execute_result",
          "data": {
            "text/plain": [
              "'umbrella'"
            ],
            "application/vnd.google.colaboratory.intrinsic+json": {
              "type": "string"
            }
          },
          "metadata": {},
          "execution_count": 20
        }
      ]
    },
    {
      "cell_type": "code",
      "source": [
        "wv.doesnt_match(['son','mom','frog','sister'])"
      ],
      "metadata": {
        "colab": {
          "base_uri": "https://localhost:8080/",
          "height": 36
        },
        "id": "_UT0Lt9rqspX",
        "outputId": "b7baf260-964a-4764-b560-926536519c0b"
      },
      "execution_count": null,
      "outputs": [
        {
          "output_type": "execute_result",
          "data": {
            "text/plain": [
              "'frog'"
            ],
            "application/vnd.google.colaboratory.intrinsic+json": {
              "type": "string"
            }
          },
          "metadata": {},
          "execution_count": 21
        }
      ]
    },
    {
      "cell_type": "code",
      "source": [],
      "metadata": {
        "id": "6U8rD8IOq1AN"
      },
      "execution_count": null,
      "outputs": []
    },
    {
      "cell_type": "code",
      "source": [
        "import pandas as pd\n",
        "d=pd.read_csv('/content/Fake_Real_Data.csv',on_bad_lines='skip',engine='python')\n",
        "df=pd.DataFrame(d)\n",
        "df"
      ],
      "metadata": {
        "colab": {
          "base_uri": "https://localhost:8080/",
          "height": 423
        },
        "id": "fvAJOIhLrHci",
        "outputId": "291a3218-2bc2-4036-b20c-8e79d98c57d1"
      },
      "execution_count": null,
      "outputs": [
        {
          "output_type": "execute_result",
          "data": {
            "text/plain": [
              "                                                   Text label\n",
              "0      Top Trump Surrogate BRUTALLY Stabs Him In The...  Fake\n",
              "1     U.S. conservative leader optimistic of common ...  Real\n",
              "2     Trump proposes U.S. tax overhaul, stirs concer...  Real\n",
              "3      Court Forces Ohio To Allow Millions Of Illega...  Fake\n",
              "4     Democrats say Trump agrees to work on immigrat...  Real\n",
              "...                                                 ...   ...\n",
              "1192   Donald Trump: ‘We Should Just Cancel The Elec...  Fake\n",
              "1193   Richard Branson: Trump Came To Me Broke And V...  Fake\n",
              "1194   Trump BUSTED Inviting Rich Friends To Sit In ...  Fake\n",
              "1195  Illinois governor orders special session to br...  Real\n",
              "1196   Trump Gets WRECKED On Twitter For Promising T...  Fake\n",
              "\n",
              "[1197 rows x 2 columns]"
            ],
            "text/html": [
              "\n",
              "  <div id=\"df-420b43fd-7c0d-4d05-a420-54514fa213aa\" class=\"colab-df-container\">\n",
              "    <div>\n",
              "<style scoped>\n",
              "    .dataframe tbody tr th:only-of-type {\n",
              "        vertical-align: middle;\n",
              "    }\n",
              "\n",
              "    .dataframe tbody tr th {\n",
              "        vertical-align: top;\n",
              "    }\n",
              "\n",
              "    .dataframe thead th {\n",
              "        text-align: right;\n",
              "    }\n",
              "</style>\n",
              "<table border=\"1\" class=\"dataframe\">\n",
              "  <thead>\n",
              "    <tr style=\"text-align: right;\">\n",
              "      <th></th>\n",
              "      <th>Text</th>\n",
              "      <th>label</th>\n",
              "    </tr>\n",
              "  </thead>\n",
              "  <tbody>\n",
              "    <tr>\n",
              "      <th>0</th>\n",
              "      <td>Top Trump Surrogate BRUTALLY Stabs Him In The...</td>\n",
              "      <td>Fake</td>\n",
              "    </tr>\n",
              "    <tr>\n",
              "      <th>1</th>\n",
              "      <td>U.S. conservative leader optimistic of common ...</td>\n",
              "      <td>Real</td>\n",
              "    </tr>\n",
              "    <tr>\n",
              "      <th>2</th>\n",
              "      <td>Trump proposes U.S. tax overhaul, stirs concer...</td>\n",
              "      <td>Real</td>\n",
              "    </tr>\n",
              "    <tr>\n",
              "      <th>3</th>\n",
              "      <td>Court Forces Ohio To Allow Millions Of Illega...</td>\n",
              "      <td>Fake</td>\n",
              "    </tr>\n",
              "    <tr>\n",
              "      <th>4</th>\n",
              "      <td>Democrats say Trump agrees to work on immigrat...</td>\n",
              "      <td>Real</td>\n",
              "    </tr>\n",
              "    <tr>\n",
              "      <th>...</th>\n",
              "      <td>...</td>\n",
              "      <td>...</td>\n",
              "    </tr>\n",
              "    <tr>\n",
              "      <th>1192</th>\n",
              "      <td>Donald Trump: ‘We Should Just Cancel The Elec...</td>\n",
              "      <td>Fake</td>\n",
              "    </tr>\n",
              "    <tr>\n",
              "      <th>1193</th>\n",
              "      <td>Richard Branson: Trump Came To Me Broke And V...</td>\n",
              "      <td>Fake</td>\n",
              "    </tr>\n",
              "    <tr>\n",
              "      <th>1194</th>\n",
              "      <td>Trump BUSTED Inviting Rich Friends To Sit In ...</td>\n",
              "      <td>Fake</td>\n",
              "    </tr>\n",
              "    <tr>\n",
              "      <th>1195</th>\n",
              "      <td>Illinois governor orders special session to br...</td>\n",
              "      <td>Real</td>\n",
              "    </tr>\n",
              "    <tr>\n",
              "      <th>1196</th>\n",
              "      <td>Trump Gets WRECKED On Twitter For Promising T...</td>\n",
              "      <td>Fake</td>\n",
              "    </tr>\n",
              "  </tbody>\n",
              "</table>\n",
              "<p>1197 rows × 2 columns</p>\n",
              "</div>\n",
              "    <div class=\"colab-df-buttons\">\n",
              "\n",
              "  <div class=\"colab-df-container\">\n",
              "    <button class=\"colab-df-convert\" onclick=\"convertToInteractive('df-420b43fd-7c0d-4d05-a420-54514fa213aa')\"\n",
              "            title=\"Convert this dataframe to an interactive table.\"\n",
              "            style=\"display:none;\">\n",
              "\n",
              "  <svg xmlns=\"http://www.w3.org/2000/svg\" height=\"24px\" viewBox=\"0 -960 960 960\">\n",
              "    <path d=\"M120-120v-720h720v720H120Zm60-500h600v-160H180v160Zm220 220h160v-160H400v160Zm0 220h160v-160H400v160ZM180-400h160v-160H180v160Zm440 0h160v-160H620v160ZM180-180h160v-160H180v160Zm440 0h160v-160H620v160Z\"/>\n",
              "  </svg>\n",
              "    </button>\n",
              "\n",
              "  <style>\n",
              "    .colab-df-container {\n",
              "      display:flex;\n",
              "      gap: 12px;\n",
              "    }\n",
              "\n",
              "    .colab-df-convert {\n",
              "      background-color: #E8F0FE;\n",
              "      border: none;\n",
              "      border-radius: 50%;\n",
              "      cursor: pointer;\n",
              "      display: none;\n",
              "      fill: #1967D2;\n",
              "      height: 32px;\n",
              "      padding: 0 0 0 0;\n",
              "      width: 32px;\n",
              "    }\n",
              "\n",
              "    .colab-df-convert:hover {\n",
              "      background-color: #E2EBFA;\n",
              "      box-shadow: 0px 1px 2px rgba(60, 64, 67, 0.3), 0px 1px 3px 1px rgba(60, 64, 67, 0.15);\n",
              "      fill: #174EA6;\n",
              "    }\n",
              "\n",
              "    .colab-df-buttons div {\n",
              "      margin-bottom: 4px;\n",
              "    }\n",
              "\n",
              "    [theme=dark] .colab-df-convert {\n",
              "      background-color: #3B4455;\n",
              "      fill: #D2E3FC;\n",
              "    }\n",
              "\n",
              "    [theme=dark] .colab-df-convert:hover {\n",
              "      background-color: #434B5C;\n",
              "      box-shadow: 0px 1px 3px 1px rgba(0, 0, 0, 0.15);\n",
              "      filter: drop-shadow(0px 1px 2px rgba(0, 0, 0, 0.3));\n",
              "      fill: #FFFFFF;\n",
              "    }\n",
              "  </style>\n",
              "\n",
              "    <script>\n",
              "      const buttonEl =\n",
              "        document.querySelector('#df-420b43fd-7c0d-4d05-a420-54514fa213aa button.colab-df-convert');\n",
              "      buttonEl.style.display =\n",
              "        google.colab.kernel.accessAllowed ? 'block' : 'none';\n",
              "\n",
              "      async function convertToInteractive(key) {\n",
              "        const element = document.querySelector('#df-420b43fd-7c0d-4d05-a420-54514fa213aa');\n",
              "        const dataTable =\n",
              "          await google.colab.kernel.invokeFunction('convertToInteractive',\n",
              "                                                    [key], {});\n",
              "        if (!dataTable) return;\n",
              "\n",
              "        const docLinkHtml = 'Like what you see? Visit the ' +\n",
              "          '<a target=\"_blank\" href=https://colab.research.google.com/notebooks/data_table.ipynb>data table notebook</a>'\n",
              "          + ' to learn more about interactive tables.';\n",
              "        element.innerHTML = '';\n",
              "        dataTable['output_type'] = 'display_data';\n",
              "        await google.colab.output.renderOutput(dataTable, element);\n",
              "        const docLink = document.createElement('div');\n",
              "        docLink.innerHTML = docLinkHtml;\n",
              "        element.appendChild(docLink);\n",
              "      }\n",
              "    </script>\n",
              "  </div>\n",
              "\n",
              "\n",
              "<div id=\"df-61a31a44-0b1f-422b-acd7-f4bcadfd7af6\">\n",
              "  <button class=\"colab-df-quickchart\" onclick=\"quickchart('df-61a31a44-0b1f-422b-acd7-f4bcadfd7af6')\"\n",
              "            title=\"Suggest charts.\"\n",
              "            style=\"display:none;\">\n",
              "\n",
              "<svg xmlns=\"http://www.w3.org/2000/svg\" height=\"24px\"viewBox=\"0 0 24 24\"\n",
              "     width=\"24px\">\n",
              "    <g>\n",
              "        <path d=\"M19 3H5c-1.1 0-2 .9-2 2v14c0 1.1.9 2 2 2h14c1.1 0 2-.9 2-2V5c0-1.1-.9-2-2-2zM9 17H7v-7h2v7zm4 0h-2V7h2v10zm4 0h-2v-4h2v4z\"/>\n",
              "    </g>\n",
              "</svg>\n",
              "  </button>\n",
              "\n",
              "<style>\n",
              "  .colab-df-quickchart {\n",
              "    background-color: #E8F0FE;\n",
              "    border: none;\n",
              "    border-radius: 50%;\n",
              "    cursor: pointer;\n",
              "    display: none;\n",
              "    fill: #1967D2;\n",
              "    height: 32px;\n",
              "    padding: 0 0 0 0;\n",
              "    width: 32px;\n",
              "  }\n",
              "\n",
              "  .colab-df-quickchart:hover {\n",
              "    background-color: #E2EBFA;\n",
              "    box-shadow: 0px 1px 2px rgba(60, 64, 67, 0.3), 0px 1px 3px 1px rgba(60, 64, 67, 0.15);\n",
              "    fill: #174EA6;\n",
              "  }\n",
              "\n",
              "  [theme=dark] .colab-df-quickchart {\n",
              "    background-color: #3B4455;\n",
              "    fill: #D2E3FC;\n",
              "  }\n",
              "\n",
              "  [theme=dark] .colab-df-quickchart:hover {\n",
              "    background-color: #434B5C;\n",
              "    box-shadow: 0px 1px 3px 1px rgba(0, 0, 0, 0.15);\n",
              "    filter: drop-shadow(0px 1px 2px rgba(0, 0, 0, 0.3));\n",
              "    fill: #FFFFFF;\n",
              "  }\n",
              "</style>\n",
              "\n",
              "  <script>\n",
              "    async function quickchart(key) {\n",
              "      const charts = await google.colab.kernel.invokeFunction(\n",
              "          'suggestCharts', [key], {});\n",
              "    }\n",
              "    (() => {\n",
              "      let quickchartButtonEl =\n",
              "        document.querySelector('#df-61a31a44-0b1f-422b-acd7-f4bcadfd7af6 button');\n",
              "      quickchartButtonEl.style.display =\n",
              "        google.colab.kernel.accessAllowed ? 'block' : 'none';\n",
              "    })();\n",
              "  </script>\n",
              "</div>\n",
              "    </div>\n",
              "  </div>\n"
            ]
          },
          "metadata": {},
          "execution_count": 35
        }
      ]
    },
    {
      "cell_type": "code",
      "source": [
        "df['new_label']=df.label.map({\n",
        "    'Fake':0,\n",
        "    'Real':1,\n",
        "})"
      ],
      "metadata": {
        "id": "0Ds3yhf4zOyz"
      },
      "execution_count": null,
      "outputs": []
    },
    {
      "cell_type": "code",
      "source": [
        "df"
      ],
      "metadata": {
        "colab": {
          "base_uri": "https://localhost:8080/",
          "height": 423
        },
        "id": "GeL6Z2y50A2e",
        "outputId": "dd3f51f6-7734-4909-c554-5fadeff331ec"
      },
      "execution_count": null,
      "outputs": [
        {
          "output_type": "execute_result",
          "data": {
            "text/plain": [
              "                                                   Text label  new_label\n",
              "0      Top Trump Surrogate BRUTALLY Stabs Him In The...  Fake          0\n",
              "1     U.S. conservative leader optimistic of common ...  Real          1\n",
              "2     Trump proposes U.S. tax overhaul, stirs concer...  Real          1\n",
              "3      Court Forces Ohio To Allow Millions Of Illega...  Fake          0\n",
              "4     Democrats say Trump agrees to work on immigrat...  Real          1\n",
              "...                                                 ...   ...        ...\n",
              "1192   Donald Trump: ‘We Should Just Cancel The Elec...  Fake          0\n",
              "1193   Richard Branson: Trump Came To Me Broke And V...  Fake          0\n",
              "1194   Trump BUSTED Inviting Rich Friends To Sit In ...  Fake          0\n",
              "1195  Illinois governor orders special session to br...  Real          1\n",
              "1196   Trump Gets WRECKED On Twitter For Promising T...  Fake          0\n",
              "\n",
              "[1197 rows x 3 columns]"
            ],
            "text/html": [
              "\n",
              "  <div id=\"df-2a8d6458-8fae-4192-8324-668f31dc110f\" class=\"colab-df-container\">\n",
              "    <div>\n",
              "<style scoped>\n",
              "    .dataframe tbody tr th:only-of-type {\n",
              "        vertical-align: middle;\n",
              "    }\n",
              "\n",
              "    .dataframe tbody tr th {\n",
              "        vertical-align: top;\n",
              "    }\n",
              "\n",
              "    .dataframe thead th {\n",
              "        text-align: right;\n",
              "    }\n",
              "</style>\n",
              "<table border=\"1\" class=\"dataframe\">\n",
              "  <thead>\n",
              "    <tr style=\"text-align: right;\">\n",
              "      <th></th>\n",
              "      <th>Text</th>\n",
              "      <th>label</th>\n",
              "      <th>new_label</th>\n",
              "    </tr>\n",
              "  </thead>\n",
              "  <tbody>\n",
              "    <tr>\n",
              "      <th>0</th>\n",
              "      <td>Top Trump Surrogate BRUTALLY Stabs Him In The...</td>\n",
              "      <td>Fake</td>\n",
              "      <td>0</td>\n",
              "    </tr>\n",
              "    <tr>\n",
              "      <th>1</th>\n",
              "      <td>U.S. conservative leader optimistic of common ...</td>\n",
              "      <td>Real</td>\n",
              "      <td>1</td>\n",
              "    </tr>\n",
              "    <tr>\n",
              "      <th>2</th>\n",
              "      <td>Trump proposes U.S. tax overhaul, stirs concer...</td>\n",
              "      <td>Real</td>\n",
              "      <td>1</td>\n",
              "    </tr>\n",
              "    <tr>\n",
              "      <th>3</th>\n",
              "      <td>Court Forces Ohio To Allow Millions Of Illega...</td>\n",
              "      <td>Fake</td>\n",
              "      <td>0</td>\n",
              "    </tr>\n",
              "    <tr>\n",
              "      <th>4</th>\n",
              "      <td>Democrats say Trump agrees to work on immigrat...</td>\n",
              "      <td>Real</td>\n",
              "      <td>1</td>\n",
              "    </tr>\n",
              "    <tr>\n",
              "      <th>...</th>\n",
              "      <td>...</td>\n",
              "      <td>...</td>\n",
              "      <td>...</td>\n",
              "    </tr>\n",
              "    <tr>\n",
              "      <th>1192</th>\n",
              "      <td>Donald Trump: ‘We Should Just Cancel The Elec...</td>\n",
              "      <td>Fake</td>\n",
              "      <td>0</td>\n",
              "    </tr>\n",
              "    <tr>\n",
              "      <th>1193</th>\n",
              "      <td>Richard Branson: Trump Came To Me Broke And V...</td>\n",
              "      <td>Fake</td>\n",
              "      <td>0</td>\n",
              "    </tr>\n",
              "    <tr>\n",
              "      <th>1194</th>\n",
              "      <td>Trump BUSTED Inviting Rich Friends To Sit In ...</td>\n",
              "      <td>Fake</td>\n",
              "      <td>0</td>\n",
              "    </tr>\n",
              "    <tr>\n",
              "      <th>1195</th>\n",
              "      <td>Illinois governor orders special session to br...</td>\n",
              "      <td>Real</td>\n",
              "      <td>1</td>\n",
              "    </tr>\n",
              "    <tr>\n",
              "      <th>1196</th>\n",
              "      <td>Trump Gets WRECKED On Twitter For Promising T...</td>\n",
              "      <td>Fake</td>\n",
              "      <td>0</td>\n",
              "    </tr>\n",
              "  </tbody>\n",
              "</table>\n",
              "<p>1197 rows × 3 columns</p>\n",
              "</div>\n",
              "    <div class=\"colab-df-buttons\">\n",
              "\n",
              "  <div class=\"colab-df-container\">\n",
              "    <button class=\"colab-df-convert\" onclick=\"convertToInteractive('df-2a8d6458-8fae-4192-8324-668f31dc110f')\"\n",
              "            title=\"Convert this dataframe to an interactive table.\"\n",
              "            style=\"display:none;\">\n",
              "\n",
              "  <svg xmlns=\"http://www.w3.org/2000/svg\" height=\"24px\" viewBox=\"0 -960 960 960\">\n",
              "    <path d=\"M120-120v-720h720v720H120Zm60-500h600v-160H180v160Zm220 220h160v-160H400v160Zm0 220h160v-160H400v160ZM180-400h160v-160H180v160Zm440 0h160v-160H620v160ZM180-180h160v-160H180v160Zm440 0h160v-160H620v160Z\"/>\n",
              "  </svg>\n",
              "    </button>\n",
              "\n",
              "  <style>\n",
              "    .colab-df-container {\n",
              "      display:flex;\n",
              "      gap: 12px;\n",
              "    }\n",
              "\n",
              "    .colab-df-convert {\n",
              "      background-color: #E8F0FE;\n",
              "      border: none;\n",
              "      border-radius: 50%;\n",
              "      cursor: pointer;\n",
              "      display: none;\n",
              "      fill: #1967D2;\n",
              "      height: 32px;\n",
              "      padding: 0 0 0 0;\n",
              "      width: 32px;\n",
              "    }\n",
              "\n",
              "    .colab-df-convert:hover {\n",
              "      background-color: #E2EBFA;\n",
              "      box-shadow: 0px 1px 2px rgba(60, 64, 67, 0.3), 0px 1px 3px 1px rgba(60, 64, 67, 0.15);\n",
              "      fill: #174EA6;\n",
              "    }\n",
              "\n",
              "    .colab-df-buttons div {\n",
              "      margin-bottom: 4px;\n",
              "    }\n",
              "\n",
              "    [theme=dark] .colab-df-convert {\n",
              "      background-color: #3B4455;\n",
              "      fill: #D2E3FC;\n",
              "    }\n",
              "\n",
              "    [theme=dark] .colab-df-convert:hover {\n",
              "      background-color: #434B5C;\n",
              "      box-shadow: 0px 1px 3px 1px rgba(0, 0, 0, 0.15);\n",
              "      filter: drop-shadow(0px 1px 2px rgba(0, 0, 0, 0.3));\n",
              "      fill: #FFFFFF;\n",
              "    }\n",
              "  </style>\n",
              "\n",
              "    <script>\n",
              "      const buttonEl =\n",
              "        document.querySelector('#df-2a8d6458-8fae-4192-8324-668f31dc110f button.colab-df-convert');\n",
              "      buttonEl.style.display =\n",
              "        google.colab.kernel.accessAllowed ? 'block' : 'none';\n",
              "\n",
              "      async function convertToInteractive(key) {\n",
              "        const element = document.querySelector('#df-2a8d6458-8fae-4192-8324-668f31dc110f');\n",
              "        const dataTable =\n",
              "          await google.colab.kernel.invokeFunction('convertToInteractive',\n",
              "                                                    [key], {});\n",
              "        if (!dataTable) return;\n",
              "\n",
              "        const docLinkHtml = 'Like what you see? Visit the ' +\n",
              "          '<a target=\"_blank\" href=https://colab.research.google.com/notebooks/data_table.ipynb>data table notebook</a>'\n",
              "          + ' to learn more about interactive tables.';\n",
              "        element.innerHTML = '';\n",
              "        dataTable['output_type'] = 'display_data';\n",
              "        await google.colab.output.renderOutput(dataTable, element);\n",
              "        const docLink = document.createElement('div');\n",
              "        docLink.innerHTML = docLinkHtml;\n",
              "        element.appendChild(docLink);\n",
              "      }\n",
              "    </script>\n",
              "  </div>\n",
              "\n",
              "\n",
              "<div id=\"df-91463e95-5f6f-4fa7-a98c-01a85b375f61\">\n",
              "  <button class=\"colab-df-quickchart\" onclick=\"quickchart('df-91463e95-5f6f-4fa7-a98c-01a85b375f61')\"\n",
              "            title=\"Suggest charts.\"\n",
              "            style=\"display:none;\">\n",
              "\n",
              "<svg xmlns=\"http://www.w3.org/2000/svg\" height=\"24px\"viewBox=\"0 0 24 24\"\n",
              "     width=\"24px\">\n",
              "    <g>\n",
              "        <path d=\"M19 3H5c-1.1 0-2 .9-2 2v14c0 1.1.9 2 2 2h14c1.1 0 2-.9 2-2V5c0-1.1-.9-2-2-2zM9 17H7v-7h2v7zm4 0h-2V7h2v10zm4 0h-2v-4h2v4z\"/>\n",
              "    </g>\n",
              "</svg>\n",
              "  </button>\n",
              "\n",
              "<style>\n",
              "  .colab-df-quickchart {\n",
              "    background-color: #E8F0FE;\n",
              "    border: none;\n",
              "    border-radius: 50%;\n",
              "    cursor: pointer;\n",
              "    display: none;\n",
              "    fill: #1967D2;\n",
              "    height: 32px;\n",
              "    padding: 0 0 0 0;\n",
              "    width: 32px;\n",
              "  }\n",
              "\n",
              "  .colab-df-quickchart:hover {\n",
              "    background-color: #E2EBFA;\n",
              "    box-shadow: 0px 1px 2px rgba(60, 64, 67, 0.3), 0px 1px 3px 1px rgba(60, 64, 67, 0.15);\n",
              "    fill: #174EA6;\n",
              "  }\n",
              "\n",
              "  [theme=dark] .colab-df-quickchart {\n",
              "    background-color: #3B4455;\n",
              "    fill: #D2E3FC;\n",
              "  }\n",
              "\n",
              "  [theme=dark] .colab-df-quickchart:hover {\n",
              "    background-color: #434B5C;\n",
              "    box-shadow: 0px 1px 3px 1px rgba(0, 0, 0, 0.15);\n",
              "    filter: drop-shadow(0px 1px 2px rgba(0, 0, 0, 0.3));\n",
              "    fill: #FFFFFF;\n",
              "  }\n",
              "</style>\n",
              "\n",
              "  <script>\n",
              "    async function quickchart(key) {\n",
              "      const charts = await google.colab.kernel.invokeFunction(\n",
              "          'suggestCharts', [key], {});\n",
              "    }\n",
              "    (() => {\n",
              "      let quickchartButtonEl =\n",
              "        document.querySelector('#df-91463e95-5f6f-4fa7-a98c-01a85b375f61 button');\n",
              "      quickchartButtonEl.style.display =\n",
              "        google.colab.kernel.accessAllowed ? 'block' : 'none';\n",
              "    })();\n",
              "  </script>\n",
              "</div>\n",
              "    </div>\n",
              "  </div>\n"
            ]
          },
          "metadata": {},
          "execution_count": 37
        }
      ]
    },
    {
      "cell_type": "code",
      "source": [
        "!python -m spacy download en_core_web_lg"
      ],
      "metadata": {
        "colab": {
          "base_uri": "https://localhost:8080/"
        },
        "id": "rX1HL53J8Kg9",
        "outputId": "ee12d022-c581-4de8-d342-e20ad5d238ed"
      },
      "execution_count": null,
      "outputs": [
        {
          "output_type": "stream",
          "name": "stdout",
          "text": [
            "2023-08-20 17:14:38.123069: W tensorflow/compiler/tf2tensorrt/utils/py_utils.cc:38] TF-TRT Warning: Could not find TensorRT\n",
            "Collecting en-core-web-lg==3.6.0\n",
            "  Downloading https://github.com/explosion/spacy-models/releases/download/en_core_web_lg-3.6.0/en_core_web_lg-3.6.0-py3-none-any.whl (587.7 MB)\n",
            "\u001b[2K     \u001b[90m━━━━━━━━━━━━━━━━━━━━━━━━━━━━━━━━━━━━━━━\u001b[0m \u001b[32m587.7/587.7 MB\u001b[0m \u001b[31m1.9 MB/s\u001b[0m eta \u001b[36m0:00:00\u001b[0m\n",
            "\u001b[?25hRequirement already satisfied: spacy<3.7.0,>=3.6.0 in /usr/local/lib/python3.10/dist-packages (from en-core-web-lg==3.6.0) (3.6.1)\n",
            "Requirement already satisfied: spacy-legacy<3.1.0,>=3.0.11 in /usr/local/lib/python3.10/dist-packages (from spacy<3.7.0,>=3.6.0->en-core-web-lg==3.6.0) (3.0.12)\n",
            "Requirement already satisfied: spacy-loggers<2.0.0,>=1.0.0 in /usr/local/lib/python3.10/dist-packages (from spacy<3.7.0,>=3.6.0->en-core-web-lg==3.6.0) (1.0.4)\n",
            "Requirement already satisfied: murmurhash<1.1.0,>=0.28.0 in /usr/local/lib/python3.10/dist-packages (from spacy<3.7.0,>=3.6.0->en-core-web-lg==3.6.0) (1.0.9)\n",
            "Requirement already satisfied: cymem<2.1.0,>=2.0.2 in /usr/local/lib/python3.10/dist-packages (from spacy<3.7.0,>=3.6.0->en-core-web-lg==3.6.0) (2.0.7)\n",
            "Requirement already satisfied: preshed<3.1.0,>=3.0.2 in /usr/local/lib/python3.10/dist-packages (from spacy<3.7.0,>=3.6.0->en-core-web-lg==3.6.0) (3.0.8)\n",
            "Requirement already satisfied: thinc<8.2.0,>=8.1.8 in /usr/local/lib/python3.10/dist-packages (from spacy<3.7.0,>=3.6.0->en-core-web-lg==3.6.0) (8.1.12)\n",
            "Requirement already satisfied: wasabi<1.2.0,>=0.9.1 in /usr/local/lib/python3.10/dist-packages (from spacy<3.7.0,>=3.6.0->en-core-web-lg==3.6.0) (1.1.2)\n",
            "Requirement already satisfied: srsly<3.0.0,>=2.4.3 in /usr/local/lib/python3.10/dist-packages (from spacy<3.7.0,>=3.6.0->en-core-web-lg==3.6.0) (2.4.7)\n",
            "Requirement already satisfied: catalogue<2.1.0,>=2.0.6 in /usr/local/lib/python3.10/dist-packages (from spacy<3.7.0,>=3.6.0->en-core-web-lg==3.6.0) (2.0.9)\n",
            "Requirement already satisfied: typer<0.10.0,>=0.3.0 in /usr/local/lib/python3.10/dist-packages (from spacy<3.7.0,>=3.6.0->en-core-web-lg==3.6.0) (0.9.0)\n",
            "Requirement already satisfied: pathy>=0.10.0 in /usr/local/lib/python3.10/dist-packages (from spacy<3.7.0,>=3.6.0->en-core-web-lg==3.6.0) (0.10.2)\n",
            "Requirement already satisfied: smart-open<7.0.0,>=5.2.1 in /usr/local/lib/python3.10/dist-packages (from spacy<3.7.0,>=3.6.0->en-core-web-lg==3.6.0) (6.3.0)\n",
            "Requirement already satisfied: tqdm<5.0.0,>=4.38.0 in /usr/local/lib/python3.10/dist-packages (from spacy<3.7.0,>=3.6.0->en-core-web-lg==3.6.0) (4.66.1)\n",
            "Requirement already satisfied: numpy>=1.15.0 in /usr/local/lib/python3.10/dist-packages (from spacy<3.7.0,>=3.6.0->en-core-web-lg==3.6.0) (1.23.5)\n",
            "Requirement already satisfied: requests<3.0.0,>=2.13.0 in /usr/local/lib/python3.10/dist-packages (from spacy<3.7.0,>=3.6.0->en-core-web-lg==3.6.0) (2.31.0)\n",
            "Requirement already satisfied: pydantic!=1.8,!=1.8.1,<3.0.0,>=1.7.4 in /usr/local/lib/python3.10/dist-packages (from spacy<3.7.0,>=3.6.0->en-core-web-lg==3.6.0) (2.1.1)\n",
            "Requirement already satisfied: jinja2 in /usr/local/lib/python3.10/dist-packages (from spacy<3.7.0,>=3.6.0->en-core-web-lg==3.6.0) (3.1.2)\n",
            "Requirement already satisfied: setuptools in /usr/local/lib/python3.10/dist-packages (from spacy<3.7.0,>=3.6.0->en-core-web-lg==3.6.0) (67.7.2)\n",
            "Requirement already satisfied: packaging>=20.0 in /usr/local/lib/python3.10/dist-packages (from spacy<3.7.0,>=3.6.0->en-core-web-lg==3.6.0) (23.1)\n",
            "Requirement already satisfied: langcodes<4.0.0,>=3.2.0 in /usr/local/lib/python3.10/dist-packages (from spacy<3.7.0,>=3.6.0->en-core-web-lg==3.6.0) (3.3.0)\n",
            "Requirement already satisfied: annotated-types>=0.4.0 in /usr/local/lib/python3.10/dist-packages (from pydantic!=1.8,!=1.8.1,<3.0.0,>=1.7.4->spacy<3.7.0,>=3.6.0->en-core-web-lg==3.6.0) (0.5.0)\n",
            "Requirement already satisfied: pydantic-core==2.4.0 in /usr/local/lib/python3.10/dist-packages (from pydantic!=1.8,!=1.8.1,<3.0.0,>=1.7.4->spacy<3.7.0,>=3.6.0->en-core-web-lg==3.6.0) (2.4.0)\n",
            "Requirement already satisfied: typing-extensions>=4.6.1 in /usr/local/lib/python3.10/dist-packages (from pydantic!=1.8,!=1.8.1,<3.0.0,>=1.7.4->spacy<3.7.0,>=3.6.0->en-core-web-lg==3.6.0) (4.7.1)\n",
            "Requirement already satisfied: charset-normalizer<4,>=2 in /usr/local/lib/python3.10/dist-packages (from requests<3.0.0,>=2.13.0->spacy<3.7.0,>=3.6.0->en-core-web-lg==3.6.0) (3.2.0)\n",
            "Requirement already satisfied: idna<4,>=2.5 in /usr/local/lib/python3.10/dist-packages (from requests<3.0.0,>=2.13.0->spacy<3.7.0,>=3.6.0->en-core-web-lg==3.6.0) (3.4)\n",
            "Requirement already satisfied: urllib3<3,>=1.21.1 in /usr/local/lib/python3.10/dist-packages (from requests<3.0.0,>=2.13.0->spacy<3.7.0,>=3.6.0->en-core-web-lg==3.6.0) (2.0.4)\n",
            "Requirement already satisfied: certifi>=2017.4.17 in /usr/local/lib/python3.10/dist-packages (from requests<3.0.0,>=2.13.0->spacy<3.7.0,>=3.6.0->en-core-web-lg==3.6.0) (2023.7.22)\n",
            "Requirement already satisfied: blis<0.8.0,>=0.7.8 in /usr/local/lib/python3.10/dist-packages (from thinc<8.2.0,>=8.1.8->spacy<3.7.0,>=3.6.0->en-core-web-lg==3.6.0) (0.7.10)\n",
            "Requirement already satisfied: confection<1.0.0,>=0.0.1 in /usr/local/lib/python3.10/dist-packages (from thinc<8.2.0,>=8.1.8->spacy<3.7.0,>=3.6.0->en-core-web-lg==3.6.0) (0.1.1)\n",
            "Requirement already satisfied: click<9.0.0,>=7.1.1 in /usr/local/lib/python3.10/dist-packages (from typer<0.10.0,>=0.3.0->spacy<3.7.0,>=3.6.0->en-core-web-lg==3.6.0) (8.1.6)\n",
            "Requirement already satisfied: MarkupSafe>=2.0 in /usr/local/lib/python3.10/dist-packages (from jinja2->spacy<3.7.0,>=3.6.0->en-core-web-lg==3.6.0) (2.1.3)\n",
            "Installing collected packages: en-core-web-lg\n",
            "Successfully installed en-core-web-lg-3.6.0\n",
            "\u001b[38;5;2m✔ Download and installation successful\u001b[0m\n",
            "You can now load the package via spacy.load('en_core_web_lg')\n"
          ]
        }
      ]
    },
    {
      "cell_type": "code",
      "source": [
        "import spacy\n",
        "nlp=spacy.load('en_core_web_lg')\n",
        "def preprocess(text):\n",
        "  doc=nlp(text)\n",
        "  filtered_tokens=[]\n",
        "  for token in doc:\n",
        "    if not token.is_stop and not token.is_punct:\n",
        "      filtered_tokens.append(token.lemma_)\n",
        "  return wv.get_mean_vector(filtered_tokens)"
      ],
      "metadata": {
        "id": "kEQA0E390BsW"
      },
      "execution_count": null,
      "outputs": []
    },
    {
      "cell_type": "code",
      "source": [
        "df['vector']=df.Text.apply(lambda x: preprocess(x))"
      ],
      "metadata": {
        "id": "mKx0DFTABasM"
      },
      "execution_count": null,
      "outputs": []
    },
    {
      "cell_type": "code",
      "source": [],
      "metadata": {
        "id": "SjATucsGAHjR"
      },
      "execution_count": null,
      "outputs": []
    },
    {
      "cell_type": "code",
      "source": [
        "df.Text[2]"
      ],
      "metadata": {
        "colab": {
          "base_uri": "https://localhost:8080/",
          "height": 244
        },
        "id": "R3U_RlhGCR6w",
        "outputId": "58783bda-6b05-4285-f543-c250a124cb37"
      },
      "execution_count": null,
      "outputs": [
        {
          "output_type": "execute_result",
          "data": {
            "text/plain": [
              "'Trump proposes U.S. tax overhaul, stirs concerns on deficit WASHINGTON (Reuters) - President Donald Trump proposed on Wednesday the biggest U.S. tax overhaul in three decades, calling for tax cuts for most Americans, but prompting criticism that the plan favors business and the rich and could add trillions of dollars to the deficit. The proposal drew a swift, skeptical response from Senator Bob Corker, a leading Republican “fiscal hawk,” who vowed not to vote for any federal tax package financed with borrowed money. “What I can tell you is that I’m not about to vote for any bill that increases our deficit, period,” Corker, who said on Tuesday he would not seek re-election in 2018, told reporters. Trump said his tax plan was aimed at helping working people, creating jobs and making the tax code simpler and fairer. But it faces an uphill battle in the U.S. Congress with Trump’s own Republican Party divided over it and Democrats hostile. The plan would lower corporate and small-business income tax rates, reduce the top income tax rate for high-earning American individuals and scrap some popular tax breaks, including one that benefits people in high-tax states dominated by Democrats. Forged during months of talks among Trump’s aides and top congressional Republicans, the plan contained few details on how to pay for the tax cuts without expanding the budget deficit and adding to the nation’s $20 trillion national debt. The plan still must be turned into legislation, which was not expected until after Congress makes progress on the fiscal 2018 budget, perhaps in October. It must then be debated by the Republican-led congressional tax-writing committees. Analysts were skeptical that Congress could approve a tax bill this year, but that is what Republicans hope to achieve so they can enter next year’s congressional election campaigns with at least one legislative achievement to show for 2017. Financial markets rallied on the plan’s unveiling, an event long anticipated by traders betting that stocks would benefit from both faster economic growth and inflation. At an event in Indianapolis, Trump called the plan the largest tax cut in U.S. history. “We want tax reform that is pro-growth, pro-jobs, pro-worker, pro-family and, yes, tax reform that is pro-American,” he said. The real estate mogul-turned-politician, who promised big tax cuts as a candidate, told reporters he personally would not gain financially from the proposal. “I think there’s very little benefit for people of wealth,” said Trump, who unlike many of his White House predecessors, has refused to make public his own tax returns. Republicans have produced no major legislative successes since Trump took office in January, even though they control the White House and both chambers of Congress. Their top legislative priority, overhauling the U.S. healthcare system, collapsed again in the Senate on Tuesday. A comprehensive rewrite of the U.S. tax code has eluded previous presidents and Congress for decades. The last one was passed in 1986 under Republican President Ronald Reagan. Trump’s plan falls short of the sweeping, bipartisan package crafted by Reagan and congressional Democrats, analysts said. The White House said that, under the proposal, typical middle-class families would have less income subject to federal tax. Trump said the first $12,000 earned by an individual and the first $24,000 by a married couple would be tax-free. The plan would lower the top individual tax rate, paid by the nation’s top earners, to 35 percent from 39.6 percent. It would lower the top corporate income tax rate to 20 percent from the current 35 percent. The existing rate is high globally, but many U.S.-based multinationals pay much less than the headline rate because of abundant loopholes and tax breaks. Trump has appealed to Democrats to back the plan, although they were not consulted in drafting it. Republicans hold a thin 52-48 Senate majority and may need some Democratic support to win passage. But Democrats said the plan would expand the federal deficit in order to deliver tax cuts to wealthy Americans rather than the middle-class families that Trump and Republicans say they are trying to help.  “If this framework is all about the middle class, then Trump Tower is middle-class housing,” said Senator Ron Wyden, the top Democrat on the tax law-writing Senate Finance Committee.      Republican Kevin Brady, chairman of the tax-writing House of Representatives Ways and Means Committee, said he expected tax legislation to be passed by the end of this year. The Committee for a Responsible Federal Budget, a Washington-based policy group, estimated on Wednesday the plan contained about $5.8 trillion of total tax cuts over a decade and would have a net cost of $2.2 trillion through 2027. Analysts have warned huge tax cuts would balloon the deficit if economic growth projected by Republicans to offset the costs fails to materialize amid rising interest rates. ‘PASS-THROUGH’ RATE The plan would set a new 25 percent tax rate for “pass-through” businesses, which are usually small, private enterprises, such as partnerships and sole proprietorships. They represent about 95 percent of all U.S. businesses. Under current law, the profits of those companies “pass through” directly to their owners and are taxed as personal income, often at the top 39.6 percent individual income rate. Cutting that to 25 percent could mean big tax savings for small-business owners, but also be vulnerable to abuse by other individuals and companies, analysts said. Republicans proposed eliminating some tax deductions. They did not target the popular ones for mortgage interest and charitable giving, but called for scrapping the one for state and local tax payments. That could especially hurt people in high-tax states like California and New York. In a step to simplify tax returns, the plan would shrink the current seven tax brackets to three: 12 percent, 25 percent and 35 percent. That would raise the bottom tax rate on low-earning Americans to 12 percent from 10 percent, but analysts said other parts of the plan would still mean a net tax cut. '"
            ],
            "application/vnd.google.colaboratory.intrinsic+json": {
              "type": "string"
            }
          },
          "metadata": {},
          "execution_count": 69
        }
      ]
    },
    {
      "cell_type": "code",
      "source": [
        "preprocess('do not worry if you do not want to come')"
      ],
      "metadata": {
        "colab": {
          "base_uri": "https://localhost:8080/"
        },
        "id": "n6v_pBAC8Emh",
        "outputId": "77509f89-ed3c-47c2-d439-826c953c300a"
      },
      "execution_count": null,
      "outputs": [
        {
          "output_type": "execute_result",
          "data": {
            "text/plain": [
              "['worry', 'want', 'come']"
            ]
          },
          "metadata": {},
          "execution_count": 42
        }
      ]
    },
    {
      "cell_type": "code",
      "source": [
        "wv.get_mean_vector(['worry','want'])"
      ],
      "metadata": {
        "colab": {
          "base_uri": "https://localhost:8080/"
        },
        "id": "Lii0Q-8Z9Cuq",
        "outputId": "0aed9542-4704-4c22-b889-fb77498a6344"
      },
      "execution_count": null,
      "outputs": [
        {
          "output_type": "execute_result",
          "data": {
            "text/plain": [
              "array([ 0.0504289 ,  0.03978414,  0.02875209,  0.03127047, -0.08119703,\n",
              "        0.02651687,  0.13651693, -0.02458679,  0.0006626 ,  0.01247795,\n",
              "       -0.0272316 , -0.05709922,  0.00050097, -0.00889582, -0.06455964,\n",
              "        0.09070876,  0.03134731,  0.11263628, -0.01064891, -0.06671901,\n",
              "       -0.07361034,  0.00720509,  0.04446697,  0.04137821,  0.07363027,\n",
              "        0.07818839,  0.02772873, -0.04287131,  0.01601155, -0.07020379,\n",
              "        0.01331429,  0.02965906,  0.00380262, -0.09345877,  0.04281566,\n",
              "        0.01651065,  0.06871605,  0.03050535,  0.00348155,  0.0337615 ,\n",
              "        0.00304853, -0.0684739 ,  0.09437983, -0.00556765, -0.0954178 ,\n",
              "       -0.05645206,  0.02359245,  0.01029087, -0.0062196 ,  0.00795996,\n",
              "       -0.07734106,  0.05613635,  0.00415564,  0.0389045 ,  0.05069047,\n",
              "        0.02675814, -0.043476  , -0.00866603,  0.05877605, -0.04583841,\n",
              "        0.02087098,  0.0333943 , -0.06874312,  0.0101769 ,  0.02220195,\n",
              "       -0.01792809, -0.07853757,  0.07571578, -0.05090012,  0.00092292,\n",
              "        0.05217146,  0.09908471,  0.05431418, -0.01714146, -0.15939602,\n",
              "       -0.05236665,  0.02637988,  0.06483094,  0.03622495,  0.0914463 ,\n",
              "       -0.03360391,  0.02224077,  0.05853268,  0.05850388, -0.06085909,\n",
              "       -0.03208346, -0.07994362,  0.05969295,  0.03740065, -0.01764968,\n",
              "        0.034451  ,  0.02156563, -0.08617702, -0.06718494, -0.02380779,\n",
              "       -0.06385108,  0.08336769,  0.07104038, -0.00858774,  0.03120838,\n",
              "       -0.03880962,  0.03513772, -0.0468666 ,  0.04190996, -0.00350942,\n",
              "       -0.00043225, -0.01616923, -0.03552157,  0.03236864, -0.00152443,\n",
              "       -0.09375645, -0.03027621, -0.02346687, -0.00026999, -0.03065207,\n",
              "       -0.0388949 ,  0.03621281, -0.06216889, -0.05553505,  0.03358041,\n",
              "       -0.01961743,  0.07823228, -0.03636992,  0.11015688,  0.00018136,\n",
              "       -0.0999121 , -0.06529043, -0.03237733, -0.06654782, -0.05975539,\n",
              "       -0.00053149, -0.0550812 , -0.01453882,  0.07025079,  0.03776873,\n",
              "       -0.09978895,  0.01287429,  0.10834716,  0.02347481,  0.06467795,\n",
              "        0.02735352, -0.10376772,  0.02028222, -0.0187411 ,  0.03884069,\n",
              "       -0.0080035 ,  0.02647037, -0.05320096,  0.01586811, -0.11184599,\n",
              "       -0.0025415 ,  0.04272009, -0.02131555, -0.02546949, -0.00349699,\n",
              "        0.01062482, -0.07117904, -0.02755351, -0.0879598 ,  0.00280581,\n",
              "        0.03919437,  0.04902337,  0.00825877, -0.00647638,  0.08624119,\n",
              "       -0.04227734,  0.00094305, -0.02312013,  0.05772454, -0.05480039,\n",
              "       -0.08966629, -0.02737304, -0.01059317,  0.00105075, -0.02998601,\n",
              "       -0.03650109,  0.07679051,  0.01457737, -0.04521596,  0.05099187,\n",
              "       -0.05663592, -0.02736941,  0.09762418,  0.03182996, -0.03487397,\n",
              "       -0.03913802, -0.03723413,  0.00229614,  0.06152311,  0.05322989,\n",
              "        0.0279975 , -0.02936502,  0.0515576 ,  0.06836556,  0.02996054,\n",
              "       -0.01177043, -0.00393488,  0.0687202 ,  0.02831777, -0.09247805,\n",
              "        0.06566214,  0.0594789 , -0.05904419, -0.04888685, -0.0171455 ,\n",
              "        0.03701887, -0.03110173, -0.015048  ,  0.00094155, -0.02845629,\n",
              "       -0.00867697,  0.08556645, -0.00411511, -0.01647623, -0.06192622,\n",
              "       -0.01990645, -0.01338556, -0.01126461, -0.06981993, -0.00296267,\n",
              "       -0.05183495, -0.06767704, -0.08470853, -0.03825241, -0.01943578,\n",
              "       -0.03006392,  0.01867866,  0.00980071, -0.02035328, -0.01127492,\n",
              "       -0.0240934 , -0.01880233, -0.0031141 ,  0.04480106,  0.02369592,\n",
              "        0.03925369, -0.01245837, -0.06212731, -0.00689422, -0.03151027,\n",
              "       -0.00683805,  0.02628086,  0.02530699, -0.00078655, -0.04546175,\n",
              "        0.03946584,  0.02141556,  0.04141561,  0.00560607, -0.02264433,\n",
              "       -0.02941985,  0.01951709,  0.10636266,  0.03269421, -0.03247112,\n",
              "       -0.03343548,  0.00534365,  0.03095012, -0.0173981 ,  0.03223991,\n",
              "       -0.06502652,  0.07277304, -0.09138386,  0.05197034, -0.03194626,\n",
              "        0.05293589, -0.01437034, -0.00940045, -0.03550354,  0.00504174,\n",
              "        0.05675648,  0.11358024,  0.13449788,  0.01457674, -0.02342463,\n",
              "       -0.10196479, -0.00323082, -0.08572739,  0.00692441, -0.04313333,\n",
              "       -0.00212002, -0.04373048,  0.0145002 ,  0.07385128, -0.02607865,\n",
              "        0.00961284, -0.01442661,  0.04999073,  0.04556843, -0.01484592,\n",
              "       -0.01660132,  0.02201659, -0.00382124, -0.01559681, -0.017444  ,\n",
              "       -0.04266474, -0.02022413, -0.09104493,  0.04313949, -0.01146744],\n",
              "      dtype=float32)"
            ]
          },
          "metadata": {},
          "execution_count": 43
        }
      ]
    },
    {
      "cell_type": "code",
      "source": [
        "from sklearn.model_selection import train_test_split\n",
        "x_train,x_test,y_train,y_test=train_test_split(df.vector.values,df.new_label,test_size=0.2,random_state=2022)"
      ],
      "metadata": {
        "id": "QOlUftaw9qOU"
      },
      "execution_count": null,
      "outputs": []
    },
    {
      "cell_type": "code",
      "source": [
        "print('shape of x_train before reshapping:', x_train.shape)\n",
        "print('shape of x_test before reshapping:',x_test.shape)"
      ],
      "metadata": {
        "colab": {
          "base_uri": "https://localhost:8080/"
        },
        "id": "b26piiX29R9u",
        "outputId": "4d5a1f16-6c1f-4b5e-c0a1-b644e5801b5d"
      },
      "execution_count": null,
      "outputs": [
        {
          "output_type": "stream",
          "name": "stdout",
          "text": [
            "shape of x_train before reshapping: (957,)\n",
            "shape of x_test before reshapping: (240,)\n"
          ]
        }
      ]
    },
    {
      "cell_type": "code",
      "source": [
        "df['vector'].values[:3]"
      ],
      "metadata": {
        "colab": {
          "base_uri": "https://localhost:8080/"
        },
        "id": "PI5OjxNzCawk",
        "outputId": "c8ea805b-7858-43d4-a84f-c6e8ecd9d252"
      },
      "execution_count": null,
      "outputs": [
        {
          "output_type": "execute_result",
          "data": {
            "text/plain": [
              "array([array([ 8.65764171e-03,  1.90243423e-02, -1.19174421e-02,  3.23005319e-02,\n",
              "              -2.40637269e-02, -9.65675246e-03,  1.52454339e-02, -1.99256353e-02,\n",
              "               3.69987562e-02,  8.56092107e-03, -2.07264051e-02, -2.58618221e-02,\n",
              "              -2.05285698e-02,  3.09266429e-02, -2.59609856e-02,  3.61854956e-02,\n",
              "               2.85411440e-02,  4.34055775e-02,  5.54904481e-03, -3.60063091e-02,\n",
              "              -1.04067186e-02,  9.32532363e-03,  5.35664037e-02,  4.00936184e-03,\n",
              "               1.93928834e-02,  9.35758464e-03, -3.04607488e-02,  8.02151393e-03,\n",
              "               2.91015320e-02, -7.78369047e-03, -1.03073912e-02,  1.91351455e-02,\n",
              "              -3.68087403e-02, -1.16952462e-02,  9.93882399e-03, -1.79062271e-03,\n",
              "               1.67817324e-02,  2.20200960e-02, -1.31025352e-03,  2.59642601e-02,\n",
              "               3.18399705e-02, -2.76104957e-02,  4.86540236e-02,  4.34098486e-03,\n",
              "              -3.15727144e-02, -1.31418034e-02, -5.79657499e-03, -1.59095309e-03,\n",
              "               1.96081877e-04,  3.21557708e-02, -2.95899045e-02,  3.64576653e-02,\n",
              "              -9.35947057e-03, -3.62759456e-03,  9.54780448e-03,  1.01865316e-02,\n",
              "              -1.17509738e-02, -2.99427267e-02,  1.73579622e-03, -3.76810841e-02,\n",
              "               2.50977427e-02,  2.83157807e-02, -3.39310654e-02, -1.33246323e-02,\n",
              "               1.62637848e-02, -1.80339105e-02, -1.34028643e-02,  2.56520584e-02,\n",
              "              -2.33980026e-02,  1.57187451e-02,  1.56640392e-02,  2.70182150e-03,\n",
              "               3.51303630e-02, -1.65722892e-03, -2.27981992e-02, -2.10790355e-02,\n",
              "               2.49096397e-02,  1.57173742e-02,  2.89037433e-02,  3.43440101e-02,\n",
              "              -1.01454929e-02, -1.58736855e-02,  6.09028526e-03, -2.79763690e-03,\n",
              "               3.41327651e-03, -1.46081364e-02, -1.27203902e-02,  5.05480729e-02,\n",
              "              -2.12880224e-03, -2.33704951e-02,  1.32908868e-02,  1.21619226e-02,\n",
              "              -4.71831746e-02, -2.79462747e-02,  1.70943905e-02, -2.42761634e-02,\n",
              "               1.77686121e-02,  2.56923512e-02,  1.42065026e-02, -9.94219445e-03,\n",
              "              -3.23516615e-02, -3.57484929e-02,  9.92040522e-03, -5.59307309e-03,\n",
              "               4.76127071e-03, -6.49603317e-03,  4.71584382e-04, -1.31081501e-02,\n",
              "               3.20399157e-03, -2.30123103e-02, -1.76975075e-02, -2.08694562e-02,\n",
              "              -4.98573156e-03, -5.44245413e-04,  4.05574068e-02, -1.16871111e-02,\n",
              "               2.08915789e-02, -2.08682306e-02,  3.64170261e-02,  1.64452028e-02,\n",
              "              -3.08613908e-02,  2.98815919e-03, -8.08797311e-03,  1.62246544e-02,\n",
              "              -1.75828021e-02, -3.34509611e-02, -2.36713924e-02, -5.06940437e-03,\n",
              "               1.63119379e-02,  1.24425674e-03, -2.15791147e-02, -3.96243706e-02,\n",
              "              -6.21419074e-03,  2.54263612e-03, -9.26914345e-03, -1.63704697e-02,\n",
              "               2.28767702e-03,  2.36305222e-02,  5.24992356e-03,  1.38641344e-02,\n",
              "               2.44391356e-02, -2.65749749e-02,  2.83552008e-03, -4.06961469e-03,\n",
              "               1.42617943e-02,  1.43987928e-02, -4.86368453e-03, -2.38302592e-02,\n",
              "               1.29265551e-04, -1.49928657e-02,  3.21294665e-02, -1.19561404e-02,\n",
              "              -8.99587758e-03, -6.23580487e-03, -1.26260081e-02,  8.89255852e-03,\n",
              "              -1.00599006e-02, -2.44924612e-02, -2.00669095e-02,  3.47033050e-03,\n",
              "               1.37876777e-03,  1.56062311e-02,  3.17026041e-02,  9.50380880e-03,\n",
              "               1.68905547e-03, -5.69263659e-02,  3.23856063e-02, -1.58089679e-02,\n",
              "               3.73574980e-02,  3.53776403e-02, -2.54605506e-02, -1.18902512e-02,\n",
              "               4.65453928e-03, -5.19007631e-02, -1.49979945e-02, -9.26467241e-04,\n",
              "               3.26286219e-02, -1.90356746e-02, -2.10692286e-02, -1.47118059e-03,\n",
              "              -2.86536627e-02, -2.06236728e-02,  1.06270472e-02,  7.18365656e-03,\n",
              "              -1.65993217e-02, -8.42347089e-03, -1.51868016e-02, -2.65686936e-03,\n",
              "               1.42306779e-02, -2.38752782e-05,  2.75841672e-02,  1.27595775e-02,\n",
              "               1.76490098e-02,  5.48004545e-03, -5.85904066e-03,  1.27204824e-02,\n",
              "              -1.05150463e-02, -2.73688114e-03,  3.97891272e-03, -3.23383473e-02,\n",
              "              -4.79980279e-03,  3.42096202e-02, -1.66538246e-02, -5.46101620e-03,\n",
              "               8.05123243e-03, -2.31091073e-03, -5.22303069e-03,  1.84212085e-02,\n",
              "              -1.55823044e-02, -1.79476235e-02,  5.80423221e-04,  3.08644027e-02,\n",
              "               2.11742101e-03,  3.04462708e-04, -2.75865402e-02, -3.97376483e-03,\n",
              "               1.56906284e-02,  2.07620370e-03, -1.44543294e-02, -1.41815161e-02,\n",
              "              -9.92981158e-03,  9.67082195e-03, -1.00660510e-02, -3.86270834e-03,\n",
              "               2.56896093e-02, -1.47043876e-02,  3.86007242e-02,  3.24110314e-02,\n",
              "               1.01371622e-02, -8.00674316e-03, -3.29391495e-03, -4.31341073e-03,\n",
              "              -8.17937963e-03, -1.13245174e-02,  2.74526663e-02,  2.28471681e-03,\n",
              "               1.20959328e-02, -3.39856148e-02,  2.78072041e-02,  9.84278601e-03,\n",
              "               2.46882606e-02,  5.03942661e-04,  2.31297244e-03, -3.13875005e-02,\n",
              "              -4.31988528e-03,  1.66643634e-02,  1.34313945e-02,  4.47574258e-02,\n",
              "              -2.34508375e-03, -2.84167565e-02, -1.58555452e-02,  1.18312687e-02,\n",
              "               1.67126711e-02,  1.63630545e-02,  1.32419402e-02, -1.19775592e-03,\n",
              "               1.71685107e-02,  1.49203269e-02, -1.94659755e-02, -4.17090505e-02,\n",
              "               6.09938335e-03,  1.62992384e-02, -1.52844666e-02,  1.88160501e-02,\n",
              "               2.02487018e-02,  4.39735539e-02, -1.89447105e-02, -1.22070583e-02,\n",
              "              -1.76162627e-02, -9.02833790e-03, -9.36638471e-03,  4.67117429e-02,\n",
              "               3.51041071e-02, -4.52356879e-03,  4.62042820e-03, -2.10758951e-02,\n",
              "              -1.10457314e-03, -4.22864482e-02, -1.59384403e-02, -3.32890661e-03,\n",
              "               7.94848893e-03,  3.60395963e-04,  1.25692459e-02,  1.49980802e-02,\n",
              "              -2.24495232e-02, -8.44183902e-04, -3.53508741e-02, -1.24176098e-02,\n",
              "               6.21280633e-03, -5.72415767e-03, -8.40758265e-04, -4.25950391e-03,\n",
              "              -3.92879434e-02,  7.18382653e-04, -1.69251934e-02, -3.65261510e-02,\n",
              "               7.45849777e-03, -2.29579136e-02,  9.75383539e-03,  1.09830629e-02],\n",
              "             dtype=float32)                                                       ,\n",
              "       array([ 1.08640958e-02,  7.96042942e-03,  1.19156530e-03,  1.48922522e-02,\n",
              "              -3.12769301e-02, -1.99585035e-02,  1.09509081e-02,  9.02352296e-03,\n",
              "               4.57643643e-02,  1.85477245e-03, -2.84424406e-02, -8.33720062e-03,\n",
              "              -3.41197569e-03,  3.17086466e-02, -4.32388447e-02,  4.14712587e-03,\n",
              "               2.53853034e-02,  3.38580087e-02,  7.73435272e-03, -2.78717317e-02,\n",
              "              -3.78937199e-04,  3.15213799e-02,  1.56500265e-02, -2.25559156e-03,\n",
              "               1.58213004e-02,  2.31080670e-02, -2.47104932e-02, -1.18901599e-02,\n",
              "               1.11147780e-02,  1.57945720e-03,  2.02351138e-02, -8.89955461e-03,\n",
              "              -2.11047269e-02, -2.87330691e-02, -1.49545306e-03, -4.28438094e-03,\n",
              "               1.10544078e-02,  1.31646693e-02, -3.89432325e-03,  7.07080762e-04,\n",
              "               1.00202300e-02, -1.60719939e-02,  4.63504195e-02,  5.90637652e-03,\n",
              "              -4.93244529e-02, -1.05951335e-02, -2.34595537e-02,  1.06112156e-02,\n",
              "              -3.88147659e-03,  2.11364683e-02,  6.21146569e-03,  2.32049525e-02,\n",
              "              -9.64034721e-03, -1.54828595e-04, -1.23056781e-03,  8.69930442e-03,\n",
              "              -1.85547434e-02, -2.01822016e-02, -3.30711855e-03, -2.41083521e-02,\n",
              "              -9.42366105e-03,  9.29029833e-04, -4.41447087e-02, -2.72578448e-02,\n",
              "               1.53029256e-03,  1.08260391e-02,  1.00866519e-02,  4.47832569e-02,\n",
              "               2.55629867e-02,  3.84237915e-02,  7.90389720e-03, -5.57169830e-03,\n",
              "               3.33963558e-02,  1.56378821e-02, -2.28126664e-02, -2.52707731e-02,\n",
              "               5.35036530e-03,  2.13712268e-02,  3.28353792e-02,  2.44309101e-02,\n",
              "              -5.70801971e-03, -1.97948758e-02,  2.11860519e-02,  4.38555097e-03,\n",
              "               1.19957607e-02, -2.67142653e-02, -2.88015753e-02,  1.43993916e-02,\n",
              "               4.81545180e-03,  1.37266750e-02,  3.77633572e-02, -6.21923059e-03,\n",
              "              -9.64820758e-03, -3.60119343e-02, -2.55842740e-03, -1.25474194e-02,\n",
              "               7.74901034e-03, -9.19354206e-04,  1.36450008e-02, -4.71747033e-02,\n",
              "               2.29101046e-03, -2.86991429e-02,  1.05690928e-02,  4.79375338e-03,\n",
              "               1.68144647e-02, -2.22959258e-02,  8.68443307e-03, -4.40405421e-02,\n",
              "               1.12786097e-02, -2.52091624e-02,  9.75242164e-03, -9.85730067e-03,\n",
              "              -9.90740396e-03, -5.86607214e-03,  3.45443897e-02,  4.02973313e-03,\n",
              "               2.38560345e-02, -1.85573753e-02,  4.53892238e-02,  2.36384310e-02,\n",
              "              -1.91513859e-02, -1.15804104e-02, -4.64725541e-03,  5.96295018e-03,\n",
              "              -1.39904069e-02, -3.49553898e-02, -9.41575971e-03, -2.66761966e-02,\n",
              "               6.31266134e-03,  2.14864518e-02,  1.15064979e-02, -3.50283869e-02,\n",
              "              -1.09895421e-02, -6.27555232e-03, -2.31298972e-02,  3.15567944e-04,\n",
              "               1.01010939e-02,  7.49874348e-03, -9.30775050e-03,  3.94740105e-02,\n",
              "               1.53401764e-02, -3.05129983e-03,  1.90519425e-03,  3.55767389e-03,\n",
              "              -7.23378407e-03, -8.11600685e-03, -1.76127981e-02, -3.39197032e-02,\n",
              "               8.47714301e-03, -1.58910081e-02,  2.57903952e-02, -1.36873114e-03,\n",
              "               3.23042297e-03,  1.44371502e-02,  1.16028991e-02, -1.28398873e-02,\n",
              "              -1.70726180e-02, -3.35240476e-02, -2.89169978e-02, -7.62253208e-03,\n",
              "              -1.17032211e-02,  8.40860140e-03,  2.57282723e-02, -1.75169650e-02,\n",
              "               8.44789110e-03, -3.65373380e-02,  8.09662230e-03, -5.39608952e-03,\n",
              "               3.39614786e-02,  2.78474428e-02, -1.44918747e-02,  1.10595832e-02,\n",
              "               4.90371417e-03, -5.46505526e-02,  8.54502805e-03, -4.99317907e-02,\n",
              "               1.23099238e-02,  6.46582618e-03, -2.84482837e-02, -1.33031122e-02,\n",
              "              -6.35028854e-02, -2.49129478e-02,  6.11850247e-03,  9.65605211e-03,\n",
              "               1.84746226e-03, -1.68226808e-02,  3.64357140e-03,  6.63542096e-03,\n",
              "               2.33306773e-02,  1.62346661e-02,  3.29714167e-05,  7.08279572e-03,\n",
              "               6.67057605e-03,  2.62456504e-03, -2.91327536e-02,  1.27575481e-02,\n",
              "               9.59407352e-03, -4.52125818e-03,  1.75646935e-02, -2.72723958e-02,\n",
              "              -1.55369928e-02,  1.99705977e-02,  1.78943593e-02, -9.13889613e-03,\n",
              "               4.40463424e-03,  2.78834999e-03,  5.80758508e-03,  3.48219037e-04,\n",
              "              -2.63050257e-04, -4.19301316e-02, -1.52452970e-02,  3.65764438e-03,\n",
              "               2.68447306e-03,  1.73537787e-02, -1.09054111e-02,  1.28158042e-02,\n",
              "               2.29452341e-03, -2.97351298e-03, -1.84987169e-02,  9.65709551e-05,\n",
              "               8.31942167e-03, -8.25457508e-04,  3.17089376e-04,  7.22201960e-03,\n",
              "               1.62755493e-02, -3.46496478e-02,  3.97224501e-02,  3.61121967e-02,\n",
              "               3.23456489e-02,  7.70534063e-03,  2.68440368e-03,  4.77404147e-03,\n",
              "              -1.89665228e-03,  6.46136515e-03,  1.58469658e-02,  9.76126082e-03,\n",
              "              -6.53913431e-03, -1.08848196e-02,  2.91758608e-02, -8.22101533e-03,\n",
              "               2.43595801e-02, -1.33598065e-02, -1.32606225e-02, -1.64353494e-02,\n",
              "              -6.79462100e-04,  7.56808883e-03,  1.18399141e-02,  3.13599668e-02,\n",
              "               4.71179141e-03, -9.13605932e-03, -2.90625915e-02,  1.17693059e-02,\n",
              "              -2.97414488e-03, -6.34210138e-03,  2.29892209e-02,  2.21223966e-03,\n",
              "               1.69575214e-02,  2.41988711e-03, -1.45577472e-02, -2.99655180e-02,\n",
              "              -2.40625045e-03, -1.61459614e-02, -5.28925005e-03,  1.81593746e-02,\n",
              "               1.71696711e-02,  3.29466686e-02, -7.20311049e-03, -2.21797433e-02,\n",
              "              -3.18258442e-02,  2.47578211e-02, -9.82951839e-03,  3.83834839e-02,\n",
              "               1.52600892e-02, -1.49081182e-02, -3.00963968e-03, -1.29274148e-02,\n",
              "              -2.22924892e-02, -4.40691225e-02, -1.06870458e-02, -2.54829451e-02,\n",
              "              -1.03834169e-02,  1.17867822e-02, -1.14735577e-03,  5.32283001e-02,\n",
              "               4.77962196e-03, -2.68801097e-02, -2.39076670e-02,  1.57188848e-02,\n",
              "               2.98807360e-02,  2.24136133e-02, -1.40662231e-02, -1.24800960e-02,\n",
              "              -1.79656520e-02, -2.03208372e-04, -6.12230366e-03,  5.35082247e-04,\n",
              "              -1.61696493e-03,  3.08577623e-03,  4.43196371e-02,  1.90823525e-02],\n",
              "             dtype=float32)                                                       ,\n",
              "       array([ 0.01813492,  0.00627435, -0.00587224,  0.03759256, -0.02345026,\n",
              "              -0.03086296,  0.0180912 , -0.00405113,  0.04517445,  0.01477798,\n",
              "              -0.01766429, -0.00140635, -0.00668295,  0.02149842, -0.04335229,\n",
              "               0.03263661,  0.02113983,  0.03195006,  0.00132407, -0.01481525,\n",
              "              -0.00157646,  0.01268344,  0.01865881, -0.00738606,  0.00442909,\n",
              "               0.01558446, -0.01879544,  0.00696769,  0.00682003,  0.01306048,\n",
              "               0.00338449, -0.01443357, -0.01888603, -0.01887431,  0.00591226,\n",
              "              -0.01053163,  0.01747419,  0.00384022,  0.00172261,  0.03948307,\n",
              "               0.03205626, -0.00411722,  0.05010616, -0.00454763, -0.04894469,\n",
              "              -0.03001684,  0.00068152,  0.02554701, -0.02576589,  0.02088436,\n",
              "               0.00601165,  0.00284581, -0.01537361, -0.01961487,  0.00315996,\n",
              "               0.010084  , -0.03526685, -0.0151976 , -0.00323485, -0.01614799,\n",
              "              -0.00684138,  0.01130989, -0.04448744, -0.01869995,  0.02368946,\n",
              "              -0.00952063, -0.00789548,  0.03078891,  0.0093225 ,  0.0174461 ,\n",
              "              -0.00710698, -0.00922855,  0.04504355,  0.01221828, -0.0156509 ,\n",
              "              -0.0192314 ,  0.02524133,  0.03865816,  0.00729187,  0.01727543,\n",
              "               0.00398138, -0.02930407, -0.01547491,  0.02553586, -0.00749687,\n",
              "              -0.00848671, -0.02601688,  0.04008386,  0.00491705,  0.00373933,\n",
              "               0.04315495, -0.00824977, -0.0277359 , -0.02818143, -0.00700671,\n",
              "              -0.02608724,  0.00606486,  0.0009845 ,  0.01416461, -0.0150315 ,\n",
              "              -0.0081126 , -0.02874255,  0.01543456,  0.01106895,  0.0170955 ,\n",
              "              -0.0236359 , -0.0048067 , -0.02809692,  0.02232594, -0.04028284,\n",
              "               0.00381355, -0.02396513, -0.02110922,  0.01594236,  0.04095464,\n",
              "               0.01637237,  0.02294195, -0.01729523,  0.04376674,  0.01512458,\n",
              "              -0.00109137,  0.00186252, -0.00701488,  0.02165162,  0.02377556,\n",
              "              -0.01821547,  0.00770642, -0.02731789,  0.01494557,  0.00581258,\n",
              "               0.00053531, -0.01516642, -0.01099728, -0.03032424, -0.00925594,\n",
              "               0.00207271, -0.0081577 ,  0.00014886, -0.00458137,  0.03445571,\n",
              "               0.00213367, -0.02720937, -0.00863186,  0.02675233,  0.00922099,\n",
              "              -0.01991091, -0.00955337, -0.01447446, -0.00051725, -0.00145674,\n",
              "               0.03473216, -0.00822185, -0.01285258,  0.01287673,  0.00446552,\n",
              "              -0.0214796 , -0.00649883, -0.01970392, -0.01977131, -0.0100477 ,\n",
              "              -0.01507109,  0.02012948,  0.02630773, -0.00161554,  0.0056128 ,\n",
              "              -0.00685828,  0.02078374, -0.00959123,  0.03190817,  0.00432053,\n",
              "              -0.03333604, -0.02176974,  0.00364708, -0.03958301,  0.00629821,\n",
              "              -0.02722672,  0.02434723,  0.00353327, -0.03734265,  0.00270363,\n",
              "              -0.05060325, -0.03709892,  0.0038618 ,  0.00677243,  0.0035382 ,\n",
              "              -0.02325153, -0.00136938,  0.02688633,  0.02973429,  0.02284121,\n",
              "              -0.00281577, -0.00465971,  0.01477627,  0.00525153, -0.03186633,\n",
              "               0.02378083,  0.00097113, -0.01248052,  0.01406167, -0.03096656,\n",
              "              -0.0154667 ,  0.01903995,  0.01545921, -0.00890372,  0.00118957,\n",
              "               0.00209829, -0.00844525, -0.0136848 , -0.00319142, -0.03043574,\n",
              "              -0.01043024,  0.01383718,  0.0040576 ,  0.03551789, -0.02097815,\n",
              "               0.02258353, -0.00105334,  0.02097929, -0.02203342, -0.00303639,\n",
              "              -0.00724986,  0.01003824, -0.00856789, -0.00817927,  0.01276507,\n",
              "              -0.02934721,  0.02945321,  0.00823989,  0.03085448,  0.01168362,\n",
              "              -0.00158244,  0.00596493,  0.00415451,  0.00335828,  0.00822538,\n",
              "               0.01282295,  0.01950021, -0.03406331,  0.03302097, -0.02339848,\n",
              "               0.0250851 , -0.0115183 , -0.00615171, -0.02290402, -0.0021866 ,\n",
              "               0.0010076 ,  0.01305879,  0.02972165,  0.00381254, -0.01874021,\n",
              "              -0.02827122,  0.0032392 , -0.00341294, -0.00084376,  0.00857544,\n",
              "              -0.00031139,  0.01135705,  0.01580334, -0.01676711, -0.01505104,\n",
              "               0.01428336, -0.00701203, -0.01699244,  0.01608971,  0.0059903 ,\n",
              "               0.04029712, -0.02951637, -0.01335102, -0.03319307, -0.0037233 ,\n",
              "               0.01017139,  0.03289224,  0.01215708, -0.0171925 ,  0.00216523,\n",
              "              -0.01096907, -0.00984291, -0.04952848, -0.00263604, -0.01476639,\n",
              "              -0.01085036, -0.0058707 ,  0.01179892,  0.0407305 , -0.01291244,\n",
              "              -0.01203504, -0.03134185,  0.02031058,  0.03703466,  0.00418387,\n",
              "              -0.03844795,  0.00114207, -0.01301795, -0.01747431, -0.01473353,\n",
              "              -0.00595485, -0.00556467, -0.00637194,  0.02067936, -0.02039773],\n",
              "             dtype=float32)                                                    ],\n",
              "      dtype=object)"
            ]
          },
          "metadata": {},
          "execution_count": 62
        }
      ]
    },
    {
      "cell_type": "code",
      "source": [
        "import numpy as np\n",
        "x_train_2d=np.stack(x_train)\n",
        "x_test_2d=np.stack(x_test)\n",
        "print('shape of x_train after reshaping:',x_train_2d.shape)\n",
        "print('shape of x_test is after reshaping:',x_test_2d.shape)"
      ],
      "metadata": {
        "colab": {
          "base_uri": "https://localhost:8080/"
        },
        "id": "kAs0V9EK-Ff7",
        "outputId": "8a00d9f2-6a03-4019-e1dd-9b6c692625e7"
      },
      "execution_count": null,
      "outputs": [
        {
          "output_type": "stream",
          "name": "stdout",
          "text": [
            "shape of x_train after reshaping: (957, 300)\n",
            "shape of x_test is after reshaping: (240, 300)\n"
          ]
        }
      ]
    },
    {
      "cell_type": "code",
      "source": [
        "wv.get_mean_vector(['worry','understand'])[:3]"
      ],
      "metadata": {
        "colab": {
          "base_uri": "https://localhost:8080/"
        },
        "id": "x1gihAhv-lWR",
        "outputId": "20cdc339-ca9d-4661-ed79-2b2d379ee74e"
      },
      "execution_count": null,
      "outputs": [
        {
          "output_type": "execute_result",
          "data": {
            "text/plain": [
              "array([ 0.00235079, -0.00284596, -0.03638233], dtype=float32)"
            ]
          },
          "metadata": {},
          "execution_count": 53
        }
      ]
    },
    {
      "cell_type": "code",
      "source": [
        "from sklearn.ensemble import GradientBoostingClassifier\n",
        "from sklearn.metrics import classification_report,confusion_matrix\n",
        "model=GradientBoostingClassifier()\n",
        "model.fit(x_train_2d,y_train)"
      ],
      "metadata": {
        "colab": {
          "base_uri": "https://localhost:8080/",
          "height": 74
        },
        "id": "worqQIGCBBbD",
        "outputId": "8ffdf665-8e53-43ac-9381-042730e34b5f"
      },
      "execution_count": null,
      "outputs": [
        {
          "output_type": "execute_result",
          "data": {
            "text/plain": [
              "GradientBoostingClassifier()"
            ],
            "text/html": [
              "<style>#sk-container-id-1 {color: black;background-color: white;}#sk-container-id-1 pre{padding: 0;}#sk-container-id-1 div.sk-toggleable {background-color: white;}#sk-container-id-1 label.sk-toggleable__label {cursor: pointer;display: block;width: 100%;margin-bottom: 0;padding: 0.3em;box-sizing: border-box;text-align: center;}#sk-container-id-1 label.sk-toggleable__label-arrow:before {content: \"▸\";float: left;margin-right: 0.25em;color: #696969;}#sk-container-id-1 label.sk-toggleable__label-arrow:hover:before {color: black;}#sk-container-id-1 div.sk-estimator:hover label.sk-toggleable__label-arrow:before {color: black;}#sk-container-id-1 div.sk-toggleable__content {max-height: 0;max-width: 0;overflow: hidden;text-align: left;background-color: #f0f8ff;}#sk-container-id-1 div.sk-toggleable__content pre {margin: 0.2em;color: black;border-radius: 0.25em;background-color: #f0f8ff;}#sk-container-id-1 input.sk-toggleable__control:checked~div.sk-toggleable__content {max-height: 200px;max-width: 100%;overflow: auto;}#sk-container-id-1 input.sk-toggleable__control:checked~label.sk-toggleable__label-arrow:before {content: \"▾\";}#sk-container-id-1 div.sk-estimator input.sk-toggleable__control:checked~label.sk-toggleable__label {background-color: #d4ebff;}#sk-container-id-1 div.sk-label input.sk-toggleable__control:checked~label.sk-toggleable__label {background-color: #d4ebff;}#sk-container-id-1 input.sk-hidden--visually {border: 0;clip: rect(1px 1px 1px 1px);clip: rect(1px, 1px, 1px, 1px);height: 1px;margin: -1px;overflow: hidden;padding: 0;position: absolute;width: 1px;}#sk-container-id-1 div.sk-estimator {font-family: monospace;background-color: #f0f8ff;border: 1px dotted black;border-radius: 0.25em;box-sizing: border-box;margin-bottom: 0.5em;}#sk-container-id-1 div.sk-estimator:hover {background-color: #d4ebff;}#sk-container-id-1 div.sk-parallel-item::after {content: \"\";width: 100%;border-bottom: 1px solid gray;flex-grow: 1;}#sk-container-id-1 div.sk-label:hover label.sk-toggleable__label {background-color: #d4ebff;}#sk-container-id-1 div.sk-serial::before {content: \"\";position: absolute;border-left: 1px solid gray;box-sizing: border-box;top: 0;bottom: 0;left: 50%;z-index: 0;}#sk-container-id-1 div.sk-serial {display: flex;flex-direction: column;align-items: center;background-color: white;padding-right: 0.2em;padding-left: 0.2em;position: relative;}#sk-container-id-1 div.sk-item {position: relative;z-index: 1;}#sk-container-id-1 div.sk-parallel {display: flex;align-items: stretch;justify-content: center;background-color: white;position: relative;}#sk-container-id-1 div.sk-item::before, #sk-container-id-1 div.sk-parallel-item::before {content: \"\";position: absolute;border-left: 1px solid gray;box-sizing: border-box;top: 0;bottom: 0;left: 50%;z-index: -1;}#sk-container-id-1 div.sk-parallel-item {display: flex;flex-direction: column;z-index: 1;position: relative;background-color: white;}#sk-container-id-1 div.sk-parallel-item:first-child::after {align-self: flex-end;width: 50%;}#sk-container-id-1 div.sk-parallel-item:last-child::after {align-self: flex-start;width: 50%;}#sk-container-id-1 div.sk-parallel-item:only-child::after {width: 0;}#sk-container-id-1 div.sk-dashed-wrapped {border: 1px dashed gray;margin: 0 0.4em 0.5em 0.4em;box-sizing: border-box;padding-bottom: 0.4em;background-color: white;}#sk-container-id-1 div.sk-label label {font-family: monospace;font-weight: bold;display: inline-block;line-height: 1.2em;}#sk-container-id-1 div.sk-label-container {text-align: center;}#sk-container-id-1 div.sk-container {/* jupyter's `normalize.less` sets `[hidden] { display: none; }` but bootstrap.min.css set `[hidden] { display: none !important; }` so we also need the `!important` here to be able to override the default hidden behavior on the sphinx rendered scikit-learn.org. See: https://github.com/scikit-learn/scikit-learn/issues/21755 */display: inline-block !important;position: relative;}#sk-container-id-1 div.sk-text-repr-fallback {display: none;}</style><div id=\"sk-container-id-1\" class=\"sk-top-container\"><div class=\"sk-text-repr-fallback\"><pre>GradientBoostingClassifier()</pre><b>In a Jupyter environment, please rerun this cell to show the HTML representation or trust the notebook. <br />On GitHub, the HTML representation is unable to render, please try loading this page with nbviewer.org.</b></div><div class=\"sk-container\" hidden><div class=\"sk-item\"><div class=\"sk-estimator sk-toggleable\"><input class=\"sk-toggleable__control sk-hidden--visually\" id=\"sk-estimator-id-1\" type=\"checkbox\" checked><label for=\"sk-estimator-id-1\" class=\"sk-toggleable__label sk-toggleable__label-arrow\">GradientBoostingClassifier</label><div class=\"sk-toggleable__content\"><pre>GradientBoostingClassifier()</pre></div></div></div></div></div>"
            ]
          },
          "metadata": {},
          "execution_count": 64
        }
      ]
    },
    {
      "cell_type": "code",
      "source": [
        "y_pred=model.predict(x_test_2d)"
      ],
      "metadata": {
        "id": "9ZWHi1G1Dywm"
      },
      "execution_count": null,
      "outputs": []
    },
    {
      "cell_type": "code",
      "source": [
        "print(classification_report(y_pred,y_test))"
      ],
      "metadata": {
        "colab": {
          "base_uri": "https://localhost:8080/"
        },
        "id": "U3_IwslBD99-",
        "outputId": "076cd2a3-e54c-468b-ade0-feb982357a19"
      },
      "execution_count": null,
      "outputs": [
        {
          "output_type": "stream",
          "name": "stdout",
          "text": [
            "              precision    recall  f1-score   support\n",
            "\n",
            "           0       0.97      0.99      0.98       116\n",
            "           1       0.99      0.97      0.98       124\n",
            "\n",
            "    accuracy                           0.98       240\n",
            "   macro avg       0.98      0.98      0.98       240\n",
            "weighted avg       0.98      0.98      0.98       240\n",
            "\n"
          ]
        }
      ]
    },
    {
      "cell_type": "code",
      "source": [
        "text=[ 'Trump proposes U.S. tax overhaul, stirs concerns on deficit WASHINGTON (Reuters) - President Donald Trump proposed on Wednesday the biggest U.S. tax overhaul in three decades, calling for tax cuts for most Americans, but prompting criticism that the plan favors business and the rich and could add trillions of dollars to the deficit. The proposal drew a swift, skeptical response from Senator Bob Corker, a leading Republican “fiscal hawk,” who vowed not to vote for any federal tax package financed with borrowed money. “What I can tell you is that I’m not about to vote for any bill that increases our deficit, period,” Corker, who said on Tuesday he would not seek re-election in 2018, told reporters. Trump said his tax plan was aimed at helping working people, creating jobs and making the tax code simpler and fairer. But it faces an uphill battle in the U.S. Congress with Trump’s own Republican Party divided over it and Democrats hostile. The plan would lower corporate and small-business income tax rates, reduce the top income tax rate for high-earning American individuals and scrap some popular tax breaks, including one that benefits people in high-tax states dominated by Democrats. Forged during months of talks among Trump’s aides and top congressional Republicans, the plan contained few details on how to pay for the tax cuts without expanding the budget deficit and adding to the nation’s $20 trillion national debt. The plan still must be turned into legislation, which was not expected until after Congress makes progress on the fiscal 2018 budget, perhaps in October. It must then be debated by the Republican-led congressional tax-writing committees. Analysts were skeptical that Congress could approve a tax bill this year, but that is what Republicans hope to achieve so they can enter next year’s congressional election campaigns with at least one legislative achievement to show for 2017. Financial markets rallied on the plan’s unveiling, an event long anticipated by traders betting that stocks would benefit from both faster economic growth and inflation. At an event in Indianapolis, Trump called the plan the largest tax cut in U.S. history. “We want tax reform that is pro-growth, pro-jobs, pro-worker, pro-family and, yes, tax reform that is pro-American,” he said. The real estate mogul-turned-politician, who promised big tax cuts as a candidate, told reporters he personally would not gain financially from the proposal. “I think there’s very little benefit for people of wealth,” said Trump, who unlike many of his White House predecessors, has refused to make public his own tax returns. Republicans have produced no major legislative successes since Trump took office in January, even though they control the White House and both chambers of Congress. Their top legislative priority, overhauling the U.S. healthcare system, collapsed again in the Senate on Tuesday. A comprehensive rewrite of the U.S. tax code has eluded previous presidents and Congress for decades. The last one was passed in 1986 under Republican President Ronald Reagan. Trump’s plan falls short of the sweeping, bipartisan package crafted by Reagan and congressional Democrats, analysts said. The White House said that, under the proposal, typical middle-class families would have less income subject to federal tax. Trump said the first $12,000 earned by an individual and the first $24,000 by a married couple would be tax-free. The plan would lower the top individual tax rate, paid by the nation’s top earners, to 35 percent from 39.6 percent. It would lower the top corporate income tax rate to 20 percent from the current 35 percent. The existing rate is high globally, but many U.S.-based multinationals pay much less than the headline rate because of abundant loopholes and tax breaks. Trump has appealed to Democrats to back the plan, although they were not consulted in drafting it. Republicans hold a thin 52-48 Senate majority and may need some Democratic support to win passage. But Democrats said the plan would expand the federal deficit in order to deliver tax cuts to wealthy Americans rather than the middle-class families that Trump and Republicans say they are trying to help.  “If this framework is all about the middle class, then Trump Tower is middle-class housing,” said Senator Ron Wyden, the top Democrat on the tax law-writing Senate Finance Committee.      Republican Kevin Brady, chairman of the tax-writing House of Representatives Ways and Means Committee, said he expected tax legislation to be passed by the end of this year. The Committee for a Responsible Federal Budget, a Washington-based policy group, estimated on Wednesday the plan contained about $5.8 trillion of total tax cuts over a decade and would have a net cost of $2.2 trillion through 2027. Analysts have warned huge tax cuts would balloon the deficit if economic growth projected by Republicans to offset the costs fails to materialize amid rising interest rates. ‘PASS-THROUGH’ RATE The plan would set a new 25 percent tax rate for “pass-through” businesses, which are usually small, private enterprises, such as partnerships and sole proprietorships. They represent about 95 percent of all U.S. businesses. Under current law, the profits of those companies “pass through” directly to their owners and are taxed as personal income, often at the top 39.6 percent individual income rate. Cutting that to 25 percent could mean big tax savings for small-business owners, but also be vulnerable to abuse by other individuals and companies, analysts said. Republicans proposed eliminating some tax deductions. They did not target the popular ones for mortgage interest and charitable giving, but called for scrapping the one for state and local tax payments. That could especially hurt people in high-tax states like California and New York. In a step to simplify tax returns, the plan would shrink the current seven tax brackets to three: 12 percent, 25 percent and 35 percent. That would raise the bottom tax rate on low-earning Americans to 12 percent from 10 percent, but analysts said other parts of the plan would still mean a net tax cut.',\n",
        "      'Democrats say Trump agrees to work on immigration bill, wall in dispute WASHINGTON (Reuters) - President Donald Trump and Democratic leaders in the U.S. Congress have agreed to work together on legislation to protect “Dreamers,” the illegal immigrants who were children when they entered the United States, the lawmakers said on Wednesday, although a dispute erupted over exactly what had been agreed. Following a dinner with Trump at the White House, Senate Democratic leader Chuck Schumer and House of Representatives Democratic leader Nancy Pelosi said the “productive meeting” focused on “DACA,” a program established by former President Barack Obama. “We agreed to enshrine the protections of DACA (Deferred Action for Childhood Arrivals) into law quickly, and to work out a package of border security, excluding the wall, that’s acceptable to both sides,” Schumer and Pelosi said in a statement. All year, Democrats have insisted that they will block any legislation that contains funding for a wall along the length of the U.S. border with Mexico, a top Trump campaign goal that many Republicans in Congress also do not support. While White House officials have suggested legislation on DACA could move forward without wall funding, White House spokeswoman Sarah Sanders disputed the characterization that a deal had been reached to leave it out of any legislation focused on the Dreamers. “While DACA and border security were both discussed, excluding the wall was certainly not agreed to,” she said on Twitter. Throughout his 2016 campaign for president and since taking office in January, Trump has demanded the construction of a wall to keep out illegal immigrants and drugs. He initially said Mexico would pay for the wall but has requested money from the U.S. Congress after the government of Mexico refused to pay. The dinner was the latest effort in a new initiative by Trump to work with opposition party Democrats on major legislation. Following the dinner, a White House official said the president, Schumer and Pelosi discussed tax reform, immigration, border security, infrastructure investments and trade as part of Trump’s bid to reach out to Democrats. “The administration looks forward to continuing these conversations with leadership on both sides of the aisle,” the official said. Over a dinner of Chinese food, Trump and the Democratic leaders also discussed issues related to U.S.-China trade, according to a congressional aide briefed on the meeting. Schumer and Pelosi also said that they urged Trump to make permanent government subsidy payments under the Affordable Care Act, also known as “Obamacare.” “Those discussions will continue,” the lawmakers said. Trump and most Republicans in Congress have demanded the repeal of Obamacare but have been unable to agree on a replacement for the healthcare program that became law in 2010. Using his executive powers, Trump canceled Obama’s DACA program in which about 800,000 undocumented young people have escaped the threat of deportation and been able to apply for work permits in the United States. Trump argued that Obama over-stepped his authority in creating the program. But Trump gave Congress six months to come up with a replacement program in the form of legislation to be enacted into law. Democratic Representative Henry Cuellar, who attended a White House meeting with Trump earlier on Wednesday, told reporters the president said he would not insist on wall funding as part of a Dreamers bill, but would pursue it on other, future legislation. Cuellar said Trump urged lawmakers to link a Republican bill to cut legal immigration to the United States with protections for Dreamers. But many Democrats oppose lowering the cap on annual legal immigration. ',\n",
        "       \"Trump says he has 'great heart' for immigrant 'Dreamers' WASHINGTON (Reuters) - U.S. President Donald Trump said on Tuesday he has “great heart” for illegal immigrants brought to the United States as children and he wants Congress to produce a legislative solution for them. “I have a great heart for the folks we’re talking about, a great love for them,” Trump said after his administration announced earlier Tuesday it was phasing out a program that protects the so-called Dreamers from deportation. “I can tell you in speaking to members of Congress they want to be able to do something and do it right and really we have no choice,” Trump told reporters. \"   ,\n",
        "       'U.S. conservative leader optimistic of common ground on healthcare WASHINGTON (Reuters) - Republicans in the U.S. House of Representatives could achieve common ground on a deal to win support for healthcare legislation on Thursday, after President Donald Trump intervened in negotiations, a conservative leader said on Wednesday. “We’re not there yet, but we’re very optimistic that if we work around the clock between now and Noon tomorrow, that we’re going to be able to hopefully find some common ground,” Representative Mark Meadows, chairman of the conservative House Freedom Caucus, told reporters. Meadows’ group has opposed House Republican healthcare legislation up to now and threatened earlier in the day to block its passage in a Thursday vote.  ',\n",
        "       ' Top Trump Surrogate BRUTALLY Stabs Him In The Back: ‘He’s Pathetic’ (VIDEO) It s looking as though Republican presidential candidate Donald Trump is losing support even from within his own ranks. You know things are getting bad when even your top surrogates start turning against you, which is exactly what just happened on Fox News when Newt Gingrich called Trump  pathetic. Gingrich knows that Trump needs to keep his focus on Hillary Clinton if he even remotely wants to have a chance at defeating her. However, Trump has hurt feelings because many Republicans don t support his sexual assault against women have turned against him, including House Speaker Paul Ryan (R-WI). So, that has made Trump lash out as his own party.Gingrich said on Fox News: Look, first of all, let me just say about Trump, who I admire and I ve tried to help as much as I can. There s a big Trump and a little Trump. The little Trump is frankly pathetic. I mean, he s mad over not getting a phone call? Trump s referring to the fact that Paul Ryan didn t call to congratulate him after the debate. Probably because he didn t win despite what Trump s ego tells him.Gingrich also added: Donald Trump has one opponent. Her name is Hillary Clinton. Her name is not Paul Ryan. It s not anybody else. Trump doesn t seem to realize that the person he should be mad at is himself because he truly is his own worst enemy. This will ultimately lead to his defeat and he will have no one to blame but himself.Watch here via Politico:Featured Photo by Joe Raedle/Getty Images'\n",
        "]\n",
        "text_news_vectors=[preprocess(n) for n in text]\n",
        "model.predict(text_news_vectors)"
      ],
      "metadata": {
        "colab": {
          "base_uri": "https://localhost:8080/"
        },
        "id": "RcQ-WYVhEQri",
        "outputId": "4f65d4da-441f-4914-f1ab-217422fbec79"
      },
      "execution_count": null,
      "outputs": [
        {
          "output_type": "execute_result",
          "data": {
            "text/plain": [
              "array([1, 1, 1, 1, 0])"
            ]
          },
          "metadata": {},
          "execution_count": 78
        }
      ]
    },
    {
      "cell_type": "code",
      "source": [
        "df.Text[0]"
      ],
      "metadata": {
        "colab": {
          "base_uri": "https://localhost:8080/",
          "height": 244
        },
        "id": "mmqIlhg3FVPO",
        "outputId": "9cb8d364-e6e6-4b15-9536-e5ad26f77cb2"
      },
      "execution_count": null,
      "outputs": [
        {
          "output_type": "execute_result",
          "data": {
            "text/plain": [
              "' Top Trump Surrogate BRUTALLY Stabs Him In The Back: ‘He’s Pathetic’ (VIDEO) It s looking as though Republican presidential candidate Donald Trump is losing support even from within his own ranks. You know things are getting bad when even your top surrogates start turning against you, which is exactly what just happened on Fox News when Newt Gingrich called Trump  pathetic. Gingrich knows that Trump needs to keep his focus on Hillary Clinton if he even remotely wants to have a chance at defeating her. However, Trump has hurt feelings because many Republicans don t support his sexual assault against women have turned against him, including House Speaker Paul Ryan (R-WI). So, that has made Trump lash out as his own party.Gingrich said on Fox News: Look, first of all, let me just say about Trump, who I admire and I ve tried to help as much as I can. There s a big Trump and a little Trump. The little Trump is frankly pathetic. I mean, he s mad over not getting a phone call? Trump s referring to the fact that Paul Ryan didn t call to congratulate him after the debate. Probably because he didn t win despite what Trump s ego tells him.Gingrich also added: Donald Trump has one opponent. Her name is Hillary Clinton. Her name is not Paul Ryan. It s not anybody else. Trump doesn t seem to realize that the person he should be mad at is himself because he truly is his own worst enemy. This will ultimately lead to his defeat and he will have no one to blame but himself.Watch here via Politico:Featured Photo by Joe Raedle/Getty Images'"
            ],
            "application/vnd.google.colaboratory.intrinsic+json": {
              "type": "string"
            }
          },
          "metadata": {},
          "execution_count": 77
        }
      ]
    },
    {
      "cell_type": "code",
      "source": [
        "df.Text[9]"
      ],
      "metadata": {
        "colab": {
          "base_uri": "https://localhost:8080/",
          "height": 157
        },
        "id": "1m5sMLqqEpkI",
        "outputId": "1cc19331-2f3a-4816-889c-fc597d3d6c30"
      },
      "execution_count": null,
      "outputs": [
        {
          "output_type": "execute_result",
          "data": {
            "text/plain": [
              "\"Trump says he has 'great heart' for immigrant 'Dreamers' WASHINGTON (Reuters) - U.S. President Donald Trump said on Tuesday he has “great heart” for illegal immigrants brought to the United States as children and he wants Congress to produce a legislative solution for them. “I have a great heart for the folks we’re talking about, a great love for them,” Trump said after his administration announced earlier Tuesday it was phasing out a program that protects the so-called Dreamers from deportation. “I can tell you in speaking to members of Congress they want to be able to do something and do it right and really we have no choice,” Trump told reporters. \""
            ],
            "application/vnd.google.colaboratory.intrinsic+json": {
              "type": "string"
            }
          },
          "metadata": {},
          "execution_count": 71
        }
      ]
    },
    {
      "cell_type": "code",
      "source": [
        "y_test.shape"
      ],
      "metadata": {
        "colab": {
          "base_uri": "https://localhost:8080/"
        },
        "id": "ITrJE95oHUue",
        "outputId": "11204b8a-56ff-4f0c-e836-f7f2e890c13e"
      },
      "execution_count": null,
      "outputs": [
        {
          "output_type": "execute_result",
          "data": {
            "text/plain": [
              "(240,)"
            ]
          },
          "metadata": {},
          "execution_count": 82
        }
      ]
    },
    {
      "cell_type": "code",
      "source": [
        "cm=confusion_matrix(y_test,y_pred)\n",
        "cm\n",
        "import matplotlib.pyplot as plt\n",
        "import seaborn as sns\n",
        "plt.figure(figsize=(5,5))\n",
        "sns.heatmap(cm,annot=True,fmt='d')\n",
        "plt.xlabel('prediction')\n",
        "plt.ylabel('Truth')\n",
        "plt.show()"
      ],
      "metadata": {
        "colab": {
          "base_uri": "https://localhost:8080/",
          "height": 470
        },
        "id": "f8akYz5xEMHL",
        "outputId": "e248d478-b1fa-4415-a41d-0e98e28432d6"
      },
      "execution_count": null,
      "outputs": [
        {
          "output_type": "display_data",
          "data": {
            "text/plain": [
              "<Figure size 500x500 with 2 Axes>"
            ],
            "image/png": "[encoded data removed]"
          },
          "metadata": {}
        }
      ]
    },
    {
      "cell_type": "code",
      "source": [
        "import gensim.downloader as api\n",
        "mv=api.load('word2vec-google-news-')"
      ],
      "metadata": {
        "id": "T8gyPo52EDgx"
      },
      "execution_count": null,
      "outputs": []
    },
    {
      "cell_type": "code",
      "source": [
        "import pandas as pd\n",
        "d=pd.read_csv('/content/mbti_1.csv',on_bad_lines='skip',engine='python')\n",
        "df=pd.DataFrame(d)\n",
        "df"
      ],
      "metadata": {
        "colab": {
          "base_uri": "https://localhost:8080/",
          "height": 423
        },
        "id": "gHYYqE1TH-zz",
        "outputId": "53d18475-5bab-412a-e56d-268c7c7beafd"
      },
      "execution_count": null,
      "outputs": [
        {
          "output_type": "execute_result",
          "data": {
            "text/plain": [
              "      type                                              posts\n",
              "0     INFJ  http://www.youtube.com/watch?v=qsXHcwe3krw|||h...\n",
              "1     ENTP  I'm finding the lack of me in these posts very...\n",
              "2     INTP  Good one  _____   https://www.youtube.com/watc...\n",
              "3     INTJ  Dear INTP,   I enjoyed our conversation the ot...\n",
              "4     ENTJ  You're fired.|||That's another silly misconcep...\n",
              "...    ...                                                ...\n",
              "3336  ISTP  There's no conspiracy. People don't tell you b...\n",
              "3337  INTJ  Marie Claire, Do you mind if I ask what you me...\n",
              "3338  INFP  I get typed as both a 4w5 and 5w6 as well but ...\n",
              "3339  ISFJ  Always talk to strangers, no matter how creepy...\n",
              "3340  INFP  there just isn't much good. Sorry to say. Life...\n",
              "\n",
              "[3341 rows x 2 columns]"
            ],
            "text/html": [
              "\n",
              "  <div id=\"df-0bbac9f2-8d34-495f-b101-f5cc253e0533\" class=\"colab-df-container\">\n",
              "    <div>\n",
              "<style scoped>\n",
              "    .dataframe tbody tr th:only-of-type {\n",
              "        vertical-align: middle;\n",
              "    }\n",
              "\n",
              "    .dataframe tbody tr th {\n",
              "        vertical-align: top;\n",
              "    }\n",
              "\n",
              "    .dataframe thead th {\n",
              "        text-align: right;\n",
              "    }\n",
              "</style>\n",
              "<table border=\"1\" class=\"dataframe\">\n",
              "  <thead>\n",
              "    <tr style=\"text-align: right;\">\n",
              "      <th></th>\n",
              "      <th>type</th>\n",
              "      <th>posts</th>\n",
              "    </tr>\n",
              "  </thead>\n",
              "  <tbody>\n",
              "    <tr>\n",
              "      <th>0</th>\n",
              "      <td>INFJ</td>\n",
              "      <td>http://www.youtube.com/watch?v=qsXHcwe3krw|||h...</td>\n",
              "    </tr>\n",
              "    <tr>\n",
              "      <th>1</th>\n",
              "      <td>ENTP</td>\n",
              "      <td>I'm finding the lack of me in these posts very...</td>\n",
              "    </tr>\n",
              "    <tr>\n",
              "      <th>2</th>\n",
              "      <td>INTP</td>\n",
              "      <td>Good one  _____   https://www.youtube.com/watc...</td>\n",
              "    </tr>\n",
              "    <tr>\n",
              "      <th>3</th>\n",
              "      <td>INTJ</td>\n",
              "      <td>Dear INTP,   I enjoyed our conversation the ot...</td>\n",
              "    </tr>\n",
              "    <tr>\n",
              "      <th>4</th>\n",
              "      <td>ENTJ</td>\n",
              "      <td>You're fired.|||That's another silly misconcep...</td>\n",
              "    </tr>\n",
              "    <tr>\n",
              "      <th>...</th>\n",
              "      <td>...</td>\n",
              "      <td>...</td>\n",
              "    </tr>\n",
              "    <tr>\n",
              "      <th>3336</th>\n",
              "      <td>ISTP</td>\n",
              "      <td>There's no conspiracy. People don't tell you b...</td>\n",
              "    </tr>\n",
              "    <tr>\n",
              "      <th>3337</th>\n",
              "      <td>INTJ</td>\n",
              "      <td>Marie Claire, Do you mind if I ask what you me...</td>\n",
              "    </tr>\n",
              "    <tr>\n",
              "      <th>3338</th>\n",
              "      <td>INFP</td>\n",
              "      <td>I get typed as both a 4w5 and 5w6 as well but ...</td>\n",
              "    </tr>\n",
              "    <tr>\n",
              "      <th>3339</th>\n",
              "      <td>ISFJ</td>\n",
              "      <td>Always talk to strangers, no matter how creepy...</td>\n",
              "    </tr>\n",
              "    <tr>\n",
              "      <th>3340</th>\n",
              "      <td>INFP</td>\n",
              "      <td>there just isn't much good. Sorry to say. Life...</td>\n",
              "    </tr>\n",
              "  </tbody>\n",
              "</table>\n",
              "<p>3341 rows × 2 columns</p>\n",
              "</div>\n",
              "    <div class=\"colab-df-buttons\">\n",
              "\n",
              "  <div class=\"colab-df-container\">\n",
              "    <button class=\"colab-df-convert\" onclick=\"convertToInteractive('df-0bbac9f2-8d34-495f-b101-f5cc253e0533')\"\n",
              "            title=\"Convert this dataframe to an interactive table.\"\n",
              "            style=\"display:none;\">\n",
              "\n",
              "  <svg xmlns=\"http://www.w3.org/2000/svg\" height=\"24px\" viewBox=\"0 -960 960 960\">\n",
              "    <path d=\"M120-120v-720h720v720H120Zm60-500h600v-160H180v160Zm220 220h160v-160H400v160Zm0 220h160v-160H400v160ZM180-400h160v-160H180v160Zm440 0h160v-160H620v160ZM180-180h160v-160H180v160Zm440 0h160v-160H620v160Z\"/>\n",
              "  </svg>\n",
              "    </button>\n",
              "\n",
              "  <style>\n",
              "    .colab-df-container {\n",
              "      display:flex;\n",
              "      gap: 12px;\n",
              "    }\n",
              "\n",
              "    .colab-df-convert {\n",
              "      background-color: #E8F0FE;\n",
              "      border: none;\n",
              "      border-radius: 50%;\n",
              "      cursor: pointer;\n",
              "      display: none;\n",
              "      fill: #1967D2;\n",
              "      height: 32px;\n",
              "      padding: 0 0 0 0;\n",
              "      width: 32px;\n",
              "    }\n",
              "\n",
              "    .colab-df-convert:hover {\n",
              "      background-color: #E2EBFA;\n",
              "      box-shadow: 0px 1px 2px rgba(60, 64, 67, 0.3), 0px 1px 3px 1px rgba(60, 64, 67, 0.15);\n",
              "      fill: #174EA6;\n",
              "    }\n",
              "\n",
              "    .colab-df-buttons div {\n",
              "      margin-bottom: 4px;\n",
              "    }\n",
              "\n",
              "    [theme=dark] .colab-df-convert {\n",
              "      background-color: #3B4455;\n",
              "      fill: #D2E3FC;\n",
              "    }\n",
              "\n",
              "    [theme=dark] .colab-df-convert:hover {\n",
              "      background-color: #434B5C;\n",
              "      box-shadow: 0px 1px 3px 1px rgba(0, 0, 0, 0.15);\n",
              "      filter: drop-shadow(0px 1px 2px rgba(0, 0, 0, 0.3));\n",
              "      fill: #FFFFFF;\n",
              "    }\n",
              "  </style>\n",
              "\n",
              "    <script>\n",
              "      const buttonEl =\n",
              "        document.querySelector('#df-0bbac9f2-8d34-495f-b101-f5cc253e0533 button.colab-df-convert');\n",
              "      buttonEl.style.display =\n",
              "        google.colab.kernel.accessAllowed ? 'block' : 'none';\n",
              "\n",
              "      async function convertToInteractive(key) {\n",
              "        const element = document.querySelector('#df-0bbac9f2-8d34-495f-b101-f5cc253e0533');\n",
              "        const dataTable =\n",
              "          await google.colab.kernel.invokeFunction('convertToInteractive',\n",
              "                                                    [key], {});\n",
              "        if (!dataTable) return;\n",
              "\n",
              "        const docLinkHtml = 'Like what you see? Visit the ' +\n",
              "          '<a target=\"_blank\" href=https://colab.research.google.com/notebooks/data_table.ipynb>data table notebook</a>'\n",
              "          + ' to learn more about interactive tables.';\n",
              "        element.innerHTML = '';\n",
              "        dataTable['output_type'] = 'display_data';\n",
              "        await google.colab.output.renderOutput(dataTable, element);\n",
              "        const docLink = document.createElement('div');\n",
              "        docLink.innerHTML = docLinkHtml;\n",
              "        element.appendChild(docLink);\n",
              "      }\n",
              "    </script>\n",
              "  </div>\n",
              "\n",
              "\n",
              "<div id=\"df-a90c13ef-c9ec-40f3-bed1-1d1fcb0e9fe1\">\n",
              "  <button class=\"colab-df-quickchart\" onclick=\"quickchart('df-a90c13ef-c9ec-40f3-bed1-1d1fcb0e9fe1')\"\n",
              "            title=\"Suggest charts.\"\n",
              "            style=\"display:none;\">\n",
              "\n",
              "<svg xmlns=\"http://www.w3.org/2000/svg\" height=\"24px\"viewBox=\"0 0 24 24\"\n",
              "     width=\"24px\">\n",
              "    <g>\n",
              "        <path d=\"M19 3H5c-1.1 0-2 .9-2 2v14c0 1.1.9 2 2 2h14c1.1 0 2-.9 2-2V5c0-1.1-.9-2-2-2zM9 17H7v-7h2v7zm4 0h-2V7h2v10zm4 0h-2v-4h2v4z\"/>\n",
              "    </g>\n",
              "</svg>\n",
              "  </button>\n",
              "\n",
              "<style>\n",
              "  .colab-df-quickchart {\n",
              "    background-color: #E8F0FE;\n",
              "    border: none;\n",
              "    border-radius: 50%;\n",
              "    cursor: pointer;\n",
              "    display: none;\n",
              "    fill: #1967D2;\n",
              "    height: 32px;\n",
              "    padding: 0 0 0 0;\n",
              "    width: 32px;\n",
              "  }\n",
              "\n",
              "  .colab-df-quickchart:hover {\n",
              "    background-color: #E2EBFA;\n",
              "    box-shadow: 0px 1px 2px rgba(60, 64, 67, 0.3), 0px 1px 3px 1px rgba(60, 64, 67, 0.15);\n",
              "    fill: #174EA6;\n",
              "  }\n",
              "\n",
              "  [theme=dark] .colab-df-quickchart {\n",
              "    background-color: #3B4455;\n",
              "    fill: #D2E3FC;\n",
              "  }\n",
              "\n",
              "  [theme=dark] .colab-df-quickchart:hover {\n",
              "    background-color: #434B5C;\n",
              "    box-shadow: 0px 1px 3px 1px rgba(0, 0, 0, 0.15);\n",
              "    filter: drop-shadow(0px 1px 2px rgba(0, 0, 0, 0.3));\n",
              "    fill: #FFFFFF;\n",
              "  }\n",
              "</style>\n",
              "\n",
              "  <script>\n",
              "    async function quickchart(key) {\n",
              "      const charts = await google.colab.kernel.invokeFunction(\n",
              "          'suggestCharts', [key], {});\n",
              "    }\n",
              "    (() => {\n",
              "      let quickchartButtonEl =\n",
              "        document.querySelector('#df-a90c13ef-c9ec-40f3-bed1-1d1fcb0e9fe1 button');\n",
              "      quickchartButtonEl.style.display =\n",
              "        google.colab.kernel.accessAllowed ? 'block' : 'none';\n",
              "    })();\n",
              "  </script>\n",
              "</div>\n",
              "    </div>\n",
              "  </div>\n"
            ]
          },
          "metadata": {},
          "execution_count": 40
        }
      ]
    },
    {
      "cell_type": "code",
      "source": [
        "df['type'].value_counts"
      ],
      "metadata": {
        "colab": {
          "base_uri": "https://localhost:8080/"
        },
        "id": "FrYh8KkKICUI",
        "outputId": "2016ad84-2abe-49b1-d26b-39b6ca72b8c6"
      },
      "execution_count": null,
      "outputs": [
        {
          "output_type": "execute_result",
          "data": {
            "text/plain": [
              "<bound method IndexOpsMixin.value_counts of 0       INFJ\n",
              "1       ENTP\n",
              "2       INTP\n",
              "3       INTJ\n",
              "4       ENTJ\n",
              "        ... \n",
              "3336    ISTP\n",
              "3337    INTJ\n",
              "3338    INFP\n",
              "3339    ISFJ\n",
              "3340    INFP\n",
              "Name: type, Length: 3341, dtype: object>"
            ]
          },
          "metadata": {},
          "execution_count": 41
        }
      ]
    },
    {
      "cell_type": "code",
      "source": [
        "df_list=[]\n",
        "df_list.append(df.groupby('type')['type'].agg('count'))"
      ],
      "metadata": {
        "id": "KIn1qBZm9Q9t"
      },
      "execution_count": null,
      "outputs": []
    },
    {
      "cell_type": "code",
      "source": [
        "print(df_list)"
      ],
      "metadata": {
        "colab": {
          "base_uri": "https://localhost:8080/"
        },
        "id": "KiD-ieJM-CRf",
        "outputId": "5d06578e-3a0e-4986-d7d5-8295c4a3cc23"
      },
      "execution_count": null,
      "outputs": [
        {
          "output_type": "stream",
          "name": "stdout",
          "text": [
            "[type\n",
            "ENFJ     79\n",
            "ENFP    241\n",
            "ENTJ     77\n",
            "ENTP    281\n",
            "ESFJ     12\n",
            "ESFP     24\n",
            "ESTJ     16\n",
            "ESTP     44\n",
            "INFJ    569\n",
            "INFP    710\n",
            "INTJ    428\n",
            "INTP    485\n",
            "ISFJ     64\n",
            "ISFP     97\n",
            "ISTJ     74\n",
            "ISTP    140\n",
            "Name: type, dtype: int64]\n"
          ]
        }
      ]
    },
    {
      "cell_type": "code",
      "source": [
        "df['new_type']=df['type'].map({\n",
        "    'ENFJ': 0,\n",
        "    'ENFP':1,\n",
        "    'ENTJ':2,\n",
        "    'ENTP':3,\n",
        "    'ESFJ':4,\n",
        "    'ESFP':5,\n",
        "    'ESTP':6,\n",
        "    'INFJ':7,\n",
        "    'INFP':8,\n",
        "    'INTJ':9,\n",
        "    'INTP':10,\n",
        "    'ISFJ':11,\n",
        "    'ISFP':12,\n",
        "    'ISTJ':13,\n",
        "    'ISTP':14,\n",
        "    'ESTJ':15\n",
        "\n",
        "})"
      ],
      "metadata": {
        "id": "TkX8AAdy9dfv"
      },
      "execution_count": null,
      "outputs": []
    },
    {
      "cell_type": "code",
      "source": [
        "df"
      ],
      "metadata": {
        "colab": {
          "base_uri": "https://localhost:8080/",
          "height": 423
        },
        "id": "wKD2gtIw_XhN",
        "outputId": "21cb5c20-1adb-4e77-d462-0b3d1cf548d3"
      },
      "execution_count": null,
      "outputs": [
        {
          "output_type": "execute_result",
          "data": {
            "text/plain": [
              "      type                                              posts  new_type\n",
              "0     INFJ  http://www.youtube.com/watch?v=qsXHcwe3krw|||h...         7\n",
              "1     ENTP  I'm finding the lack of me in these posts very...         3\n",
              "2     INTP  Good one  _____   https://www.youtube.com/watc...        10\n",
              "3     INTJ  Dear INTP,   I enjoyed our conversation the ot...         9\n",
              "4     ENTJ  You're fired.|||That's another silly misconcep...         2\n",
              "...    ...                                                ...       ...\n",
              "3336  ISTP  There's no conspiracy. People don't tell you b...        14\n",
              "3337  INTJ  Marie Claire, Do you mind if I ask what you me...         9\n",
              "3338  INFP  I get typed as both a 4w5 and 5w6 as well but ...         8\n",
              "3339  ISFJ  Always talk to strangers, no matter how creepy...        11\n",
              "3340  INFP  there just isn't much good. Sorry to say. Life...         8\n",
              "\n",
              "[3341 rows x 3 columns]"
            ],
            "text/html": [
              "\n",
              "  <div id=\"df-37b43f67-0ba2-4dd8-86a9-f306bfc6d5b8\" class=\"colab-df-container\">\n",
              "    <div>\n",
              "<style scoped>\n",
              "    .dataframe tbody tr th:only-of-type {\n",
              "        vertical-align: middle;\n",
              "    }\n",
              "\n",
              "    .dataframe tbody tr th {\n",
              "        vertical-align: top;\n",
              "    }\n",
              "\n",
              "    .dataframe thead th {\n",
              "        text-align: right;\n",
              "    }\n",
              "</style>\n",
              "<table border=\"1\" class=\"dataframe\">\n",
              "  <thead>\n",
              "    <tr style=\"text-align: right;\">\n",
              "      <th></th>\n",
              "      <th>type</th>\n",
              "      <th>posts</th>\n",
              "      <th>new_type</th>\n",
              "    </tr>\n",
              "  </thead>\n",
              "  <tbody>\n",
              "    <tr>\n",
              "      <th>0</th>\n",
              "      <td>INFJ</td>\n",
              "      <td>http://www.youtube.com/watch?v=qsXHcwe3krw|||h...</td>\n",
              "      <td>7</td>\n",
              "    </tr>\n",
              "    <tr>\n",
              "      <th>1</th>\n",
              "      <td>ENTP</td>\n",
              "      <td>I'm finding the lack of me in these posts very...</td>\n",
              "      <td>3</td>\n",
              "    </tr>\n",
              "    <tr>\n",
              "      <th>2</th>\n",
              "      <td>INTP</td>\n",
              "      <td>Good one  _____   https://www.youtube.com/watc...</td>\n",
              "      <td>10</td>\n",
              "    </tr>\n",
              "    <tr>\n",
              "      <th>3</th>\n",
              "      <td>INTJ</td>\n",
              "      <td>Dear INTP,   I enjoyed our conversation the ot...</td>\n",
              "      <td>9</td>\n",
              "    </tr>\n",
              "    <tr>\n",
              "      <th>4</th>\n",
              "      <td>ENTJ</td>\n",
              "      <td>You're fired.|||That's another silly misconcep...</td>\n",
              "      <td>2</td>\n",
              "    </tr>\n",
              "    <tr>\n",
              "      <th>...</th>\n",
              "      <td>...</td>\n",
              "      <td>...</td>\n",
              "      <td>...</td>\n",
              "    </tr>\n",
              "    <tr>\n",
              "      <th>3336</th>\n",
              "      <td>ISTP</td>\n",
              "      <td>There's no conspiracy. People don't tell you b...</td>\n",
              "      <td>14</td>\n",
              "    </tr>\n",
              "    <tr>\n",
              "      <th>3337</th>\n",
              "      <td>INTJ</td>\n",
              "      <td>Marie Claire, Do you mind if I ask what you me...</td>\n",
              "      <td>9</td>\n",
              "    </tr>\n",
              "    <tr>\n",
              "      <th>3338</th>\n",
              "      <td>INFP</td>\n",
              "      <td>I get typed as both a 4w5 and 5w6 as well but ...</td>\n",
              "      <td>8</td>\n",
              "    </tr>\n",
              "    <tr>\n",
              "      <th>3339</th>\n",
              "      <td>ISFJ</td>\n",
              "      <td>Always talk to strangers, no matter how creepy...</td>\n",
              "      <td>11</td>\n",
              "    </tr>\n",
              "    <tr>\n",
              "      <th>3340</th>\n",
              "      <td>INFP</td>\n",
              "      <td>there just isn't much good. Sorry to say. Life...</td>\n",
              "      <td>8</td>\n",
              "    </tr>\n",
              "  </tbody>\n",
              "</table>\n",
              "<p>3341 rows × 3 columns</p>\n",
              "</div>\n",
              "    <div class=\"colab-df-buttons\">\n",
              "\n",
              "  <div class=\"colab-df-container\">\n",
              "    <button class=\"colab-df-convert\" onclick=\"convertToInteractive('df-37b43f67-0ba2-4dd8-86a9-f306bfc6d5b8')\"\n",
              "            title=\"Convert this dataframe to an interactive table.\"\n",
              "            style=\"display:none;\">\n",
              "\n",
              "  <svg xmlns=\"http://www.w3.org/2000/svg\" height=\"24px\" viewBox=\"0 -960 960 960\">\n",
              "    <path d=\"M120-120v-720h720v720H120Zm60-500h600v-160H180v160Zm220 220h160v-160H400v160Zm0 220h160v-160H400v160ZM180-400h160v-160H180v160Zm440 0h160v-160H620v160ZM180-180h160v-160H180v160Zm440 0h160v-160H620v160Z\"/>\n",
              "  </svg>\n",
              "    </button>\n",
              "\n",
              "  <style>\n",
              "    .colab-df-container {\n",
              "      display:flex;\n",
              "      gap: 12px;\n",
              "    }\n",
              "\n",
              "    .colab-df-convert {\n",
              "      background-color: #E8F0FE;\n",
              "      border: none;\n",
              "      border-radius: 50%;\n",
              "      cursor: pointer;\n",
              "      display: none;\n",
              "      fill: #1967D2;\n",
              "      height: 32px;\n",
              "      padding: 0 0 0 0;\n",
              "      width: 32px;\n",
              "    }\n",
              "\n",
              "    .colab-df-convert:hover {\n",
              "      background-color: #E2EBFA;\n",
              "      box-shadow: 0px 1px 2px rgba(60, 64, 67, 0.3), 0px 1px 3px 1px rgba(60, 64, 67, 0.15);\n",
              "      fill: #174EA6;\n",
              "    }\n",
              "\n",
              "    .colab-df-buttons div {\n",
              "      margin-bottom: 4px;\n",
              "    }\n",
              "\n",
              "    [theme=dark] .colab-df-convert {\n",
              "      background-color: #3B4455;\n",
              "      fill: #D2E3FC;\n",
              "    }\n",
              "\n",
              "    [theme=dark] .colab-df-convert:hover {\n",
              "      background-color: #434B5C;\n",
              "      box-shadow: 0px 1px 3px 1px rgba(0, 0, 0, 0.15);\n",
              "      filter: drop-shadow(0px 1px 2px rgba(0, 0, 0, 0.3));\n",
              "      fill: #FFFFFF;\n",
              "    }\n",
              "  </style>\n",
              "\n",
              "    <script>\n",
              "      const buttonEl =\n",
              "        document.querySelector('#df-37b43f67-0ba2-4dd8-86a9-f306bfc6d5b8 button.colab-df-convert');\n",
              "      buttonEl.style.display =\n",
              "        google.colab.kernel.accessAllowed ? 'block' : 'none';\n",
              "\n",
              "      async function convertToInteractive(key) {\n",
              "        const element = document.querySelector('#df-37b43f67-0ba2-4dd8-86a9-f306bfc6d5b8');\n",
              "        const dataTable =\n",
              "          await google.colab.kernel.invokeFunction('convertToInteractive',\n",
              "                                                    [key], {});\n",
              "        if (!dataTable) return;\n",
              "\n",
              "        const docLinkHtml = 'Like what you see? Visit the ' +\n",
              "          '<a target=\"_blank\" href=https://colab.research.google.com/notebooks/data_table.ipynb>data table notebook</a>'\n",
              "          + ' to learn more about interactive tables.';\n",
              "        element.innerHTML = '';\n",
              "        dataTable['output_type'] = 'display_data';\n",
              "        await google.colab.output.renderOutput(dataTable, element);\n",
              "        const docLink = document.createElement('div');\n",
              "        docLink.innerHTML = docLinkHtml;\n",
              "        element.appendChild(docLink);\n",
              "      }\n",
              "    </script>\n",
              "  </div>\n",
              "\n",
              "\n",
              "<div id=\"df-89f035f3-922b-41ba-8293-d73684ded852\">\n",
              "  <button class=\"colab-df-quickchart\" onclick=\"quickchart('df-89f035f3-922b-41ba-8293-d73684ded852')\"\n",
              "            title=\"Suggest charts.\"\n",
              "            style=\"display:none;\">\n",
              "\n",
              "<svg xmlns=\"http://www.w3.org/2000/svg\" height=\"24px\"viewBox=\"0 0 24 24\"\n",
              "     width=\"24px\">\n",
              "    <g>\n",
              "        <path d=\"M19 3H5c-1.1 0-2 .9-2 2v14c0 1.1.9 2 2 2h14c1.1 0 2-.9 2-2V5c0-1.1-.9-2-2-2zM9 17H7v-7h2v7zm4 0h-2V7h2v10zm4 0h-2v-4h2v4z\"/>\n",
              "    </g>\n",
              "</svg>\n",
              "  </button>\n",
              "\n",
              "<style>\n",
              "  .colab-df-quickchart {\n",
              "    background-color: #E8F0FE;\n",
              "    border: none;\n",
              "    border-radius: 50%;\n",
              "    cursor: pointer;\n",
              "    display: none;\n",
              "    fill: #1967D2;\n",
              "    height: 32px;\n",
              "    padding: 0 0 0 0;\n",
              "    width: 32px;\n",
              "  }\n",
              "\n",
              "  .colab-df-quickchart:hover {\n",
              "    background-color: #E2EBFA;\n",
              "    box-shadow: 0px 1px 2px rgba(60, 64, 67, 0.3), 0px 1px 3px 1px rgba(60, 64, 67, 0.15);\n",
              "    fill: #174EA6;\n",
              "  }\n",
              "\n",
              "  [theme=dark] .colab-df-quickchart {\n",
              "    background-color: #3B4455;\n",
              "    fill: #D2E3FC;\n",
              "  }\n",
              "\n",
              "  [theme=dark] .colab-df-quickchart:hover {\n",
              "    background-color: #434B5C;\n",
              "    box-shadow: 0px 1px 3px 1px rgba(0, 0, 0, 0.15);\n",
              "    filter: drop-shadow(0px 1px 2px rgba(0, 0, 0, 0.3));\n",
              "    fill: #FFFFFF;\n",
              "  }\n",
              "</style>\n",
              "\n",
              "  <script>\n",
              "    async function quickchart(key) {\n",
              "      const charts = await google.colab.kernel.invokeFunction(\n",
              "          'suggestCharts', [key], {});\n",
              "    }\n",
              "    (() => {\n",
              "      let quickchartButtonEl =\n",
              "        document.querySelector('#df-89f035f3-922b-41ba-8293-d73684ded852 button');\n",
              "      quickchartButtonEl.style.display =\n",
              "        google.colab.kernel.accessAllowed ? 'block' : 'none';\n",
              "    })();\n",
              "  </script>\n",
              "</div>\n",
              "    </div>\n",
              "  </div>\n"
            ]
          },
          "metadata": {},
          "execution_count": 47
        }
      ]
    },
    {
      "cell_type": "code",
      "source": [
        "import gensim.downloader as api"
      ],
      "metadata": {
        "id": "u0HRRegQ_Y_S"
      },
      "execution_count": null,
      "outputs": []
    },
    {
      "cell_type": "code",
      "source": [
        "mv=api.load('word2vec-google-news-300')"
      ],
      "metadata": {
        "colab": {
          "base_uri": "https://localhost:8080/"
        },
        "id": "ARUqC6CJ_xJ-",
        "outputId": "e5e64104-8089-4d6a-b486-40a0e45268b7"
      },
      "execution_count": null,
      "outputs": [
        {
          "output_type": "stream",
          "name": "stdout",
          "text": [
            "[==================================================] 100.0% 1662.8/1662.8MB downloaded\n"
          ]
        }
      ]
    },
    {
      "cell_type": "code",
      "source": [
        "!python -m spacy download en_core_web_lg"
      ],
      "metadata": {
        "colab": {
          "base_uri": "https://localhost:8080/"
        },
        "id": "nScX77vmCad2",
        "outputId": "7707a837-e3aa-429b-d438-5783b1a5e351"
      },
      "execution_count": null,
      "outputs": [
        {
          "output_type": "stream",
          "name": "stdout",
          "text": [
            "2023-08-21 17:00:26.278975: I tensorflow/core/platform/cpu_feature_guard.cc:182] This TensorFlow binary is optimized to use available CPU instructions in performance-critical operations.\n",
            "To enable the following instructions: AVX2 FMA, in other operations, rebuild TensorFlow with the appropriate compiler flags.\n",
            "2023-08-21 17:00:27.963308: W tensorflow/compiler/tf2tensorrt/utils/py_utils.cc:38] TF-TRT Warning: Could not find TensorRT\n",
            "Collecting en-core-web-lg==3.6.0\n",
            "  Downloading https://github.com/explosion/spacy-models/releases/download/en_core_web_lg-3.6.0/en_core_web_lg-3.6.0-py3-none-any.whl (587.7 MB)\n",
            "\u001b[2K     \u001b[90m━━━━━━━━━━━━━━━━━━━━━━━━━━━━━━━━━━━━━━━\u001b[0m \u001b[32m587.7/587.7 MB\u001b[0m \u001b[31m1.8 MB/s\u001b[0m eta \u001b[36m0:00:00\u001b[0m\n",
            "\u001b[?25hRequirement already satisfied: spacy<3.7.0,>=3.6.0 in /usr/local/lib/python3.10/dist-packages (from en-core-web-lg==3.6.0) (3.6.1)\n",
            "Requirement already satisfied: spacy-legacy<3.1.0,>=3.0.11 in /usr/local/lib/python3.10/dist-packages (from spacy<3.7.0,>=3.6.0->en-core-web-lg==3.6.0) (3.0.12)\n",
            "Requirement already satisfied: spacy-loggers<2.0.0,>=1.0.0 in /usr/local/lib/python3.10/dist-packages (from spacy<3.7.0,>=3.6.0->en-core-web-lg==3.6.0) (1.0.4)\n",
            "Requirement already satisfied: murmurhash<1.1.0,>=0.28.0 in /usr/local/lib/python3.10/dist-packages (from spacy<3.7.0,>=3.6.0->en-core-web-lg==3.6.0) (1.0.9)\n",
            "Requirement already satisfied: cymem<2.1.0,>=2.0.2 in /usr/local/lib/python3.10/dist-packages (from spacy<3.7.0,>=3.6.0->en-core-web-lg==3.6.0) (2.0.7)\n",
            "Requirement already satisfied: preshed<3.1.0,>=3.0.2 in /usr/local/lib/python3.10/dist-packages (from spacy<3.7.0,>=3.6.0->en-core-web-lg==3.6.0) (3.0.8)\n",
            "Requirement already satisfied: thinc<8.2.0,>=8.1.8 in /usr/local/lib/python3.10/dist-packages (from spacy<3.7.0,>=3.6.0->en-core-web-lg==3.6.0) (8.1.12)\n",
            "Requirement already satisfied: wasabi<1.2.0,>=0.9.1 in /usr/local/lib/python3.10/dist-packages (from spacy<3.7.0,>=3.6.0->en-core-web-lg==3.6.0) (1.1.2)\n",
            "Requirement already satisfied: srsly<3.0.0,>=2.4.3 in /usr/local/lib/python3.10/dist-packages (from spacy<3.7.0,>=3.6.0->en-core-web-lg==3.6.0) (2.4.7)\n",
            "Requirement already satisfied: catalogue<2.1.0,>=2.0.6 in /usr/local/lib/python3.10/dist-packages (from spacy<3.7.0,>=3.6.0->en-core-web-lg==3.6.0) (2.0.9)\n",
            "Requirement already satisfied: typer<0.10.0,>=0.3.0 in /usr/local/lib/python3.10/dist-packages (from spacy<3.7.0,>=3.6.0->en-core-web-lg==3.6.0) (0.9.0)\n",
            "Requirement already satisfied: pathy>=0.10.0 in /usr/local/lib/python3.10/dist-packages (from spacy<3.7.0,>=3.6.0->en-core-web-lg==3.6.0) (0.10.2)\n",
            "Requirement already satisfied: smart-open<7.0.0,>=5.2.1 in /usr/local/lib/python3.10/dist-packages (from spacy<3.7.0,>=3.6.0->en-core-web-lg==3.6.0) (6.3.0)\n",
            "Requirement already satisfied: tqdm<5.0.0,>=4.38.0 in /usr/local/lib/python3.10/dist-packages (from spacy<3.7.0,>=3.6.0->en-core-web-lg==3.6.0) (4.66.1)\n",
            "Requirement already satisfied: numpy>=1.15.0 in /usr/local/lib/python3.10/dist-packages (from spacy<3.7.0,>=3.6.0->en-core-web-lg==3.6.0) (1.23.5)\n",
            "Requirement already satisfied: requests<3.0.0,>=2.13.0 in /usr/local/lib/python3.10/dist-packages (from spacy<3.7.0,>=3.6.0->en-core-web-lg==3.6.0) (2.31.0)\n",
            "Requirement already satisfied: pydantic!=1.8,!=1.8.1,<3.0.0,>=1.7.4 in /usr/local/lib/python3.10/dist-packages (from spacy<3.7.0,>=3.6.0->en-core-web-lg==3.6.0) (2.1.1)\n",
            "Requirement already satisfied: jinja2 in /usr/local/lib/python3.10/dist-packages (from spacy<3.7.0,>=3.6.0->en-core-web-lg==3.6.0) (3.1.2)\n",
            "Requirement already satisfied: setuptools in /usr/local/lib/python3.10/dist-packages (from spacy<3.7.0,>=3.6.0->en-core-web-lg==3.6.0) (67.7.2)\n",
            "Requirement already satisfied: packaging>=20.0 in /usr/local/lib/python3.10/dist-packages (from spacy<3.7.0,>=3.6.0->en-core-web-lg==3.6.0) (23.1)\n",
            "Requirement already satisfied: langcodes<4.0.0,>=3.2.0 in /usr/local/lib/python3.10/dist-packages (from spacy<3.7.0,>=3.6.0->en-core-web-lg==3.6.0) (3.3.0)\n",
            "Requirement already satisfied: annotated-types>=0.4.0 in /usr/local/lib/python3.10/dist-packages (from pydantic!=1.8,!=1.8.1,<3.0.0,>=1.7.4->spacy<3.7.0,>=3.6.0->en-core-web-lg==3.6.0) (0.5.0)\n",
            "Requirement already satisfied: pydantic-core==2.4.0 in /usr/local/lib/python3.10/dist-packages (from pydantic!=1.8,!=1.8.1,<3.0.0,>=1.7.4->spacy<3.7.0,>=3.6.0->en-core-web-lg==3.6.0) (2.4.0)\n",
            "Requirement already satisfied: typing-extensions>=4.6.1 in /usr/local/lib/python3.10/dist-packages (from pydantic!=1.8,!=1.8.1,<3.0.0,>=1.7.4->spacy<3.7.0,>=3.6.0->en-core-web-lg==3.6.0) (4.7.1)\n",
            "Requirement already satisfied: charset-normalizer<4,>=2 in /usr/local/lib/python3.10/dist-packages (from requests<3.0.0,>=2.13.0->spacy<3.7.0,>=3.6.0->en-core-web-lg==3.6.0) (3.2.0)\n",
            "Requirement already satisfied: idna<4,>=2.5 in /usr/local/lib/python3.10/dist-packages (from requests<3.0.0,>=2.13.0->spacy<3.7.0,>=3.6.0->en-core-web-lg==3.6.0) (3.4)\n",
            "Requirement already satisfied: urllib3<3,>=1.21.1 in /usr/local/lib/python3.10/dist-packages (from requests<3.0.0,>=2.13.0->spacy<3.7.0,>=3.6.0->en-core-web-lg==3.6.0) (2.0.4)\n",
            "Requirement already satisfied: certifi>=2017.4.17 in /usr/local/lib/python3.10/dist-packages (from requests<3.0.0,>=2.13.0->spacy<3.7.0,>=3.6.0->en-core-web-lg==3.6.0) (2023.7.22)\n",
            "Requirement already satisfied: blis<0.8.0,>=0.7.8 in /usr/local/lib/python3.10/dist-packages (from thinc<8.2.0,>=8.1.8->spacy<3.7.0,>=3.6.0->en-core-web-lg==3.6.0) (0.7.10)\n",
            "Requirement already satisfied: confection<1.0.0,>=0.0.1 in /usr/local/lib/python3.10/dist-packages (from thinc<8.2.0,>=8.1.8->spacy<3.7.0,>=3.6.0->en-core-web-lg==3.6.0) (0.1.1)\n",
            "Requirement already satisfied: click<9.0.0,>=7.1.1 in /usr/local/lib/python3.10/dist-packages (from typer<0.10.0,>=0.3.0->spacy<3.7.0,>=3.6.0->en-core-web-lg==3.6.0) (8.1.6)\n",
            "Requirement already satisfied: MarkupSafe>=2.0 in /usr/local/lib/python3.10/dist-packages (from jinja2->spacy<3.7.0,>=3.6.0->en-core-web-lg==3.6.0) (2.1.3)\n",
            "Installing collected packages: en-core-web-lg\n",
            "Successfully installed en-core-web-lg-3.6.0\n",
            "\u001b[38;5;2m✔ Download and installation successful\u001b[0m\n",
            "You can now load the package via spacy.load('en_core_web_lg')\n"
          ]
        }
      ]
    },
    {
      "cell_type": "code",
      "source": [
        "import spacy\n",
        "nlp=spacy.load('en_core_web_lg')"
      ],
      "metadata": {
        "id": "a7DAfzdACIct"
      },
      "execution_count": null,
      "outputs": []
    },
    {
      "cell_type": "code",
      "source": [
        "def preprocess(text):\n",
        "  doc=nlp(text)\n",
        "  filtered_tokens=[]\n",
        "  for token in doc:\n",
        "    if not token.is_stop and not token.is_punct:\n",
        "      filtered_tokens.append(token.lemma_)\n",
        "  return mv.get_mean_vector(filtered_tokens)\n"
      ],
      "metadata": {
        "id": "oBv9Mev0_3sl"
      },
      "execution_count": null,
      "outputs": []
    },
    {
      "cell_type": "code",
      "source": [
        "df['vector']=df.posts.apply(lambda x: preprocess(x))"
      ],
      "metadata": {
        "id": "5xpIzxFxDhfP"
      },
      "execution_count": null,
      "outputs": []
    },
    {
      "cell_type": "code",
      "source": [
        "df['vector']"
      ],
      "metadata": {
        "colab": {
          "base_uri": "https://localhost:8080/"
        },
        "id": "bPWIZGkHDuNb",
        "outputId": "e8af66ae-3c54-4ed9-a791-925b631c8de3"
      },
      "execution_count": null,
      "outputs": [
        {
          "output_type": "execute_result",
          "data": {
            "text/plain": [
              "0       [0.009164877, 0.014793137, 0.000253428, 0.0458...\n",
              "1       [0.01883827, 0.007221167, 0.00089683017, 0.037...\n",
              "2       [0.022305923, 0.010939572, -0.00043027796, 0.0...\n",
              "3       [0.01766172, 0.008390619, -0.00049512193, 0.04...\n",
              "4       [0.018471768, 0.011556651, 0.0026981656, 0.045...\n",
              "                              ...                        \n",
              "3336    [0.015290176, 0.008463632, -0.0029410252, 0.03...\n",
              "3337    [0.02220318, 0.008893155, -0.0031635445, 0.040...\n",
              "3338    [0.025242312, 0.011381488, -0.0020128472, 0.04...\n",
              "3339    [0.0059296433, 0.015585816, 0.0033892216, 0.03...\n",
              "3340    [0.019004328, 0.0046783844, 0.00047370995, 0.0...\n",
              "Name: vector, Length: 3341, dtype: object"
            ]
          },
          "metadata": {},
          "execution_count": 55
        }
      ]
    },
    {
      "cell_type": "code",
      "source": [
        "df"
      ],
      "metadata": {
        "colab": {
          "base_uri": "https://localhost:8080/",
          "height": 706
        },
        "id": "P9qCmdugHaVX",
        "outputId": "7a65b513-a45f-4430-d2fd-625a6a145646"
      },
      "execution_count": null,
      "outputs": [
        {
          "output_type": "execute_result",
          "data": {
            "text/plain": [
              "      type                                              posts  new_type  \\\n",
              "0     INFJ  http://www.youtube.com/watch?v=qsXHcwe3krw|||h...         7   \n",
              "1     ENTP  I'm finding the lack of me in these posts very...         3   \n",
              "2     INTP  Good one  _____   https://www.youtube.com/watc...        10   \n",
              "3     INTJ  Dear INTP,   I enjoyed our conversation the ot...         9   \n",
              "4     ENTJ  You're fired.|||That's another silly misconcep...         2   \n",
              "...    ...                                                ...       ...   \n",
              "3336  ISTP  There's no conspiracy. People don't tell you b...        14   \n",
              "3337  INTJ  Marie Claire, Do you mind if I ask what you me...         9   \n",
              "3338  INFP  I get typed as both a 4w5 and 5w6 as well but ...         8   \n",
              "3339  ISFJ  Always talk to strangers, no matter how creepy...        11   \n",
              "3340  INFP  there just isn't much good. Sorry to say. Life...         8   \n",
              "\n",
              "                                                 vector  \n",
              "0     [0.009164877, 0.014793137, 0.000253428, 0.0458...  \n",
              "1     [0.01883827, 0.007221167, 0.00089683017, 0.037...  \n",
              "2     [0.022305923, 0.010939572, -0.00043027796, 0.0...  \n",
              "3     [0.01766172, 0.008390619, -0.00049512193, 0.04...  \n",
              "4     [0.018471768, 0.011556651, 0.0026981656, 0.045...  \n",
              "...                                                 ...  \n",
              "3336  [0.015290176, 0.008463632, -0.0029410252, 0.03...  \n",
              "3337  [0.02220318, 0.008893155, -0.0031635445, 0.040...  \n",
              "3338  [0.025242312, 0.011381488, -0.0020128472, 0.04...  \n",
              "3339  [0.0059296433, 0.015585816, 0.0033892216, 0.03...  \n",
              "3340  [0.019004328, 0.0046783844, 0.00047370995, 0.0...  \n",
              "\n",
              "[3341 rows x 4 columns]"
            ],
            "text/html": [
              "\n",
              "  <div id=\"df-a7f26905-9201-4c9d-a54c-9b5513f082ba\" class=\"colab-df-container\">\n",
              "    <div>\n",
              "<style scoped>\n",
              "    .dataframe tbody tr th:only-of-type {\n",
              "        vertical-align: middle;\n",
              "    }\n",
              "\n",
              "    .dataframe tbody tr th {\n",
              "        vertical-align: top;\n",
              "    }\n",
              "\n",
              "    .dataframe thead th {\n",
              "        text-align: right;\n",
              "    }\n",
              "</style>\n",
              "<table border=\"1\" class=\"dataframe\">\n",
              "  <thead>\n",
              "    <tr style=\"text-align: right;\">\n",
              "      <th></th>\n",
              "      <th>type</th>\n",
              "      <th>posts</th>\n",
              "      <th>new_type</th>\n",
              "      <th>vector</th>\n",
              "    </tr>\n",
              "  </thead>\n",
              "  <tbody>\n",
              "    <tr>\n",
              "      <th>0</th>\n",
              "      <td>INFJ</td>\n",
              "      <td>http://www.youtube.com/watch?v=qsXHcwe3krw|||h...</td>\n",
              "      <td>7</td>\n",
              "      <td>[0.009164877, 0.014793137, 0.000253428, 0.0458...</td>\n",
              "    </tr>\n",
              "    <tr>\n",
              "      <th>1</th>\n",
              "      <td>ENTP</td>\n",
              "      <td>I'm finding the lack of me in these posts very...</td>\n",
              "      <td>3</td>\n",
              "      <td>[0.01883827, 0.007221167, 0.00089683017, 0.037...</td>\n",
              "    </tr>\n",
              "    <tr>\n",
              "      <th>2</th>\n",
              "      <td>INTP</td>\n",
              "      <td>Good one  _____   https://www.youtube.com/watc...</td>\n",
              "      <td>10</td>\n",
              "      <td>[0.022305923, 0.010939572, -0.00043027796, 0.0...</td>\n",
              "    </tr>\n",
              "    <tr>\n",
              "      <th>3</th>\n",
              "      <td>INTJ</td>\n",
              "      <td>Dear INTP,   I enjoyed our conversation the ot...</td>\n",
              "      <td>9</td>\n",
              "      <td>[0.01766172, 0.008390619, -0.00049512193, 0.04...</td>\n",
              "    </tr>\n",
              "    <tr>\n",
              "      <th>4</th>\n",
              "      <td>ENTJ</td>\n",
              "      <td>You're fired.|||That's another silly misconcep...</td>\n",
              "      <td>2</td>\n",
              "      <td>[0.018471768, 0.011556651, 0.0026981656, 0.045...</td>\n",
              "    </tr>\n",
              "    <tr>\n",
              "      <th>...</th>\n",
              "      <td>...</td>\n",
              "      <td>...</td>\n",
              "      <td>...</td>\n",
              "      <td>...</td>\n",
              "    </tr>\n",
              "    <tr>\n",
              "      <th>3336</th>\n",
              "      <td>ISTP</td>\n",
              "      <td>There's no conspiracy. People don't tell you b...</td>\n",
              "      <td>14</td>\n",
              "      <td>[0.015290176, 0.008463632, -0.0029410252, 0.03...</td>\n",
              "    </tr>\n",
              "    <tr>\n",
              "      <th>3337</th>\n",
              "      <td>INTJ</td>\n",
              "      <td>Marie Claire, Do you mind if I ask what you me...</td>\n",
              "      <td>9</td>\n",
              "      <td>[0.02220318, 0.008893155, -0.0031635445, 0.040...</td>\n",
              "    </tr>\n",
              "    <tr>\n",
              "      <th>3338</th>\n",
              "      <td>INFP</td>\n",
              "      <td>I get typed as both a 4w5 and 5w6 as well but ...</td>\n",
              "      <td>8</td>\n",
              "      <td>[0.025242312, 0.011381488, -0.0020128472, 0.04...</td>\n",
              "    </tr>\n",
              "    <tr>\n",
              "      <th>3339</th>\n",
              "      <td>ISFJ</td>\n",
              "      <td>Always talk to strangers, no matter how creepy...</td>\n",
              "      <td>11</td>\n",
              "      <td>[0.0059296433, 0.015585816, 0.0033892216, 0.03...</td>\n",
              "    </tr>\n",
              "    <tr>\n",
              "      <th>3340</th>\n",
              "      <td>INFP</td>\n",
              "      <td>there just isn't much good. Sorry to say. Life...</td>\n",
              "      <td>8</td>\n",
              "      <td>[0.019004328, 0.0046783844, 0.00047370995, 0.0...</td>\n",
              "    </tr>\n",
              "  </tbody>\n",
              "</table>\n",
              "<p>3341 rows × 4 columns</p>\n",
              "</div>\n",
              "    <div class=\"colab-df-buttons\">\n",
              "\n",
              "  <div class=\"colab-df-container\">\n",
              "    <button class=\"colab-df-convert\" onclick=\"convertToInteractive('df-a7f26905-9201-4c9d-a54c-9b5513f082ba')\"\n",
              "            title=\"Convert this dataframe to an interactive table.\"\n",
              "            style=\"display:none;\">\n",
              "\n",
              "  <svg xmlns=\"http://www.w3.org/2000/svg\" height=\"24px\" viewBox=\"0 -960 960 960\">\n",
              "    <path d=\"M120-120v-720h720v720H120Zm60-500h600v-160H180v160Zm220 220h160v-160H400v160Zm0 220h160v-160H400v160ZM180-400h160v-160H180v160Zm440 0h160v-160H620v160ZM180-180h160v-160H180v160Zm440 0h160v-160H620v160Z\"/>\n",
              "  </svg>\n",
              "    </button>\n",
              "\n",
              "  <style>\n",
              "    .colab-df-container {\n",
              "      display:flex;\n",
              "      gap: 12px;\n",
              "    }\n",
              "\n",
              "    .colab-df-convert {\n",
              "      background-color: #E8F0FE;\n",
              "      border: none;\n",
              "      border-radius: 50%;\n",
              "      cursor: pointer;\n",
              "      display: none;\n",
              "      fill: #1967D2;\n",
              "      height: 32px;\n",
              "      padding: 0 0 0 0;\n",
              "      width: 32px;\n",
              "    }\n",
              "\n",
              "    .colab-df-convert:hover {\n",
              "      background-color: #E2EBFA;\n",
              "      box-shadow: 0px 1px 2px rgba(60, 64, 67, 0.3), 0px 1px 3px 1px rgba(60, 64, 67, 0.15);\n",
              "      fill: #174EA6;\n",
              "    }\n",
              "\n",
              "    .colab-df-buttons div {\n",
              "      margin-bottom: 4px;\n",
              "    }\n",
              "\n",
              "    [theme=dark] .colab-df-convert {\n",
              "      background-color: #3B4455;\n",
              "      fill: #D2E3FC;\n",
              "    }\n",
              "\n",
              "    [theme=dark] .colab-df-convert:hover {\n",
              "      background-color: #434B5C;\n",
              "      box-shadow: 0px 1px 3px 1px rgba(0, 0, 0, 0.15);\n",
              "      filter: drop-shadow(0px 1px 2px rgba(0, 0, 0, 0.3));\n",
              "      fill: #FFFFFF;\n",
              "    }\n",
              "  </style>\n",
              "\n",
              "    <script>\n",
              "      const buttonEl =\n",
              "        document.querySelector('#df-a7f26905-9201-4c9d-a54c-9b5513f082ba button.colab-df-convert');\n",
              "      buttonEl.style.display =\n",
              "        google.colab.kernel.accessAllowed ? 'block' : 'none';\n",
              "\n",
              "      async function convertToInteractive(key) {\n",
              "        const element = document.querySelector('#df-a7f26905-9201-4c9d-a54c-9b5513f082ba');\n",
              "        const dataTable =\n",
              "          await google.colab.kernel.invokeFunction('convertToInteractive',\n",
              "                                                    [key], {});\n",
              "        if (!dataTable) return;\n",
              "\n",
              "        const docLinkHtml = 'Like what you see? Visit the ' +\n",
              "          '<a target=\"_blank\" href=https://colab.research.google.com/notebooks/data_table.ipynb>data table notebook</a>'\n",
              "          + ' to learn more about interactive tables.';\n",
              "        element.innerHTML = '';\n",
              "        dataTable['output_type'] = 'display_data';\n",
              "        await google.colab.output.renderOutput(dataTable, element);\n",
              "        const docLink = document.createElement('div');\n",
              "        docLink.innerHTML = docLinkHtml;\n",
              "        element.appendChild(docLink);\n",
              "      }\n",
              "    </script>\n",
              "  </div>\n",
              "\n",
              "\n",
              "<div id=\"df-5ebd1eba-f038-4ab8-8365-1f267707198f\">\n",
              "  <button class=\"colab-df-quickchart\" onclick=\"quickchart('df-5ebd1eba-f038-4ab8-8365-1f267707198f')\"\n",
              "            title=\"Suggest charts.\"\n",
              "            style=\"display:none;\">\n",
              "\n",
              "<svg xmlns=\"http://www.w3.org/2000/svg\" height=\"24px\"viewBox=\"0 0 24 24\"\n",
              "     width=\"24px\">\n",
              "    <g>\n",
              "        <path d=\"M19 3H5c-1.1 0-2 .9-2 2v14c0 1.1.9 2 2 2h14c1.1 0 2-.9 2-2V5c0-1.1-.9-2-2-2zM9 17H7v-7h2v7zm4 0h-2V7h2v10zm4 0h-2v-4h2v4z\"/>\n",
              "    </g>\n",
              "</svg>\n",
              "  </button>\n",
              "\n",
              "<style>\n",
              "  .colab-df-quickchart {\n",
              "    background-color: #E8F0FE;\n",
              "    border: none;\n",
              "    border-radius: 50%;\n",
              "    cursor: pointer;\n",
              "    display: none;\n",
              "    fill: #1967D2;\n",
              "    height: 32px;\n",
              "    padding: 0 0 0 0;\n",
              "    width: 32px;\n",
              "  }\n",
              "\n",
              "  .colab-df-quickchart:hover {\n",
              "    background-color: #E2EBFA;\n",
              "    box-shadow: 0px 1px 2px rgba(60, 64, 67, 0.3), 0px 1px 3px 1px rgba(60, 64, 67, 0.15);\n",
              "    fill: #174EA6;\n",
              "  }\n",
              "\n",
              "  [theme=dark] .colab-df-quickchart {\n",
              "    background-color: #3B4455;\n",
              "    fill: #D2E3FC;\n",
              "  }\n",
              "\n",
              "  [theme=dark] .colab-df-quickchart:hover {\n",
              "    background-color: #434B5C;\n",
              "    box-shadow: 0px 1px 3px 1px rgba(0, 0, 0, 0.15);\n",
              "    filter: drop-shadow(0px 1px 2px rgba(0, 0, 0, 0.3));\n",
              "    fill: #FFFFFF;\n",
              "  }\n",
              "</style>\n",
              "\n",
              "  <script>\n",
              "    async function quickchart(key) {\n",
              "      const charts = await google.colab.kernel.invokeFunction(\n",
              "          'suggestCharts', [key], {});\n",
              "    }\n",
              "    (() => {\n",
              "      let quickchartButtonEl =\n",
              "        document.querySelector('#df-5ebd1eba-f038-4ab8-8365-1f267707198f button');\n",
              "      quickchartButtonEl.style.display =\n",
              "        google.colab.kernel.accessAllowed ? 'block' : 'none';\n",
              "    })();\n",
              "  </script>\n",
              "</div>\n",
              "    </div>\n",
              "  </div>\n"
            ]
          },
          "metadata": {},
          "execution_count": 56
        },
        {
          "output_type": "stream",
          "name": "stderr",
          "text": [
            "WARNING:root:Quickchart encountered unexpected dtypes in columns: \"(['vector'],)\"\n"
          ]
        },
        {
          "output_type": "display_data",
          "data": {
            "text/plain": [
              "<google.colab._quickchart_helpers.SectionTitle at 0x7fb35cccbeb0>"
            ],
            "text/html": [
              "<h4 class=\"colab-quickchart-section-title\">Values</h4>\n",
              "<style>\n",
              "  .colab-quickchart-section-title {\n",
              "      clear: both;\n",
              "  }\n",
              "</style>"
            ]
          },
          "metadata": {}
        },
        {
          "output_type": "display_data",
          "data": {
            "text/plain": [
              "import numpy as np\n",
              "from google.colab import autoviz\n",
              "\n",
              "def value_plot(df, y, figscale=1):\n",
              "  from matplotlib import pyplot as plt\n",
              "  df[y].plot(kind='line', figsize=(8 * figscale, 4 * figscale), title=y)\n",
              "  plt.gca().spines[['top', 'right']].set_visible(False)\n",
              "  plt.tight_layout()\n",
              "  return autoviz.MplChart.from_current_mpl_state()\n",
              "\n",
              "chart = value_plot(df, *['new_type'], **{})\n",
              "chart"
            ],
            "text/html": [
              "      <div class=\"colab-quickchart-chart-with-code\" id=\"chart-49b917ff-eac8-4bc3-a162-dac27c4e35c6\">\n",
              "        <img src=\"data:image/png;base64,iVBORw0KGgoAAAANSUhEUgAAAMQAAABgCAYAAABCK92TAAAAOXRFWHRTb2Z0d2FyZQBNYXRwbG90\n",
              "bGliIHZlcnNpb24zLjcuMSwgaHR0cHM6Ly9tYXRwbG90bGliLm9yZy/bCgiHAAAACXBIWXMAAA9h\n",
              "AAAPYQGoP6dpAAAROElEQVR4nO3deVhTZ74H8G/YIgYIlaXsQRalZYkFQapipBbUOlftqK3bg9JF\n",
              "21r1ubV9qLfD5VoRHKxMbW8t1FuZYVAZ2zLWVrE6ilRa2eqORVCBRBZRNlEgQvK7f3Q8JmVPAgn6\n",
              "fp4nz0PO+573/HLIN8lJTt7wiIjAMAwAwEjfBTCMIWGBYBgVLBAMo4IFgmFUsEAwjAoWCIZRwQLB\n",
              "MCpYIBhGBQsEw6hggWAYFSwQI9zJkyfB4/HQ1dWl71IeCSwQDKOCBUIL06dPx/r167F06VIIhUK4\n",
              "urri888/59oLCgowffp02NjYQCQSITY2lnsk37BhA5YsWcL1jY6OhrGxMZqamrh1BQIB5HJ5r9uX\n",
              "SqWYPXs2AMDa2hoWFhZISEhAbGwswsPD1frW1dXBzMwM586dAwDweDwkJycjODgYFhYWCAkJQXFx\n",
              "sdo66enpEIvFEAqF8PX1RWZmpuY7a6QgRmMSiYSsrKzo+PHjpFAo6OuvvyYjIyMqLy+n0tJSEggE\n",
              "tG/fPurs7KTKykoKCAig+Ph4IiLKzs4mW1tbUiqVRETk5ORE3t7etH//fiIi2rx5M82aNavfGnJy\n",
              "cggAdXZ2csukUimZmJhQWVkZtyw+Pp4mTZrEXQdAnp6eVFJSQh0dHRQXF0e2trbU3NxMRERpaWnk\n",
              "6upKRUVFpFAo6NSpU2RpaUmnTp3SfscZMBYILUgkEoqOjlZbZmtrS5mZmbR27VpavHixWltGRgZ5\n",
              "enoSEVFbWxvx+XwqLi6mixcvkkgkouTkZHr11VeJiCgsLIySk5P7raGnQBARzZ07l959910iIlIo\n",
              "FCQSiSgtLY1rB0CffPIJd12hUJCDgwOlp6cTEZG/vz+lpKSojfnaa69x9T2qTPT7/DTyOTk5qV0X\n",
              "CARobW1FeXk5cnJyYG1tzbUplUoolUoAgLm5OaZOnYqjR4+Cz+cjMjISkZGRSE5ORmtrK/Lz89Ve\n",
              "fg3WW2+9heXLl2PLli04fvw4Wlpa8PLLL6v1GTt2LPe3kZERRCIRZDIZAKC8vBwbNmxATEwM16er\n",
              "qwvTpk3TuKaRgAViiDg4OGDp0qXYvXt3r30iIiJw5MgR8Pl8vP766/D19QURYefOnbCzs4Ovr2+/\n",
              "2zEy6vkwMDIyEkKhEFlZWcjMzERUVBTMzc3V+lRWVnJ/K5VKSKVSuLi4cPVv2rQJUVFRA7i1jxB9\n",
              "P0WNZBKJhD744AO1ZSKRiHbt2kWFhYVkaWlJ+/fvJ7lcTl1dXVReXk7Z2dlc3zNnzpCZmRlZWFhQ\n",
              "U1MTERFFR0eTUCikFStWDKiGK1euEAC6dOlSt7Zt27ZRQEAAmZiYUElJiVobAPLy8qLLly+TXC6n\n",
              "Dz/8kGxsbLg6Pv74Y/Ly8qLCwkJSKBTU0dFBhYWFVFxcPPAdNAKxQGihr0AQEeXn51NERATZ2tqS\n",
              "UCgksVis9rpcqVSSvb09hYaGcssyMzMJAO3Zs2fAdaxdu5bs7OxIKBRSYmIit/z27dvE5/MpLCys\n",
              "2zoAaPv27RQUFEQCgYAmTpxIBQUFan0yMjIoMDCQhEIh2djYkEQiodzc3AHXNRLxiNh3qh9VCoUC\n",
              "bm5uSEpKwrJly9TaeDwejh07hueff15P1Rkm9jnEI+yLL76AkZERFi1apO9SRgwWCAO3Z88eWFhY\n",
              "9HhRfQdIVUtLCywtLbFlyxbs3r0bZmZmw1z1yMVeMjGMCvYMwTAqWCAYRgULBMOoYIFgGBUGE4gd\n",
              "O3bouwSGMZxAVFVVDev2UnOvYVpSDhKzf0VY0gnIGtu69fnrTxWY+uee2/py804HJNtykJJ7TW35\n",
              "mxm/YMkX+VAqH76xt7dAiilbT+Darbuob/1tvZ0nr3LtO09ehWRbDupbO7hlHZ0KzPr4R8R9e6nP\n",
              "Ot7eewYvpZxW215P2u53IfIvudj8/WUAwC9VTZiceBxHLtWipb0Tz20/iW0/lA749j/wZV5Fr/uW\n",
              "iLB0Vz5WpRf3sObAVN6+h6l/PoG/5+vuvmMwgRhuidmlkDa2ITX3OmSN7Ug4/Gu3Pv/z3WXcaGrn\n",
              "7igD9fG/ylDV0Iat2Q/vRAolIftSHU5fb8D12/e45f/1z4uobm7HxqyL2PGvclQ1tCHpyBWuPenI\n",
              "FVQ1tOGT4+XcskMXalFa14q/ne77jvD9hVoUVjbi17o7ffbLOlONspt38WVeBQDglb8WoaalA29k\n",
              "nEFGfhWu37qHz3Ku9TlGTzZ/fxmyxnZsP3qlW1tVQxt+vtaAo5dv4n6XctBjA0DcwRLcaGpH7IG+\n",
              "HxgGw2A+h3jnnXeQnJzcY1thRSP+USSDEQ84WXYLt1rl+GxpIA6er8YvVU1IfmkC3vv6PKZ62eEF\n",
              "fwcUVDQiZpYPpI1t2J1XgRf8HbFkVz43ntUoE9zp6P07yNsXiVHT3I7tx8p6bBe7WuO8rBkA8O2a\n",
              "KUjM/hX51xthIzBDw737an3TooPx89Xb2BA5Hj6xR7jlTsJRqGnpQG+E5qYgIrU6v3lzMr47XwO3\n",
              "MaPx4b9D+v3aqTh4vgbWo02RdOQK1s3wxp32ThjxeNj9U4XamM/52ONEaT0A4I+Bzsg6U93jdlva\n",
              "O7nr0VPckfZTJYDf9tssPwcEuj2B97Muqq2XsjwIs/wccOhCLdbsPQMLvgnuyh/WHuoxBvfkCrw/\n",
              "2wddSsLGby5wt3/zfD8cPFeNW61yRPo6wMfBEluzS1HfKsdcsRPMTY0RPdUdPg5WOH2tQe1/qWpJ\n",
              "iCsS/xjQ6z4diBERCPf3Dw16vG0LA7Dthyuob+39K5jDadNcX8QdLNHJWOamxmjvVOhkLF2q3DpH\n",
              "o/+VLsev3DpHq208si+Zals6DCYMAHQWBgAGGQYA+L9T14d0/Hn/mzek4wOPcCBOld/SdwmPnfhD\n",
              "3Y/DdOn8jZYhHR94hANRVNmk7xKYEcjgA1Hd3K7vEpjHiMEH4stTFf13YhgdGVQg1q1bB3d3d/B4\n",
              "PG7CK+C3GRomT56McePGITg4GCUlujuANOLpbCiG6degArFw4ULk5eVBJBKpLV+9ejVWrVqFsrIy\n",
              "xMTEYOXKlTorkMcCwQzCYM8q+L1BBWLatGncNCUP1NfXo7i4GMuXLwcALFiwADKZDFevXu1piEFR\n",
              "KAm72EsmZhDuKzT71PsBredlkslkcHR0hInJb0PxeDy4ublBKpXCy8urx3Xkcnm3OUsViu7vre8t\n",
              "GN7zmxhGLwfViYmJEAqFapfCwsJu/X6+1qCH6pjHmdaBcHV1RW1tLTerNRFBKpXCzc2t13U2btyI\n",
              "lpYWtUtISEi3fr8/L4hhhprWgbC3t0dgYCAyMjIAAN988w1cXFx6fbkEAHw+H1ZWVmoXY2Pjbv0K\n",
              "Kxq1LY95zGh7at6gArF69Wq4uLjgxo0bmDlzJnenT01NRWpqKsaNG4etW7ciLS1Nq6IYRlNd/Xz3\n",
              "oz+DOqhOTU3tcfn48eNx+vRprQrpiakxD50KgzgZlxkhRptq9z6RQX9SzcLADNaTQr5W6xt0IBhm\n",
              "sPgm3Y9FB4MFgmFUsEAwjAoWCIZRwQLBMCpYIBhGBQsEw6hggWAYFSwQDKOCBYJhVBh0INaEe+q7\n",
              "BOYxY9CBEJqb6rsE5jFj0IFYHNL7l4wY5vdWSzy0HkOngdD1dDRWo9gzBDNwi4Jc+u/UD50GYiin\n",
              "o2GY/jgIzbUeQ2eBGMrpaHry0kQXvDdzPDJXhfbZbzAH5nP8HTHH37HffkkLBvYbBN+umYKkBQH4\n",
              "y8vibm0pywP7XHfnskD8ac5TOBsbMaBtzZvghDOxEcjfOANvh6t/fddJOIr7e0mIG/5D7DSgMfti\n",
              "we/+RZyVk9177f/JkmcQP9+vx7Ydiyf0uHyMwAw7Fk9AXkx4n7VsXyTGwben9FjTYOksEH1NR/N7\n",
              "crkcd+7cUbv0NA1NX1ZLPLEm3AuhHjYw6WN6v/dm+uDN6Q9D8dUbz/ba94M5T+E5H/s+tzvbzwEv\n",
              "BbsOqEaxqzVeCnbFi8+oP5XPCXDE9PF9b+cFf0e8FuaBJwRmsBGY9dk3ZOwY7Fj8DMYIzOAgHIV3\n",
              "Z47H3H/f6QVmxoiZ7cP1fXXqWMzxd+CumxlrdhdIWtj9QWFxSO/7Za7YCctDRXj+KfXbHfuHpzFv\n",
              "gjN3femkh8eNO5cFYt4EZ7g8MbrPWhYEuSDAxXqAlfdN+0hpIDExEZs2bVJbFhra8yN9WnQw/vZz\n",
              "JervyCFraoMF3wRLQtzgaWfB9Tn6n9OQfroKpsY8LAxyxQ8ldbh5p4N7JFz3nDfOSpvgaWeBYPcx\n",
              "+HxZIP6eX4UVk93RqVDi8MVahI+3h5O1OV58xhm378oxzsES52XNyL5Yh7G2Arw/2wcHz9cg6tnf\n",
              "Zi3cv/pZXLjRjLliJ+wtlKK1owsim9EouN6I8zea8b7KnRAADqyZgn8USWFvOQqvTBmLUabG+Gxp\n",
              "IDoVSowyNUZBRQNqmttx9PJNfPf2VLV1//nWFBw4Vw1jIx4OnqvBG9M9UHHrHm7dleOeXIHYPzzd\n",
              "bb9tnu8HL3sLzBU7wW3MaOwtkMJ1zGh42VvA006AP815Cv7OQthZ8vHc9lwAwLn/jkDZzbvc/vv+\n",
              "Qi2mj7fD8kkiVDe34668CxZ8E9zvUmK2nwMyXp2Es9ImpORew+b5fvBxsELCi/5wFI5CVcM9HC+t\n",
              "x6ny20h/5eGMKtsWipF+ugq5ZfUQmpty+/P4BgkOX6jFyinumOPviPKbrQj1sOHW+3LFRBy+WIfx\n",
              "Dhaws+Rj148VuFx7B+tmePd9Zxsknf2CUH19Pby8vNDY2AgTExMQERwdHZGXl9dtBo6eJiqLioqC\n",
              "h0f3dwkUCgUKCwsREhLS48wchmAk1AiMjDqHqkaRSIT169f335F0SCKRUFpaGhERffXVVxQUFKT1\n",
              "mC0tLQSAWlpatB5rqIyEGolGRp36rlGnL5lSU1OxcuVKJCQkwMrKik1Hw4w4Og3EUE1HwzDDxaA/\n",
              "qWaY4WbwgeDz+YiLiwOfr918O0NpJNQIjIw69V2jwfxONcMYAoN/hmCY4cQCwTAqWCAYRoVBB2Io\n",
              "f920L5r82qqmbZrq6OjA/PnzMW7cOIjFYkRERHAnUtbX12PWrFnw9vaGn58ffvzxR249Tdu0ERkZ\n",
              "iYCAAEyYMAFhYWE4e/YsAMPanxy9fBw4QOHh4WqffE+cOHFYtpubm0symYxEIhGdPXt2QPVo2qap\n",
              "9vZ2OnToECmVSiIi+vTTT0kikRARUXR0NMXFxRERUWFhITk7O9P9+/e1atNGU1MT93dWVhYFBAQQ\n",
              "kWHtzwcMNhA3b94kS0tL6uzsJCIipVJJTz75JJWXlw9bDaqB6KseTdt0qaioiEQiERERCQQCqq2t\n",
              "5dqCg4Pp2LFjWrXpSlpaGonFYoPdn3o523UgNPl1U33VIxQKNWrT5e3YsWMH5s2bh4aGBnR2dsLB\n",
              "4eEp3u7u7pBKpRq36UJUVBRycnIAAIcPHzbY/WnQxxDMwCQkJODq1atITEzUdym9Sk9Ph0wmQ3x8\n",
              "PGJiYvRdTq8MNhCa/LqpvurRtE0XPvroI2RlZSE7OxujR4+GjY0NTExMUFdXx/WprKyEm5ubxm26\n",
              "tGLFCuTk5MDFxcUg96fBBkKTXzfVVz2atmkrOTkZ+/btw7Fjx2Btbc0tX7RoEVJSUgAARUVFqK6u\n",
              "hkQi0apNU83NzaipqeGuHzhwADY2Nga5PwEY9rtMpaWlFBoaSt7e3hQUFEQXLlwYlu2uWrWKnJ2d\n",
              "ydjYmOzt7cnT07PfejRt05RMJiMA5OHhQWKxmMRiMYWEhBARUV1dHUVERJCXlxc9/fTTdOLECW49\n",
              "Tds0VVlZScHBweTn50cBAQE0Y8YM7o0KQ9qfD7BzmRhGhcG+ZGIYfWCBYBgVLBAMo4IFgmFUsEAw\n",
              "jAoWCIZRwQLBMCpYIBhGBQsEw6hggWAYFSwQDKPi/wGo8gCrYE/gMAAAAABJRU5ErkJggg==\n",
              "\">\n",
              "        \n",
              "      </div>\n",
              "      <script></script>\n",
              "      <script type=\"text/javascript\">\n",
              "        (() => {\n",
              "          const chartElement = document.getElementById(\"chart-49b917ff-eac8-4bc3-a162-dac27c4e35c6\");\n",
              "          async function getCodeForChartHandler(event) {\n",
              "            const chartCodeResponse =  await google.colab.kernel.invokeFunction(\n",
              "                'getCodeForChart', [\"chart-49b917ff-eac8-4bc3-a162-dac27c4e35c6\"], {});\n",
              "            const responseJson = chartCodeResponse.data['application/json'];\n",
              "            await google.colab.notebook.addCell(responseJson.code, 'code');\n",
              "          }\n",
              "          chartElement.onclick = getCodeForChartHandler;\n",
              "        })();\n",
              "      </script>\n",
              "      <style>\n",
              "        .colab-quickchart-chart-with-code  {\n",
              "            display: block;\n",
              "            float: left;\n",
              "            border: 1px solid transparent;\n",
              "        }\n",
              "\n",
              "        .colab-quickchart-chart-with-code:hover {\n",
              "            cursor: pointer;\n",
              "            border: 1px solid #aaa;\n",
              "        }\n",
              "      </style>"
            ]
          },
          "metadata": {}
        },
        {
          "output_type": "display_data",
          "data": {
            "text/plain": [
              "<google.colab._quickchart_helpers.SectionTitle at 0x7fb35cb86fe0>"
            ],
            "text/html": [
              "<h4 class=\"colab-quickchart-section-title\">Distributions</h4>\n",
              "<style>\n",
              "  .colab-quickchart-section-title {\n",
              "      clear: both;\n",
              "  }\n",
              "</style>"
            ]
          },
          "metadata": {}
        },
        {
          "output_type": "display_data",
          "data": {
            "text/plain": [
              "import numpy as np\n",
              "from google.colab import autoviz\n",
              "\n",
              "def histogram(df, colname, num_bins=20, figscale=1):\n",
              "  from matplotlib import pyplot as plt\n",
              "  df[colname].plot(kind='hist', bins=num_bins, title=colname, figsize=(8*figscale, 4*figscale))\n",
              "  plt.gca().spines[['top', 'right',]].set_visible(False)\n",
              "  plt.tight_layout()\n",
              "  return autoviz.MplChart.from_current_mpl_state()\n",
              "\n",
              "chart = histogram(df, *['new_type'], **{})\n",
              "chart"
            ],
            "text/html": [
              "      <div class=\"colab-quickchart-chart-with-code\" id=\"chart-bff96df7-1ff4-416e-8c3f-99e444809ca4\">\n",
              "        <img src=\"data:image/png;base64,iVBORw0KGgoAAAANSUhEUgAAAMQAAABgCAYAAABCK92TAAAAOXRFWHRTb2Z0d2FyZQBNYXRwbG90\n",
              "bGliIHZlcnNpb24zLjcuMSwgaHR0cHM6Ly9tYXRwbG90bGliLm9yZy/bCgiHAAAACXBIWXMAAA9h\n",
              "AAAPYQGoP6dpAAAN4UlEQVR4nO3dfVAU9R8H8PcBckPAHXUHCQmHAmIRHAKRDxkwo0z2m8HCaUwr\n",
              "HkaDqUQdaPLHOIyJKE1NDPoHKc6IEY5IRDU9YBZDZlM8QyoODzUaTCkkz6UQ7H1+f5Q7dz8OZOGO\n",
              "O+DzmrkZdr97e292+LB7u/v9royICIwxAICNpQMwZk24IBjTwwXBmB4uCMb0cEEwpocLgjE9XBCM\n",
              "6eGCYEwPFwRjerggGNPDBbEAfPvtt5DJZBgbG7N0FKvHBcGYHi4IM4uMjMTu3buxbds2KJVKeHp6\n",
              "4r333hPbq6urERkZCZVKBY1Gg4yMDPE/eVpaGrZu3Soum5iYCFtbW/T19YnvdXR0xMjIyISf39HR\n",
              "gY0bNwIAXFxc4OTkhMOHDyMjIwNRUVEGy968eRP29vZoamoCAMhkMuTk5OCxxx6Dk5MTwsPDUVdX\n",
              "Z/CewsJCaLVaKJVKBAQEoLi4ePobyxoQM6uIiAhSKBRUUVFBgiBQaWkp2djYUHt7O7W0tJCjoyOd\n",
              "OXOGRkdH6fr16xQUFERZWVlERFReXk5qtZp0Oh0REXl4eJCfnx+VlJQQEdHBgwfpqaeeumeGyspK\n",
              "AkCjo6PivI6ODrKzs6O2tjZxXlZWFj3++OPiNADy8fGh5uZmGh4epv3795Narab+/n4iIiooKCBP\n",
              "T0+qra0lQRDo4sWL5OzsTBcvXpz5hrMQLggzi4iIoMTERIN5arWaiouLKSUlhZ5//nmDtqKiIvLx\n",
              "8SEiotu3b5NcLqe6ujq6fPkyaTQaysnJoe3btxMR0bp16ygnJ+eeGYwVBBFRTEwMvf7660REJAgC\n",
              "aTQaKigoENsB0NGjR8VpQRBo8eLFVFhYSEREgYGBdOzYMYN17tixQ8w3F9lZdv+0MHh4eBhMOzo6\n",
              "YmhoCO3t7aisrISLi4vYptPpoNPpAAAODg544okncP78ecjlckRHRyM6Oho5OTkYGhpCVVWVweGX\n",
              "VK+++ipefPFFHDp0CBUVFRgYGMCWLVsMllm6dKn4s42NDTQaDTo7OwEA7e3tSEtLw969e8VlxsbG\n",
              "8OSTT047k6VxQVjQ4sWLsW3bNpw8eXLCZTZs2IBz585BLpfj5ZdfRkBAAIgIeXl5cHV1RUBAwD0/\n",
              "x8bG+FfF6OhoKJVKlJWVobi4GHFxcXBwcDBY5vr16+LPOp0OHR0dWLJkiZj/wIEDiIuLm8JvO0dY\n",
              "ehc130VERNC+ffsM5mk0Gjpx4gTV1NSQs7MzlZSU0MjICI2NjVF7ezuVl5eLyzY0NJC9vT05OTlR\n",
              "X18fERElJiaSUqmk+Pj4KWVobW0lAHTlypVxbe+88w4FBQWRnZ0dNTc3G7QBIF9fX7p69SqNjIxQ\n",
              "ZmYmqVQqMUdubi75+vpSTU0NCYJAw8PDVFNTQ3V1dVPfQFaGC8LMJisIIqKqqirasGEDqdVqUiqV\n",
              "pNVqDY7LdTodubm50apVq8R5xcXFBIBOnz495RwpKSnk6upKSqWSsrOzxfm3bt0iuVxO69atG/ce\n",
              "APTuu+9SaGgoOTo6UlhYGFVXVxssU1RURCEhIaRUKkmlUlFERARduHBhyrmsjYyI+1QvZIIgwMvL\n",
              "C2+//TZeeOEFgzaZTIavv/4a69evt1C62Sf5OsRXX31ljhzMQvLz82FjY4PnnnvO0lGsguSCyMzM\n",
              "hL+/P44cOYLBwUFzZGISnT59Gk5OTkZf+meA9A0MDMDZ2RmHDh3CyZMnYW9vP8uprdO0DpkaGxuR\n",
              "l5eHzz77DLGxsdi5cyceeeQRc+RjbFbN6DtEU1MTYmJi8PvvvyMqKgo5OTkIDAw0ZT7GZtW07mX6\n",
              "5ptvsGnTJsTGxuK1117DzZs3kZycjGeffdbU+RibVZL3EA8//DDUajV27dqF2NhY2Nraim0bN25E\n",
              "eXm5yUMyNlskF0R9fT1CQ0PNlYcxi5J8yFRfX4/e3l5xuqenBydOnDBpqJk4cuSIpSOwOUxyQeTl\n",
              "5eGBBx4Qp1UqFfLy8kwaaiZ+/fVXS0dgc5jkm/uMHWEJgmCSMMy0vP/7hdH519/6zywnmTsk7yHc\n",
              "3d1RUlIiTp89exbu7u4mDcWYpUjeQ+Tm5mLTpk144403AAD33XcfPv30U5MHY8wSJBfEihUrcPXq\n",
              "VbS2tgIA/P39DU69MjaXTauDkEwmg4uLC8bGxvDbb78BALy8vEwajDFLkFwQp06dwq5du7Bo0SKx\n",
              "J5ZMJkN3d7fJwzE22yQXxMGDB1FbWwt/f39z5GHMoiQXhFqtnnIxeHt7Qy6Xi/1009PTsWXLFrS3\n",
              "tyM+Ph63bt2CUqnEqVOnxL7Bk7Ux4yY6vcqkk3za9ZlnnkFubi66u7sxODgoviZy9uxZNDU1oamp\n",
              "SRzRITk5GUlJSWhra8PevXuRkJAgLj9ZG2PmJvleJv0RHGQyGYgIMpnM6MU5b29vfPLJJwgODhbn\n",
              "dXd3w9fXF729vbCzswMRwd3dHd9//z0UCsWEbb6+vlPKl5qaipycHCm/0pwndQ/BF+YmJvmQ6e6Y\n",
              "QVMVFxcHIkJ4eDjeeustdHZ2wt3dHXZ2/3y0TCaDl5cXOjo6oFQqJ2wzVhAjIyPjhnHkq+ZsJqbV\n",
              "H6K+vh4ffPABAKC/vx83btwwutx3332HS5cuoaGhAWq1GvHx8dNPakR2djaUSqXBq6amxqSfwRYW\n",
              "yXuIvLw8HD9+HH/++Sdeeukl9PT0YMeOHaisrBy37N1rE4sWLcKePXuwfPlyeHp64saNGxgbGxMP\n",
              "izo6OuDl5QWFQjFhmzHp6elITU01mJeRkSH1V2L3sJDuiZK8h8jPz0dVVRUUCgUAwMfHB3/88ce4\n",
              "5f766y/09/eL02fOnMHKlSvh5uaGkJAQFBUVAQA++ugjLFmyBL6+vpO2GSOXy6FQKAxefNWczYTk\n",
              "PYT+aVRxJXbjV9PV1YXNmzdDEAQQEZYtW4bCwkIAwPHjx5GQkIDDhw9DoVCgoKBAfN9kbcy8+PTt\n",
              "NArC1dUVbW1tkMlkAP65cm3skGbZsmVobGw0ug5/f3/8+OOPktsYM7dp3e26detWtLS0wNPTEwqF\n",
              "Ap9//rk5sjE26yQXhK+vL6qrq9Ha2goi4rtd2bwiuSA6OjoA/POMAwB8tyubVyQXRGhoqHiFenh4\n",
              "GLdv34ZKpeK7Xdm8ILkg/v8Ua1lZGX766SeTBWLMkmb8FNLY2Fh88QWfrmPzg+Q9hP6drYIgoLq6\n",
              "mkcB/9dCuqI7X0kuCBcXF/E7hK2tLfz8/HD06FFzZGNs1pn9bldrx//Vmb4Zf4dgbD6RvIewsbER\n",
              "b9vQN1lHIcbmCskFkZmZiTt37uCVV14BABw7dgwODg7Ys2ePqbMxNuskF8THH3+M+vp6cTorKwuh\n",
              "oaHYt2+fSYMxZgmSC2JoaAjd3d1wc3MD8E8f6aGhIZMHYwyY/ZMekgsiLS0NWq0WTz/9NADg3Llz\n",
              "ePPNN02dizGLkFwQycnJWLt2rdhlNDU1lcdNYlMyWQckaznNPa2xXVUqFQIDAxEZGYmxsTH8/fff\n",
              "Jn3OsTkGK5PaG4yvTyxMkguitLQUaWlpsLGxwbVr19Dc3Iz09HR8+eWXJgt1d7CyhIQElJaWIiEh\n",
              "AbW1tSZbPzMNU/7TsJbuq5ILIjs7Gw0NDVi/fj0AQKvVmvQxVt3d3airq8P58+cBAJs3b8bOnTvx\n",
              "888/T3mwsvnKWv5o5jPJBWFrawuVSmUwz5SHS5MNZPb/BTHXByrjw7LpM9e2k1wQzs7O6OrqEq9W\n",
              "V1RUGDyEcTZlZ2fjwIEDBvNWrFgxbqwmQRDgXlOD8PDwGXd3TU2tmLAtVuJ79JcXBAE1/2acyvIz\n",
              "MZ316+e71zY0d/6JCIKA1auzjGbUaDTYvXv3vVdCEtXW1tLKlStJqVTS2rVrycPDgxobG6WuZkJd\n",
              "XV3k7OxMo6OjRESk0+nowQcfpPb29nHLDg8P08DAgMFreHh43HIDAwMEgAYGBkyW09SsPaO15yMy\n",
              "TUZJewidTgdBEFBZWYkffvgBRIQ1a9bAxcVFymompT9YWUJCwqSDlcnlcsjlcpN9NmOSR//WarVm\n",
              "7zLa2tqKhIQE9PT0iIOVBQYGTnt9g4ODUCqVGBgYEEcctDbWntHa8wGmySj5O4Sfn5/Zz/jwYGXM\n",
              "UiQXRG9vL4KDg7FmzRo4OTmJ88vKykwazJTkcjn2799v1YdX1p7R2vMBpsk45UOmpKQk5Ofn4/33\n",
              "30dfXx/uv/9+g3ZTD3XPmCVMuSBCQkLQ0NAw7mfG5pNpdSGV+D2csTljyt8h7ty5g8uXL4sj9t39\n",
              "+a6goCCzBGRsVk31goVGoyFvb2+jr6VLl077Qoi5tbW10erVq8nPz4/CwsLoypUrlo40jkajoeXL\n",
              "l5NWqyWtVkvFxcUWzZOSkkIajYYAGFx0taZtOVHGmW5LyVeq55qoqCgqKCggIqIPP/yQwsLCLBvI\n",
              "CI1GY9Kr/TN14cIF6uzsHJfLmrblRBlnui3ndUFIuQ3EkqytIO7Sz2Wt29LUBTGvx2Wa7M5ZaxMX\n",
              "F4fAwEBs377d6DP7LG2hbMt5XRBzhbkfX7yQzHRbTqsL6Vwx2SOArYmxxxdbm4WyLef1HkLqY34t\n",
              "YaLHF1ubBbMtZ/qlxtq1tLTQqlWryM/Pj0JDQ+nSpUuWjmTgl19+oeDgYAoMDKRHH32UYmJi6Nq1\n",
              "axbNlJSURA899BDZ2tqSm5sb+fj4EJF1bUtjGU2xLSXf/s3YfDavD5kYk4oLgjE9XBCM6eGCYEwP\n",
              "FwRjerggGNPDBcGYHi4IxvRwQTCmhwuCMT1cEIzp+R9HsK/tx0r0VAAAAABJRU5ErkJggg==\n",
              "\">\n",
              "        \n",
              "      </div>\n",
              "      <script></script>\n",
              "      <script type=\"text/javascript\">\n",
              "        (() => {\n",
              "          const chartElement = document.getElementById(\"chart-bff96df7-1ff4-416e-8c3f-99e444809ca4\");\n",
              "          async function getCodeForChartHandler(event) {\n",
              "            const chartCodeResponse =  await google.colab.kernel.invokeFunction(\n",
              "                'getCodeForChart', [\"chart-bff96df7-1ff4-416e-8c3f-99e444809ca4\"], {});\n",
              "            const responseJson = chartCodeResponse.data['application/json'];\n",
              "            await google.colab.notebook.addCell(responseJson.code, 'code');\n",
              "          }\n",
              "          chartElement.onclick = getCodeForChartHandler;\n",
              "        })();\n",
              "      </script>\n",
              "      <style>\n",
              "        .colab-quickchart-chart-with-code  {\n",
              "            display: block;\n",
              "            float: left;\n",
              "            border: 1px solid transparent;\n",
              "        }\n",
              "\n",
              "        .colab-quickchart-chart-with-code:hover {\n",
              "            cursor: pointer;\n",
              "            border: 1px solid #aaa;\n",
              "        }\n",
              "      </style>"
            ]
          },
          "metadata": {}
        }
      ]
    },
    {
      "cell_type": "code",
      "source": [
        "from sklearn.model_selection import train_test_split\n",
        "x_train,x_test,y_train,y_test=train_test_split(df.vector.values,df.new_type,test_size=0.2,random_state=2022)"
      ],
      "metadata": {
        "id": "buklcvzAHbq3"
      },
      "execution_count": null,
      "outputs": []
    },
    {
      "cell_type": "code",
      "source": [
        "x_train.shape"
      ],
      "metadata": {
        "colab": {
          "base_uri": "https://localhost:8080/"
        },
        "id": "KuGNMhrrHlZW",
        "outputId": "a2c07c5f-06ea-4ac5-be99-47020d2608a9"
      },
      "execution_count": null,
      "outputs": [
        {
          "output_type": "execute_result",
          "data": {
            "text/plain": [
              "(2672,)"
            ]
          },
          "metadata": {},
          "execution_count": 59
        }
      ]
    },
    {
      "cell_type": "code",
      "source": [
        "y_train.shape"
      ],
      "metadata": {
        "colab": {
          "base_uri": "https://localhost:8080/"
        },
        "id": "YhlNe8ysIe1J",
        "outputId": "efff5abb-1c94-4812-d69a-328bb926624a"
      },
      "execution_count": null,
      "outputs": [
        {
          "output_type": "execute_result",
          "data": {
            "text/plain": [
              "(2672,)"
            ]
          },
          "metadata": {},
          "execution_count": 60
        }
      ]
    },
    {
      "cell_type": "code",
      "source": [
        "print(x_test.shape)\n",
        "print(y_test.shape)"
      ],
      "metadata": {
        "colab": {
          "base_uri": "https://localhost:8080/"
        },
        "id": "xH3JKV2zIgwA",
        "outputId": "9ad27e5c-ab9f-4e79-85d0-bfd1514e82a0"
      },
      "execution_count": null,
      "outputs": [
        {
          "output_type": "stream",
          "name": "stdout",
          "text": [
            "(669,)\n",
            "(669,)\n"
          ]
        }
      ]
    },
    {
      "cell_type": "code",
      "source": [
        "df['vector'].values"
      ],
      "metadata": {
        "colab": {
          "base_uri": "https://localhost:8080/"
        },
        "id": "72k79RJRKej4",
        "outputId": "39fcd92f-04bf-4691-c95d-4dea8a834e8a"
      },
      "execution_count": null,
      "outputs": [
        {
          "output_type": "execute_result",
          "data": {
            "text/plain": [
              "array([array([ 9.16487724e-03,  1.47931371e-02,  2.53428007e-04,  4.58650887e-02,\n",
              "              -2.15201285e-02,  6.36710227e-03,  2.63603516e-02, -3.50506715e-02,\n",
              "               2.84456536e-02,  1.34615712e-02, -1.14803808e-02, -3.99051830e-02,\n",
              "              -2.00594333e-03,  5.54288365e-03, -3.86951268e-02,  2.66117360e-02,\n",
              "               1.11834398e-02,  4.40511517e-02,  6.34340290e-03, -3.77794653e-02,\n",
              "              -4.85706842e-03,  2.24962458e-02,  4.78705298e-03,  4.76435525e-03,\n",
              "               3.16109322e-03, -7.12542981e-03, -3.14272046e-02,  2.61752661e-02,\n",
              "               1.42328143e-02, -8.28988850e-03, -1.44554200e-02,  2.36438960e-03,\n",
              "              -1.51497666e-02, -1.13870539e-02, -1.11473436e-02, -6.89814985e-03,\n",
              "               1.07991062e-02,  1.79832941e-03,  4.75693727e-03,  3.07931080e-02,\n",
              "               2.88021490e-02, -1.31569505e-02,  4.51634079e-02,  2.53017130e-03,\n",
              "              -5.67420898e-03, -1.71673484e-02, -8.99873767e-03,  2.75732391e-03,\n",
              "              -4.28605499e-03,  1.38948737e-02, -2.66388915e-02,  1.78824738e-02,\n",
              "              -5.00308163e-03, -8.43798742e-03,  1.46098128e-02,  6.86211511e-03,\n",
              "              -8.89476761e-03, -2.70468052e-02,  1.09740216e-02, -2.79654954e-02,\n",
              "              -4.99714352e-03,  1.71746071e-02, -2.90206484e-02, -2.14358121e-02,\n",
              "              -4.19181399e-03, -1.30071212e-02, -2.09899880e-02,  2.33740862e-02,\n",
              "              -1.14488113e-03,  2.64903624e-02,  1.49461366e-02,  5.75269153e-03,\n",
              "               2.03267280e-02,  2.04319204e-03, -4.77062128e-02, -2.99008191e-02,\n",
              "               2.10761782e-02,  1.54470541e-02,  1.15723014e-02,  3.56645696e-02,\n",
              "               2.11979798e-03, -1.42867779e-02,  1.88904945e-02, -1.97374914e-03,\n",
              "              -4.08137077e-03, -1.32740671e-02, -2.81755831e-02,  4.38130423e-02,\n",
              "               1.51830278e-02,  1.32333729e-02,  1.45827010e-02,  2.32799165e-03,\n",
              "              -2.78085843e-02, -3.05871200e-02, -1.01334527e-02, -2.91996375e-02,\n",
              "               2.78464518e-02,  1.75400302e-02,  4.43816138e-03, -1.27984639e-02,\n",
              "              -1.16678644e-02, -7.90760107e-03,  8.92612431e-03,  1.93895801e-04,\n",
              "              -9.43636242e-03, -1.78537313e-02, -7.61574972e-03, -9.80118290e-03,\n",
              "               9.22842417e-03, -2.14404054e-02, -1.58052724e-02, -5.78297628e-03,\n",
              "              -2.40358128e-03, -1.17198722e-02,  3.94002013e-02,  2.07592326e-04,\n",
              "               1.02705583e-02, -2.41471026e-02,  1.58625375e-02,  9.57005937e-03,\n",
              "              -2.19554063e-02, -1.34052364e-02, -1.99554339e-02,  2.91176978e-02,\n",
              "               9.43653402e-04, -1.02753835e-02, -8.93099606e-03, -8.71351082e-03,\n",
              "               4.22335789e-03,  1.32350335e-02, -1.35357128e-02, -3.75648402e-02,\n",
              "              -2.19839774e-02,  1.10186189e-02, -3.40445875e-03, -2.00713854e-02,\n",
              "               9.21920780e-03,  1.34538049e-02, -3.69162904e-03,  2.62210295e-02,\n",
              "               2.69598141e-02, -2.33147480e-02, -3.66478367e-03, -1.45847700e-03,\n",
              "               1.89884659e-03,  5.53109404e-03, -5.75742265e-03, -1.52865509e-02,\n",
              "              -1.84984747e-02, -1.80947017e-02,  3.94002534e-02,  1.79100744e-02,\n",
              "              -3.05504240e-02,  2.59167328e-02, -1.41647821e-02, -1.79685950e-02,\n",
              "              -1.19806053e-02, -3.48110907e-02, -2.29224097e-02, -1.65413842e-02,\n",
              "              -3.70977330e-03,  2.48421077e-02,  1.39121786e-02,  2.73901154e-03,\n",
              "               5.35376929e-03, -2.15512291e-02,  2.75100712e-02, -2.12751795e-02,\n",
              "               2.94258178e-04,  1.29649055e-03, -3.87110598e-02, -8.81913770e-03,\n",
              "              -4.51483205e-03, -2.39107143e-02, -5.93010988e-03,  1.93490868e-03,\n",
              "               2.86370870e-02, -2.68929042e-02, -1.10464823e-02,  5.76528721e-03,\n",
              "              -2.59348247e-02, -2.31895987e-02,  1.47926463e-02,  6.77037635e-04,\n",
              "              -3.00725712e-03, -3.24805314e-03, -1.33652175e-02, -3.06887762e-03,\n",
              "               2.20991746e-02,  1.07719945e-02,  1.85430367e-02,  1.45471375e-03,\n",
              "               4.71497187e-03, -8.14553909e-03, -4.65551810e-03,  1.60475150e-02,\n",
              "               4.16424172e-03, -2.32485728e-03, -3.29371244e-02, -3.85949500e-02,\n",
              "              -9.94824950e-05,  2.26471238e-02, -2.67232172e-02, -8.64942092e-03,\n",
              "               6.10625930e-03, -1.68009959e-02, -1.33492742e-02, -2.57634278e-03,\n",
              "              -1.04745536e-03, -1.16214184e-02, -2.13959422e-02,  2.70633567e-02,\n",
              "              -1.68275665e-02,  1.39469728e-02, -4.11257595e-02,  1.93869881e-03,\n",
              "               2.29381602e-02, -9.13081598e-03, -2.96984315e-02, -1.08990259e-02,\n",
              "              -8.49600229e-03,  3.00968299e-03, -4.76764282e-03, -8.68871436e-03,\n",
              "               1.32649709e-02, -6.32854039e-03,  1.56837236e-02,  9.66937281e-03,\n",
              "               3.19693284e-03, -7.46638805e-04,  5.30145783e-03, -1.46726044e-02,\n",
              "              -9.21724737e-03,  4.38322267e-03,  3.08417231e-02, -4.90355073e-04,\n",
              "               6.66599534e-03, -1.70709845e-02,  2.87275724e-02,  1.17051639e-02,\n",
              "               2.36257296e-02, -4.17273352e-03,  7.44239334e-03, -4.46653664e-02,\n",
              "              -6.12142636e-03,  8.92991945e-03, -2.60390621e-03,  2.99488343e-02,\n",
              "              -3.83506995e-03, -2.45852564e-02,  8.60324409e-03,  2.38481518e-02,\n",
              "               2.04270463e-02,  2.49030516e-02,  1.18314307e-02, -2.27463059e-02,\n",
              "              -6.59446791e-03,  3.10889236e-03, -2.07357835e-02, -2.19167378e-02,\n",
              "              -5.40829729e-03, -8.40159133e-03, -1.27950460e-02,  1.04903411e-02,\n",
              "               9.76559985e-03,  3.85689847e-02,  2.46055960e-03,  3.28628812e-04,\n",
              "              -3.51817012e-02, -6.83229044e-03, -1.11354209e-04,  3.53032388e-02,\n",
              "               3.40884477e-02,  3.48443910e-03,  1.17057879e-02, -1.90118123e-02,\n",
              "              -3.01972833e-02, -4.30559143e-02, -1.82780400e-02, -1.82477525e-03,\n",
              "               8.21129978e-03, -2.68279039e-03,  1.09111620e-02,  1.46724619e-02,\n",
              "               7.72150524e-04, -6.41621603e-03, -2.72312798e-02, -2.39508203e-03,\n",
              "               3.29190725e-03,  2.27131452e-02, -1.89797021e-02,  2.34438479e-02,\n",
              "              -3.00045833e-02, -5.37544675e-03, -1.68750398e-02, -2.27192026e-02,\n",
              "              -1.34141557e-03, -1.67286117e-02,  2.38410686e-03,  5.34247747e-03],\n",
              "             dtype=float32)                                                       ,\n",
              "       array([ 0.01883827,  0.00722117,  0.00089683,  0.03754839, -0.02186951,\n",
              "               0.00936144,  0.02404618, -0.02413557,  0.03598554,  0.02126227,\n",
              "              -0.00688532, -0.03353843, -0.00809865,  0.0040904 , -0.04056803,\n",
              "               0.03332589,  0.01968108,  0.04623421,  0.00180758, -0.03694988,\n",
              "              -0.0007297 ,  0.02007358,  0.02149332,  0.00263314,  0.01989562,\n",
              "              -0.0046111 , -0.02354796,  0.01990798,  0.01769758, -0.0149922 ,\n",
              "              -0.01860171,  0.00980158, -0.01043292, -0.01204412, -0.000935  ,\n",
              "              -0.00455978,  0.02301584,  0.0071506 ,  0.0095615 ,  0.03189744,\n",
              "               0.03667827, -0.01915841,  0.041364  , -0.00138475, -0.01192981,\n",
              "              -0.01825849, -0.0205739 , -0.00367893, -0.00387515,  0.01927639,\n",
              "              -0.02286249,  0.02057865, -0.01120615, -0.01642015,  0.00868217,\n",
              "               0.00899424, -0.0135742 , -0.02542458,  0.02101141, -0.02529064,\n",
              "              -0.00343747,  0.01339624, -0.03571285, -0.01461654, -0.00088234,\n",
              "              -0.00768734, -0.01997333,  0.02590717, -0.01227791,  0.03390728,\n",
              "               0.01478269,  0.00687709,  0.02342443, -0.00309746, -0.0540741 ,\n",
              "              -0.02715602,  0.01423961,  0.02516676,  0.01737128,  0.0364418 ,\n",
              "               0.00537452, -0.01226133,  0.01800291, -0.00328032, -0.01388768,\n",
              "              -0.01093504, -0.03108081,  0.044235  ,  0.00941779,  0.00533483,\n",
              "               0.0043825 ,  0.00801226, -0.03135965, -0.01332279, -0.00685019,\n",
              "              -0.02057661,  0.02829696,  0.0177437 , -0.00388763, -0.01998076,\n",
              "              -0.02057604, -0.01031936,  0.00844789,  0.00853084,  0.00249739,\n",
              "              -0.02423948, -0.00440631, -0.02435716,  0.01334187, -0.02214408,\n",
              "              -0.0190834 , -0.00494128, -0.00522511, -0.01000442,  0.03337834,\n",
              "              -0.01314037,  0.00194636, -0.01730111,  0.02034902,  0.00527805,\n",
              "              -0.02895244, -0.00043922, -0.02071893,  0.02433344, -0.00711327,\n",
              "              -0.0158862 , -0.0207044 , -0.01048153,  0.00480429,  0.0010736 ,\n",
              "              -0.02183067, -0.04474457, -0.0180469 ,  0.01766867,  0.00195014,\n",
              "              -0.01793334,  0.01240228,  0.02054273, -0.0027445 ,  0.02667924,\n",
              "               0.02718565, -0.02021562, -0.00202041,  0.00282796,  0.0054097 ,\n",
              "               0.00802164, -0.01153757, -0.02567539, -0.0181742 , -0.01984411,\n",
              "               0.03117791,  0.01375649, -0.03086964,  0.02379014, -0.01670903,\n",
              "              -0.01146229, -0.02603748, -0.02685165, -0.02566857, -0.0144764 ,\n",
              "               0.00207707,  0.02766954,  0.01437949,  0.0036144 ,  0.01309494,\n",
              "              -0.03058245,  0.02438986, -0.03355223,  0.00112977,  0.00224976,\n",
              "              -0.02992162, -0.00914099, -0.00440344, -0.02885959, -0.01399412,\n",
              "               0.00580378,  0.0354776 , -0.02715149, -0.0122144 ,  0.0115829 ,\n",
              "              -0.0230769 , -0.02686896,  0.01911272,  0.00139542, -0.00987363,\n",
              "              -0.01536742, -0.00921882,  0.00388901,  0.02053509,  0.00874978,\n",
              "               0.00413772,  0.00130236,  0.01621052, -0.00350447, -0.00471144,\n",
              "               0.00958998,  0.00376722, -0.00835085, -0.02920807, -0.02922547,\n",
              "               0.00606377,  0.02600577, -0.02627779, -0.00536189,  0.00627374,\n",
              "              -0.01778471, -0.01989175, -0.00943044, -0.00401501, -0.00617672,\n",
              "              -0.01268564,  0.02702028, -0.01279775,  0.00765388, -0.03743073,\n",
              "              -0.00208762,  0.03163759, -0.00324527, -0.03926101, -0.01674925,\n",
              "              -0.01357726,  0.00903528, -0.0061678 , -0.00285943,  0.02277356,\n",
              "              -0.00753801,  0.01846442,  0.00724735, -0.00227023,  0.00158872,\n",
              "               0.00427454, -0.00589325, -0.00595935,  0.00261874,  0.03435901,\n",
              "               0.00775541, -0.00865175, -0.02687505,  0.03294569,  0.01173455,\n",
              "               0.02054903,  0.00335358, -0.00145509, -0.03594423, -0.005986  ,\n",
              "               0.01156516, -0.00251744,  0.02399709, -0.00027777, -0.02447684,\n",
              "              -0.00423676,  0.02704066,  0.03066966,  0.03534617,  0.01988943,\n",
              "              -0.01743814, -0.00495788,  0.00724802, -0.02510151, -0.02476774,\n",
              "              -0.00946459, -0.00325647, -0.02381645,  0.01078544,  0.0155521 ,\n",
              "               0.03402698, -0.00347719, -0.00945347, -0.03294463, -0.00258101,\n",
              "               0.01164594,  0.03604175,  0.03946283,  0.00926691,  0.01652835,\n",
              "              -0.0291214 , -0.02775009, -0.03670665, -0.01918779,  0.00130442,\n",
              "               0.00630371, -0.01071684,  0.01101711,  0.02025601,  0.00478451,\n",
              "              -0.01091812, -0.03277444, -0.0097799 ,  0.00690905,  0.02410709,\n",
              "              -0.00901503,  0.03552544, -0.04118763, -0.00381121, -0.02284366,\n",
              "              -0.02141745,  0.00951734, -0.02176562, -0.00194103,  0.00251512],\n",
              "             dtype=float32)                                                    ,\n",
              "       array([ 2.23059226e-02,  1.09395720e-02, -4.30277956e-04,  3.74748744e-02,\n",
              "              -2.25280691e-02,  4.55052155e-04,  3.46470475e-02, -2.50064395e-02,\n",
              "               3.04303654e-02,  2.60458719e-02, -9.45766829e-03, -4.21861038e-02,\n",
              "              -1.04839355e-02,  5.83100179e-03, -4.11483347e-02,  3.80265526e-02,\n",
              "               1.33729689e-02,  4.29804213e-02,  1.42746227e-04, -3.07402015e-02,\n",
              "              -3.94806266e-03,  2.20152773e-02,  1.27843851e-02, -3.74759804e-03,\n",
              "               1.52383950e-02, -5.74600650e-03, -2.19961554e-02,  1.24948369e-02,\n",
              "               1.62734855e-02, -1.72301084e-02, -2.47544777e-02,  7.94648752e-03,\n",
              "              -9.18429065e-03,  4.32798843e-04,  4.22039814e-03,  1.08646019e-03,\n",
              "               2.49166265e-02, -1.22392538e-03,  8.03715177e-03,  3.01216114e-02,\n",
              "               3.32969055e-02, -1.65813826e-02,  4.65282351e-02,  7.05480052e-04,\n",
              "              -1.69606097e-02, -1.99229810e-02, -9.85119585e-03, -7.37502298e-04,\n",
              "              -1.06371567e-03,  8.75975471e-03, -1.62048303e-02,  1.58398040e-02,\n",
              "              -4.89214994e-03, -1.24363229e-02,  3.93100549e-03,  5.55054517e-03,\n",
              "              -6.44564210e-03, -3.65043320e-02,  1.70318466e-02, -2.92523596e-02,\n",
              "              -6.17262814e-03,  1.92681774e-02, -3.04364022e-02, -2.05961112e-02,\n",
              "               1.49398902e-03, -6.38867496e-03, -2.01965813e-02,  2.56717876e-02,\n",
              "              -1.55620314e-02,  2.72680297e-02,  1.37317609e-02,  2.18302128e-03,\n",
              "               2.44120080e-02, -1.43199693e-03, -5.24736643e-02, -1.94030907e-02,\n",
              "               1.96606591e-02,  2.82887686e-02,  2.06048619e-02,  4.31012399e-02,\n",
              "               6.40816381e-03, -1.30768912e-02,  2.00301874e-02, -3.61966575e-03,\n",
              "              -1.40603380e-02, -1.64350979e-02, -3.77064161e-02,  3.80438641e-02,\n",
              "               9.12140589e-03,  7.22233718e-03,  1.30071696e-02,  6.25320990e-03,\n",
              "              -2.65080389e-02, -1.46636106e-02, -1.72253307e-02, -1.92713924e-02,\n",
              "               2.61659678e-02,  1.30146714e-02,  3.77041381e-03, -2.07290556e-02,\n",
              "              -2.12023184e-02, -9.75605007e-03,  8.79586767e-03,  5.85477566e-03,\n",
              "              -3.29398573e-03, -2.47999709e-02, -4.92106192e-03, -2.43709814e-02,\n",
              "               9.68583301e-03, -2.91164387e-02, -2.38980893e-02, -3.31883924e-03,\n",
              "              -2.71832012e-03, -6.63836766e-03,  3.66800986e-02, -1.73655394e-02,\n",
              "               1.22950906e-02, -1.29767656e-02,  2.17997469e-02,  1.22299632e-02,\n",
              "              -3.89097184e-02, -1.06171076e-03, -1.68983079e-02,  2.37108227e-02,\n",
              "              -1.45433424e-02, -5.56810945e-03, -2.08855830e-02, -1.11712012e-02,\n",
              "               5.07464306e-03,  1.07840057e-02, -3.25641967e-02, -4.56523187e-02,\n",
              "              -2.69479696e-02,  1.73386838e-02,  3.91347427e-03, -1.50120957e-02,\n",
              "               7.18433596e-03,  1.66560356e-02, -2.97596399e-03,  2.51458008e-02,\n",
              "               2.44181734e-02, -1.27167488e-02,  4.90282383e-03,  3.28630232e-03,\n",
              "               7.95259047e-03,  1.34913707e-02, -1.74888223e-02, -2.25429051e-02,\n",
              "              -1.94538850e-02, -2.29695700e-02,  3.32933255e-02,  1.95259601e-02,\n",
              "              -3.18826921e-02,  3.32902707e-02, -7.08814105e-03, -1.94282420e-02,\n",
              "              -1.93908364e-02, -3.57938707e-02, -2.95724180e-02, -7.31201610e-03,\n",
              "              -7.17803836e-03,  2.06308998e-02,  1.48585187e-02,  6.42073993e-03,\n",
              "               1.27312597e-02, -3.41817699e-02,  2.03439351e-02, -2.97556072e-02,\n",
              "               6.63081929e-03, -2.33996124e-03, -2.18798108e-02,  3.48727219e-04,\n",
              "              -1.12246349e-02, -2.31776442e-02, -1.16403447e-02, -1.98829314e-03,\n",
              "               3.08278613e-02, -2.11255178e-02, -1.36186052e-02,  7.36493850e-04,\n",
              "              -3.62987518e-02, -2.45102942e-02,  1.15097733e-02, -9.43746767e-04,\n",
              "              -1.51139135e-02, -9.42810066e-03, -1.34412423e-02,  4.65485081e-03,\n",
              "               2.00267006e-02,  1.00494605e-02,  5.56857465e-03,  7.92883243e-03,\n",
              "               1.70696825e-02, -1.02999266e-02, -1.34750642e-02,  5.64115215e-03,\n",
              "               4.39836131e-03, -9.42356233e-03, -3.09290756e-02, -2.36856434e-02,\n",
              "               7.85415992e-03,  2.41188388e-02, -2.93483250e-02, -8.81859194e-03,\n",
              "               5.95746562e-03, -1.28693786e-02, -2.08718479e-02,  2.33234605e-04,\n",
              "              -3.16031184e-03, -9.68736969e-03, -1.53464545e-02,  2.04722658e-02,\n",
              "              -1.45154418e-02,  2.76937825e-03, -3.37450802e-02, -7.85028387e-05,\n",
              "               3.45117375e-02, -5.34249877e-04, -2.97423154e-02, -3.28166760e-03,\n",
              "              -2.51562730e-03,  7.19605619e-03, -1.47118699e-02, -3.37882061e-03,\n",
              "               2.46314108e-02, -1.73669010e-02,  1.48126306e-02,  6.99539250e-03,\n",
              "              -1.90977487e-04,  6.52272208e-03,  7.93668441e-03, -1.98827824e-03,\n",
              "              -1.55353872e-03,  8.28187726e-03,  3.04374285e-02, -2.44371733e-03,\n",
              "              -4.19016695e-03, -2.18074955e-02,  3.74398641e-02,  8.05673562e-03,\n",
              "               1.66131575e-02,  2.57618004e-03, -7.40946177e-03, -3.22962403e-02,\n",
              "              -7.91380182e-03,  1.15081985e-02,  4.98388149e-03,  2.32815649e-02,\n",
              "              -1.48924638e-03, -2.01656260e-02, -7.24258553e-03,  2.98558418e-02,\n",
              "               2.34997384e-02,  2.98850220e-02,  1.73751954e-02, -2.46580057e-02,\n",
              "               5.77250539e-05,  1.39092130e-03, -2.09673084e-02, -2.54064091e-02,\n",
              "              -5.95030142e-03, -6.05568755e-03, -2.59091854e-02,  7.89252203e-03,\n",
              "               1.48962317e-02,  4.17983867e-02,  4.91382228e-03, -1.63315386e-02,\n",
              "              -3.94387990e-02, -4.20837197e-03,  5.49615500e-03,  3.59403975e-02,\n",
              "               4.07543257e-02,  1.15213050e-02,  2.10746955e-02, -2.44343877e-02,\n",
              "              -2.62479410e-02, -3.51724811e-02, -1.48647157e-02,  8.94568337e-04,\n",
              "               7.97599182e-03, -3.73764499e-03,  8.86620767e-03,  2.51276251e-02,\n",
              "               8.95274058e-03, -9.51004680e-03, -3.36512849e-02, -8.35570390e-05,\n",
              "               6.64977171e-03,  2.81276740e-02, -1.73049103e-02,  2.72305273e-02,\n",
              "              -3.31773162e-02,  1.64603803e-03, -1.27344280e-02, -1.31173283e-02,\n",
              "               4.33473615e-03, -1.69757921e-02,  7.40302494e-03, -7.81806186e-03],\n",
              "             dtype=float32)                                                       ,\n",
              "       ...,\n",
              "       array([ 0.02524231,  0.01138149, -0.00201285,  0.04072303, -0.03354976,\n",
              "               0.01430694,  0.03130209, -0.02570407,  0.03244169,  0.02445146,\n",
              "              -0.00829058, -0.04252607, -0.00772288,  0.00250592, -0.04127553,\n",
              "               0.03797067,  0.01631017,  0.04875449,  0.00243222, -0.03518215,\n",
              "               0.00258227,  0.02230334,  0.02029446, -0.0075184 ,  0.01673972,\n",
              "              -0.00142377, -0.02100481,  0.01491442,  0.01634498, -0.01049889,\n",
              "              -0.02194943,  0.01327494, -0.0059427 , -0.00080756,  0.0014922 ,\n",
              "              -0.00499307,  0.02358979,  0.00484249,  0.00214576,  0.04093596,\n",
              "               0.0365149 , -0.02070094,  0.05048931, -0.00757378, -0.01169141,\n",
              "              -0.01306445, -0.02061144, -0.00306865, -0.0057373 ,  0.01435661,\n",
              "              -0.02566198,  0.02407191, -0.0094979 , -0.02004578,  0.00876444,\n",
              "               0.01468323, -0.00943511, -0.02439846,  0.01826789, -0.02918676,\n",
              "              -0.00190554,  0.02209013, -0.02951938, -0.0164032 ,  0.00279885,\n",
              "              -0.01439421, -0.02503187,  0.03322497, -0.01833673,  0.02425708,\n",
              "               0.01780735,  0.00972398,  0.02709348, -0.00256531, -0.06043801,\n",
              "              -0.02188181,  0.02127804,  0.02886643,  0.01754644,  0.04839381,\n",
              "               0.00249943, -0.01079132,  0.01701776, -0.0061427 , -0.02230611,\n",
              "              -0.01472838, -0.03736803,  0.04025006,  0.01748749,  0.00930893,\n",
              "               0.01151086,  0.0167026 , -0.03755521, -0.02038026, -0.01494336,\n",
              "              -0.02266068,  0.02526112,  0.01988135,  0.00011941, -0.01875201,\n",
              "              -0.0267257 , -0.01357498,  0.01191827,  0.01042356, -0.00295789,\n",
              "              -0.01508485, -0.00436056, -0.01861312,  0.00856283, -0.02568882,\n",
              "              -0.02118441, -0.0050763 , -0.00403951, -0.00741581,  0.04565762,\n",
              "              -0.01141878,  0.01613022, -0.01821274,  0.01697951,  0.02056394,\n",
              "              -0.02928497,  0.00408322, -0.01958173,  0.02967597, -0.01312863,\n",
              "              -0.01669598, -0.01561341, -0.00884618,  0.003073  ,  0.00564362,\n",
              "              -0.02921066, -0.04342723, -0.0219468 ,  0.01400292,  0.0014144 ,\n",
              "              -0.01903506,  0.00562641,  0.01955521, -0.00211963,  0.02396307,\n",
              "               0.02268631, -0.0198125 ,  0.00428552,  0.00307062,  0.00712158,\n",
              "               0.01068162, -0.02140716, -0.02233683, -0.01660185, -0.02370963,\n",
              "               0.03230163,  0.01615578, -0.03818418,  0.02708802, -0.01584365,\n",
              "              -0.01263582, -0.02182338, -0.03632032, -0.02811005, -0.00426511,\n",
              "              -0.0031214 ,  0.02822124,  0.01370587,  0.00287332,  0.00990311,\n",
              "              -0.03371057,  0.02146759, -0.02658272,  0.00750816, -0.00316081,\n",
              "              -0.02759946, -0.00054032, -0.01232577, -0.02469502, -0.01660576,\n",
              "               0.00141561,  0.03251634, -0.0274591 , -0.01602772,  0.00360935,\n",
              "              -0.02851509, -0.03168125,  0.01608522,  0.00060443, -0.01294644,\n",
              "              -0.01885869, -0.01160715,  0.00856888,  0.01841862,  0.00957219,\n",
              "               0.01247779,  0.00099077,  0.0171902 , -0.00291924, -0.01039343,\n",
              "               0.0097258 , -0.00162582, -0.00061162, -0.03533844, -0.03439938,\n",
              "               0.00841521,  0.02595703, -0.029345  , -0.0086893 ,  0.00821848,\n",
              "              -0.01569276, -0.02385953, -0.0036788 , -0.00828145, -0.01141274,\n",
              "              -0.00958206,  0.02277396, -0.01132615,  0.00705311, -0.04043587,\n",
              "              -0.00189912,  0.02837421,  0.00685075, -0.03432392, -0.01101942,\n",
              "              -0.00977261,  0.00628234, -0.00596615, -0.0059284 ,  0.01681285,\n",
              "              -0.01107424,  0.0201746 ,  0.00393   , -0.001678  , -0.00273872,\n",
              "               0.00442567, -0.00205746, -0.00064915,  0.0081129 ,  0.03242474,\n",
              "               0.00397006, -0.00712475, -0.0246329 ,  0.0297636 ,  0.00530905,\n",
              "               0.02413427,  0.00497508, -0.00381208, -0.03493278, -0.01330264,\n",
              "               0.0172776 ,  0.00431709,  0.01814691, -0.00889263, -0.02327015,\n",
              "               0.00010154,  0.02737288,  0.02842038,  0.03278281,  0.02052046,\n",
              "              -0.02376516, -0.00241442,  0.0092941 , -0.02202895, -0.03034148,\n",
              "              -0.01522024, -0.01322974, -0.02734537,  0.0087159 ,  0.01374823,\n",
              "               0.03556105,  0.00181561, -0.0078529 , -0.0339845 , -0.00576952,\n",
              "               0.00579574,  0.04064925,  0.04894162,  0.01702589,  0.01436391,\n",
              "              -0.02817784, -0.02836642, -0.03724211, -0.01256851, -0.00203978,\n",
              "               0.01150886, -0.01104949,  0.00744986,  0.02569668,  0.00548961,\n",
              "              -0.0060574 , -0.03792217, -0.00305177,  0.00522381,  0.01987731,\n",
              "              -0.01315403,  0.02132088, -0.03899221, -0.00288067, -0.01968012,\n",
              "              -0.01245149,  0.00865965, -0.01435741,  0.00385083, -0.00171039],\n",
              "             dtype=float32)                                                    ,\n",
              "       array([ 5.92964329e-03,  1.55858165e-02,  3.38922162e-03,  3.66469175e-02,\n",
              "              -2.42918730e-02,  2.39615701e-03,  3.50060724e-02, -2.40503568e-02,\n",
              "               2.34776493e-02,  2.08402295e-02, -8.44991300e-03, -4.01203260e-02,\n",
              "              -5.91628905e-03,  4.09157109e-03, -3.98799330e-02,  4.57367152e-02,\n",
              "               9.19235591e-03,  4.93488535e-02, -1.10237636e-02, -4.64409813e-02,\n",
              "               4.50234907e-03,  3.07361856e-02,  2.44063977e-02,  6.29708450e-03,\n",
              "               1.84437633e-02,  5.50666032e-03, -2.50028316e-02,  1.86916087e-02,\n",
              "               8.93556979e-03, -7.11885234e-03, -1.95866674e-02,  1.56379417e-02,\n",
              "              -1.35043273e-02, -3.30783357e-03, -5.43935038e-03,  6.93722442e-03,\n",
              "               2.76312642e-02,  1.43755216e-03,  7.92450272e-03,  3.08003612e-02,\n",
              "               3.05422135e-02, -2.62584295e-02,  4.81677391e-02, -1.06716389e-02,\n",
              "              -2.14045979e-02, -2.78193001e-02, -1.22770546e-02, -9.44201485e-04,\n",
              "               2.57707550e-03,  1.35927936e-02, -1.82923377e-02,  2.94803046e-02,\n",
              "              -2.34664720e-03, -2.27147266e-02,  1.28641678e-03, -3.60341650e-03,\n",
              "              -2.25097239e-02, -3.33722234e-02,  9.45393741e-03, -2.83950511e-02,\n",
              "              -8.56113061e-03,  2.05540173e-02, -2.65287720e-02, -1.69758052e-02,\n",
              "               2.73128645e-03, -1.20168617e-02, -2.34971028e-02,  1.35099683e-02,\n",
              "              -1.23363696e-02,  2.46067401e-02,  7.02746958e-03,  1.33714443e-02,\n",
              "               2.55291630e-02, -6.83806883e-03, -6.11224212e-02, -2.58940477e-02,\n",
              "               1.17695155e-02,  2.02691834e-02,  1.07721807e-02,  2.79471930e-02,\n",
              "               1.11107621e-02, -1.54116359e-02,  1.48056652e-02, -3.49826878e-03,\n",
              "               2.32071546e-03, -1.59276538e-02, -3.28442305e-02,  4.60364930e-02,\n",
              "               4.96181892e-03,  1.23435399e-02,  1.51237361e-02,  4.62453673e-03,\n",
              "              -3.19553763e-02, -1.93366762e-02, -2.94528063e-03, -2.87942886e-02,\n",
              "               2.50328444e-02,  1.97761580e-02,  4.86619957e-03, -1.45111624e-02,\n",
              "              -2.23700702e-02, -1.09092854e-02,  1.40937334e-02,  1.24969883e-02,\n",
              "              -2.68078083e-03, -1.43919028e-02,  5.41053771e-04, -1.05686747e-02,\n",
              "               4.22207778e-03, -1.73792690e-02, -2.03084536e-02, -1.14337308e-02,\n",
              "              -8.78324453e-03, -1.59350690e-02,  4.37325165e-02, -5.12729865e-03,\n",
              "               1.62328817e-02, -1.48616545e-02,  1.25982929e-02,  2.12616939e-02,\n",
              "              -3.49508896e-02, -9.64857172e-03, -2.00747438e-02,  2.68052593e-02,\n",
              "              -1.52525399e-02, -1.76231451e-02, -1.49714071e-02, -1.93690807e-02,\n",
              "               4.83555021e-03,  6.69725984e-03, -1.90340225e-02, -3.50922011e-02,\n",
              "              -2.12413576e-02,  2.50314306e-02,  1.15592256e-02, -1.20728184e-02,\n",
              "               1.62922777e-02,  1.94266718e-02, -1.74747023e-03,  2.86222510e-02,\n",
              "               2.34107357e-02, -1.91419888e-02, -2.22600275e-03, -1.27401780e-02,\n",
              "               1.75052099e-02,  1.71827208e-02, -2.11914815e-02, -2.08139531e-02,\n",
              "              -2.37525925e-02, -2.06599496e-02,  2.41966713e-02,  1.66446180e-03,\n",
              "              -4.06815968e-02,  2.41602939e-02, -2.08665673e-02, -1.46899531e-02,\n",
              "              -1.80472061e-02, -3.72678526e-02, -2.87440065e-02, -4.11652634e-03,\n",
              "              -7.43675046e-03,  2.21545286e-02,  2.11334005e-02, -6.37739012e-03,\n",
              "               1.17916605e-02, -3.57636102e-02,  2.33408380e-02, -2.28906497e-02,\n",
              "               1.37519827e-02,  1.24014437e-03, -3.58612239e-02, -1.35773781e-03,\n",
              "              -6.51179999e-03, -1.99083500e-02, -1.36919608e-02, -1.06651261e-02,\n",
              "               4.18906100e-02, -2.35110987e-02, -1.61649548e-02,  2.32148189e-02,\n",
              "              -2.94337496e-02, -2.85307914e-02,  1.13055017e-02, -5.29720914e-03,\n",
              "              -1.01969484e-02, -2.04196218e-02, -1.30531508e-02,  1.91001911e-02,\n",
              "               2.12017167e-02,  1.26443366e-02, -4.88660112e-03,  1.49570536e-02,\n",
              "               3.06387171e-02,  1.07849517e-03,  1.56874140e-03,  9.55142919e-03,\n",
              "              -3.07001383e-03, -5.28711244e-04, -3.14996950e-02, -3.33568789e-02,\n",
              "               1.48299430e-02,  1.70187745e-02, -2.55301446e-02, -1.39761006e-03,\n",
              "               2.93520605e-03, -1.45249851e-02, -1.15716262e-02, -9.14478954e-03,\n",
              "               1.25038484e-02, -2.90111229e-02, -1.51494686e-02,  2.20825803e-02,\n",
              "              -2.05859840e-02,  1.38280671e-02, -3.60976271e-02, -5.33704879e-03,\n",
              "               2.46812850e-02, -3.00459075e-03, -1.81112289e-02,  5.13367308e-03,\n",
              "              -6.25567930e-03,  5.85951796e-03, -5.26461704e-03, -8.35783686e-03,\n",
              "               8.51048343e-03, -7.06487335e-03,  2.20199171e-02, -2.15016282e-03,\n",
              "               3.90905933e-03, -2.49321547e-05,  4.98242443e-03, -8.99343472e-03,\n",
              "               1.99179817e-03,  1.45750074e-02,  3.42025161e-02, -1.16577782e-02,\n",
              "              -1.38155594e-02, -1.52903935e-02,  2.19827462e-02,  1.85177021e-03,\n",
              "               1.91840325e-02,  1.06533179e-02, -6.55231241e-04, -2.23362036e-02,\n",
              "              -9.19404067e-03,  7.58289313e-03, -8.40239692e-03,  2.07526647e-02,\n",
              "               6.29725726e-03, -2.52268482e-02, -6.09496655e-03,  1.64656229e-02,\n",
              "               2.22160686e-02,  2.95202658e-02,  2.93455347e-02, -1.83601789e-02,\n",
              "              -6.28544297e-03,  4.39876923e-03, -2.20387001e-02, -2.84577534e-02,\n",
              "              -9.71955806e-03,  8.60572141e-03, -4.27423790e-02,  1.21920425e-02,\n",
              "               1.82974078e-02,  3.23195122e-02, -1.01815339e-03, -6.08957931e-03,\n",
              "              -4.13364060e-02, -4.41076327e-03,  9.15285572e-03,  4.26159501e-02,\n",
              "               4.20000069e-02,  2.22637155e-03,  8.47502332e-03, -2.78175008e-02,\n",
              "              -1.07249273e-02, -3.98053378e-02, -2.57025771e-02,  1.78929139e-02,\n",
              "               1.12329358e-02, -1.12859579e-02,  2.60614734e-02,  1.97119415e-02,\n",
              "              -8.34044348e-03, -7.54462415e-03, -4.09948006e-02,  4.95108915e-03,\n",
              "              -3.34065151e-03,  2.37031654e-02, -1.76768117e-02,  2.09611971e-02,\n",
              "              -4.14296277e-02,  6.58927765e-03, -1.81339532e-02, -1.37737626e-02,\n",
              "               6.06785109e-03, -1.95462368e-02,  1.35156829e-02,  4.00986383e-03],\n",
              "             dtype=float32)                                                       ,\n",
              "       array([ 0.01900433,  0.00467838,  0.00047371,  0.04826023, -0.02608371,\n",
              "               0.01030809,  0.03098754, -0.02679671,  0.03538722,  0.01740259,\n",
              "              -0.00782834, -0.0414581 , -0.00934939,  0.00633467, -0.04280707,\n",
              "               0.03958686,  0.01911822,  0.04495494,  0.00765959, -0.03902462,\n",
              "              -0.00063786,  0.02603165,  0.02165624, -0.00568226,  0.0203516 ,\n",
              "              -0.00121731, -0.01715251,  0.01464975,  0.01463713, -0.00894112,\n",
              "              -0.01743942,  0.01003786, -0.00656075, -0.00275472,  0.00855846,\n",
              "              -0.00248693,  0.02737133,  0.00151034,  0.00863458,  0.03691512,\n",
              "               0.03922524, -0.02071615,  0.05292879, -0.00761393, -0.01165223,\n",
              "              -0.01303554, -0.01411818, -0.00374313, -0.0097767 ,  0.01538866,\n",
              "              -0.02468413,  0.02072066, -0.01081196, -0.01273411,  0.01381066,\n",
              "               0.00658492, -0.01286341, -0.02711   ,  0.01096167, -0.03087213,\n",
              "               0.00070991,  0.0225428 , -0.03074926, -0.01853628,  0.00011231,\n",
              "              -0.00907198, -0.02521519,  0.03454464, -0.01717799,  0.02564139,\n",
              "               0.01791068,  0.01103025,  0.02590355,  0.00635379, -0.05883681,\n",
              "              -0.0246234 ,  0.01873208,  0.03401608,  0.0228996 ,  0.04704231,\n",
              "               0.00265918, -0.00931535,  0.01177429, -0.00585943, -0.02164839,\n",
              "              -0.01554308, -0.03698003,  0.05025266,  0.01295671,  0.00402456,\n",
              "               0.01090011,  0.01348221, -0.03796426, -0.02768443, -0.01494401,\n",
              "              -0.02721761,  0.02900211,  0.01944966, -0.00710805, -0.01298199,\n",
              "              -0.02803964, -0.00550995,  0.0097925 ,  0.00978974, -0.00659455,\n",
              "              -0.01917401, -0.01014239, -0.01717958,  0.01878546, -0.01669941,\n",
              "              -0.02162205, -0.00163248, -0.0054092 , -0.00539381,  0.04262864,\n",
              "              -0.01038047,  0.00987251, -0.01646253,  0.0228858 ,  0.01298665,\n",
              "              -0.03543697,  0.0031999 , -0.0155013 ,  0.02758699, -0.00975368,\n",
              "              -0.01730602, -0.01847102, -0.01234397, -0.00247005,  0.00088178,\n",
              "              -0.03283854, -0.04906592, -0.02643578,  0.01363466,  0.00354596,\n",
              "              -0.02090406,  0.01211444,  0.0221652 , -0.00401515,  0.02776632,\n",
              "               0.02179508, -0.02377797,  0.00422152, -0.00104981,  0.00464002,\n",
              "               0.01048523, -0.0189352 , -0.02604124, -0.0090378 , -0.02785098,\n",
              "               0.03690792,  0.02546748, -0.03335896,  0.02907453, -0.0148619 ,\n",
              "              -0.0125362 , -0.02314363, -0.03610566, -0.02737034, -0.01854619,\n",
              "              -0.00065896,  0.02863216,  0.01427673,  0.01195028,  0.01625926,\n",
              "              -0.03418168,  0.02331053, -0.03245272,  0.0070309 , -0.00182488,\n",
              "              -0.03160275, -0.00627335, -0.00515015, -0.02942529, -0.00955266,\n",
              "              -0.00018101,  0.03487923, -0.02465201, -0.0129586 ,  0.01434718,\n",
              "              -0.02775632, -0.02699689,  0.015761  ,  0.01057212, -0.01108094,\n",
              "              -0.01521419, -0.01599797,  0.00533761,  0.02582568,  0.00802551,\n",
              "               0.01346271,  0.00706094,  0.0164008 , -0.00288553, -0.00908138,\n",
              "               0.0094883 ,  0.00350623, -0.00698282, -0.03294207, -0.03178401,\n",
              "               0.00101426,  0.02860544, -0.02522316, -0.00916039,  0.00976908,\n",
              "              -0.01593175, -0.02634893, -0.00828224, -0.00442628, -0.00857914,\n",
              "              -0.00702902,  0.02263683, -0.00682059,  0.00295138, -0.04135124,\n",
              "              -0.00055281,  0.03339814,  0.00058304, -0.03818383, -0.01595513,\n",
              "              -0.01301284,  0.00328897, -0.0088767 , -0.00543784,  0.02578615,\n",
              "              -0.01752907,  0.02233396,  0.00174274, -0.00207831,  0.00261972,\n",
              "               0.00598856, -0.00191766, -0.00825781,  0.00347004,  0.03368709,\n",
              "               0.00269868, -0.00821278, -0.02577418,  0.02318933,  0.00457066,\n",
              "               0.01651006,  0.00749701, -0.00528803, -0.03132164, -0.01334231,\n",
              "               0.01749749,  0.00651942,  0.02518184, -0.00494165, -0.02540305,\n",
              "               0.00356006,  0.02433052,  0.03559926,  0.03933512,  0.01973615,\n",
              "              -0.02364863,  0.00011555,  0.00612368, -0.0166951 , -0.02341582,\n",
              "              -0.01114875, -0.00797321, -0.02765305,  0.01344435,  0.00705565,\n",
              "               0.03998804,  0.00680705, -0.01099292, -0.03646941, -0.00252608,\n",
              "               0.00728779,  0.03834678,  0.0530135 ,  0.01280975,  0.01025011,\n",
              "              -0.03219819, -0.02861787, -0.03470978, -0.02289951, -0.00846794,\n",
              "               0.01379103, -0.01732228,  0.00996112,  0.03032506,  0.00454402,\n",
              "              -0.00576357, -0.03698532, -0.00288456,  0.01180986,  0.02136553,\n",
              "              -0.01422087,  0.02918367, -0.04176123, -0.00635486, -0.02364757,\n",
              "              -0.01756434,  0.00139343, -0.0179156 ,  0.00886172, -0.00395204],\n",
              "             dtype=float32)                                                    ],\n",
              "      dtype=object)"
            ]
          },
          "metadata": {},
          "execution_count": 71
        }
      ]
    },
    {
      "cell_type": "code",
      "source": [
        "import numpy as np\n",
        "\n",
        "x_train_2d=np.stack(x_train)\n",
        "x_test_2d=np.stack(x_test)\n",
        "print('shape after reshaping:',x_train_2d)\n",
        "print('shape after reshapping:',x_test_2d)"
      ],
      "metadata": {
        "colab": {
          "base_uri": "https://localhost:8080/"
        },
        "id": "Iw4t-U4HKnJJ",
        "outputId": "f28cdeca-85ab-4660-fb37-fa08e3b30d37"
      },
      "execution_count": null,
      "outputs": [
        {
          "output_type": "stream",
          "name": "stdout",
          "text": [
            "shape after reshaping: [[ 0.02019185  0.00445076  0.00135339 ... -0.01130979  0.01081166\n",
            "  -0.00555087]\n",
            " [ 0.01695683  0.00652361 -0.00073929 ... -0.01679319  0.01448894\n",
            "  -0.00260649]\n",
            " [ 0.01598035  0.00145749  0.00573545 ... -0.01800843  0.00402514\n",
            "  -0.00390341]\n",
            " ...\n",
            " [ 0.01801559  0.00742477  0.00418766 ... -0.02317777  0.00221096\n",
            "  -0.00218105]\n",
            " [ 0.0241717   0.01354914  0.00372463 ... -0.01691915  0.00266469\n",
            "  -0.00543485]\n",
            " [ 0.02163362  0.00767149 -0.00156138 ... -0.01492131  0.00727389\n",
            "  -0.0030872 ]]\n",
            "shape after reshapping: [[ 0.01991817  0.00570028  0.00492977 ... -0.01835751  0.00439535\n",
            "  -0.00281006]\n",
            " [ 0.01599432  0.00996788 -0.00407509 ... -0.0124665   0.00938926\n",
            "   0.00055318]\n",
            " [ 0.01671219  0.00756726  0.0031968  ... -0.01780006  0.00226195\n",
            "  -0.0008964 ]\n",
            " ...\n",
            " [ 0.0161496   0.02150001  0.0008112  ... -0.01376839  0.00291682\n",
            "  -0.01753375]\n",
            " [ 0.02767751  0.00481776  0.00268867 ... -0.01433663  0.00730818\n",
            "   0.00566622]\n",
            " [ 0.01787176  0.00455708  0.00261362 ... -0.01672723  0.00515307\n",
            "   0.00103787]]\n"
          ]
        }
      ]
    },
    {
      "cell_type": "code",
      "source": [],
      "metadata": {
        "id": "DuUO69FFKnSV"
      },
      "execution_count": null,
      "outputs": []
    },
    {
      "cell_type": "code",
      "source": [
        "from sklearn.feature_extraction.text import TfidfVectorizer"
      ],
      "metadata": {
        "id": "8f9QqIYvIjq6"
      },
      "execution_count": null,
      "outputs": []
    },
    {
      "cell_type": "code",
      "source": [
        "from sklearn.pipeline import Pipeline\n",
        "pipe_line=Pipeline({\n",
        "    'Gradientboosting':GradientBoostingClassifier(),\n",
        "    'kneighbors':KNeighborsClassifier()\n",
        "})"
      ],
      "metadata": {
        "id": "ZIEk1W_VJ2do"
      },
      "execution_count": null,
      "outputs": []
    },
    {
      "cell_type": "code",
      "source": [
        "pipe_line"
      ],
      "metadata": {
        "colab": {
          "base_uri": "https://localhost:8080/",
          "height": 92
        },
        "id": "efT0_it1KP2F",
        "outputId": "30f312c5-eb46-4d4a-ebb2-c395dc1b639d"
      },
      "execution_count": null,
      "outputs": [
        {
          "output_type": "execute_result",
          "data": {
            "text/plain": [
              "Pipeline(steps={'Gradientboosting': GradientBoostingClassifier(),\n",
              "                'kneighbors': KNeighborsClassifier()})"
            ],
            "text/html": [
              "<style>#sk-container-id-1 {color: black;background-color: white;}#sk-container-id-1 pre{padding: 0;}#sk-container-id-1 div.sk-toggleable {background-color: white;}#sk-container-id-1 label.sk-toggleable__label {cursor: pointer;display: block;width: 100%;margin-bottom: 0;padding: 0.3em;box-sizing: border-box;text-align: center;}#sk-container-id-1 label.sk-toggleable__label-arrow:before {content: \"▸\";float: left;margin-right: 0.25em;color: #696969;}#sk-container-id-1 label.sk-toggleable__label-arrow:hover:before {color: black;}#sk-container-id-1 div.sk-estimator:hover label.sk-toggleable__label-arrow:before {color: black;}#sk-container-id-1 div.sk-toggleable__content {max-height: 0;max-width: 0;overflow: hidden;text-align: left;background-color: #f0f8ff;}#sk-container-id-1 div.sk-toggleable__content pre {margin: 0.2em;color: black;border-radius: 0.25em;background-color: #f0f8ff;}#sk-container-id-1 input.sk-toggleable__control:checked~div.sk-toggleable__content {max-height: 200px;max-width: 100%;overflow: auto;}#sk-container-id-1 input.sk-toggleable__control:checked~label.sk-toggleable__label-arrow:before {content: \"▾\";}#sk-container-id-1 div.sk-estimator input.sk-toggleable__control:checked~label.sk-toggleable__label {background-color: #d4ebff;}#sk-container-id-1 div.sk-label input.sk-toggleable__control:checked~label.sk-toggleable__label {background-color: #d4ebff;}#sk-container-id-1 input.sk-hidden--visually {border: 0;clip: rect(1px 1px 1px 1px);clip: rect(1px, 1px, 1px, 1px);height: 1px;margin: -1px;overflow: hidden;padding: 0;position: absolute;width: 1px;}#sk-container-id-1 div.sk-estimator {font-family: monospace;background-color: #f0f8ff;border: 1px dotted black;border-radius: 0.25em;box-sizing: border-box;margin-bottom: 0.5em;}#sk-container-id-1 div.sk-estimator:hover {background-color: #d4ebff;}#sk-container-id-1 div.sk-parallel-item::after {content: \"\";width: 100%;border-bottom: 1px solid gray;flex-grow: 1;}#sk-container-id-1 div.sk-label:hover label.sk-toggleable__label {background-color: #d4ebff;}#sk-container-id-1 div.sk-serial::before {content: \"\";position: absolute;border-left: 1px solid gray;box-sizing: border-box;top: 0;bottom: 0;left: 50%;z-index: 0;}#sk-container-id-1 div.sk-serial {display: flex;flex-direction: column;align-items: center;background-color: white;padding-right: 0.2em;padding-left: 0.2em;position: relative;}#sk-container-id-1 div.sk-item {position: relative;z-index: 1;}#sk-container-id-1 div.sk-parallel {display: flex;align-items: stretch;justify-content: center;background-color: white;position: relative;}#sk-container-id-1 div.sk-item::before, #sk-container-id-1 div.sk-parallel-item::before {content: \"\";position: absolute;border-left: 1px solid gray;box-sizing: border-box;top: 0;bottom: 0;left: 50%;z-index: -1;}#sk-container-id-1 div.sk-parallel-item {display: flex;flex-direction: column;z-index: 1;position: relative;background-color: white;}#sk-container-id-1 div.sk-parallel-item:first-child::after {align-self: flex-end;width: 50%;}#sk-container-id-1 div.sk-parallel-item:last-child::after {align-self: flex-start;width: 50%;}#sk-container-id-1 div.sk-parallel-item:only-child::after {width: 0;}#sk-container-id-1 div.sk-dashed-wrapped {border: 1px dashed gray;margin: 0 0.4em 0.5em 0.4em;box-sizing: border-box;padding-bottom: 0.4em;background-color: white;}#sk-container-id-1 div.sk-label label {font-family: monospace;font-weight: bold;display: inline-block;line-height: 1.2em;}#sk-container-id-1 div.sk-label-container {text-align: center;}#sk-container-id-1 div.sk-container {/* jupyter's `normalize.less` sets `[hidden] { display: none; }` but bootstrap.min.css set `[hidden] { display: none !important; }` so we also need the `!important` here to be able to override the default hidden behavior on the sphinx rendered scikit-learn.org. See: https://github.com/scikit-learn/scikit-learn/issues/21755 */display: inline-block !important;position: relative;}#sk-container-id-1 div.sk-text-repr-fallback {display: none;}</style><div id=\"sk-container-id-1\" class=\"sk-top-container\"><div class=\"sk-text-repr-fallback\"><pre>Pipeline(steps={&#x27;Gradientboosting&#x27;: GradientBoostingClassifier(),\n",
              "                &#x27;kneighbors&#x27;: KNeighborsClassifier()})</pre><b>In a Jupyter environment, please rerun this cell to show the HTML representation or trust the notebook. <br />On GitHub, the HTML representation is unable to render, please try loading this page with nbviewer.org.</b></div><div class=\"sk-container\" hidden><div class=\"sk-item\"><div class=\"sk-estimator sk-toggleable\"><input class=\"sk-toggleable__control sk-hidden--visually\" id=\"sk-estimator-id-1\" type=\"checkbox\" checked><label for=\"sk-estimator-id-1\" class=\"sk-toggleable__label sk-toggleable__label-arrow\">Pipeline</label><div class=\"sk-toggleable__content\"><pre>Pipeline(steps={&#x27;Gradientboosting&#x27;: GradientBoostingClassifier(),\n",
              "                &#x27;kneighbors&#x27;: KNeighborsClassifier()})</pre></div></div></div></div></div>"
            ]
          },
          "metadata": {},
          "execution_count": 69
        }
      ]
    },
    {
      "cell_type": "code",
      "source": [
        "from sklearn.ensemble import GradientBoostingClassifier\n",
        "from sklearn.neighbors import KNeighborsClassifier"
      ],
      "metadata": {
        "id": "pHxyggSaJC1S"
      },
      "execution_count": null,
      "outputs": []
    },
    {
      "cell_type": "code",
      "source": [
        "gb=GradientBoostingClassifier()\n",
        "gb.fit(x_train_2d,y_train)"
      ],
      "metadata": {
        "colab": {
          "base_uri": "https://localhost:8080/",
          "height": 74
        },
        "id": "po1MmdwjLRFt",
        "outputId": "82f0912e-61f0-442e-c60f-f31ca7ac8c0a"
      },
      "execution_count": null,
      "outputs": [
        {
          "output_type": "execute_result",
          "data": {
            "text/plain": [
              "GradientBoostingClassifier()"
            ],
            "text/html": [
              "<style>#sk-container-id-2 {color: black;background-color: white;}#sk-container-id-2 pre{padding: 0;}#sk-container-id-2 div.sk-toggleable {background-color: white;}#sk-container-id-2 label.sk-toggleable__label {cursor: pointer;display: block;width: 100%;margin-bottom: 0;padding: 0.3em;box-sizing: border-box;text-align: center;}#sk-container-id-2 label.sk-toggleable__label-arrow:before {content: \"▸\";float: left;margin-right: 0.25em;color: #696969;}#sk-container-id-2 label.sk-toggleable__label-arrow:hover:before {color: black;}#sk-container-id-2 div.sk-estimator:hover label.sk-toggleable__label-arrow:before {color: black;}#sk-container-id-2 div.sk-toggleable__content {max-height: 0;max-width: 0;overflow: hidden;text-align: left;background-color: #f0f8ff;}#sk-container-id-2 div.sk-toggleable__content pre {margin: 0.2em;color: black;border-radius: 0.25em;background-color: #f0f8ff;}#sk-container-id-2 input.sk-toggleable__control:checked~div.sk-toggleable__content {max-height: 200px;max-width: 100%;overflow: auto;}#sk-container-id-2 input.sk-toggleable__control:checked~label.sk-toggleable__label-arrow:before {content: \"▾\";}#sk-container-id-2 div.sk-estimator input.sk-toggleable__control:checked~label.sk-toggleable__label {background-color: #d4ebff;}#sk-container-id-2 div.sk-label input.sk-toggleable__control:checked~label.sk-toggleable__label {background-color: #d4ebff;}#sk-container-id-2 input.sk-hidden--visually {border: 0;clip: rect(1px 1px 1px 1px);clip: rect(1px, 1px, 1px, 1px);height: 1px;margin: -1px;overflow: hidden;padding: 0;position: absolute;width: 1px;}#sk-container-id-2 div.sk-estimator {font-family: monospace;background-color: #f0f8ff;border: 1px dotted black;border-radius: 0.25em;box-sizing: border-box;margin-bottom: 0.5em;}#sk-container-id-2 div.sk-estimator:hover {background-color: #d4ebff;}#sk-container-id-2 div.sk-parallel-item::after {content: \"\";width: 100%;border-bottom: 1px solid gray;flex-grow: 1;}#sk-container-id-2 div.sk-label:hover label.sk-toggleable__label {background-color: #d4ebff;}#sk-container-id-2 div.sk-serial::before {content: \"\";position: absolute;border-left: 1px solid gray;box-sizing: border-box;top: 0;bottom: 0;left: 50%;z-index: 0;}#sk-container-id-2 div.sk-serial {display: flex;flex-direction: column;align-items: center;background-color: white;padding-right: 0.2em;padding-left: 0.2em;position: relative;}#sk-container-id-2 div.sk-item {position: relative;z-index: 1;}#sk-container-id-2 div.sk-parallel {display: flex;align-items: stretch;justify-content: center;background-color: white;position: relative;}#sk-container-id-2 div.sk-item::before, #sk-container-id-2 div.sk-parallel-item::before {content: \"\";position: absolute;border-left: 1px solid gray;box-sizing: border-box;top: 0;bottom: 0;left: 50%;z-index: -1;}#sk-container-id-2 div.sk-parallel-item {display: flex;flex-direction: column;z-index: 1;position: relative;background-color: white;}#sk-container-id-2 div.sk-parallel-item:first-child::after {align-self: flex-end;width: 50%;}#sk-container-id-2 div.sk-parallel-item:last-child::after {align-self: flex-start;width: 50%;}#sk-container-id-2 div.sk-parallel-item:only-child::after {width: 0;}#sk-container-id-2 div.sk-dashed-wrapped {border: 1px dashed gray;margin: 0 0.4em 0.5em 0.4em;box-sizing: border-box;padding-bottom: 0.4em;background-color: white;}#sk-container-id-2 div.sk-label label {font-family: monospace;font-weight: bold;display: inline-block;line-height: 1.2em;}#sk-container-id-2 div.sk-label-container {text-align: center;}#sk-container-id-2 div.sk-container {/* jupyter's `normalize.less` sets `[hidden] { display: none; }` but bootstrap.min.css set `[hidden] { display: none !important; }` so we also need the `!important` here to be able to override the default hidden behavior on the sphinx rendered scikit-learn.org. See: https://github.com/scikit-learn/scikit-learn/issues/21755 */display: inline-block !important;position: relative;}#sk-container-id-2 div.sk-text-repr-fallback {display: none;}</style><div id=\"sk-container-id-2\" class=\"sk-top-container\"><div class=\"sk-text-repr-fallback\"><pre>GradientBoostingClassifier()</pre><b>In a Jupyter environment, please rerun this cell to show the HTML representation or trust the notebook. <br />On GitHub, the HTML representation is unable to render, please try loading this page with nbviewer.org.</b></div><div class=\"sk-container\" hidden><div class=\"sk-item\"><div class=\"sk-estimator sk-toggleable\"><input class=\"sk-toggleable__control sk-hidden--visually\" id=\"sk-estimator-id-2\" type=\"checkbox\" checked><label for=\"sk-estimator-id-2\" class=\"sk-toggleable__label sk-toggleable__label-arrow\">GradientBoostingClassifier</label><div class=\"sk-toggleable__content\"><pre>GradientBoostingClassifier()</pre></div></div></div></div></div>"
            ]
          },
          "metadata": {},
          "execution_count": 75
        }
      ]
    },
    {
      "cell_type": "code",
      "source": [
        "y_pred=gb.predict(x_test_2d)"
      ],
      "metadata": {
        "id": "CJUHLk9LLehF"
      },
      "execution_count": null,
      "outputs": []
    },
    {
      "cell_type": "code",
      "source": [
        "from sklearn.metrics import classification_report\n",
        "print(classification_report(y_test,y_pred))"
      ],
      "metadata": {
        "colab": {
          "base_uri": "https://localhost:8080/"
        },
        "id": "U-B4-ZjFNh4U",
        "outputId": "071c12df-3e70-4176-a947-62b03329fd4a"
      },
      "execution_count": null,
      "outputs": [
        {
          "output_type": "stream",
          "name": "stdout",
          "text": [
            "              precision    recall  f1-score   support\n",
            "\n",
            "           0       0.25      0.07      0.11        15\n",
            "           1       0.43      0.20      0.27        45\n",
            "           2       0.00      0.00      0.00        19\n",
            "           3       0.24      0.17      0.20        54\n",
            "           4       0.00      0.00      0.00         2\n",
            "           5       0.17      0.20      0.18         5\n",
            "           6       0.00      0.00      0.00         7\n",
            "           7       0.24      0.28      0.26       112\n",
            "           8       0.29      0.49      0.36       138\n",
            "           9       0.33      0.34      0.34        82\n",
            "          10       0.36      0.41      0.38       103\n",
            "          11       0.00      0.00      0.00        13\n",
            "          12       0.00      0.00      0.00        18\n",
            "          13       0.14      0.05      0.07        20\n",
            "          14       0.44      0.12      0.19        34\n",
            "          15       0.00      0.00      0.00         2\n",
            "\n",
            "    accuracy                           0.29       669\n",
            "   macro avg       0.18      0.14      0.15       669\n",
            "weighted avg       0.28      0.29      0.27       669\n",
            "\n"
          ]
        }
      ]
    },
    {
      "cell_type": "code",
      "source": [
        "model=KNeighborsClassifier()\n",
        "model.fit(x_train_2d,y_train)"
      ],
      "metadata": {
        "colab": {
          "base_uri": "https://localhost:8080/",
          "height": 74
        },
        "id": "XXBbnTqLQ5d3",
        "outputId": "171a58a7-b60d-4ec7-b0db-a16c6af56ffd"
      },
      "execution_count": null,
      "outputs": [
        {
          "output_type": "execute_result",
          "data": {
            "text/plain": [
              "KNeighborsClassifier()"
            ],
            "text/html": [
              "<style>#sk-container-id-3 {color: black;background-color: white;}#sk-container-id-3 pre{padding: 0;}#sk-container-id-3 div.sk-toggleable {background-color: white;}#sk-container-id-3 label.sk-toggleable__label {cursor: pointer;display: block;width: 100%;margin-bottom: 0;padding: 0.3em;box-sizing: border-box;text-align: center;}#sk-container-id-3 label.sk-toggleable__label-arrow:before {content: \"▸\";float: left;margin-right: 0.25em;color: #696969;}#sk-container-id-3 label.sk-toggleable__label-arrow:hover:before {color: black;}#sk-container-id-3 div.sk-estimator:hover label.sk-toggleable__label-arrow:before {color: black;}#sk-container-id-3 div.sk-toggleable__content {max-height: 0;max-width: 0;overflow: hidden;text-align: left;background-color: #f0f8ff;}#sk-container-id-3 div.sk-toggleable__content pre {margin: 0.2em;color: black;border-radius: 0.25em;background-color: #f0f8ff;}#sk-container-id-3 input.sk-toggleable__control:checked~div.sk-toggleable__content {max-height: 200px;max-width: 100%;overflow: auto;}#sk-container-id-3 input.sk-toggleable__control:checked~label.sk-toggleable__label-arrow:before {content: \"▾\";}#sk-container-id-3 div.sk-estimator input.sk-toggleable__control:checked~label.sk-toggleable__label {background-color: #d4ebff;}#sk-container-id-3 div.sk-label input.sk-toggleable__control:checked~label.sk-toggleable__label {background-color: #d4ebff;}#sk-container-id-3 input.sk-hidden--visually {border: 0;clip: rect(1px 1px 1px 1px);clip: rect(1px, 1px, 1px, 1px);height: 1px;margin: -1px;overflow: hidden;padding: 0;position: absolute;width: 1px;}#sk-container-id-3 div.sk-estimator {font-family: monospace;background-color: #f0f8ff;border: 1px dotted black;border-radius: 0.25em;box-sizing: border-box;margin-bottom: 0.5em;}#sk-container-id-3 div.sk-estimator:hover {background-color: #d4ebff;}#sk-container-id-3 div.sk-parallel-item::after {content: \"\";width: 100%;border-bottom: 1px solid gray;flex-grow: 1;}#sk-container-id-3 div.sk-label:hover label.sk-toggleable__label {background-color: #d4ebff;}#sk-container-id-3 div.sk-serial::before {content: \"\";position: absolute;border-left: 1px solid gray;box-sizing: border-box;top: 0;bottom: 0;left: 50%;z-index: 0;}#sk-container-id-3 div.sk-serial {display: flex;flex-direction: column;align-items: center;background-color: white;padding-right: 0.2em;padding-left: 0.2em;position: relative;}#sk-container-id-3 div.sk-item {position: relative;z-index: 1;}#sk-container-id-3 div.sk-parallel {display: flex;align-items: stretch;justify-content: center;background-color: white;position: relative;}#sk-container-id-3 div.sk-item::before, #sk-container-id-3 div.sk-parallel-item::before {content: \"\";position: absolute;border-left: 1px solid gray;box-sizing: border-box;top: 0;bottom: 0;left: 50%;z-index: -1;}#sk-container-id-3 div.sk-parallel-item {display: flex;flex-direction: column;z-index: 1;position: relative;background-color: white;}#sk-container-id-3 div.sk-parallel-item:first-child::after {align-self: flex-end;width: 50%;}#sk-container-id-3 div.sk-parallel-item:last-child::after {align-self: flex-start;width: 50%;}#sk-container-id-3 div.sk-parallel-item:only-child::after {width: 0;}#sk-container-id-3 div.sk-dashed-wrapped {border: 1px dashed gray;margin: 0 0.4em 0.5em 0.4em;box-sizing: border-box;padding-bottom: 0.4em;background-color: white;}#sk-container-id-3 div.sk-label label {font-family: monospace;font-weight: bold;display: inline-block;line-height: 1.2em;}#sk-container-id-3 div.sk-label-container {text-align: center;}#sk-container-id-3 div.sk-container {/* jupyter's `normalize.less` sets `[hidden] { display: none; }` but bootstrap.min.css set `[hidden] { display: none !important; }` so we also need the `!important` here to be able to override the default hidden behavior on the sphinx rendered scikit-learn.org. See: https://github.com/scikit-learn/scikit-learn/issues/21755 */display: inline-block !important;position: relative;}#sk-container-id-3 div.sk-text-repr-fallback {display: none;}</style><div id=\"sk-container-id-3\" class=\"sk-top-container\"><div class=\"sk-text-repr-fallback\"><pre>KNeighborsClassifier()</pre><b>In a Jupyter environment, please rerun this cell to show the HTML representation or trust the notebook. <br />On GitHub, the HTML representation is unable to render, please try loading this page with nbviewer.org.</b></div><div class=\"sk-container\" hidden><div class=\"sk-item\"><div class=\"sk-estimator sk-toggleable\"><input class=\"sk-toggleable__control sk-hidden--visually\" id=\"sk-estimator-id-3\" type=\"checkbox\" checked><label for=\"sk-estimator-id-3\" class=\"sk-toggleable__label sk-toggleable__label-arrow\">KNeighborsClassifier</label><div class=\"sk-toggleable__content\"><pre>KNeighborsClassifier()</pre></div></div></div></div></div>"
            ]
          },
          "metadata": {},
          "execution_count": 87
        }
      ]
    },
    {
      "cell_type": "code",
      "source": [
        "y_pred=model.predict(x_test_2d)"
      ],
      "metadata": {
        "id": "-FCn5dreRGUv"
      },
      "execution_count": null,
      "outputs": []
    },
    {
      "cell_type": "code",
      "source": [
        "print(classification_report(y_pred,y_test))"
      ],
      "metadata": {
        "colab": {
          "base_uri": "https://localhost:8080/"
        },
        "id": "0m-JWd3MRO3S",
        "outputId": "1c498bd4-dd06-4975-8581-d69cc167eb88"
      },
      "execution_count": null,
      "outputs": [
        {
          "output_type": "stream",
          "name": "stdout",
          "text": [
            "              precision    recall  f1-score   support\n",
            "\n",
            "           0       0.00      0.00      0.00        16\n",
            "           1       0.38      0.14      0.21       118\n",
            "           2       0.05      0.08      0.06        12\n",
            "           3       0.19      0.16      0.17        63\n",
            "           4       0.00      0.00      0.00         0\n",
            "           5       0.00      0.00      0.00         4\n",
            "           6       0.00      0.00      0.00         3\n",
            "           7       0.26      0.21      0.23       135\n",
            "           8       0.39      0.34      0.36       159\n",
            "           9       0.17      0.27      0.21        52\n",
            "          10       0.30      0.32      0.31        97\n",
            "          11       0.00      0.00      0.00         1\n",
            "          12       0.00      0.00      0.00         0\n",
            "          13       0.10      1.00      0.18         2\n",
            "          14       0.09      0.43      0.15         7\n",
            "          15       0.00      0.00      0.00         0\n",
            "\n",
            "    accuracy                           0.24       669\n",
            "   macro avg       0.12      0.18      0.12       669\n",
            "weighted avg       0.29      0.24      0.25       669\n",
            "\n"
          ]
        },
        {
          "output_type": "stream",
          "name": "stderr",
          "text": [
            "/usr/local/lib/python3.10/dist-packages/sklearn/metrics/_classification.py:1344: UndefinedMetricWarning: Recall and F-score are ill-defined and being set to 0.0 in labels with no true samples. Use `zero_division` parameter to control this behavior.\n",
            "  _warn_prf(average, modifier, msg_start, len(result))\n",
            "/usr/local/lib/python3.10/dist-packages/sklearn/metrics/_classification.py:1344: UndefinedMetricWarning: Recall and F-score are ill-defined and being set to 0.0 in labels with no true samples. Use `zero_division` parameter to control this behavior.\n",
            "  _warn_prf(average, modifier, msg_start, len(result))\n",
            "/usr/local/lib/python3.10/dist-packages/sklearn/metrics/_classification.py:1344: UndefinedMetricWarning: Recall and F-score are ill-defined and being set to 0.0 in labels with no true samples. Use `zero_division` parameter to control this behavior.\n",
            "  _warn_prf(average, modifier, msg_start, len(result))\n"
          ]
        }
      ]
    },
    {
      "cell_type": "code",
      "source": [
        "text={\n",
        "    \"One time my parents were fighting over my dad's affair and my dad pushed my mom. The fall broke her finger.  She's pointed a gun at him and made him get on his knees and beg for his life. She's...|||I'm gonna talk about what a piece of shit my dad is now.  He's an alcoholic and he has some kind of serious mental problem when it comes to complying with the IRS. (In his words, Laws don't apply....\" ,\n",
        "    \"some of these both excite and calm me:  BUTTS  bodies  brains  community gardens  camping  camping with dogs  hiking with dogs  chillin with animals\",\n",
        "    \"Now I'm interested. But too lazy to go research it, because it's time-consuming \"\n",
        "}\n",
        "mv_predict=[preprocess(n) for n in text]\n",
        "gb.predict(mv_predict)"
      ],
      "metadata": {
        "colab": {
          "base_uri": "https://localhost:8080/"
        },
        "id": "-_94Z_jtNsWv",
        "outputId": "74018157-e428-42b1-83aa-7410fc298c04"
      },
      "execution_count": null,
      "outputs": [
        {
          "output_type": "execute_result",
          "data": {
            "text/plain": [
              "array([ 4,  6, 15])"
            ]
          },
          "metadata": {},
          "execution_count": 86
        }
      ]
    },
    {
      "cell_type": "code",
      "source": [
        "df.groupby(['type'])['type'].agg('count')"
      ],
      "metadata": {
        "colab": {
          "base_uri": "https://localhost:8080/"
        },
        "id": "JPP8CmFyO6hh",
        "outputId": "a61dc341-ba4e-430e-f0da-86e46daac4e9"
      },
      "execution_count": null,
      "outputs": [
        {
          "output_type": "execute_result",
          "data": {
            "text/plain": [
              "type\n",
              "ENFJ     79\n",
              "ENFP    241\n",
              "ENTJ     77\n",
              "ENTP    281\n",
              "ESFJ     12\n",
              "ESFP     24\n",
              "ESTJ     16\n",
              "ESTP     44\n",
              "INFJ    569\n",
              "INFP    710\n",
              "INTJ    428\n",
              "INTP    485\n",
              "ISFJ     64\n",
              "ISFP     97\n",
              "ISTJ     74\n",
              "ISTP    140\n",
              "Name: type, dtype: int64"
            ]
          },
          "metadata": {},
          "execution_count": 82
        }
      ]
    },
    {
      "cell_type": "code",
      "source": [
        "df['new_type'][15]"
      ],
      "metadata": {
        "colab": {
          "base_uri": "https://localhost:8080/"
        },
        "id": "BuF6DOxbPSnf",
        "outputId": "df2b98d1-069e-4462-d344-001dbcf9800e"
      },
      "execution_count": null,
      "outputs": [
        {
          "output_type": "execute_result",
          "data": {
            "text/plain": [
              "10"
            ]
          },
          "metadata": {},
          "execution_count": 84
        }
      ]
    },
    {
      "cell_type": "code",
      "source": [
        "from sklearn.metrics import confusion_matrix\n",
        "cm=confusion_matrix(y_test,y_pred)\n",
        "cm\n",
        "import matplotlib.pyplot as plt\n",
        "import seaborn as sns\n",
        "plt.figure(figsize=(10,5))\n",
        "sns.heatmap(cm,annot=True,fmt='d')\n",
        "plt.xlabel('prediction')\n",
        "plt.ylabel('Truth')\n",
        "plt.show()"
      ],
      "metadata": {
        "colab": {
          "base_uri": "https://localhost:8080/",
          "height": 465
        },
        "id": "WZxh_jmMPetM",
        "outputId": "39fdc488-2511-4d94-e171-94b972072f1a"
      },
      "execution_count": null,
      "outputs": [
        {
          "output_type": "display_data",
          "data": {
            "text/plain": [
              "<Figure size 1000x500 with 2 Axes>"
            ],
            "image/png": "[encoded data removed]"
          },
          "metadata": {}
        }
      ]
    },
    {
      "cell_type": "code",
      "source": [],
      "metadata": {
        "id": "k53Upi_BRyRG"
      },
      "execution_count": null,
      "outputs": []
    }
  ]
}